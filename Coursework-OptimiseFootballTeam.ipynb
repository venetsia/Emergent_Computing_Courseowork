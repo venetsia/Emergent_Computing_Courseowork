{
 "cells": [
  {
   "cell_type": "markdown",
   "metadata": {},
   "source": [
    "# Coursework: Optimisation of a fantasy football team\n",
    "\n",
    "The coursework is described in detail in the documentation provided on Moodle. This notebook contains some code for basic functions that read in the data file and define the solution/constraint checker that you must use to check your final solution.\n",
    "\n",
    "As noted in the coursework, you don't have to use Python or DEAP to tackle this. However, the practicals have covered a lot of functionality that will be useful so you should find that the DEAP libraries provide a quick way to start and will save you some time in writing code.\n",
    "\n",
    "## Important Information\n",
    "\n",
    "If you use another language, then you should write out your solution to a csv file as a comma separated list of 0,1s (one value per row) indicating which players are included, and use the code provided in this notebook to read it in and check it. You report should include the screenshot of the  output from the function provided in this notebook, and *not* your own version of the function\n",
    "\n"
   ]
  },
  {
   "cell_type": "markdown",
   "metadata": {},
   "source": [
    "# Data\n",
    "The code below reads in the datafile and calculates the number of players available.  \n",
    "Change the filepath to your local drive.\n",
    "\n",
    "The file is sorted by player type. As I may check your solution **DO NOT** sort the file or alter it in any way as my code will expect to see it in this format.\n",
    "\n",
    "Feel free to browse the file and analyse the data in any way you think might be useful"
   ]
  },
  {
   "cell_type": "code",
   "execution_count": 1,
   "metadata": {
    "collapsed": false
   },
   "outputs": [],
   "source": [
    "#import some standard python packages that will be useful\n",
    "import array\n",
    "import random\n",
    "import numpy as np\n",
    "import matplotlib\n",
    "import matplotlib.pyplot as plt\n",
    "\n",
    "\n",
    "# import deap packages required\n",
    "from deap import algorithms\n",
    "from deap import base\n",
    "from deap import creator\n",
    "from deap import tools\n",
    "import pandas as pd\n"
   ]
  },
  {
   "cell_type": "code",
   "execution_count": 2,
   "metadata": {},
   "outputs": [
    {
     "name": "stdout",
     "output_type": "stream",
     "text": [
      "num possible players is 523\n"
     ]
    }
   ],
   "source": [
    "# THIS FUNCTION READS THE DATA FILE CONTAINING THE INFORMATION RE EACH PLAYER\n",
    "\n",
    "# read data\n",
    "data = (pd.read_csv(\"clean-data.csv\")\n",
    "        .reset_index(drop=True))\n",
    "\n",
    "global num_players\n",
    "num_players = len(data.index)\n",
    "\n",
    "print(\"num possible players is %s\" % (num_players))\n"
   ]
  },
  {
   "cell_type": "markdown",
   "metadata": {},
   "source": [
    "# Helpful data\n",
    "The code below extracts some useful information from the data that will be useful to you when writing your program. In particular:\n",
    "\n",
    "- a list containing the **points** per player:  e.g. points[i] refers to the **points** associated with player *i*\n",
    "- a list containing the **cost** per player: e.g. cost[i] refers to the **cost** associated with player *i*\n",
    "- a list **gk** which indicates which player is a *goal-keeper*. The list is the same length as the number of players. gk[i]=0 if player *i* is not a goal-keeper; gk[i]=1 if player *i* is a goal-keeper\n",
    "- a list **mid** which indicates which player is a *midfielder*. The list is the same length as the number of players. mid[i]=0 if player *i* is not a mid-fielder; mid[i]=1 if player *i* is a midfielder\n",
    "- a list **defe** which indicates which player is a *defender*. The list is the same length as the number of players. defe[i]=0 if player *i* is not a defender; defe[i]=1 if player *i* is a defender\n",
    "- a list **stri** which indicates which player is a *striker*. The list is the same length as the number of players. stri[i]=0 if player *i* is not a striker; stri[i]=1 if player *i* is a striker"
   ]
  },
  {
   "cell_type": "code",
   "execution_count": 3,
   "metadata": {},
   "outputs": [],
   "source": [
    "# HELPFUL DATA \n",
    "# these can be used for calculating points and costs and are also used in the constraint_checking function\n",
    "points = data['Points'] \n",
    "cost = data['Cost']\n",
    "    \n",
    "\n",
    "# create lists with all elements initialised to 0\n",
    "gk = np.zeros(num_players)\n",
    "mid = np.zeros(num_players)\n",
    "defe = np.zeros(num_players)\n",
    "stri = np.zeros(num_players)\n",
    "\n",
    "for i in range(num_players):\n",
    "    if data['Position'][i] == 'GK':\n",
    "        gk[i] = 1\n",
    "    elif data['Position'][i] == 'DEF':\n",
    "        defe[i] = 1\n",
    "    elif data['Position'][i] == 'MID':\n",
    "        mid[i] = 1\n",
    "    elif data['Position'][i] == 'STR':\n",
    "        stri[i]=1\n",
    "  "
   ]
  },
  {
   "cell_type": "markdown",
   "metadata": {},
   "source": [
    "# Solution and constraint checker function\n",
    "\n",
    "You are free to represent an individiual in any way you wish. However, at the end of the evolutionary run, you *must* convert your solution to a list of length *num_players* in which each element is either 0 or 1. An element *i* should be set to 0 if player *i* is not included in the team, and to 1 if player *is* **is** included in the team.\n",
    "\n",
    "You *must* call this function with your best solution and include a screen shot of the output in your report."
   ]
  },
  {
   "cell_type": "code",
   "execution_count": 4,
   "metadata": {},
   "outputs": [],
   "source": [
    "# check the constraints\n",
    "# the function MUST be passed a list of length num_players in which each bit is set to 0 or 1\n",
    "\n",
    "\n",
    "def check_constraints(individual):\n",
    "     \n",
    "    broken_constraints = 0\n",
    "\n",
    "    # exactly 11 players\n",
    "    c1 = np.sum(individual)\n",
    "    if  c1 != 11:\n",
    "        broken_constraints+=1\n",
    "        print(\"total players is %s \" %(c1))\n",
    "        \n",
    "    \n",
    "    #need cost <= 100\"\n",
    "    c2 = np.sum(np.multiply(cost, individual)) \n",
    "    if c2 > 100:\n",
    "        broken_constraints+=1\n",
    "        print(\"cost is %s \" %(c2))\n",
    "    \n",
    "    # need only 1 GK\n",
    "    c3 = np.sum(np.multiply(gk, individual))\n",
    "    if  c3 != 1:\n",
    "        broken_constraints+=1\n",
    "        print(\"goalies is %s \" %(c3))\n",
    "    \n",
    "    # need less than 3-5 DEF\"\n",
    "    c4 = np.sum(np.multiply(defe,individual))\n",
    "    if  c4 > 5 or c4 < 3:\n",
    "        broken_constraints+=1\n",
    "        print(\"DEFE is %s \" %(c4))\n",
    "            \n",
    "    #need 3- 5 MID\n",
    "    c5 = np.sum(np.multiply(mid,individual))\n",
    "    if  c5 > 5 or c5 < 3: \n",
    "        broken_constraints+=1\n",
    "        print(\"MID is %s \" %(c5))\n",
    "        \n",
    "    # need 1 -1 3 STR\"\n",
    "    c6 = np.sum(np.multiply(stri,individual))\n",
    "    if c6 > 3 or c6 < 1: \n",
    "        broken_constraints+=1\n",
    "        print(\"STR is %s \" %(c6))\n",
    "        \n",
    "    # get indices of players selected\n",
    "    selectedPlayers = [idx for idx, element in enumerate(individual) if element==1]\n",
    "    \n",
    "    totalpoints = np.sum(np.multiply(points, individual))\n",
    "        \n",
    "        \n",
    "    print(\"total broken constraints: %s\" %(broken_constraints))\n",
    "    print(\"total points: %s\" %(totalpoints))\n",
    "    print(\"total cost is %s\" %(c2))\n",
    "    print(\"selected players are %s\" %(selectedPlayers))\n",
    "    \n",
    "    return broken_constraints, totalpoints"
   ]
  },
  {
   "cell_type": "code",
   "execution_count": 5,
   "metadata": {},
   "outputs": [],
   "source": [
    "global team_size\n",
    "team_size = 11\n",
    "# permutation  approach\n",
    "\n",
    "global list_of_goal_keepers\n",
    "list_of_goal_keepers = []\n",
    "global list_of_defenders\n",
    "list_of_defenders = []\n",
    "global list_of_midfielders\n",
    "list_of_midfielders = []\n",
    "global list_of_strikers\n",
    "list_of_strikers = []\n",
    "# Create individuals as integer permutation representation\n",
    "def get_positions_of_players(num_players):\n",
    "    for i in range(num_players):\n",
    "        # Lists start from index 0 so direct representation would be i+1\n",
    "        if data['Position'][i] == 'GK':\n",
    "            list_of_goal_keepers.append(i)\n",
    "        elif data['Position'][i] == 'DEF':\n",
    "            list_of_defenders.append(i)\n",
    "        elif data['Position'][i] == 'MID':\n",
    "            list_of_midfielders.append(i)\n",
    "        elif data['Position'][i] == 'STR':\n",
    "            list_of_strikers.append(i)"
   ]
  },
  {
   "cell_type": "code",
   "execution_count": 6,
   "metadata": {},
   "outputs": [],
   "source": [
    "# check the constraints\n",
    "# the function MUST be passed a list of length num_players in which each bit is set to 0 or 1\n",
    "\n",
    "\n",
    "def check_constraints_modified(individual):\n",
    "\n",
    "    # Do not need to check if there are duplicates as the initialization takes care of it\n",
    "    broken_constraints = [0,0,0,0,0,0]\n",
    "    broken_constraints_num = 0\n",
    "\n",
    "    # exactly 11 players\n",
    "    c1 = np.sum(individual)\n",
    "    if  c1 != 11:\n",
    "        broken_constraints[0] = 1\n",
    "        broken_constraints_num += 1\n",
    "        print(\"total players is %s \" %(c1))\n",
    "\n",
    "\n",
    "    #need cost <= 100\"\n",
    "    c2 = np.sum(np.multiply(cost, individual))\n",
    "    if c2 > 100:\n",
    "        broken_constraints[1] = 1\n",
    "        broken_constraints_num += 1\n",
    "        print(\"cost is %s \" %(c2))\n",
    "\n",
    "    # need only 1 GK\n",
    "    c3 = np.sum(np.multiply(gk, individual))\n",
    "    if  c3 != 1:\n",
    "        broken_constraints[2] = 1\n",
    "        broken_constraints_num += 1\n",
    "        print(\"goalies is %s \" %(c3))\n",
    "\n",
    "    # need less than 3-5 DEF\"\n",
    "    c4 = np.sum(np.multiply(defe,individual))\n",
    "    if  c4 > 5 or c4 < 3:\n",
    "        broken_constraints[3] = 1\n",
    "        broken_constraints_num += 1\n",
    "        print(\"DEFE is %s \" %(c4))\n",
    "\n",
    "    #need 3- 5 MID\n",
    "    c5 = np.sum(np.multiply(mid,individual))\n",
    "    if  c5 > 5 or c5 < 3:\n",
    "        broken_constraints[4] = 1\n",
    "        broken_constraints_num += 1\n",
    "        print(\"MID is %s \" %(c5))\n",
    "\n",
    "    # need 1 -1 3 STR\"\n",
    "    c6 = np.sum(np.multiply(stri,individual))\n",
    "    if c6 > 3 or c6 < 1:\n",
    "        broken_constraints[5] = 1\n",
    "        broken_constraints_num += 1\n",
    "        print(\"STR is %s \" %(c6))\n",
    "\n",
    "    # get indices of players selected\n",
    "    selectedPlayers = [idx for idx, element in enumerate(individual) if element==1]\n",
    "\n",
    "    totalpoints = np.sum(np.multiply(points, individual))\n",
    "\n",
    "\n",
    "    print(\"total broken constraints: %s\" %(broken_constraints_num))\n",
    "    print(\"total points: %s\" %(totalpoints))\n",
    "    print(\"total cost is %s\" %(c2))\n",
    "    print(\"selected players are %s\" %(selectedPlayers))\n",
    "\n",
    "    return broken_constraints, totalpoints, selectedPlayers\n",
    "\n",
    "def check_constraints_modified_no_print(individual):\n",
    "\n",
    "    # Do not need to check if there are duplicates as the initialization takes care of it\n",
    "    broken_constraints = [0,0,0,0,0,0]\n",
    "    broken_constraints_num = 0\n",
    "\n",
    "    # exactly 11 players - 0\n",
    "    c1 = np.sum(individual)\n",
    "    if  c1 != 11:\n",
    "        broken_constraints[0] = 1\n",
    "        broken_constraints_num += 1\n",
    "\n",
    "\n",
    "    #need cost <= 100\" - 1\n",
    "    c2 = np.sum(np.multiply(cost, individual))\n",
    "    if c2 > 100:\n",
    "        broken_constraints[1] = 1\n",
    "        broken_constraints_num += 1\n",
    "\n",
    "    # need only 1 GK - 2 \n",
    "    c3 = np.sum(np.multiply(gk, individual))\n",
    "    if  c3 != 1:\n",
    "        broken_constraints[2] = 1\n",
    "        broken_constraints_num += 1\n",
    "\n",
    "    # need less than 3-5 DEF\" - 3 \n",
    "    c4 = np.sum(np.multiply(defe,individual))\n",
    "    if  c4 > 5 or c4 < 3:\n",
    "        broken_constraints[3] = 1\n",
    "        broken_constraints_num += 1\n",
    "\n",
    "    #need 3- 5 MID - 4\n",
    "    c5 = np.sum(np.multiply(mid,individual))\n",
    "    if  c5 > 5 or c5 < 3:\n",
    "        broken_constraints[4] = 1\n",
    "        broken_constraints_num += 1\n",
    "\n",
    "    # need 1 -1 3 STR\" - 5\n",
    "    c6 = np.sum(np.multiply(stri,individual))\n",
    "    if c6 > 3 or c6 < 1:\n",
    "        broken_constraints[5] = 1\n",
    "        broken_constraints_num += 1\n",
    "\n",
    "    # get indices of players selected\n",
    "    selectedPlayers = [idx for idx, element in enumerate(individual) if element==1]\n",
    "\n",
    "    totalpoints = np.sum(np.multiply(points, individual))\n",
    "\n",
    "    return broken_constraints, totalpoints\n",
    "def check_constraints_modified_no_print_no_cost(individual):\n",
    "\n",
    "    # Do not need to check if there are duplicates as the initialization takes care of it\n",
    "    broken_constraints = [0,0,0,0,0,0]\n",
    "    broken_constraints_num = 0\n",
    "\n",
    "    # exactly 11 players - 0\n",
    "    c1 = np.sum(individual)\n",
    "    if  c1 != 11:\n",
    "        broken_constraints[0] = 1\n",
    "        broken_constraints_num += 1\n",
    "\n",
    "    # need only 1 GK - 2 \n",
    "    c3 = np.sum(np.multiply(gk, individual))\n",
    "    if  c3 != 1:\n",
    "        broken_constraints[2] = 1\n",
    "        broken_constraints_num += 1\n",
    "\n",
    "    # need less than 3-5 DEF\" - 3 \n",
    "    c4 = np.sum(np.multiply(defe,individual))\n",
    "    if  c4 > 5 or c4 < 3:\n",
    "        broken_constraints[3] = 1\n",
    "        broken_constraints_num += 1\n",
    "\n",
    "    #need 3- 5 MID - 4\n",
    "    c5 = np.sum(np.multiply(mid,individual))\n",
    "    if  c5 > 5 or c5 < 3:\n",
    "        broken_constraints[4] = 1\n",
    "        broken_constraints_num += 1\n",
    "\n",
    "    # need 1 -1 3 STR\" - 5\n",
    "    c6 = np.sum(np.multiply(stri,individual))\n",
    "    if c6 > 3 or c6 < 1:\n",
    "        broken_constraints[5] = 1\n",
    "        broken_constraints_num += 1\n",
    "\n",
    "    # get indices of players selected\n",
    "    selectedPlayers = [idx for idx, element in enumerate(individual) if element==1]\n",
    "\n",
    "    totalpoints = np.sum(np.multiply(points, individual))\n",
    "\n",
    "    return broken_constraints, totalpoints, selectedPlayers"
   ]
  },
  {
   "cell_type": "code",
   "execution_count": 7,
   "metadata": {
    "collapsed": false
   },
   "outputs": [],
   "source": [
    "global another_representation\n",
    "another_representation = {}\n",
    "\n",
    "# choose a random element from a list\n",
    "# randomly shuffle a sequence\n",
    "from numpy.random import seed\n",
    "from numpy.random import shuffle\n",
    "\n",
    "# Permutation\n",
    "def initialization_create_feasible_individual(icls, size, pInit):\n",
    "    break_loop = False\n",
    "    try:\n",
    "        list_of_used_players = []\n",
    "        # first create an individual with all bits set to 0\n",
    "        ind = icls(np.zeros(size))\n",
    "        broken_constraint_array = [1]*5\n",
    "        #  There must be exactly 11 players in the team\n",
    "        item_indices = [-1]*11  # individual has to contain exactly 11 players\n",
    "        # The total cost of the team must be less than or equal to £100\n",
    "        #  You can’t pick the same player more than once (i.e. all players in a team are unique)\n",
    "        pos = 0\n",
    "        while 1 in broken_constraint_array:\n",
    "            \n",
    "            broken_constraint_array, totalpoints = check_constraints_runtime(team_size, size, item_indices, icls)\n",
    "            if 1 not in broken_constraint_array:\n",
    "                break\n",
    "            if broken_constraint_array[2]:\n",
    "                # Need exactly 1 GK\n",
    "                shuffle(list_of_goal_keepers)\n",
    "                while list_of_goal_keepers[0] in list_of_used_players:\n",
    "                    shuffle(list_of_goal_keepers)\n",
    "                item_indices[pos]=list_of_goal_keepers[0]\n",
    "                list_of_used_players.append(item_indices[pos])\n",
    "                pos += 1\n",
    "            if broken_constraint_array[3]:\n",
    "                # Need at least 3 DEF (up to 5)\n",
    "                for iteration1 in range(3):\n",
    "                    while list_of_defenders[iteration1] in list_of_used_players:\n",
    "                        shuffle(list_of_defenders)\n",
    "                    item_indices[pos] = list_of_defenders[iteration1]\n",
    "                    list_of_used_players.append(item_indices[pos])\n",
    "                    pos += 1\n",
    "            if broken_constraint_array[4]:\n",
    "                # Need at least 3 MIN (up to 5)\n",
    "                shuffle(list_of_midfielders)\n",
    "                for iteration2 in range(3):\n",
    "                    while list_of_midfielders[iteration2] in list_of_used_players:\n",
    "                         shuffle(list_of_midfielders)\n",
    "                    item_indices[pos] = list_of_midfielders[iteration2]\n",
    "                    list_of_used_players.append(item_indices[pos])\n",
    "                    pos += 1\n",
    "            if broken_constraint_array[5]:\n",
    "                # Need at least 1 STR (up to 3)\n",
    "                shuffle(list_of_strikers)\n",
    "                while list_of_strikers[0] in list_of_used_players:\n",
    "                    shuffle(list_of_strikers)\n",
    "                item_indices[pos] = list_of_strikers[0]\n",
    "                list_of_used_players.append(item_indices[pos])\n",
    "                pos += 1\n",
    "            if broken_constraint_array[0]:\n",
    "                list_of_choices = []\n",
    "                list_showing_players = []\n",
    "                for j in range(11):\n",
    "                    if item_indices[j] in list_of_goal_keepers:\n",
    "                        list_showing_players.append(\"GK\")\n",
    "                    if item_indices[j] in list_of_defenders:\n",
    "                        list_showing_players.append(\"DEF\")\n",
    "                    if item_indices[j] in list_of_midfielders:\n",
    "                        list_showing_players.append(\"MIN\")\n",
    "                    if item_indices[j] in list_of_strikers:\n",
    "                        list_showing_players.append(\"STR\")\n",
    "                def_players = list_showing_players.count(\"DEF\")\n",
    "                min_players = list_showing_players.count(\"MIN\")\n",
    "                str_players = list_showing_players.count(\"STR\")\n",
    "                if def_players < 5:\n",
    "                    list_of_choices.append(1)\n",
    "                if min_players < 5:\n",
    "                    list_of_choices.append(2)\n",
    "                if str_players < 3:\n",
    "                    list_of_choices.append(3)\n",
    "                shuffle(list_of_choices)\n",
    "                choice = list_of_choices[0]\n",
    "                if choice == 1:\n",
    "                    random.shuffle(list_of_defenders)\n",
    "                    while list_of_defenders[0] in list_of_used_players:\n",
    "                        random.shuffle(list_of_defenders)\n",
    "                    item_indices[pos] = list_of_defenders[0]\n",
    "                    list_of_used_players.append(item_indices[pos])\n",
    "                    pos += 1\n",
    "                elif choice == 2:\n",
    "                    shuffle(list_of_midfielders)\n",
    "                    while list_of_midfielders[0] in list_of_used_players:\n",
    "                        shuffle(list_of_midfielders)\n",
    "                    item_indices[pos] = list_of_midfielders[0]\n",
    "                    list_of_used_players.append(item_indices[pos])\n",
    "                    pos += 1\n",
    "                elif choice == 3:\n",
    "                    shuffle(list_of_strikers)\n",
    "                    while list_of_strikers[0] in list_of_used_players:\n",
    "                        shuffle(list_of_strikers)\n",
    "                    item_indices[pos] = list_of_strikers[0]\n",
    "                    list_of_used_players.append(item_indices[pos])\n",
    "                    pos += 1\n",
    "        item_indices_ind = [0]*size\n",
    "        for i in range(team_size):\n",
    "                item = item_indices[i]\n",
    "                if item != -1:\n",
    "                    ind[item]=1\n",
    "                    item_indices_ind[item] = 1\n",
    "        #s = ','.join(str(x) for x in item_indices_ind)\n",
    "        #another_representation.update({s : item_indices})\n",
    "        return ind\n",
    "    except IndexError as e:\n",
    "        list_showing_players = []\n",
    "        for j in range(11):\n",
    "            if item_indices[j] in list_of_goal_keepers:\n",
    "                list_showing_players.append(\"GK\")\n",
    "            if item_indices[j] in list_of_defenders:\n",
    "                list_showing_players.append(\"DEF\")\n",
    "            if item_indices[j] in list_of_midfielders:\n",
    "                list_showing_players.append(\"MIN\")\n",
    "            if item_indices[j] in list_of_strikers:\n",
    "                list_showing_players.append(\"STR\")\n",
    "        print(f'caught {type(e)}: e')\n",
    "\n",
    "    \n",
    "def check_constraints_runtime(team_size, size, item_indices, icls):\n",
    "     # first create an individual with all bits set to 0\n",
    "    ind = icls(np.zeros(size))\n",
    "    for i in range(team_size):\n",
    "            item = item_indices[i]\n",
    "            if item != -1:\n",
    "                ind[item]=1\n",
    "    broken_constraint_array, totalpoints, selectedPlayers = check_constraints_modified_no_print_no_cost(ind)\n",
    "    return broken_constraint_array, totalpoints"
   ]
  },
  {
   "cell_type": "code",
   "execution_count": 8,
   "metadata": {},
   "outputs": [],
   "source": [
    "# Crossover - to do\n",
    "def cxTwoPoint_(ind1, ind2):\n",
    "    \"\"\"Executes a two-point crossover on the input :term:`sequence`\n",
    "    individuals. The two individuals are modified in place and both keep\n",
    "    their original length.\n",
    "    :param ind1: The first individual participating in the crossover.\n",
    "    :param ind2: The second individual participating in the crossover.\n",
    "    :returns: A tuple of two individuals.\n",
    "    This function uses the :func:`~random.randint` function from the Python\n",
    "    base :mod:`random` module.\n",
    "    \"\"\"\n",
    "     # 0 - 180 DEF -> from 3 to 5 players\n",
    "    def_to_crossover_1 = []\n",
    "    def_to_crossover_2 = []\n",
    "    # 181 - 376 MID\n",
    "    mid_to_crossover_1 = []\n",
    "    mid_to_crossover_2 = []\n",
    "    # 377 - 466 STR\n",
    "    str_to_crossover_1 = []\n",
    "    str_to_crossover_2 = []\n",
    "    # 467 - 523 GK\n",
    "    GK_to_crossover_1 = []\n",
    "    GK_to_crossover_2 = []\n",
    "    individual_1 = ind1\n",
    "    individual_2 = ind2\n",
    "    # get indices of players selected\n",
    "    selectedPlayers_individual_1 = [idx for idx, element in enumerate(ind1) if element==1]\n",
    "    selectedPlayers_individual_1_copy = selectedPlayers_individual_1\n",
    "    selectedPlayers_individual_2 = [idx for idx, element in enumerate(ind2) if element==1]\n",
    "    selectedPlayers_individual_2_copy = selectedPlayers_individual_2\n",
    "\n",
    "    if selectedPlayers_individual_1 == selectedPlayers_individual_2:\n",
    "        return ind1, ind2\n",
    "\n",
    "\n",
    "    def_to_crossover_1,mid_to_crossover_1, str_to_crossover_1, GK_to_crossover_1 = select_genomes_to_crossover(selectedPlayers_individual_1, def_to_crossover_1,mid_to_crossover_1, str_to_crossover_1, GK_to_crossover_1)\n",
    "    def_to_crossover_2,mid_to_crossover_2, str_to_crossover_2, GK_to_crossover_2 = select_genomes_to_crossover(selectedPlayers_individual_2, def_to_crossover_2,mid_to_crossover_2, str_to_crossover_2, GK_to_crossover_2)\n",
    "\n",
    "\n",
    "    def_to_crossover_1_no_duplicetes = remove_duplicates(def_to_crossover_1, def_to_crossover_2)\n",
    "    mid_to_crossover_1_no_duplicetes = remove_duplicates(mid_to_crossover_1, mid_to_crossover_2)\n",
    "    str_to_crossover_1_no_duplicetes = remove_duplicates(str_to_crossover_1, str_to_crossover_2)\n",
    "    gk_to_crossover_1_no_duplicetes = remove_duplicates(GK_to_crossover_1, GK_to_crossover_2)\n",
    "    \n",
    "    def_to_crossover_2_no_duplicetes = remove_duplicates(def_to_crossover_2, def_to_crossover_1)\n",
    "    mid_to_crossover_2_no_duplicetes = remove_duplicates(mid_to_crossover_2, mid_to_crossover_1)\n",
    "    str_to_crossover_2_no_duplicetes = remove_duplicates(str_to_crossover_2, str_to_crossover_1)\n",
    "    gk_to_crossover_2_no_duplicetes = remove_duplicates(GK_to_crossover_2, GK_to_crossover_1)\n",
    "\n",
    "\n",
    "    size_def = min(len(def_to_crossover_1_no_duplicetes), len(def_to_crossover_2_no_duplicetes)) \n",
    "    size_mid = min(len(mid_to_crossover_1_no_duplicetes), len(mid_to_crossover_2_no_duplicetes)) \n",
    "    size_str = min(len(str_to_crossover_1_no_duplicetes), len(str_to_crossover_2_no_duplicetes)) \n",
    "    size_gk = min(len(gk_to_crossover_1_no_duplicetes), len(gk_to_crossover_2_no_duplicetes))\n",
    "\n",
    "    \n",
    "\n",
    "    cxpoint_def = random.randint(1, size_def) if size_def != 0 else 0\n",
    "    cxpoint_mid = random.randint(1, size_mid) if size_mid != 0 else 0\n",
    "    cxpoint_str = random.randint(1, size_str) if size_str != 0 else 0\n",
    "    cxpoint_gk = random.randint(1, size_gk) if size_gk != 0 else 0\n",
    "\n",
    "    def_to_crossoever = merge_two_list_no_duplicate(def_to_crossover_1, def_to_crossover_2)\n",
    "    mid_to_crossoever = merge_two_list_no_duplicate(mid_to_crossover_1, mid_to_crossover_2)\n",
    "    str_to_crossoever = merge_two_list_no_duplicate(str_to_crossover_1, str_to_crossover_2)\n",
    "    gk_to_crossoever = merge_two_list_no_duplicate(GK_to_crossover_1, GK_to_crossover_2)\n",
    "\n",
    "    selectedPlayers_individual_1 = crossoever(def_to_crossover_1, selectedPlayers_individual_1, cxpoint_def, \"DEF\", def_to_crossover_2)  if size_def != 0 else selectedPlayers_individual_1\n",
    "    selectedPlayers_individual_1 = crossoever(mid_to_crossover_1, selectedPlayers_individual_1, cxpoint_mid, \"MID\", mid_to_crossover_2) if size_mid != 0 else selectedPlayers_individual_1\n",
    "    selectedPlayers_individual_1 = crossoever(str_to_crossover_1, selectedPlayers_individual_1, cxpoint_str, \"STR\", str_to_crossover_2) if size_str != 0 else selectedPlayers_individual_1\n",
    "    selectedPlayers_individual_1 = crossoever(GK_to_crossover_1, selectedPlayers_individual_1, cxpoint_gk, \"GK\", GK_to_crossover_2) if size_gk != 0 else selectedPlayers_individual_1\n",
    "\n",
    "    selectedPlayers_individual_2 = crossoever(def_to_crossover_2, selectedPlayers_individual_2, cxpoint_def, \"DEF\", def_to_crossover_1) if size_def != 0 else selectedPlayers_individual_2\n",
    "    selectedPlayers_individual_2 = crossoever(mid_to_crossover_2, selectedPlayers_individual_2, cxpoint_def, \"MID\", mid_to_crossover_1) if size_mid != 0 else selectedPlayers_individual_2\n",
    "    selectedPlayers_individual_2 = crossoever(str_to_crossover_2, selectedPlayers_individual_2, cxpoint_def, \"STR\", str_to_crossover_1)  if size_str != 0 else selectedPlayers_individual_2\n",
    "    selectedPlayers_individual_2 = crossoever(GK_to_crossover_2, selectedPlayers_individual_2, cxpoint_def, \"GK\", GK_to_crossover_1) if size_gk != 0 else selectedPlayers_individual_2\n",
    "\n",
    "\n",
    "    if selectedPlayers_individual_1 == selectedPlayers_individual_1_copy and selectedPlayers_individual_2 == selectedPlayers_individual_2_copy:\n",
    "            return ind1, ind2\n",
    "    else:\n",
    "        \n",
    "        # get indices of players selected\n",
    "        #selectedPlayers_individual_1 = [idx for idx, element in enumerate(ind1) if element==1]\n",
    "        index_coutner = 0\n",
    "        for index_1 in selectedPlayers_individual_1:\n",
    "            for index, element in enumerate(ind1):\n",
    "                if index_1 == index:\n",
    "                    ind1[index_1] = 1\n",
    "                    index_coutner = index_1\n",
    "                elif index_1 != index and index_coutner <= index:\n",
    "                    ind1[index_1] = 0\n",
    "        # get indices of players selected\n",
    "        #selectedPlayers_individual_1 = [idx for idx, element in enumerate(ind1) if element==1]\n",
    "        index_coutner = 0\n",
    "        for index_1 in selectedPlayers_individual_2:\n",
    "            for index, element in enumerate(ind2):\n",
    "                if index_1 == index:\n",
    "                    ind2[index_1] = 1\n",
    "                    index_coutner = index_1\n",
    "                elif index_1 != index and index_coutner <= index:\n",
    "                    ind2[index_1] = 0\n",
    "        # fitness_individual_1 = evalKnapsack2(individual_1)\n",
    "        # fitness_individual_2 = evalKnapsack2(individual_2)\n",
    "        # fitness_offset_1 = evalKnapsack2(ind1)\n",
    "        # fitness_offset_2 = evalKnapsack2(ind2)\n",
    "        # if all(fitness_individual_1 >= x for x in (fitness_individual_2, fitness_offset_1, fitness_offset_2)) and all(fitness_individual_2 >= x for x in (fitness_individual_1, fitness_offset_1, fitness_offset_2)):\n",
    "        #     return individual_1, individual_2\n",
    "        # elif all(fitness_individual_1 >= x for x in (fitness_individual_2, fitness_offset_1, fitness_offset_2)) and all(fitness_offset_1 >= x for x in (fitness_individual_2, fitness_individual_1, fitness_offset_2)):\n",
    "        #     return individual_1, fitness_offset_1\n",
    "        # elif all(fitness_individual_1 >= x for x in (fitness_individual_2, fitness_offset_1, fitness_offset_2)) and all(fitness_offset_2 >= x for x in (fitness_individual_2, fitness_individual_1, fitness_offset_1)):\n",
    "        #     return individual_1, fitness_offset_2\n",
    "        # elif all(fitness_individual_2 >= x for x in (fitness_individual_1, fitness_offset_1, fitness_offset_2)) and all(fitness_offset_2 >= x for x in (fitness_individual_2, fitness_individual_1, fitness_offset_1)):\n",
    "        #     return fitness_individual_2, fitness_offset_2\n",
    "        # elif all(fitness_individual_2 >= x for x in (fitness_individual_1, fitness_offset_1, fitness_offset_2)) and all(fitness_offset_1 >= x for x in (fitness_individual_2, fitness_individual_1, fitness_offset_2)):\n",
    "        #     return fitness_individual_2, fitness_offset_1\n",
    "        # elif all(fitness_offset_1 >= x for x in (fitness_individual_1, fitness_offset_1, fitness_individual_2)) and all(fitness_offset_2 >= x for x in (fitness_individual_2, fitness_individual_1, fitness_offset_1)):\n",
    "        #     return fitness_offset_1, fitness_offset_2\n",
    "        return ind1, ind2 # test with same paren and two diff offspring\n",
    " \n",
    "\n",
    "def merge_two_list_no_duplicate(first_list, second_list):\n",
    "    in_first = set(first_list)\n",
    "    in_second = set(second_list)\n",
    "\n",
    "    in_second_but_not_in_first = in_second - in_first\n",
    "\n",
    "    result = first_list + list(in_second_but_not_in_first)\n",
    "    return result\n",
    "\n",
    "def crossoever(list_of_all_players_for_position, individual, number_of_players_replaced, position, genomes_to_use_in_crossover):\n",
    "    already_used_players = []\n",
    "    for i in range(number_of_players_replaced):\n",
    "        rotation = 0\n",
    "        while genomes_to_use_in_crossover[0] in individual:\n",
    "            rotation += 1\n",
    "            shuffle(genomes_to_use_in_crossover)    \n",
    "            if rotation == 5:\n",
    "                break      \n",
    "        if position == \"DEF\":\n",
    "            # Random integer from 0 to 180\n",
    "            shuffle(list_of_all_players_for_position)\n",
    "            new_genome = list_of_all_players_for_position[0]\n",
    "            rotation = 0\n",
    "            while new_genome not in individual or list_of_all_players_for_position in individual:\n",
    "                shuffle(list_of_all_players_for_position)\n",
    "                new_genome = list_of_all_players_for_position[0]\n",
    "                rotation += 1\n",
    "                if rotation == 5:\n",
    "                    break \n",
    "            if rotation == 5:\n",
    "                    break  \n",
    "            index_of_genome = individual.index(new_genome)\n",
    "            individual[index_of_genome] = genomes_to_use_in_crossover[0]\n",
    "            already_used_players.append(genomes_to_use_in_crossover[0])\n",
    "        elif position == \"MID\":\n",
    "            # Random integer from 181 to 376\n",
    "            shuffle(list_of_all_players_for_position)\n",
    "            new_genome = list_of_all_players_for_position[0]\n",
    "            rotation = 0\n",
    "            while new_genome not in individual or list_of_all_players_for_position in individual:\n",
    "                shuffle(list_of_all_players_for_position)\n",
    "                new_genome = list_of_all_players_for_position[0]\n",
    "                rotation += 1\n",
    "                if rotation == 5:\n",
    "                    break  \n",
    "            if rotation == 5:\n",
    "                    break  \n",
    "            index_of_genome = individual.index(new_genome)\n",
    "            individual[index_of_genome] = genomes_to_use_in_crossover[0]\n",
    "            already_used_players.append(genomes_to_use_in_crossover[0])\n",
    "        elif position == \"STR\":\n",
    "            # Random integer from 377 to 466\n",
    "            shuffle(list_of_all_players_for_position)\n",
    "            new_genome = list_of_all_players_for_position[0]\n",
    "            rotation = 0\n",
    "            while new_genome not in individual or list_of_all_players_for_position in individual:\n",
    "                shuffle(list_of_all_players_for_position)\n",
    "                new_genome = list_of_all_players_for_position[0]\n",
    "                rotation += 1\n",
    "                if rotation == 5:\n",
    "                    break  \n",
    "            if rotation == 5:\n",
    "                    break  \n",
    "            index_of_genome = individual.index(new_genome)\n",
    "            individual[index_of_genome] = genomes_to_use_in_crossover[0]\n",
    "            already_used_players.append(genomes_to_use_in_crossover[0])\n",
    "        elif position == \"GK\" :\n",
    "            # 467 - 523 GK\n",
    "            shuffle(list_of_all_players_for_position)\n",
    "            new_genome = list_of_all_players_for_position[0]\n",
    "            rotation = 0\n",
    "            while new_genome not in individual or list_of_all_players_for_position in individual:\n",
    "                shuffle(list_of_all_players_for_position)\n",
    "                new_genome = list_of_all_players_for_position[0]\n",
    "                rotation += 1\n",
    "                if rotation == 5:\n",
    "                    break\n",
    "            if rotation == 5:\n",
    "                    break  \n",
    "            index_of_genome = individual.index(new_genome)\n",
    "            individual[index_of_genome] = genomes_to_use_in_crossover[0]\n",
    "            already_used_players.append(genomes_to_use_in_crossover[0])\n",
    "    return individual\n",
    "\n",
    "    \n",
    "def select_genomes_to_crossover(individual, def_to_crossover,mid_to_crossover, str_to_crossover, GK_to_crossover):\n",
    "    # \n",
    "    for genome in individual:\n",
    "        if genome >= 0 and  genome <= 180 :\n",
    "            def_to_crossover.append(genome)\n",
    "        elif genome >= 181 and  genome <= 376:\n",
    "            mid_to_crossover.append(genome)\n",
    "        elif genome >= 377 and  genome <= 466 :\n",
    "            str_to_crossover.append(genome)\n",
    "        elif genome >= 467 and  genome <= 523 :\n",
    "            GK_to_crossover.append(genome)\n",
    "    return def_to_crossover,mid_to_crossover, str_to_crossover, GK_to_crossover\n",
    "\n",
    "def random_selection(list_to_choose_from_1, list_to_choose_from_2, number_of_things_to_choose):\n",
    "    bollean = random.getrandbits(1)\n",
    "    sample_list = []\n",
    "    if bollean == 0:\n",
    "        for item in range(number_of_things_to_choose):\n",
    "            random.shuffle(list_to_choose_from_1)\n",
    "            if list_to_choose_from_1[0] not in sample_list:\n",
    "                sample_list.append(list_to_choose_from_1[0])\n",
    "            else:\n",
    "                while list_to_choose_from_1[0] in sample_list:\n",
    "                    random.shuffle(list_to_choose_from_1)\n",
    "                sample_list.append(list_to_choose_from_1[0])\n",
    "        return sample_list, 1\n",
    "    else:\n",
    "        for item in range(number_of_things_to_choose):\n",
    "            random.shuffle(list_to_choose_from_2)\n",
    "            if list_to_choose_from_2[0] not in sample_list:\n",
    "                sample_list.append(list_to_choose_from_2[0])\n",
    "            else:\n",
    "                while list_to_choose_from_2[0] in sample_list:\n",
    "                    random.shuffle(list_to_choose_from_2)\n",
    "                sample_list.append(list_to_choose_from_2[0])\n",
    "        return sample_list, 2\n",
    "\n",
    "def remove_items(items_to_swap, remove_from_list_1, list_to_choose_which_genome_to_swap):\n",
    "    items_already_swapped = []\n",
    "    for item in range(len(items_to_swap)):\n",
    "        random.shuffle(list_to_choose_which_genome_to_swap)\n",
    "        old_swap = list_to_choose_which_genome_to_swap[0]\n",
    "        \n",
    "        if old_swap not in items_already_swapped:\n",
    "            index = remove_from_list_1.index(old_swap) # issue\n",
    "            items_already_swapped.append(old_swap)\n",
    "            remove_from_list_1[index] = items_to_swap[item]\n",
    "        else:\n",
    "            while old_swap in items_already_swapped:\n",
    "                random.shuffle(list_to_choose_which_genome_to_swap)\n",
    "                old_swap = list_to_choose_which_genome_to_swap[0]\n",
    "            index = remove_from_list_1.index(old_swap) # issue\n",
    "            remove_from_list_1[index] = items_to_swap[item]\n",
    "            items_already_swapped.append(old_swap)\n",
    "    return remove_from_list_1\n",
    "\n",
    "def remove_duplicates(list_a, list_b):\n",
    "    list_c = list_b\n",
    "    for i in list_b[:]:\n",
    "        if i in list_a:\n",
    "            list_c.remove(i)\n",
    "    return list_c\n",
    "\n",
    "def swap_genomes(number_of_list, pos_to_swap, selectedPlayers_individual_2, selectedPlayers_individual_1, pos_to_crossover_2, pos_to_crossover_1):\n",
    "    remove_from_list_1 = selectedPlayers_individual_1\n",
    "    remove_from_list_2 = selectedPlayers_individual_2\n",
    "    if  number_of_list == 1:\n",
    "        remove_from_list_1 = remove_items(pos_to_swap, selectedPlayers_individual_1, pos_to_crossover_1)\n",
    "\n",
    "    elif number_of_list == 2:\n",
    "        remove_from_list_2 = remove_items(pos_to_swap, selectedPlayers_individual_2, pos_to_crossover_2)\n",
    "    return remove_from_list_1, remove_from_list_2"
   ]
  },
  {
   "cell_type": "code",
   "execution_count": 9,
   "metadata": {},
   "outputs": [],
   "source": [
    "gk = np.zeros(num_players)\n",
    "mid = np.zeros(num_players)\n",
    "defe = np.zeros(num_players)\n",
    "stri = np.zeros(num_players)\n",
    "\n",
    "for i in range(num_players):\n",
    "    if data['Position'][i] == 'GK':\n",
    "        gk[i] = 1\n",
    "    elif data['Position'][i] == 'DEF':\n",
    "        defe[i] = 1\n",
    "    elif data['Position'][i] == 'MID':\n",
    "        mid[i] = 1\n",
    "    elif data['Position'][i] == 'STR':\n",
    "        stri[i]=1\n",
    "indices_gk = [i for i, x in enumerate(gk) if x == 1]\n",
    "indices_mid = [i for i, x in enumerate(mid) if x == 1]\n",
    "indices_defe = [i for i, x in enumerate(defe) if x == 1]\n",
    "indices_stri = [i for i, x in enumerate(stri) if x == 1]\n",
    "def mutFlipBit(individual, indpb):\n",
    "    \"\"\"Flip the value of the attributes of the input individual and return the\n",
    "    mutant. The *individual* is expected to be a :term:`sequence` and the values of the\n",
    "    attributes shall stay valid after the ``not`` operator is called on them.\n",
    "    The *indpb* argument is the probability of each attribute to be\n",
    "    flipped. This mutation is usually applied on boolean individuals.\n",
    "    :param individual: Individual to be mutated.\n",
    "    :param indpb: Independent probability for each attribute to be flipped.\n",
    "    :returns: A tuple of one individual.\n",
    "    This function uses the :func:`~random.random` function from the python base\n",
    "    :mod:`random` module.\n",
    "    \"\"\"\n",
    "    broken_constraint = check_constraints_modified_no_print_no_cost(individual)\n",
    "    if 1 in broken_constraint[0]:\n",
    "        print(\"There are broken constraints\")\n",
    "    # get indices of players selected\n",
    "    selectedPlayers_individual_1 = [idx for idx, element in enumerate(individual) if element==1]\n",
    "    selectedPlayers_individual_1_copy = selectedPlayers_individual_1\n",
    "   \n",
    "    # 0 - 180 DEF -> from 3 to 5 players\n",
    "    # 181 - 376 MID\n",
    "    # 377 - 466 STR\n",
    "    # 467 - 523 GK   \n",
    "    \n",
    "    selectedPlayers_individual_1_new, broken_constraints = depending_on_positon_mutate_gene(selectedPlayers_individual_1, indpb,selectedPlayers_individual_1_copy)\n",
    "    \n",
    "    for index, element in enumerate(individual):\n",
    "        individual[index] = 0\n",
    "    index_coutner = 0\n",
    "    for index_1 in selectedPlayers_individual_1_new:\n",
    "        for index, element in enumerate(individual):\n",
    "            if index_1 == index:\n",
    "                individual[index_1] = 1\n",
    "                index_coutner = index_1\n",
    "    broken_constraint = check_constraints_modified_no_print_no_cost(individual)\n",
    "    if 1 in broken_constraint[0]:\n",
    "        print(\"There are broken constraints\")\n",
    "    return individual,\n",
    "\n",
    "def depending_on_positon_mutate_gene(selectedPlayers_individual_1, indpb, selectedPlayers_individual_1_copy):\n",
    "    num_players_new = num_players\n",
    "    item_indices = [0]*num_players_new\n",
    "    already_used_players = []\n",
    "    for genome in selectedPlayers_individual_1:\n",
    "        bollean = random.getrandbits(1)\n",
    "        if bollean:\n",
    "            try:\n",
    "                index_of_genome = selectedPlayers_individual_1.index(genome)\n",
    "                # 0 - 180 DEF\n",
    "                if genome >= 0 and  genome <= 179 :\n",
    "                    # Random integer from 0 to 180\n",
    "                    new_genome = random.randint(0, 179)\n",
    "                    if new_genome not in already_used_players and new_genome not in selectedPlayers_individual_1:\n",
    "                        selectedPlayers_individual_1[index_of_genome] = new_genome\n",
    "                        already_used_players.append(new_genome)\n",
    "                        item_indices[new_genome] = 1\n",
    "                    else:\n",
    "                        while new_genome in selectedPlayers_individual_1:\n",
    "                            new_genome = random.randint(0, 179)\n",
    "                        selectedPlayers_individual_1[index_of_genome] = new_genome\n",
    "                        already_used_players.append(new_genome)\n",
    "                        item_indices[new_genome] = 1\n",
    "                    if defe[new_genome] != 1 or new_genome not in indices_defe:\n",
    "                        print(\"This is no a defender????\")\n",
    "                # 181 - 376 MID\n",
    "                elif genome >= 180 and  genome <= 375:\n",
    "                    # Random integer from 181 to 376\n",
    "                    new_genome = random.randint(180, 375)\n",
    "                    if new_genome not in already_used_players and new_genome not in selectedPlayers_individual_1:\n",
    "                        selectedPlayers_individual_1[index_of_genome] = new_genome\n",
    "                        already_used_players.append(new_genome)\n",
    "                        item_indices[new_genome] = 1\n",
    "                    else:\n",
    "                        while new_genome in selectedPlayers_individual_1:\n",
    "                            new_genome = random.randint(180, 375)\n",
    "                        selectedPlayers_individual_1[index_of_genome] = new_genome\n",
    "                        already_used_players.append(new_genome)\n",
    "                        item_indices[new_genome] = 1\n",
    "                    if mid[new_genome] != 1 or new_genome not in indices_mid:\n",
    "                        print(\"This is no a mid????\")\n",
    "                # 377 - 466 STR\n",
    "                elif genome >= 376 and  genome <= 465:\n",
    "                    # Random integer from 377 to 466\n",
    "                    new_genome = random.randint(376, 465)\n",
    "                    if new_genome not in already_used_players and new_genome not in selectedPlayers_individual_1:\n",
    "                        selectedPlayers_individual_1[index_of_genome] = new_genome\n",
    "                        already_used_players.append(new_genome)\n",
    "                        item_indices[new_genome] = 1\n",
    "                    else:\n",
    "                        while new_genome in selectedPlayers_individual_1:\n",
    "                            new_genome = random.randint(376, 465)\n",
    "                        selectedPlayers_individual_1[index_of_genome] = new_genome\n",
    "                        already_used_players.append(new_genome)\n",
    "                        item_indices[new_genome] = 1\n",
    "                    if stri[new_genome] != 1  or new_genome not in indices_stri:\n",
    "                        print(\"This is no a striker????\")\n",
    "                # 467 - 523 GK   \n",
    "                elif genome >= 466 and  genome <= 523 :\n",
    "                    # Random integer from 467 to 523\n",
    "                    new_genome = random.randint(466, 522)\n",
    "                    if new_genome not in already_used_players and new_genome not in selectedPlayers_individual_1:\n",
    "                        selectedPlayers_individual_1[index_of_genome] = new_genome\n",
    "                        already_used_players.append(new_genome)\n",
    "                        item_indices[new_genome] = 1\n",
    "                    else:\n",
    "                        while new_genome in selectedPlayers_individual_1:\n",
    "                            new_genome = random.randint(466, 522)\n",
    "                        selectedPlayers_individual_1[index_of_genome] = new_genome\n",
    "                        already_used_players.append(new_genome)\n",
    "                        item_indices[new_genome] = 1\n",
    "                    if gk[new_genome] != 1  or new_genome not in indices_gk:\n",
    "                        print(\"This is no a goal keeper????\")\n",
    "            except IndexError:\n",
    "                print(new_genome)\n",
    "        else:\n",
    "            item_indices[genome] = 1\n",
    "    broken_constraints = check_constraints_modified_no_print_no_cost(item_indices)\n",
    "    if 1 in broken_constraints[0]:\n",
    "        print(\"There are broken constraints\")\n",
    "    return selectedPlayers_individual_1, broken_constraints"
   ]
  },
  {
   "cell_type": "code",
   "execution_count": 10,
   "metadata": {
    "collapsed": false
   },
   "outputs": [],
   "source": [
    "# DEFINE FITNESS FOR KNAPSACK\n",
    "# fitness function definition - death penalty\n",
    "\n",
    "def evalKnapsack1(individual):\n",
    "    # In Eval Knapsack\n",
    "    cost_for_individual = np.sum(np.multiply(cost, individual))\n",
    "    points_for_individual = np.sum(np.multiply(points, individual))\n",
    "    if  cost_for_individual > MAX_Cost:\n",
    "        total_overbudget = cost_for_individual - MAX_Cost        # Bags that are overweight get a fitness of difference to max cost\n",
    "        return points_for_individual - total_overbudget,\n",
    "    return  points_for_individual,"
   ]
  },
  {
   "cell_type": "code",
   "execution_count": 11,
   "metadata": {},
   "outputs": [],
   "source": [
    "\n",
    "MAX_WEIGHT = 100\n",
    "global TOTAL_WEIGHT\n",
    "TOTAL_WEIGHT = 0\n",
    "for i in range(num_players):\n",
    "    TOTAL_WEIGHT += points[i]\n",
    "\n",
    "global TOTAL_PROFIT\n",
    "TOTAL_PROFIT = 0\n",
    "for i in range(num_players):\n",
    "    TOTAL_PROFIT += cost[i]\n",
    "# proportional penalty fitness function\n",
    "\n",
    "def evalKnapsack2(individual):\n",
    "    tweight = 0.0\n",
    "    tvalue = 0.0\n",
    "    penalty=0\n",
    "\n",
    "    diff = min(MAX_WEIGHT, abs(TOTAL_PROFIT-MAX_WEIGHT))\n",
    "\n",
    "\n",
    "    for item in range(num_players):\n",
    "        if (individual[item]==1):\n",
    "            tweight += cost[item]\n",
    "            tvalue += points[item]\n",
    "    \n",
    "    if tweight > TOTAL_PROFIT:\n",
    "        dist = abs(tweight - TOTAL_PROFIT) \n",
    "        penalty = tvalue * (dist/diff)\n",
    "        penalty - MAX_WEIGHT # new line\n",
    "    else:\n",
    "        penalty = 0\n",
    "        \n",
    "    return tvalue-penalty,\n",
    "def evalKnapsack3(individual):\n",
    "    tweight = 0.0\n",
    "    tvalue = 0.0\n",
    "    penalty=0\n",
    "\n",
    "    diff = min(MAX_WEIGHT, abs(TOTAL_PROFIT-MAX_WEIGHT))\n",
    "\n",
    "\n",
    "    for item in range(num_players):\n",
    "        if (individual[item]==1):\n",
    "            tweight += cost[item]\n",
    "            tvalue += points[item]\n",
    "    \n",
    "    if tweight > TOTAL_PROFIT:\n",
    "        dist = abs(tweight - TOTAL_PROFIT) \n",
    "        penalty = tvalue * (dist/diff)\n",
    "        penalty - MAX_WEIGHT - 250 # new line\n",
    "    else:\n",
    "        penalty = 0\n",
    "        \n",
    "    return tvalue-penalty,\n",
    "def evalKnapsack4(individual):\n",
    "    tweight = 0.0\n",
    "    tvalue = 0.0\n",
    "    penalty=0\n",
    "\n",
    "    diff = min(MAX_WEIGHT, abs(TOTAL_PROFIT-MAX_WEIGHT))\n",
    "\n",
    "\n",
    "    for item in range(num_players):\n",
    "        if (individual[item]==1):\n",
    "            tweight += cost[item]\n",
    "            tvalue += points[item]\n",
    "    \n",
    "    if tweight > TOTAL_PROFIT:\n",
    "        dist = abs(tweight - TOTAL_PROFIT) \n",
    "        penalty = tvalue * (dist/diff)\n",
    "        penalty - MAX_WEIGHT - 500 # new line\n",
    "    else:\n",
    "        penalty = 0\n",
    "        \n",
    "    return tvalue-penalty,\n"
   ]
  },
  {
   "cell_type": "code",
   "execution_count": 68,
   "metadata": {},
   "outputs": [],
   "source": [
    "import csv\n",
    "\n",
    "loop = 0\n",
    "def sort_population_by_fitness(population):\n",
    "    return sorted(population, key = lambda c: c.fitness.values, reverse=True)\n",
    "def eaSimple(population, toolbox, cxpb, mutpb, ngen, stats=None,\n",
    "             halloffame=None, verbose=__debug__):\n",
    "    \n",
    "    logbook = tools.Logbook()\n",
    "    logbook.header = ['gen', 'nevals'] + (stats.fields if stats else [])\n",
    "\n",
    "    # Evaluate the individuals with an invalid fitness\n",
    "    invalid_ind = [ind for ind in population if not ind.fitness.valid]\n",
    "    fitnesses = toolbox.map(toolbox.evaluate, invalid_ind)\n",
    "    for ind, fit in zip(invalid_ind, fitnesses):\n",
    "        ind.fitness.values = fit\n",
    "\n",
    "    if halloffame is not None:\n",
    "        halloffame.update(population)\n",
    "    best_individual_no_broken_constrant = []\n",
    "    record = stats.compile(population) if stats else {}\n",
    "    logbook.record(gen=0, nevals=len(invalid_ind), **record)\n",
    "    if verbose:\n",
    "        print(logbook.stream)\n",
    "    best = 0\n",
    "    # Begin the generational process\n",
    "    for gen in range(1, ngen + 1):\n",
    "        # Select the next generation individuals\n",
    "        offspring = toolbox.select(population, len(population))\n",
    "        \n",
    "        # Vary the pool of individuals\n",
    "        offspring = varAnd(offspring, toolbox, cxpb, mutpb)\n",
    "        \n",
    "        for ind in offspring:\n",
    "            if not ind.fitness.valid:\n",
    "                invalid_ind.append(ind)\n",
    "       \n",
    "            \n",
    "        # Evaluate the individuals with an invalid fitness\n",
    "        #invalid_ind = [ind for ind in offspring if not ind.fitness.valid]\n",
    "        fitnesses = toolbox.map(toolbox.evaluate, invalid_ind)\n",
    "        for ind, fit in zip(invalid_ind, fitnesses):\n",
    "            ind.fitness.values = fit\n",
    "\n",
    "        # Update the hall of fame with the generated individuals\n",
    "        if halloffame is not None:\n",
    "            halloffame.update(offspring)\n",
    "        score_max = 0\n",
    "        for individual in offspring:\n",
    "            broken_constraints, score = check_constraints_modified_no_print(individual)\n",
    "            if score > score_max and broken_constraints == [0, 0, 0, 0, 0, 0]:\n",
    "                score_max = score\n",
    "                individual_max = individual\n",
    "        best = individual_max\n",
    "        \n",
    "        # Replace the current population by the offspring\n",
    "        # population[:] = offspring\n",
    "        sort_population_by_fitness(population)\n",
    "        population[-len(offspring):] = offspring\n",
    "\n",
    "        # Append the current generation statistics to the logbook\n",
    "        record = stats.compile(population) if stats else {}\n",
    "        logbook.record(gen=gen, nevals=len(invalid_ind), **record)\n",
    "        if verbose:\n",
    "            print(logbook.stream)\n",
    "    \n",
    "    return population, logbook, best\n",
    "def varAnd(population, toolbox, cxpb, mutpb):\n",
    "    \n",
    "    offspring = [toolbox.clone(ind) for ind in population]\n",
    "\n",
    "    # Apply crossover and mutation on the offspring\n",
    "    for i in range(1, len(offspring), 2):\n",
    "        if random.random() < cxpb:\n",
    "            offspring[i - 1], offspring[i] = toolbox.mate(offspring[i - 1],\n",
    "                                                        offspring[i])\n",
    "            del offspring[i - 1].fitness.values, offspring[i].fitness.values\n",
    "\n",
    "    for i in range(len(offspring)):\n",
    "        if random.random() < mutpb:\n",
    "            offspring[i], = toolbox.mutate(offspring[i])\n",
    "            del offspring[i].fitness.values\n",
    "\n",
    "    return offspring"
   ]
  },
  {
   "cell_type": "code",
   "execution_count": 13,
   "metadata": {},
   "outputs": [],
   "source": [
    "def selStochasticUniversalSampling(individuals, k, fit_attr=\"fitness\"):\n",
    "    \"\"\"Select the *k* individuals among the input *individuals*.\n",
    "    The selection is made by using a single random value to sample all of the\n",
    "    individuals by choosing them at evenly spaced intervals. The list returned\n",
    "    contains references to the input *individuals*.\n",
    "    :param individuals: A list of individuals to select from.\n",
    "    :param k: The number of individuals to select.\n",
    "    :param fit_attr: The attribute of individuals to use as selection criterion\n",
    "    :return: A list of selected individuals.\n",
    "    This function uses the :func:`~random.uniform` function from the python base\n",
    "    :mod:`random` module.\n",
    "    \"\"\"\n",
    "    s_inds = sorted(individuals, key=attrgetter(fit_attr), reverse=True)\n",
    "    sum_fits = sum(getattr(ind, fit_attr).values[0] for ind in individuals)\n",
    "\n",
    "    distance = sum_fits / float(k)\n",
    "    start = random.uniform(0, distance)\n",
    "    points = [start + i*distance for i in range(k)]\n",
    "\n",
    "    chosen = []\n",
    "    for p in points:\n",
    "        i = 0\n",
    "        sum_ = getattr(s_inds[i], fit_attr).values[0]\n",
    "        while sum_ < p:\n",
    "            i += 1\n",
    "            sum_ += getattr(s_inds[i], fit_attr).values[0]\n",
    "        chosen.append(s_inds[i])\n",
    "\n",
    "    return chosen\n",
    "def selection_process(population, size_for_parents, individuals, size_population):\n",
    "   return selStochasticUniversalSampling(individuals, size_for_parents)\n",
    "class attrgetter:\n",
    "    \"\"\"\n",
    "    Return a callable object that fetches the given attribute(s) from its operand.\n",
    "    After f = attrgetter('name'), the call f(r) returns r.name.\n",
    "    After g = attrgetter('name', 'date'), the call g(r) returns (r.name, r.date).\n",
    "    After h = attrgetter('name.first', 'name.last'), the call h(r) returns\n",
    "    (r.name.first, r.name.last).\n",
    "    \"\"\"\n",
    "    __slots__ = ('_attrs', '_call')\n",
    "\n",
    "    def __init__(self, attr, *attrs):\n",
    "        if not attrs:\n",
    "            if not isinstance(attr, str):\n",
    "                raise TypeError('attribute name must be a string')\n",
    "            self._attrs = (attr,)\n",
    "            names = attr.split('.')\n",
    "            def func(obj):\n",
    "                for name in names:\n",
    "                    obj = getattr(obj, name)\n",
    "                return obj\n",
    "            self._call = func\n",
    "        else:\n",
    "            self._attrs = (attr,) + attrs\n",
    "            getters = tuple(map(attrgetter, self._attrs))\n",
    "            def func(obj):\n",
    "                return tuple(getter(obj) for getter in getters)\n",
    "            self._call = func\n",
    "\n",
    "    def __call__(self, obj):\n",
    "        return self._call(obj)\n",
    "\n",
    "    def __repr__(self):\n",
    "        return '%s.%s(%s)' % (self.__class__.__module__,\n",
    "                              self.__class__.__qualname__,\n",
    "                              ', '.join(map(repr, self._attrs)))\n",
    "\n",
    "    def __reduce__(self):\n",
    "        return self.__class__, self._attrs"
   ]
  },
  {
   "cell_type": "code",
   "execution_count": 14,
   "metadata": {
    "collapsed": false
   },
   "outputs": [
    {
     "name": "stdout",
     "output_type": "stream",
     "text": [
      "gen\tnevals\tavg   \tstd    \tmin\tmax \n",
      "0  \t20    \t643.55\t186.915\t366\t1104\n"
     ]
    },
    {
     "ename": "TypeError",
     "evalue": "selection_process() missing 1 required positional argument: 'size_population'",
     "output_type": "error",
     "traceback": [
      "\u001b[1;31m---------------------------------------------------------------------------\u001b[0m",
      "\u001b[1;31mTypeError\u001b[0m                                 Traceback (most recent call last)",
      "\u001b[1;32md:\\university\\Emergent Computing\\Courseowork\\Coursework-OptimiseFootballTeam.ipynb Cell 18\u001b[0m in \u001b[0;36m<cell line: 24>\u001b[1;34m()\u001b[0m\n\u001b[0;32m     <a href='vscode-notebook-cell:/d%3A/university/Emergent%20Computing/Courseowork/Coursework-OptimiseFootballTeam.ipynb#X23sZmlsZQ%3D%3D?line=41'>42</a>\u001b[0m stats\u001b[39m.\u001b[39mregister(\u001b[39m\"\u001b[39m\u001b[39mmax\u001b[39m\u001b[39m\"\u001b[39m, np\u001b[39m.\u001b[39mmax)\n\u001b[0;32m     <a href='vscode-notebook-cell:/d%3A/university/Emergent%20Computing/Courseowork/Coursework-OptimiseFootballTeam.ipynb#X23sZmlsZQ%3D%3D?line=43'>44</a>\u001b[0m \u001b[39m# run the algorithm: we need to tell it what parameters to use\u001b[39;00m\n\u001b[0;32m     <a href='vscode-notebook-cell:/d%3A/university/Emergent%20Computing/Courseowork/Coursework-OptimiseFootballTeam.ipynb#X23sZmlsZQ%3D%3D?line=44'>45</a>\u001b[0m \u001b[39m# cxpb = crossover probability; mutpb = mutation probability; ngen = number of iterations\u001b[39;00m\n\u001b[1;32m---> <a href='vscode-notebook-cell:/d%3A/university/Emergent%20Computing/Courseowork/Coursework-OptimiseFootballTeam.ipynb#X23sZmlsZQ%3D%3D?line=45'>46</a>\u001b[0m pop, log \u001b[39m=\u001b[39m eaSimple(pop, toolbox, cxpb\u001b[39m=\u001b[39;49m\u001b[39m0.5\u001b[39;49m, mutpb\u001b[39m=\u001b[39;49m\u001b[39m0.30\u001b[39;49m, ngen\u001b[39m=\u001b[39;49m\u001b[39m150\u001b[39;49m,\n\u001b[0;32m     <a href='vscode-notebook-cell:/d%3A/university/Emergent%20Computing/Courseowork/Coursework-OptimiseFootballTeam.ipynb#X23sZmlsZQ%3D%3D?line=46'>47</a>\u001b[0m                             stats\u001b[39m=\u001b[39;49mstats, halloffame\u001b[39m=\u001b[39;49mhof, verbose\u001b[39m=\u001b[39;49m\u001b[39mTrue\u001b[39;49;00m)\n\u001b[0;32m     <a href='vscode-notebook-cell:/d%3A/university/Emergent%20Computing/Courseowork/Coursework-OptimiseFootballTeam.ipynb#X23sZmlsZQ%3D%3D?line=47'>48</a>\u001b[0m \u001b[39mfor\u001b[39;00m individual \u001b[39min\u001b[39;00m hof:\n\u001b[0;32m     <a href='vscode-notebook-cell:/d%3A/university/Emergent%20Computing/Courseowork/Coursework-OptimiseFootballTeam.ipynb#X23sZmlsZQ%3D%3D?line=48'>49</a>\u001b[0m     broken_constraints, score \u001b[39m=\u001b[39m check_constraints_modified_no_print(individual)\n",
      "\u001b[1;32md:\\university\\Emergent Computing\\Courseowork\\Coursework-OptimiseFootballTeam.ipynb Cell 18\u001b[0m in \u001b[0;36meaSimple\u001b[1;34m(population, toolbox, cxpb, mutpb, ngen, stats, halloffame, verbose)\u001b[0m\n\u001b[0;32m     <a href='vscode-notebook-cell:/d%3A/university/Emergent%20Computing/Courseowork/Coursework-OptimiseFootballTeam.ipynb#X23sZmlsZQ%3D%3D?line=23'>24</a>\u001b[0m \u001b[39m# Begin the generational process\u001b[39;00m\n\u001b[0;32m     <a href='vscode-notebook-cell:/d%3A/university/Emergent%20Computing/Courseowork/Coursework-OptimiseFootballTeam.ipynb#X23sZmlsZQ%3D%3D?line=24'>25</a>\u001b[0m \u001b[39mfor\u001b[39;00m gen \u001b[39min\u001b[39;00m \u001b[39mrange\u001b[39m(\u001b[39m1\u001b[39m, ngen \u001b[39m+\u001b[39m \u001b[39m1\u001b[39m):\n\u001b[0;32m     <a href='vscode-notebook-cell:/d%3A/university/Emergent%20Computing/Courseowork/Coursework-OptimiseFootballTeam.ipynb#X23sZmlsZQ%3D%3D?line=25'>26</a>\u001b[0m     \u001b[39m# Select the next generation individuals\u001b[39;00m\n\u001b[1;32m---> <a href='vscode-notebook-cell:/d%3A/university/Emergent%20Computing/Courseowork/Coursework-OptimiseFootballTeam.ipynb#X23sZmlsZQ%3D%3D?line=26'>27</a>\u001b[0m     offspring \u001b[39m=\u001b[39m toolbox\u001b[39m.\u001b[39;49mselect(population, \u001b[39mlen\u001b[39;49m(population))\n\u001b[0;32m     <a href='vscode-notebook-cell:/d%3A/university/Emergent%20Computing/Courseowork/Coursework-OptimiseFootballTeam.ipynb#X23sZmlsZQ%3D%3D?line=28'>29</a>\u001b[0m     \u001b[39m# Vary the pool of individuals\u001b[39;00m\n\u001b[0;32m     <a href='vscode-notebook-cell:/d%3A/university/Emergent%20Computing/Courseowork/Coursework-OptimiseFootballTeam.ipynb#X23sZmlsZQ%3D%3D?line=29'>30</a>\u001b[0m     offspring \u001b[39m=\u001b[39m varAnd(offspring, toolbox, cxpb, mutpb)\n",
      "\u001b[1;31mTypeError\u001b[0m: selection_process() missing 1 required positional argument: 'size_population'"
     ]
    }
   ],
   "source": [
    "# this returns a single individual: this function has the probability pInit of initialsing as feasible:\n",
    "# if it is set to 0, initialisation is all random. If it is 1, initialistion is all feasible\n",
    "# Binary Representation\n",
    "import operator\n",
    "score_max = 0\n",
    "individual_max = 0\n",
    "get_positions_of_players(num_players)\n",
    "# create a toolbox\n",
    "toolbox = base.Toolbox()\n",
    "# define the fitness class and creare an individual class\n",
    "creator.create(\"FitnessMax\", base.Fitness, weights=(1.0,)) # Maximization problem for the value not the cost\n",
    "creator.create(\"Individual\", list, fitness=creator.FitnessMax)\n",
    "# USE THIS LINE IF YOU WANT TO USE THE CUSTOM INIT FUNCTION\n",
    "toolbox.register(\"individual\", initialization_create_feasible_individual, creator.Individual, num_players, 1.0)\n",
    "\n",
    "#  a population consist of a list of individuals\n",
    "toolbox.register(\"population\", tools.initRepeat, list, toolbox.individual)\n",
    "# register all operators we need with the toolbox\n",
    "toolbox.register(\"evaluate\", evalKnapsack2)\n",
    "toolbox.register(\"mate\", cxTwoPoint_)\n",
    "toolbox.register(\"mutate\", mutFlipBit, indpb=0.05)\n",
    "toolbox.register(\"select\",  selection_process, toolbox.population)\n",
    "best_individuals = []\n",
    "for loop in range(20):\n",
    "    best_individual = []\n",
    "    pop = toolbox.population(n=20)\n",
    "    # for individual in pop:\n",
    "    #         broken_constraint, total_poins = check_constraints_modified_no_print(individual)\n",
    "    #         if broken_constraint[0] == 1:\n",
    "    #             print(\"Problem\")\n",
    "    #     else:\n",
    "    #         print(\"No PROBLEM\")\n",
    "    # keep track of the single best solution found\n",
    "    hof = tools.HallOfFame(len(pop))\n",
    "\n",
    "    # create a statistics object: we can log what ever statistics we want using this. We use the numpy Python library\n",
    "    # to calculate the stats and label them with convenient labels\n",
    "    stats = tools.Statistics(lambda ind: ind.fitness.values)\n",
    "    stats.register(\"avg\", np.mean)\n",
    "    stats.register(\"std\", np.std)\n",
    "    stats.register(\"min\", np.min)\n",
    "    stats.register(\"max\", np.max)\n",
    "\n",
    "    # run the algorithm: we need to tell it what parameters to use\n",
    "    # cxpb = crossover probability; mutpb = mutation probability; ngen = number of iterations\n",
    "    pop, log = eaSimple(pop, toolbox, cxpb=0.5, mutpb=0.30, ngen=150,\n",
    "                                stats=stats, halloffame=hof, verbose=True)\n",
    "    for individual in hof:\n",
    "        broken_constraints, score = check_constraints_modified_no_print(individual)\n",
    "        if score > score_max and broken_constraints == [0, 0, 0, 0, 0, 0]:\n",
    "            score_max = score\n",
    "            individual_max = individual\n",
    "    #best = hof[0].fitness.values[0]   # best fitness found is stored at index 0 in the hof list\n",
    "    best = individual_max.fitness.values[0] \n",
    "\n",
    "    # look in the logbook to see what generation this was found at\n",
    "    max = log.select(\"max\")  # max fitness per generation stored in log\n",
    "    sorted_pop = individual_max\n",
    "    for i in range(150):  # set to ngen\n",
    "        fit = max[i]\n",
    "        if fit == best:\n",
    "            break\n",
    "\n",
    "    print(\"max fitness found is %s at generation %s\" % (best, i))\n",
    "\n",
    "    best_individual.append(sorted_pop)\n",
    "    best_individual.append(best)\n",
    "    best_individual.append(i)\n",
    "    best_individuals.append(best_individual)\n",
    "\n",
    "sorted(best_individuals, key=operator.itemgetter(2))\n",
    "for individual in best_individuals:\n",
    "    check_constraints(individual[0])"
   ]
  },
  {
   "cell_type": "code",
   "execution_count": 40,
   "metadata": {},
   "outputs": [],
   "source": [
    "def selection_process_roulete(population, size_for_parents, individuals, size_population):\n",
    "   return selRoulette(individuals, size_for_parents)\n",
    "def selection_process_Tournament(population, size_for_parents, individuals, size_population):\n",
    "   return selTournament(individuals, size_for_parents, 2)\n",
    "def selRoulette(individuals, k, fit_attr=\"fitness\"):\n",
    "    \"\"\"Select *k* individuals from the input *individuals* using *k*\n",
    "    spins of a roulette. The selection is made by looking only at the first\n",
    "    objective of each individual. The list returned contains references to\n",
    "    the input *individuals*.\n",
    "    :param individuals: A list of individuals to select from.\n",
    "    :param k: The number of individuals to select.\n",
    "    :param fit_attr: The attribute of individuals to use as selection criterion\n",
    "    :returns: A list of selected individuals.\n",
    "    This function uses the :func:`~random.random` function from the python base\n",
    "    :mod:`random` module.\n",
    "    .. warning::\n",
    "       The roulette selection by definition cannot be used for minimization\n",
    "       or when the fitness can be smaller or equal to 0.\n",
    "    \"\"\"\n",
    "\n",
    "    s_inds = sorted(individuals, key=attrgetter(fit_attr), reverse=True)\n",
    "    sum_fits = sum(getattr(ind, fit_attr).values[0] for ind in individuals)\n",
    "    chosen = []\n",
    "    for i in range(k):\n",
    "        u = random.random() * sum_fits\n",
    "        sum_ = 0\n",
    "        for ind in s_inds:\n",
    "            sum_ += getattr(ind, fit_attr).values[0]\n",
    "            if sum_ > u:\n",
    "                chosen.append(ind)\n",
    "                break\n",
    "\n",
    "    return chosen\n",
    "def selTournament(individuals, k, tournsize, fit_attr=\"fitness\"):\n",
    "    \"\"\"Select the best individual among *tournsize* randomly chosen\n",
    "    individuals, *k* times. The list returned contains\n",
    "    references to the input *individuals*.\n",
    "    :param individuals: A list of individuals to select from.\n",
    "    :param k: The number of individuals to select.\n",
    "    :param tournsize: The number of individuals participating in each tournament.\n",
    "    :param fit_attr: The attribute of individuals to use as selection criterion\n",
    "    :returns: A list of selected individuals.\n",
    "    This function uses the :func:`~random.choice` function from the python base\n",
    "    :mod:`random` module.\n",
    "    \"\"\"\n",
    "    chosen = []\n",
    "    for i in range(k):\n",
    "        aspirants = selRandom(individuals, tournsize)\n",
    "        max_score = 0\n",
    "        max_individual = 0\n",
    "        for individual in aspirants:\n",
    "            if individual.fitness.values[0] >= max_score:\n",
    "                max_score = individual.fitness.values\n",
    "                max_individual = individual\n",
    "        chosen.append(max_individual)\n",
    "    return chosen\n",
    "\n",
    "def selRandom(individuals, k):\n",
    "    \"\"\"Select *k* individuals at random from the input *individuals* with\n",
    "    replacement. The list returned contains references to the input\n",
    "    *individuals*.\n",
    "    :param individuals: A list of individuals to select from.\n",
    "    :param k: The number of individuals to select.\n",
    "    :returns: A list of selected individuals.\n",
    "    This function uses the :func:`~random.choice` function from the\n",
    "    python base :mod:`random` module.\n",
    "    \"\"\"\n",
    "    return [random.choice(individuals) for i in range(k)]"
   ]
  },
  {
   "cell_type": "code",
   "execution_count": 99,
   "metadata": {},
   "outputs": [
    {
     "name": "stderr",
     "output_type": "stream",
     "text": [
      "c:\\Users\\venet\\anaconda3\\lib\\site-packages\\deap\\creator.py:138: RuntimeWarning: A class named 'FitnessMax' has already been created and it will be overwritten. Consider deleting previous creation of that class or rename it.\n",
      "  warnings.warn(\"A class named '{0}' has already been created and it \"\n",
      "c:\\Users\\venet\\anaconda3\\lib\\site-packages\\deap\\creator.py:138: RuntimeWarning: A class named 'Individual' has already been created and it will be overwritten. Consider deleting previous creation of that class or rename it.\n",
      "  warnings.warn(\"A class named '{0}' has already been created and it \"\n"
     ]
    }
   ],
   "source": [
    "# initialse some default start parameters\n",
    "MUTPB = 0.3\n",
    "CXPB = 0.5\n",
    "POPSIZE = 20\n",
    "NGEN=150\n",
    "TNSIZE=20\n",
    "\n",
    "import operator\n",
    "score_max = 0\n",
    "individual_max = 0\n",
    "get_positions_of_players(num_players)\n",
    "# create a toolbox\n",
    "toolbox = base.Toolbox()\n",
    "# define the fitness class and creare an individual class\n",
    "creator.create(\"FitnessMax\", base.Fitness, weights=(1.0,)) # Maximization problem for the value not the cost\n",
    "creator.create(\"Individual\", list, fitness=creator.FitnessMax)\n",
    "# USE THIS LINE IF YOU WANT TO USE THE CUSTOM INIT FUNCTION\n",
    "toolbox.register(\"individual\", initialization_create_feasible_individual, creator.Individual, num_players, 1.0)\n",
    "\n",
    "#  a population consist of a list of individuals\n",
    "toolbox.register(\"population\", tools.initRepeat, list, toolbox.individual)\n",
    "# register all operators we need with the toolbox\n",
    "#toolbox.register(\"evaluate\", evalKnapsack2)\n",
    "toolbox.register(\"mate\", cxTwoPoint_)\n",
    "toolbox.register(\"mutate\", mutFlipBit, indpb=MUTPB)\n",
    "#toolbox.register(\"select\",  selection_process, toolbox.population, TNSIZE)\n",
    "def runEA():\n",
    "    \n",
    "    toolbox.register(\"select\",  selection_process, toolbox.population, TNSIZE)\n",
    "    best_individuals = []\n",
    "        \n",
    "    pop = toolbox.population(n=POPSIZE)\n",
    "\n",
    "    \n",
    "    hof = tools.HallOfFame(len(pop))\n",
    "\n",
    "    # create a statistics object: we can log what ever statistics we want using this. We use the numpy Python library\n",
    "    # to calculate the stats and label them with convenient labels\n",
    "    stats = tools.Statistics(lambda ind: ind.fitness.values)\n",
    "    stats.register(\"avg\", np.mean)\n",
    "    stats.register(\"std\", np.std)\n",
    "    stats.register(\"min\", np.min)\n",
    "    stats.register(\"max\", np.max)\n",
    "\n",
    "    # run the algorithm: we need to tell it what parameters to use\n",
    "    # cxpb = crossover probability; mutpb = mutation probability; ngen = number of iterations\n",
    "    pop, log, best = eaSimple(pop, toolbox, cxpb=CXPB, mutpb=MUTPB, ngen=NGEN,\n",
    "                                stats=stats, halloffame=hof, verbose=False)\n",
    "    return pop, log, hof, best\n",
    "\n",
    "    for individual in hof:\n",
    "        broken_constraints, score = check_constraints_modified_no_print(individual)\n",
    "        if score > score_max and broken_constraints == [0, 0, 0, 0, 0, 0]:\n",
    "            score_max = score\n",
    "            individual_max = individual\n",
    "    #best = hof[0].fitness.values[0]   # best fitness found is stored at index 0 in the hof list\n",
    "    best = individual_max.fitness.values[0] \n",
    "\n",
    "    # look in the logbook to see what generation this was found at\n",
    "    max = log.select(\"max\")  # max fitness per generation stored in log\n",
    "    sorted_pop = individual_max\n",
    "    for i in range(150):  # set to ngen\n",
    "        fit = max[i]\n",
    "        if fit == best:\n",
    "            break\n",
    "\n",
    "    best_individual.append(sorted_pop)\n",
    "    best_individual.append(best)\n",
    "    best_individual.append(i)\n",
    "    best_individuals.append(best_individual)\n",
    "def runEA1():\n",
    "    \n",
    "    #toolbox.register(\"evaluate\", evalKnapsack3)\n",
    "    toolbox.register(\"select\",  selection_process_roulete, toolbox.population, TNSIZE)\n",
    "        \n",
    "    pop = toolbox.population(n=POPSIZE)\n",
    "\n",
    "    \n",
    "    hof = tools.HallOfFame(len(pop))\n",
    "\n",
    "    # create a statistics object: we can log what ever statistics we want using this. We use the numpy Python library\n",
    "    # to calculate the stats and label them with convenient labels\n",
    "    stats = tools.Statistics(lambda ind: ind.fitness.values)\n",
    "    stats.register(\"avg\", np.mean)\n",
    "    stats.register(\"std\", np.std)\n",
    "    stats.register(\"min\", np.min)\n",
    "    stats.register(\"max\", np.max)\n",
    "\n",
    "    # run the algorithm: we need to tell it what parameters to use\n",
    "    # cxpb = crossover probability; mutpb = mutation probability; ngen = number of iterations\n",
    "    pop, log,best = eaSimple(pop, toolbox, cxpb=CXPB, mutpb=MUTPB, ngen=NGEN,\n",
    "                                stats=stats, halloffame=hof, verbose=False)\n",
    "    return pop, log, hof,best\n",
    "def runEA2():\n",
    "    \n",
    "    toolbox.register(\"evaluate\", evalKnapsack4)\n",
    "    toolbox.register(\"select\",  selection_process_Tournament, toolbox.population, TNSIZE)\n",
    "    best_individuals = []\n",
    "        \n",
    "    pop = toolbox.population(n=POPSIZE)\n",
    "\n",
    "    \n",
    "    hof = tools.HallOfFame(len(pop))\n",
    "\n",
    "    # create a statistics object: we can log what ever statistics we want using this. We use the numpy Python library\n",
    "    # to calculate the stats and label them with convenient labels\n",
    "    stats = tools.Statistics(lambda ind: ind.fitness.values)\n",
    "    stats.register(\"avg\", np.mean)\n",
    "    stats.register(\"std\", np.std)\n",
    "    stats.register(\"min\", np.min)\n",
    "    stats.register(\"max\", np.max)\n",
    "\n",
    "    # run the algorithm: we need to tell it what parameters to use\n",
    "    # cxpb = crossover probability; mutpb = mutation probability; ngen = number of iterations\n",
    "    pop, log,best = eaSimple(pop, toolbox, cxpb=CXPB, mutpb=MUTPB, ngen=NGEN,\n",
    "                                stats=stats, halloffame=hof, verbose=False)\n",
    "    return pop, log, hof,best\n",
    "\n",
    "\n",
    "\n"
   ]
  },
  {
   "cell_type": "code",
   "execution_count": 100,
   "metadata": {},
   "outputs": [
    {
     "name": "stdout",
     "output_type": "stream",
     "text": [
      "0\n"
     ]
    },
    {
     "name": "stderr",
     "output_type": "stream",
     "text": [
      "C:\\Users\\venet\\AppData\\Local\\Temp\\ipykernel_9824\\2781921912.py:64: FutureWarning: The frame.append method is deprecated and will be removed from pandas in a future version. Use pandas.concat instead.\n",
      "  df_Bests = df_Bests.append({'popsize': POPSIZE , 'fitness': best, 'genMaxFound':gen, 'individual':best_individual_in_generation, \"crossoever\":CXPB, \"mutation\": MUTPB, \"selection\": TNSIZE, \"evaluate\": x}, ignore_index=True)\n",
      "C:\\Users\\venet\\AppData\\Local\\Temp\\ipykernel_9824\\2781921912.py:65: FutureWarning: The frame.append method is deprecated and will be removed from pandas in a future version. Use pandas.concat instead.\n",
      "  best_individuals= best_individuals.append({'popsize': POPSIZE , 'fitness': best_individual_no_constraints_broken, 'individual':str(individual_max), \"crossoever\":CXPB, \"mutation\": MUTPB, \"selection\": TNSIZE, \"evaluate\": x}, ignore_index=True)\n"
     ]
    },
    {
     "name": "stdout",
     "output_type": "stream",
     "text": [
      "1\n"
     ]
    },
    {
     "name": "stderr",
     "output_type": "stream",
     "text": [
      "C:\\Users\\venet\\AppData\\Local\\Temp\\ipykernel_9824\\2781921912.py:64: FutureWarning: The frame.append method is deprecated and will be removed from pandas in a future version. Use pandas.concat instead.\n",
      "  df_Bests = df_Bests.append({'popsize': POPSIZE , 'fitness': best, 'genMaxFound':gen, 'individual':best_individual_in_generation, \"crossoever\":CXPB, \"mutation\": MUTPB, \"selection\": TNSIZE, \"evaluate\": x}, ignore_index=True)\n",
      "C:\\Users\\venet\\AppData\\Local\\Temp\\ipykernel_9824\\2781921912.py:65: FutureWarning: The frame.append method is deprecated and will be removed from pandas in a future version. Use pandas.concat instead.\n",
      "  best_individuals= best_individuals.append({'popsize': POPSIZE , 'fitness': best_individual_no_constraints_broken, 'individual':str(individual_max), \"crossoever\":CXPB, \"mutation\": MUTPB, \"selection\": TNSIZE, \"evaluate\": x}, ignore_index=True)\n"
     ]
    },
    {
     "name": "stdout",
     "output_type": "stream",
     "text": [
      "2\n"
     ]
    },
    {
     "name": "stderr",
     "output_type": "stream",
     "text": [
      "C:\\Users\\venet\\AppData\\Local\\Temp\\ipykernel_9824\\2781921912.py:64: FutureWarning: The frame.append method is deprecated and will be removed from pandas in a future version. Use pandas.concat instead.\n",
      "  df_Bests = df_Bests.append({'popsize': POPSIZE , 'fitness': best, 'genMaxFound':gen, 'individual':best_individual_in_generation, \"crossoever\":CXPB, \"mutation\": MUTPB, \"selection\": TNSIZE, \"evaluate\": x}, ignore_index=True)\n",
      "C:\\Users\\venet\\AppData\\Local\\Temp\\ipykernel_9824\\2781921912.py:65: FutureWarning: The frame.append method is deprecated and will be removed from pandas in a future version. Use pandas.concat instead.\n",
      "  best_individuals= best_individuals.append({'popsize': POPSIZE , 'fitness': best_individual_no_constraints_broken, 'individual':str(individual_max), \"crossoever\":CXPB, \"mutation\": MUTPB, \"selection\": TNSIZE, \"evaluate\": x}, ignore_index=True)\n"
     ]
    },
    {
     "name": "stdout",
     "output_type": "stream",
     "text": [
      "3\n"
     ]
    },
    {
     "name": "stderr",
     "output_type": "stream",
     "text": [
      "C:\\Users\\venet\\AppData\\Local\\Temp\\ipykernel_9824\\2781921912.py:64: FutureWarning: The frame.append method is deprecated and will be removed from pandas in a future version. Use pandas.concat instead.\n",
      "  df_Bests = df_Bests.append({'popsize': POPSIZE , 'fitness': best, 'genMaxFound':gen, 'individual':best_individual_in_generation, \"crossoever\":CXPB, \"mutation\": MUTPB, \"selection\": TNSIZE, \"evaluate\": x}, ignore_index=True)\n",
      "C:\\Users\\venet\\AppData\\Local\\Temp\\ipykernel_9824\\2781921912.py:65: FutureWarning: The frame.append method is deprecated and will be removed from pandas in a future version. Use pandas.concat instead.\n",
      "  best_individuals= best_individuals.append({'popsize': POPSIZE , 'fitness': best_individual_no_constraints_broken, 'individual':str(individual_max), \"crossoever\":CXPB, \"mutation\": MUTPB, \"selection\": TNSIZE, \"evaluate\": x}, ignore_index=True)\n"
     ]
    },
    {
     "name": "stdout",
     "output_type": "stream",
     "text": [
      "4\n"
     ]
    },
    {
     "name": "stderr",
     "output_type": "stream",
     "text": [
      "C:\\Users\\venet\\AppData\\Local\\Temp\\ipykernel_9824\\2781921912.py:64: FutureWarning: The frame.append method is deprecated and will be removed from pandas in a future version. Use pandas.concat instead.\n",
      "  df_Bests = df_Bests.append({'popsize': POPSIZE , 'fitness': best, 'genMaxFound':gen, 'individual':best_individual_in_generation, \"crossoever\":CXPB, \"mutation\": MUTPB, \"selection\": TNSIZE, \"evaluate\": x}, ignore_index=True)\n",
      "C:\\Users\\venet\\AppData\\Local\\Temp\\ipykernel_9824\\2781921912.py:65: FutureWarning: The frame.append method is deprecated and will be removed from pandas in a future version. Use pandas.concat instead.\n",
      "  best_individuals= best_individuals.append({'popsize': POPSIZE , 'fitness': best_individual_no_constraints_broken, 'individual':str(individual_max), \"crossoever\":CXPB, \"mutation\": MUTPB, \"selection\": TNSIZE, \"evaluate\": x}, ignore_index=True)\n"
     ]
    },
    {
     "name": "stdout",
     "output_type": "stream",
     "text": [
      "5\n"
     ]
    },
    {
     "name": "stderr",
     "output_type": "stream",
     "text": [
      "C:\\Users\\venet\\AppData\\Local\\Temp\\ipykernel_9824\\2781921912.py:64: FutureWarning: The frame.append method is deprecated and will be removed from pandas in a future version. Use pandas.concat instead.\n",
      "  df_Bests = df_Bests.append({'popsize': POPSIZE , 'fitness': best, 'genMaxFound':gen, 'individual':best_individual_in_generation, \"crossoever\":CXPB, \"mutation\": MUTPB, \"selection\": TNSIZE, \"evaluate\": x}, ignore_index=True)\n",
      "C:\\Users\\venet\\AppData\\Local\\Temp\\ipykernel_9824\\2781921912.py:65: FutureWarning: The frame.append method is deprecated and will be removed from pandas in a future version. Use pandas.concat instead.\n",
      "  best_individuals= best_individuals.append({'popsize': POPSIZE , 'fitness': best_individual_no_constraints_broken, 'individual':str(individual_max), \"crossoever\":CXPB, \"mutation\": MUTPB, \"selection\": TNSIZE, \"evaluate\": x}, ignore_index=True)\n"
     ]
    },
    {
     "name": "stdout",
     "output_type": "stream",
     "text": [
      "6\n"
     ]
    },
    {
     "name": "stderr",
     "output_type": "stream",
     "text": [
      "C:\\Users\\venet\\AppData\\Local\\Temp\\ipykernel_9824\\2781921912.py:64: FutureWarning: The frame.append method is deprecated and will be removed from pandas in a future version. Use pandas.concat instead.\n",
      "  df_Bests = df_Bests.append({'popsize': POPSIZE , 'fitness': best, 'genMaxFound':gen, 'individual':best_individual_in_generation, \"crossoever\":CXPB, \"mutation\": MUTPB, \"selection\": TNSIZE, \"evaluate\": x}, ignore_index=True)\n",
      "C:\\Users\\venet\\AppData\\Local\\Temp\\ipykernel_9824\\2781921912.py:65: FutureWarning: The frame.append method is deprecated and will be removed from pandas in a future version. Use pandas.concat instead.\n",
      "  best_individuals= best_individuals.append({'popsize': POPSIZE , 'fitness': best_individual_no_constraints_broken, 'individual':str(individual_max), \"crossoever\":CXPB, \"mutation\": MUTPB, \"selection\": TNSIZE, \"evaluate\": x}, ignore_index=True)\n"
     ]
    },
    {
     "name": "stdout",
     "output_type": "stream",
     "text": [
      "7\n"
     ]
    },
    {
     "name": "stderr",
     "output_type": "stream",
     "text": [
      "C:\\Users\\venet\\AppData\\Local\\Temp\\ipykernel_9824\\2781921912.py:64: FutureWarning: The frame.append method is deprecated and will be removed from pandas in a future version. Use pandas.concat instead.\n",
      "  df_Bests = df_Bests.append({'popsize': POPSIZE , 'fitness': best, 'genMaxFound':gen, 'individual':best_individual_in_generation, \"crossoever\":CXPB, \"mutation\": MUTPB, \"selection\": TNSIZE, \"evaluate\": x}, ignore_index=True)\n",
      "C:\\Users\\venet\\AppData\\Local\\Temp\\ipykernel_9824\\2781921912.py:65: FutureWarning: The frame.append method is deprecated and will be removed from pandas in a future version. Use pandas.concat instead.\n",
      "  best_individuals= best_individuals.append({'popsize': POPSIZE , 'fitness': best_individual_no_constraints_broken, 'individual':str(individual_max), \"crossoever\":CXPB, \"mutation\": MUTPB, \"selection\": TNSIZE, \"evaluate\": x}, ignore_index=True)\n"
     ]
    },
    {
     "name": "stdout",
     "output_type": "stream",
     "text": [
      "8\n"
     ]
    },
    {
     "name": "stderr",
     "output_type": "stream",
     "text": [
      "C:\\Users\\venet\\AppData\\Local\\Temp\\ipykernel_9824\\2781921912.py:64: FutureWarning: The frame.append method is deprecated and will be removed from pandas in a future version. Use pandas.concat instead.\n",
      "  df_Bests = df_Bests.append({'popsize': POPSIZE , 'fitness': best, 'genMaxFound':gen, 'individual':best_individual_in_generation, \"crossoever\":CXPB, \"mutation\": MUTPB, \"selection\": TNSIZE, \"evaluate\": x}, ignore_index=True)\n",
      "C:\\Users\\venet\\AppData\\Local\\Temp\\ipykernel_9824\\2781921912.py:65: FutureWarning: The frame.append method is deprecated and will be removed from pandas in a future version. Use pandas.concat instead.\n",
      "  best_individuals= best_individuals.append({'popsize': POPSIZE , 'fitness': best_individual_no_constraints_broken, 'individual':str(individual_max), \"crossoever\":CXPB, \"mutation\": MUTPB, \"selection\": TNSIZE, \"evaluate\": x}, ignore_index=True)\n"
     ]
    },
    {
     "name": "stdout",
     "output_type": "stream",
     "text": [
      "9\n"
     ]
    },
    {
     "name": "stderr",
     "output_type": "stream",
     "text": [
      "C:\\Users\\venet\\AppData\\Local\\Temp\\ipykernel_9824\\2781921912.py:64: FutureWarning: The frame.append method is deprecated and will be removed from pandas in a future version. Use pandas.concat instead.\n",
      "  df_Bests = df_Bests.append({'popsize': POPSIZE , 'fitness': best, 'genMaxFound':gen, 'individual':best_individual_in_generation, \"crossoever\":CXPB, \"mutation\": MUTPB, \"selection\": TNSIZE, \"evaluate\": x}, ignore_index=True)\n",
      "C:\\Users\\venet\\AppData\\Local\\Temp\\ipykernel_9824\\2781921912.py:65: FutureWarning: The frame.append method is deprecated and will be removed from pandas in a future version. Use pandas.concat instead.\n",
      "  best_individuals= best_individuals.append({'popsize': POPSIZE , 'fitness': best_individual_no_constraints_broken, 'individual':str(individual_max), \"crossoever\":CXPB, \"mutation\": MUTPB, \"selection\": TNSIZE, \"evaluate\": x}, ignore_index=True)\n"
     ]
    },
    {
     "name": "stdout",
     "output_type": "stream",
     "text": [
      "10\n"
     ]
    },
    {
     "name": "stderr",
     "output_type": "stream",
     "text": [
      "C:\\Users\\venet\\AppData\\Local\\Temp\\ipykernel_9824\\2781921912.py:64: FutureWarning: The frame.append method is deprecated and will be removed from pandas in a future version. Use pandas.concat instead.\n",
      "  df_Bests = df_Bests.append({'popsize': POPSIZE , 'fitness': best, 'genMaxFound':gen, 'individual':best_individual_in_generation, \"crossoever\":CXPB, \"mutation\": MUTPB, \"selection\": TNSIZE, \"evaluate\": x}, ignore_index=True)\n",
      "C:\\Users\\venet\\AppData\\Local\\Temp\\ipykernel_9824\\2781921912.py:65: FutureWarning: The frame.append method is deprecated and will be removed from pandas in a future version. Use pandas.concat instead.\n",
      "  best_individuals= best_individuals.append({'popsize': POPSIZE , 'fitness': best_individual_no_constraints_broken, 'individual':str(individual_max), \"crossoever\":CXPB, \"mutation\": MUTPB, \"selection\": TNSIZE, \"evaluate\": x}, ignore_index=True)\n"
     ]
    },
    {
     "name": "stdout",
     "output_type": "stream",
     "text": [
      "11\n"
     ]
    },
    {
     "name": "stderr",
     "output_type": "stream",
     "text": [
      "C:\\Users\\venet\\AppData\\Local\\Temp\\ipykernel_9824\\2781921912.py:64: FutureWarning: The frame.append method is deprecated and will be removed from pandas in a future version. Use pandas.concat instead.\n",
      "  df_Bests = df_Bests.append({'popsize': POPSIZE , 'fitness': best, 'genMaxFound':gen, 'individual':best_individual_in_generation, \"crossoever\":CXPB, \"mutation\": MUTPB, \"selection\": TNSIZE, \"evaluate\": x}, ignore_index=True)\n",
      "C:\\Users\\venet\\AppData\\Local\\Temp\\ipykernel_9824\\2781921912.py:65: FutureWarning: The frame.append method is deprecated and will be removed from pandas in a future version. Use pandas.concat instead.\n",
      "  best_individuals= best_individuals.append({'popsize': POPSIZE , 'fitness': best_individual_no_constraints_broken, 'individual':str(individual_max), \"crossoever\":CXPB, \"mutation\": MUTPB, \"selection\": TNSIZE, \"evaluate\": x}, ignore_index=True)\n"
     ]
    },
    {
     "name": "stdout",
     "output_type": "stream",
     "text": [
      "12\n"
     ]
    },
    {
     "name": "stderr",
     "output_type": "stream",
     "text": [
      "C:\\Users\\venet\\AppData\\Local\\Temp\\ipykernel_9824\\2781921912.py:64: FutureWarning: The frame.append method is deprecated and will be removed from pandas in a future version. Use pandas.concat instead.\n",
      "  df_Bests = df_Bests.append({'popsize': POPSIZE , 'fitness': best, 'genMaxFound':gen, 'individual':best_individual_in_generation, \"crossoever\":CXPB, \"mutation\": MUTPB, \"selection\": TNSIZE, \"evaluate\": x}, ignore_index=True)\n",
      "C:\\Users\\venet\\AppData\\Local\\Temp\\ipykernel_9824\\2781921912.py:65: FutureWarning: The frame.append method is deprecated and will be removed from pandas in a future version. Use pandas.concat instead.\n",
      "  best_individuals= best_individuals.append({'popsize': POPSIZE , 'fitness': best_individual_no_constraints_broken, 'individual':str(individual_max), \"crossoever\":CXPB, \"mutation\": MUTPB, \"selection\": TNSIZE, \"evaluate\": x}, ignore_index=True)\n"
     ]
    },
    {
     "name": "stdout",
     "output_type": "stream",
     "text": [
      "13\n"
     ]
    },
    {
     "name": "stderr",
     "output_type": "stream",
     "text": [
      "C:\\Users\\venet\\AppData\\Local\\Temp\\ipykernel_9824\\2781921912.py:64: FutureWarning: The frame.append method is deprecated and will be removed from pandas in a future version. Use pandas.concat instead.\n",
      "  df_Bests = df_Bests.append({'popsize': POPSIZE , 'fitness': best, 'genMaxFound':gen, 'individual':best_individual_in_generation, \"crossoever\":CXPB, \"mutation\": MUTPB, \"selection\": TNSIZE, \"evaluate\": x}, ignore_index=True)\n",
      "C:\\Users\\venet\\AppData\\Local\\Temp\\ipykernel_9824\\2781921912.py:65: FutureWarning: The frame.append method is deprecated and will be removed from pandas in a future version. Use pandas.concat instead.\n",
      "  best_individuals= best_individuals.append({'popsize': POPSIZE , 'fitness': best_individual_no_constraints_broken, 'individual':str(individual_max), \"crossoever\":CXPB, \"mutation\": MUTPB, \"selection\": TNSIZE, \"evaluate\": x}, ignore_index=True)\n"
     ]
    },
    {
     "name": "stdout",
     "output_type": "stream",
     "text": [
      "14\n"
     ]
    },
    {
     "name": "stderr",
     "output_type": "stream",
     "text": [
      "C:\\Users\\venet\\AppData\\Local\\Temp\\ipykernel_9824\\2781921912.py:64: FutureWarning: The frame.append method is deprecated and will be removed from pandas in a future version. Use pandas.concat instead.\n",
      "  df_Bests = df_Bests.append({'popsize': POPSIZE , 'fitness': best, 'genMaxFound':gen, 'individual':best_individual_in_generation, \"crossoever\":CXPB, \"mutation\": MUTPB, \"selection\": TNSIZE, \"evaluate\": x}, ignore_index=True)\n",
      "C:\\Users\\venet\\AppData\\Local\\Temp\\ipykernel_9824\\2781921912.py:65: FutureWarning: The frame.append method is deprecated and will be removed from pandas in a future version. Use pandas.concat instead.\n",
      "  best_individuals= best_individuals.append({'popsize': POPSIZE , 'fitness': best_individual_no_constraints_broken, 'individual':str(individual_max), \"crossoever\":CXPB, \"mutation\": MUTPB, \"selection\": TNSIZE, \"evaluate\": x}, ignore_index=True)\n"
     ]
    },
    {
     "name": "stdout",
     "output_type": "stream",
     "text": [
      "15\n"
     ]
    },
    {
     "name": "stderr",
     "output_type": "stream",
     "text": [
      "C:\\Users\\venet\\AppData\\Local\\Temp\\ipykernel_9824\\2781921912.py:64: FutureWarning: The frame.append method is deprecated and will be removed from pandas in a future version. Use pandas.concat instead.\n",
      "  df_Bests = df_Bests.append({'popsize': POPSIZE , 'fitness': best, 'genMaxFound':gen, 'individual':best_individual_in_generation, \"crossoever\":CXPB, \"mutation\": MUTPB, \"selection\": TNSIZE, \"evaluate\": x}, ignore_index=True)\n",
      "C:\\Users\\venet\\AppData\\Local\\Temp\\ipykernel_9824\\2781921912.py:65: FutureWarning: The frame.append method is deprecated and will be removed from pandas in a future version. Use pandas.concat instead.\n",
      "  best_individuals= best_individuals.append({'popsize': POPSIZE , 'fitness': best_individual_no_constraints_broken, 'individual':str(individual_max), \"crossoever\":CXPB, \"mutation\": MUTPB, \"selection\": TNSIZE, \"evaluate\": x}, ignore_index=True)\n"
     ]
    },
    {
     "name": "stdout",
     "output_type": "stream",
     "text": [
      "16\n"
     ]
    },
    {
     "name": "stderr",
     "output_type": "stream",
     "text": [
      "C:\\Users\\venet\\AppData\\Local\\Temp\\ipykernel_9824\\2781921912.py:64: FutureWarning: The frame.append method is deprecated and will be removed from pandas in a future version. Use pandas.concat instead.\n",
      "  df_Bests = df_Bests.append({'popsize': POPSIZE , 'fitness': best, 'genMaxFound':gen, 'individual':best_individual_in_generation, \"crossoever\":CXPB, \"mutation\": MUTPB, \"selection\": TNSIZE, \"evaluate\": x}, ignore_index=True)\n",
      "C:\\Users\\venet\\AppData\\Local\\Temp\\ipykernel_9824\\2781921912.py:65: FutureWarning: The frame.append method is deprecated and will be removed from pandas in a future version. Use pandas.concat instead.\n",
      "  best_individuals= best_individuals.append({'popsize': POPSIZE , 'fitness': best_individual_no_constraints_broken, 'individual':str(individual_max), \"crossoever\":CXPB, \"mutation\": MUTPB, \"selection\": TNSIZE, \"evaluate\": x}, ignore_index=True)\n"
     ]
    },
    {
     "name": "stdout",
     "output_type": "stream",
     "text": [
      "17\n"
     ]
    },
    {
     "name": "stderr",
     "output_type": "stream",
     "text": [
      "C:\\Users\\venet\\AppData\\Local\\Temp\\ipykernel_9824\\2781921912.py:64: FutureWarning: The frame.append method is deprecated and will be removed from pandas in a future version. Use pandas.concat instead.\n",
      "  df_Bests = df_Bests.append({'popsize': POPSIZE , 'fitness': best, 'genMaxFound':gen, 'individual':best_individual_in_generation, \"crossoever\":CXPB, \"mutation\": MUTPB, \"selection\": TNSIZE, \"evaluate\": x}, ignore_index=True)\n",
      "C:\\Users\\venet\\AppData\\Local\\Temp\\ipykernel_9824\\2781921912.py:65: FutureWarning: The frame.append method is deprecated and will be removed from pandas in a future version. Use pandas.concat instead.\n",
      "  best_individuals= best_individuals.append({'popsize': POPSIZE , 'fitness': best_individual_no_constraints_broken, 'individual':str(individual_max), \"crossoever\":CXPB, \"mutation\": MUTPB, \"selection\": TNSIZE, \"evaluate\": x}, ignore_index=True)\n"
     ]
    },
    {
     "name": "stdout",
     "output_type": "stream",
     "text": [
      "18\n"
     ]
    },
    {
     "name": "stderr",
     "output_type": "stream",
     "text": [
      "C:\\Users\\venet\\AppData\\Local\\Temp\\ipykernel_9824\\2781921912.py:64: FutureWarning: The frame.append method is deprecated and will be removed from pandas in a future version. Use pandas.concat instead.\n",
      "  df_Bests = df_Bests.append({'popsize': POPSIZE , 'fitness': best, 'genMaxFound':gen, 'individual':best_individual_in_generation, \"crossoever\":CXPB, \"mutation\": MUTPB, \"selection\": TNSIZE, \"evaluate\": x}, ignore_index=True)\n",
      "C:\\Users\\venet\\AppData\\Local\\Temp\\ipykernel_9824\\2781921912.py:65: FutureWarning: The frame.append method is deprecated and will be removed from pandas in a future version. Use pandas.concat instead.\n",
      "  best_individuals= best_individuals.append({'popsize': POPSIZE , 'fitness': best_individual_no_constraints_broken, 'individual':str(individual_max), \"crossoever\":CXPB, \"mutation\": MUTPB, \"selection\": TNSIZE, \"evaluate\": x}, ignore_index=True)\n"
     ]
    },
    {
     "name": "stdout",
     "output_type": "stream",
     "text": [
      "19\n"
     ]
    },
    {
     "name": "stderr",
     "output_type": "stream",
     "text": [
      "C:\\Users\\venet\\AppData\\Local\\Temp\\ipykernel_9824\\2781921912.py:64: FutureWarning: The frame.append method is deprecated and will be removed from pandas in a future version. Use pandas.concat instead.\n",
      "  df_Bests = df_Bests.append({'popsize': POPSIZE , 'fitness': best, 'genMaxFound':gen, 'individual':best_individual_in_generation, \"crossoever\":CXPB, \"mutation\": MUTPB, \"selection\": TNSIZE, \"evaluate\": x}, ignore_index=True)\n",
      "C:\\Users\\venet\\AppData\\Local\\Temp\\ipykernel_9824\\2781921912.py:65: FutureWarning: The frame.append method is deprecated and will be removed from pandas in a future version. Use pandas.concat instead.\n",
      "  best_individuals= best_individuals.append({'popsize': POPSIZE , 'fitness': best_individual_no_constraints_broken, 'individual':str(individual_max), \"crossoever\":CXPB, \"mutation\": MUTPB, \"selection\": TNSIZE, \"evaluate\": x}, ignore_index=True)\n"
     ]
    },
    {
     "name": "stdout",
     "output_type": "stream",
     "text": [
      "20\n"
     ]
    },
    {
     "name": "stderr",
     "output_type": "stream",
     "text": [
      "C:\\Users\\venet\\AppData\\Local\\Temp\\ipykernel_9824\\2781921912.py:64: FutureWarning: The frame.append method is deprecated and will be removed from pandas in a future version. Use pandas.concat instead.\n",
      "  df_Bests = df_Bests.append({'popsize': POPSIZE , 'fitness': best, 'genMaxFound':gen, 'individual':best_individual_in_generation, \"crossoever\":CXPB, \"mutation\": MUTPB, \"selection\": TNSIZE, \"evaluate\": x}, ignore_index=True)\n",
      "C:\\Users\\venet\\AppData\\Local\\Temp\\ipykernel_9824\\2781921912.py:65: FutureWarning: The frame.append method is deprecated and will be removed from pandas in a future version. Use pandas.concat instead.\n",
      "  best_individuals= best_individuals.append({'popsize': POPSIZE , 'fitness': best_individual_no_constraints_broken, 'individual':str(individual_max), \"crossoever\":CXPB, \"mutation\": MUTPB, \"selection\": TNSIZE, \"evaluate\": x}, ignore_index=True)\n"
     ]
    },
    {
     "name": "stdout",
     "output_type": "stream",
     "text": [
      "21\n"
     ]
    },
    {
     "name": "stderr",
     "output_type": "stream",
     "text": [
      "C:\\Users\\venet\\AppData\\Local\\Temp\\ipykernel_9824\\2781921912.py:64: FutureWarning: The frame.append method is deprecated and will be removed from pandas in a future version. Use pandas.concat instead.\n",
      "  df_Bests = df_Bests.append({'popsize': POPSIZE , 'fitness': best, 'genMaxFound':gen, 'individual':best_individual_in_generation, \"crossoever\":CXPB, \"mutation\": MUTPB, \"selection\": TNSIZE, \"evaluate\": x}, ignore_index=True)\n",
      "C:\\Users\\venet\\AppData\\Local\\Temp\\ipykernel_9824\\2781921912.py:65: FutureWarning: The frame.append method is deprecated and will be removed from pandas in a future version. Use pandas.concat instead.\n",
      "  best_individuals= best_individuals.append({'popsize': POPSIZE , 'fitness': best_individual_no_constraints_broken, 'individual':str(individual_max), \"crossoever\":CXPB, \"mutation\": MUTPB, \"selection\": TNSIZE, \"evaluate\": x}, ignore_index=True)\n"
     ]
    },
    {
     "name": "stdout",
     "output_type": "stream",
     "text": [
      "22\n"
     ]
    },
    {
     "name": "stderr",
     "output_type": "stream",
     "text": [
      "C:\\Users\\venet\\AppData\\Local\\Temp\\ipykernel_9824\\2781921912.py:64: FutureWarning: The frame.append method is deprecated and will be removed from pandas in a future version. Use pandas.concat instead.\n",
      "  df_Bests = df_Bests.append({'popsize': POPSIZE , 'fitness': best, 'genMaxFound':gen, 'individual':best_individual_in_generation, \"crossoever\":CXPB, \"mutation\": MUTPB, \"selection\": TNSIZE, \"evaluate\": x}, ignore_index=True)\n",
      "C:\\Users\\venet\\AppData\\Local\\Temp\\ipykernel_9824\\2781921912.py:65: FutureWarning: The frame.append method is deprecated and will be removed from pandas in a future version. Use pandas.concat instead.\n",
      "  best_individuals= best_individuals.append({'popsize': POPSIZE , 'fitness': best_individual_no_constraints_broken, 'individual':str(individual_max), \"crossoever\":CXPB, \"mutation\": MUTPB, \"selection\": TNSIZE, \"evaluate\": x}, ignore_index=True)\n"
     ]
    },
    {
     "name": "stdout",
     "output_type": "stream",
     "text": [
      "23\n"
     ]
    },
    {
     "name": "stderr",
     "output_type": "stream",
     "text": [
      "C:\\Users\\venet\\AppData\\Local\\Temp\\ipykernel_9824\\2781921912.py:64: FutureWarning: The frame.append method is deprecated and will be removed from pandas in a future version. Use pandas.concat instead.\n",
      "  df_Bests = df_Bests.append({'popsize': POPSIZE , 'fitness': best, 'genMaxFound':gen, 'individual':best_individual_in_generation, \"crossoever\":CXPB, \"mutation\": MUTPB, \"selection\": TNSIZE, \"evaluate\": x}, ignore_index=True)\n",
      "C:\\Users\\venet\\AppData\\Local\\Temp\\ipykernel_9824\\2781921912.py:65: FutureWarning: The frame.append method is deprecated and will be removed from pandas in a future version. Use pandas.concat instead.\n",
      "  best_individuals= best_individuals.append({'popsize': POPSIZE , 'fitness': best_individual_no_constraints_broken, 'individual':str(individual_max), \"crossoever\":CXPB, \"mutation\": MUTPB, \"selection\": TNSIZE, \"evaluate\": x}, ignore_index=True)\n"
     ]
    },
    {
     "name": "stdout",
     "output_type": "stream",
     "text": [
      "24\n"
     ]
    },
    {
     "name": "stderr",
     "output_type": "stream",
     "text": [
      "C:\\Users\\venet\\AppData\\Local\\Temp\\ipykernel_9824\\2781921912.py:64: FutureWarning: The frame.append method is deprecated and will be removed from pandas in a future version. Use pandas.concat instead.\n",
      "  df_Bests = df_Bests.append({'popsize': POPSIZE , 'fitness': best, 'genMaxFound':gen, 'individual':best_individual_in_generation, \"crossoever\":CXPB, \"mutation\": MUTPB, \"selection\": TNSIZE, \"evaluate\": x}, ignore_index=True)\n",
      "C:\\Users\\venet\\AppData\\Local\\Temp\\ipykernel_9824\\2781921912.py:65: FutureWarning: The frame.append method is deprecated and will be removed from pandas in a future version. Use pandas.concat instead.\n",
      "  best_individuals= best_individuals.append({'popsize': POPSIZE , 'fitness': best_individual_no_constraints_broken, 'individual':str(individual_max), \"crossoever\":CXPB, \"mutation\": MUTPB, \"selection\": TNSIZE, \"evaluate\": x}, ignore_index=True)\n"
     ]
    },
    {
     "name": "stdout",
     "output_type": "stream",
     "text": [
      "25\n"
     ]
    },
    {
     "name": "stderr",
     "output_type": "stream",
     "text": [
      "C:\\Users\\venet\\AppData\\Local\\Temp\\ipykernel_9824\\2781921912.py:64: FutureWarning: The frame.append method is deprecated and will be removed from pandas in a future version. Use pandas.concat instead.\n",
      "  df_Bests = df_Bests.append({'popsize': POPSIZE , 'fitness': best, 'genMaxFound':gen, 'individual':best_individual_in_generation, \"crossoever\":CXPB, \"mutation\": MUTPB, \"selection\": TNSIZE, \"evaluate\": x}, ignore_index=True)\n",
      "C:\\Users\\venet\\AppData\\Local\\Temp\\ipykernel_9824\\2781921912.py:65: FutureWarning: The frame.append method is deprecated and will be removed from pandas in a future version. Use pandas.concat instead.\n",
      "  best_individuals= best_individuals.append({'popsize': POPSIZE , 'fitness': best_individual_no_constraints_broken, 'individual':str(individual_max), \"crossoever\":CXPB, \"mutation\": MUTPB, \"selection\": TNSIZE, \"evaluate\": x}, ignore_index=True)\n"
     ]
    },
    {
     "name": "stdout",
     "output_type": "stream",
     "text": [
      "26\n"
     ]
    },
    {
     "name": "stderr",
     "output_type": "stream",
     "text": [
      "C:\\Users\\venet\\AppData\\Local\\Temp\\ipykernel_9824\\2781921912.py:64: FutureWarning: The frame.append method is deprecated and will be removed from pandas in a future version. Use pandas.concat instead.\n",
      "  df_Bests = df_Bests.append({'popsize': POPSIZE , 'fitness': best, 'genMaxFound':gen, 'individual':best_individual_in_generation, \"crossoever\":CXPB, \"mutation\": MUTPB, \"selection\": TNSIZE, \"evaluate\": x}, ignore_index=True)\n",
      "C:\\Users\\venet\\AppData\\Local\\Temp\\ipykernel_9824\\2781921912.py:65: FutureWarning: The frame.append method is deprecated and will be removed from pandas in a future version. Use pandas.concat instead.\n",
      "  best_individuals= best_individuals.append({'popsize': POPSIZE , 'fitness': best_individual_no_constraints_broken, 'individual':str(individual_max), \"crossoever\":CXPB, \"mutation\": MUTPB, \"selection\": TNSIZE, \"evaluate\": x}, ignore_index=True)\n"
     ]
    },
    {
     "name": "stdout",
     "output_type": "stream",
     "text": [
      "27\n"
     ]
    },
    {
     "name": "stderr",
     "output_type": "stream",
     "text": [
      "C:\\Users\\venet\\AppData\\Local\\Temp\\ipykernel_9824\\2781921912.py:64: FutureWarning: The frame.append method is deprecated and will be removed from pandas in a future version. Use pandas.concat instead.\n",
      "  df_Bests = df_Bests.append({'popsize': POPSIZE , 'fitness': best, 'genMaxFound':gen, 'individual':best_individual_in_generation, \"crossoever\":CXPB, \"mutation\": MUTPB, \"selection\": TNSIZE, \"evaluate\": x}, ignore_index=True)\n",
      "C:\\Users\\venet\\AppData\\Local\\Temp\\ipykernel_9824\\2781921912.py:65: FutureWarning: The frame.append method is deprecated and will be removed from pandas in a future version. Use pandas.concat instead.\n",
      "  best_individuals= best_individuals.append({'popsize': POPSIZE , 'fitness': best_individual_no_constraints_broken, 'individual':str(individual_max), \"crossoever\":CXPB, \"mutation\": MUTPB, \"selection\": TNSIZE, \"evaluate\": x}, ignore_index=True)\n"
     ]
    },
    {
     "name": "stdout",
     "output_type": "stream",
     "text": [
      "28\n"
     ]
    },
    {
     "name": "stderr",
     "output_type": "stream",
     "text": [
      "C:\\Users\\venet\\AppData\\Local\\Temp\\ipykernel_9824\\2781921912.py:64: FutureWarning: The frame.append method is deprecated and will be removed from pandas in a future version. Use pandas.concat instead.\n",
      "  df_Bests = df_Bests.append({'popsize': POPSIZE , 'fitness': best, 'genMaxFound':gen, 'individual':best_individual_in_generation, \"crossoever\":CXPB, \"mutation\": MUTPB, \"selection\": TNSIZE, \"evaluate\": x}, ignore_index=True)\n",
      "C:\\Users\\venet\\AppData\\Local\\Temp\\ipykernel_9824\\2781921912.py:65: FutureWarning: The frame.append method is deprecated and will be removed from pandas in a future version. Use pandas.concat instead.\n",
      "  best_individuals= best_individuals.append({'popsize': POPSIZE , 'fitness': best_individual_no_constraints_broken, 'individual':str(individual_max), \"crossoever\":CXPB, \"mutation\": MUTPB, \"selection\": TNSIZE, \"evaluate\": x}, ignore_index=True)\n"
     ]
    },
    {
     "name": "stdout",
     "output_type": "stream",
     "text": [
      "29\n"
     ]
    },
    {
     "name": "stderr",
     "output_type": "stream",
     "text": [
      "C:\\Users\\venet\\AppData\\Local\\Temp\\ipykernel_9824\\2781921912.py:64: FutureWarning: The frame.append method is deprecated and will be removed from pandas in a future version. Use pandas.concat instead.\n",
      "  df_Bests = df_Bests.append({'popsize': POPSIZE , 'fitness': best, 'genMaxFound':gen, 'individual':best_individual_in_generation, \"crossoever\":CXPB, \"mutation\": MUTPB, \"selection\": TNSIZE, \"evaluate\": x}, ignore_index=True)\n",
      "C:\\Users\\venet\\AppData\\Local\\Temp\\ipykernel_9824\\2781921912.py:65: FutureWarning: The frame.append method is deprecated and will be removed from pandas in a future version. Use pandas.concat instead.\n",
      "  best_individuals= best_individuals.append({'popsize': POPSIZE , 'fitness': best_individual_no_constraints_broken, 'individual':str(individual_max), \"crossoever\":CXPB, \"mutation\": MUTPB, \"selection\": TNSIZE, \"evaluate\": x}, ignore_index=True)\n"
     ]
    },
    {
     "name": "stdout",
     "output_type": "stream",
     "text": [
      "30\n"
     ]
    },
    {
     "name": "stderr",
     "output_type": "stream",
     "text": [
      "C:\\Users\\venet\\AppData\\Local\\Temp\\ipykernel_9824\\2781921912.py:64: FutureWarning: The frame.append method is deprecated and will be removed from pandas in a future version. Use pandas.concat instead.\n",
      "  df_Bests = df_Bests.append({'popsize': POPSIZE , 'fitness': best, 'genMaxFound':gen, 'individual':best_individual_in_generation, \"crossoever\":CXPB, \"mutation\": MUTPB, \"selection\": TNSIZE, \"evaluate\": x}, ignore_index=True)\n",
      "C:\\Users\\venet\\AppData\\Local\\Temp\\ipykernel_9824\\2781921912.py:65: FutureWarning: The frame.append method is deprecated and will be removed from pandas in a future version. Use pandas.concat instead.\n",
      "  best_individuals= best_individuals.append({'popsize': POPSIZE , 'fitness': best_individual_no_constraints_broken, 'individual':str(individual_max), \"crossoever\":CXPB, \"mutation\": MUTPB, \"selection\": TNSIZE, \"evaluate\": x}, ignore_index=True)\n"
     ]
    },
    {
     "name": "stdout",
     "output_type": "stream",
     "text": [
      "31\n"
     ]
    },
    {
     "name": "stderr",
     "output_type": "stream",
     "text": [
      "C:\\Users\\venet\\AppData\\Local\\Temp\\ipykernel_9824\\2781921912.py:64: FutureWarning: The frame.append method is deprecated and will be removed from pandas in a future version. Use pandas.concat instead.\n",
      "  df_Bests = df_Bests.append({'popsize': POPSIZE , 'fitness': best, 'genMaxFound':gen, 'individual':best_individual_in_generation, \"crossoever\":CXPB, \"mutation\": MUTPB, \"selection\": TNSIZE, \"evaluate\": x}, ignore_index=True)\n",
      "C:\\Users\\venet\\AppData\\Local\\Temp\\ipykernel_9824\\2781921912.py:65: FutureWarning: The frame.append method is deprecated and will be removed from pandas in a future version. Use pandas.concat instead.\n",
      "  best_individuals= best_individuals.append({'popsize': POPSIZE , 'fitness': best_individual_no_constraints_broken, 'individual':str(individual_max), \"crossoever\":CXPB, \"mutation\": MUTPB, \"selection\": TNSIZE, \"evaluate\": x}, ignore_index=True)\n"
     ]
    },
    {
     "name": "stdout",
     "output_type": "stream",
     "text": [
      "32\n"
     ]
    },
    {
     "name": "stderr",
     "output_type": "stream",
     "text": [
      "C:\\Users\\venet\\AppData\\Local\\Temp\\ipykernel_9824\\2781921912.py:64: FutureWarning: The frame.append method is deprecated and will be removed from pandas in a future version. Use pandas.concat instead.\n",
      "  df_Bests = df_Bests.append({'popsize': POPSIZE , 'fitness': best, 'genMaxFound':gen, 'individual':best_individual_in_generation, \"crossoever\":CXPB, \"mutation\": MUTPB, \"selection\": TNSIZE, \"evaluate\": x}, ignore_index=True)\n",
      "C:\\Users\\venet\\AppData\\Local\\Temp\\ipykernel_9824\\2781921912.py:65: FutureWarning: The frame.append method is deprecated and will be removed from pandas in a future version. Use pandas.concat instead.\n",
      "  best_individuals= best_individuals.append({'popsize': POPSIZE , 'fitness': best_individual_no_constraints_broken, 'individual':str(individual_max), \"crossoever\":CXPB, \"mutation\": MUTPB, \"selection\": TNSIZE, \"evaluate\": x}, ignore_index=True)\n"
     ]
    },
    {
     "name": "stdout",
     "output_type": "stream",
     "text": [
      "33\n"
     ]
    },
    {
     "name": "stderr",
     "output_type": "stream",
     "text": [
      "C:\\Users\\venet\\AppData\\Local\\Temp\\ipykernel_9824\\2781921912.py:64: FutureWarning: The frame.append method is deprecated and will be removed from pandas in a future version. Use pandas.concat instead.\n",
      "  df_Bests = df_Bests.append({'popsize': POPSIZE , 'fitness': best, 'genMaxFound':gen, 'individual':best_individual_in_generation, \"crossoever\":CXPB, \"mutation\": MUTPB, \"selection\": TNSIZE, \"evaluate\": x}, ignore_index=True)\n",
      "C:\\Users\\venet\\AppData\\Local\\Temp\\ipykernel_9824\\2781921912.py:65: FutureWarning: The frame.append method is deprecated and will be removed from pandas in a future version. Use pandas.concat instead.\n",
      "  best_individuals= best_individuals.append({'popsize': POPSIZE , 'fitness': best_individual_no_constraints_broken, 'individual':str(individual_max), \"crossoever\":CXPB, \"mutation\": MUTPB, \"selection\": TNSIZE, \"evaluate\": x}, ignore_index=True)\n"
     ]
    },
    {
     "name": "stdout",
     "output_type": "stream",
     "text": [
      "34\n"
     ]
    },
    {
     "name": "stderr",
     "output_type": "stream",
     "text": [
      "C:\\Users\\venet\\AppData\\Local\\Temp\\ipykernel_9824\\2781921912.py:64: FutureWarning: The frame.append method is deprecated and will be removed from pandas in a future version. Use pandas.concat instead.\n",
      "  df_Bests = df_Bests.append({'popsize': POPSIZE , 'fitness': best, 'genMaxFound':gen, 'individual':best_individual_in_generation, \"crossoever\":CXPB, \"mutation\": MUTPB, \"selection\": TNSIZE, \"evaluate\": x}, ignore_index=True)\n",
      "C:\\Users\\venet\\AppData\\Local\\Temp\\ipykernel_9824\\2781921912.py:65: FutureWarning: The frame.append method is deprecated and will be removed from pandas in a future version. Use pandas.concat instead.\n",
      "  best_individuals= best_individuals.append({'popsize': POPSIZE , 'fitness': best_individual_no_constraints_broken, 'individual':str(individual_max), \"crossoever\":CXPB, \"mutation\": MUTPB, \"selection\": TNSIZE, \"evaluate\": x}, ignore_index=True)\n"
     ]
    },
    {
     "name": "stdout",
     "output_type": "stream",
     "text": [
      "35\n"
     ]
    },
    {
     "name": "stderr",
     "output_type": "stream",
     "text": [
      "C:\\Users\\venet\\AppData\\Local\\Temp\\ipykernel_9824\\2781921912.py:64: FutureWarning: The frame.append method is deprecated and will be removed from pandas in a future version. Use pandas.concat instead.\n",
      "  df_Bests = df_Bests.append({'popsize': POPSIZE , 'fitness': best, 'genMaxFound':gen, 'individual':best_individual_in_generation, \"crossoever\":CXPB, \"mutation\": MUTPB, \"selection\": TNSIZE, \"evaluate\": x}, ignore_index=True)\n",
      "C:\\Users\\venet\\AppData\\Local\\Temp\\ipykernel_9824\\2781921912.py:65: FutureWarning: The frame.append method is deprecated and will be removed from pandas in a future version. Use pandas.concat instead.\n",
      "  best_individuals= best_individuals.append({'popsize': POPSIZE , 'fitness': best_individual_no_constraints_broken, 'individual':str(individual_max), \"crossoever\":CXPB, \"mutation\": MUTPB, \"selection\": TNSIZE, \"evaluate\": x}, ignore_index=True)\n"
     ]
    },
    {
     "name": "stdout",
     "output_type": "stream",
     "text": [
      "36\n"
     ]
    },
    {
     "name": "stderr",
     "output_type": "stream",
     "text": [
      "C:\\Users\\venet\\AppData\\Local\\Temp\\ipykernel_9824\\2781921912.py:64: FutureWarning: The frame.append method is deprecated and will be removed from pandas in a future version. Use pandas.concat instead.\n",
      "  df_Bests = df_Bests.append({'popsize': POPSIZE , 'fitness': best, 'genMaxFound':gen, 'individual':best_individual_in_generation, \"crossoever\":CXPB, \"mutation\": MUTPB, \"selection\": TNSIZE, \"evaluate\": x}, ignore_index=True)\n",
      "C:\\Users\\venet\\AppData\\Local\\Temp\\ipykernel_9824\\2781921912.py:65: FutureWarning: The frame.append method is deprecated and will be removed from pandas in a future version. Use pandas.concat instead.\n",
      "  best_individuals= best_individuals.append({'popsize': POPSIZE , 'fitness': best_individual_no_constraints_broken, 'individual':str(individual_max), \"crossoever\":CXPB, \"mutation\": MUTPB, \"selection\": TNSIZE, \"evaluate\": x}, ignore_index=True)\n"
     ]
    },
    {
     "name": "stdout",
     "output_type": "stream",
     "text": [
      "37\n"
     ]
    },
    {
     "name": "stderr",
     "output_type": "stream",
     "text": [
      "C:\\Users\\venet\\AppData\\Local\\Temp\\ipykernel_9824\\2781921912.py:64: FutureWarning: The frame.append method is deprecated and will be removed from pandas in a future version. Use pandas.concat instead.\n",
      "  df_Bests = df_Bests.append({'popsize': POPSIZE , 'fitness': best, 'genMaxFound':gen, 'individual':best_individual_in_generation, \"crossoever\":CXPB, \"mutation\": MUTPB, \"selection\": TNSIZE, \"evaluate\": x}, ignore_index=True)\n",
      "C:\\Users\\venet\\AppData\\Local\\Temp\\ipykernel_9824\\2781921912.py:65: FutureWarning: The frame.append method is deprecated and will be removed from pandas in a future version. Use pandas.concat instead.\n",
      "  best_individuals= best_individuals.append({'popsize': POPSIZE , 'fitness': best_individual_no_constraints_broken, 'individual':str(individual_max), \"crossoever\":CXPB, \"mutation\": MUTPB, \"selection\": TNSIZE, \"evaluate\": x}, ignore_index=True)\n"
     ]
    },
    {
     "name": "stdout",
     "output_type": "stream",
     "text": [
      "38\n"
     ]
    },
    {
     "name": "stderr",
     "output_type": "stream",
     "text": [
      "C:\\Users\\venet\\AppData\\Local\\Temp\\ipykernel_9824\\2781921912.py:64: FutureWarning: The frame.append method is deprecated and will be removed from pandas in a future version. Use pandas.concat instead.\n",
      "  df_Bests = df_Bests.append({'popsize': POPSIZE , 'fitness': best, 'genMaxFound':gen, 'individual':best_individual_in_generation, \"crossoever\":CXPB, \"mutation\": MUTPB, \"selection\": TNSIZE, \"evaluate\": x}, ignore_index=True)\n",
      "C:\\Users\\venet\\AppData\\Local\\Temp\\ipykernel_9824\\2781921912.py:65: FutureWarning: The frame.append method is deprecated and will be removed from pandas in a future version. Use pandas.concat instead.\n",
      "  best_individuals= best_individuals.append({'popsize': POPSIZE , 'fitness': best_individual_no_constraints_broken, 'individual':str(individual_max), \"crossoever\":CXPB, \"mutation\": MUTPB, \"selection\": TNSIZE, \"evaluate\": x}, ignore_index=True)\n"
     ]
    },
    {
     "name": "stdout",
     "output_type": "stream",
     "text": [
      "39\n"
     ]
    },
    {
     "name": "stderr",
     "output_type": "stream",
     "text": [
      "C:\\Users\\venet\\AppData\\Local\\Temp\\ipykernel_9824\\2781921912.py:64: FutureWarning: The frame.append method is deprecated and will be removed from pandas in a future version. Use pandas.concat instead.\n",
      "  df_Bests = df_Bests.append({'popsize': POPSIZE , 'fitness': best, 'genMaxFound':gen, 'individual':best_individual_in_generation, \"crossoever\":CXPB, \"mutation\": MUTPB, \"selection\": TNSIZE, \"evaluate\": x}, ignore_index=True)\n",
      "C:\\Users\\venet\\AppData\\Local\\Temp\\ipykernel_9824\\2781921912.py:65: FutureWarning: The frame.append method is deprecated and will be removed from pandas in a future version. Use pandas.concat instead.\n",
      "  best_individuals= best_individuals.append({'popsize': POPSIZE , 'fitness': best_individual_no_constraints_broken, 'individual':str(individual_max), \"crossoever\":CXPB, \"mutation\": MUTPB, \"selection\": TNSIZE, \"evaluate\": x}, ignore_index=True)\n"
     ]
    },
    {
     "name": "stdout",
     "output_type": "stream",
     "text": [
      "40\n"
     ]
    },
    {
     "name": "stderr",
     "output_type": "stream",
     "text": [
      "C:\\Users\\venet\\AppData\\Local\\Temp\\ipykernel_9824\\2781921912.py:64: FutureWarning: The frame.append method is deprecated and will be removed from pandas in a future version. Use pandas.concat instead.\n",
      "  df_Bests = df_Bests.append({'popsize': POPSIZE , 'fitness': best, 'genMaxFound':gen, 'individual':best_individual_in_generation, \"crossoever\":CXPB, \"mutation\": MUTPB, \"selection\": TNSIZE, \"evaluate\": x}, ignore_index=True)\n",
      "C:\\Users\\venet\\AppData\\Local\\Temp\\ipykernel_9824\\2781921912.py:65: FutureWarning: The frame.append method is deprecated and will be removed from pandas in a future version. Use pandas.concat instead.\n",
      "  best_individuals= best_individuals.append({'popsize': POPSIZE , 'fitness': best_individual_no_constraints_broken, 'individual':str(individual_max), \"crossoever\":CXPB, \"mutation\": MUTPB, \"selection\": TNSIZE, \"evaluate\": x}, ignore_index=True)\n"
     ]
    },
    {
     "name": "stdout",
     "output_type": "stream",
     "text": [
      "41\n"
     ]
    },
    {
     "name": "stderr",
     "output_type": "stream",
     "text": [
      "C:\\Users\\venet\\AppData\\Local\\Temp\\ipykernel_9824\\2781921912.py:64: FutureWarning: The frame.append method is deprecated and will be removed from pandas in a future version. Use pandas.concat instead.\n",
      "  df_Bests = df_Bests.append({'popsize': POPSIZE , 'fitness': best, 'genMaxFound':gen, 'individual':best_individual_in_generation, \"crossoever\":CXPB, \"mutation\": MUTPB, \"selection\": TNSIZE, \"evaluate\": x}, ignore_index=True)\n",
      "C:\\Users\\venet\\AppData\\Local\\Temp\\ipykernel_9824\\2781921912.py:65: FutureWarning: The frame.append method is deprecated and will be removed from pandas in a future version. Use pandas.concat instead.\n",
      "  best_individuals= best_individuals.append({'popsize': POPSIZE , 'fitness': best_individual_no_constraints_broken, 'individual':str(individual_max), \"crossoever\":CXPB, \"mutation\": MUTPB, \"selection\": TNSIZE, \"evaluate\": x}, ignore_index=True)\n"
     ]
    },
    {
     "name": "stdout",
     "output_type": "stream",
     "text": [
      "42\n"
     ]
    },
    {
     "name": "stderr",
     "output_type": "stream",
     "text": [
      "C:\\Users\\venet\\AppData\\Local\\Temp\\ipykernel_9824\\2781921912.py:64: FutureWarning: The frame.append method is deprecated and will be removed from pandas in a future version. Use pandas.concat instead.\n",
      "  df_Bests = df_Bests.append({'popsize': POPSIZE , 'fitness': best, 'genMaxFound':gen, 'individual':best_individual_in_generation, \"crossoever\":CXPB, \"mutation\": MUTPB, \"selection\": TNSIZE, \"evaluate\": x}, ignore_index=True)\n",
      "C:\\Users\\venet\\AppData\\Local\\Temp\\ipykernel_9824\\2781921912.py:65: FutureWarning: The frame.append method is deprecated and will be removed from pandas in a future version. Use pandas.concat instead.\n",
      "  best_individuals= best_individuals.append({'popsize': POPSIZE , 'fitness': best_individual_no_constraints_broken, 'individual':str(individual_max), \"crossoever\":CXPB, \"mutation\": MUTPB, \"selection\": TNSIZE, \"evaluate\": x}, ignore_index=True)\n"
     ]
    },
    {
     "name": "stdout",
     "output_type": "stream",
     "text": [
      "43\n"
     ]
    },
    {
     "name": "stderr",
     "output_type": "stream",
     "text": [
      "C:\\Users\\venet\\AppData\\Local\\Temp\\ipykernel_9824\\2781921912.py:64: FutureWarning: The frame.append method is deprecated and will be removed from pandas in a future version. Use pandas.concat instead.\n",
      "  df_Bests = df_Bests.append({'popsize': POPSIZE , 'fitness': best, 'genMaxFound':gen, 'individual':best_individual_in_generation, \"crossoever\":CXPB, \"mutation\": MUTPB, \"selection\": TNSIZE, \"evaluate\": x}, ignore_index=True)\n",
      "C:\\Users\\venet\\AppData\\Local\\Temp\\ipykernel_9824\\2781921912.py:65: FutureWarning: The frame.append method is deprecated and will be removed from pandas in a future version. Use pandas.concat instead.\n",
      "  best_individuals= best_individuals.append({'popsize': POPSIZE , 'fitness': best_individual_no_constraints_broken, 'individual':str(individual_max), \"crossoever\":CXPB, \"mutation\": MUTPB, \"selection\": TNSIZE, \"evaluate\": x}, ignore_index=True)\n"
     ]
    },
    {
     "name": "stdout",
     "output_type": "stream",
     "text": [
      "44\n"
     ]
    },
    {
     "name": "stderr",
     "output_type": "stream",
     "text": [
      "C:\\Users\\venet\\AppData\\Local\\Temp\\ipykernel_9824\\2781921912.py:64: FutureWarning: The frame.append method is deprecated and will be removed from pandas in a future version. Use pandas.concat instead.\n",
      "  df_Bests = df_Bests.append({'popsize': POPSIZE , 'fitness': best, 'genMaxFound':gen, 'individual':best_individual_in_generation, \"crossoever\":CXPB, \"mutation\": MUTPB, \"selection\": TNSIZE, \"evaluate\": x}, ignore_index=True)\n",
      "C:\\Users\\venet\\AppData\\Local\\Temp\\ipykernel_9824\\2781921912.py:65: FutureWarning: The frame.append method is deprecated and will be removed from pandas in a future version. Use pandas.concat instead.\n",
      "  best_individuals= best_individuals.append({'popsize': POPSIZE , 'fitness': best_individual_no_constraints_broken, 'individual':str(individual_max), \"crossoever\":CXPB, \"mutation\": MUTPB, \"selection\": TNSIZE, \"evaluate\": x}, ignore_index=True)\n"
     ]
    },
    {
     "name": "stdout",
     "output_type": "stream",
     "text": [
      "45\n"
     ]
    },
    {
     "name": "stderr",
     "output_type": "stream",
     "text": [
      "C:\\Users\\venet\\AppData\\Local\\Temp\\ipykernel_9824\\2781921912.py:64: FutureWarning: The frame.append method is deprecated and will be removed from pandas in a future version. Use pandas.concat instead.\n",
      "  df_Bests = df_Bests.append({'popsize': POPSIZE , 'fitness': best, 'genMaxFound':gen, 'individual':best_individual_in_generation, \"crossoever\":CXPB, \"mutation\": MUTPB, \"selection\": TNSIZE, \"evaluate\": x}, ignore_index=True)\n",
      "C:\\Users\\venet\\AppData\\Local\\Temp\\ipykernel_9824\\2781921912.py:65: FutureWarning: The frame.append method is deprecated and will be removed from pandas in a future version. Use pandas.concat instead.\n",
      "  best_individuals= best_individuals.append({'popsize': POPSIZE , 'fitness': best_individual_no_constraints_broken, 'individual':str(individual_max), \"crossoever\":CXPB, \"mutation\": MUTPB, \"selection\": TNSIZE, \"evaluate\": x}, ignore_index=True)\n"
     ]
    },
    {
     "name": "stdout",
     "output_type": "stream",
     "text": [
      "46\n"
     ]
    },
    {
     "name": "stderr",
     "output_type": "stream",
     "text": [
      "C:\\Users\\venet\\AppData\\Local\\Temp\\ipykernel_9824\\2781921912.py:64: FutureWarning: The frame.append method is deprecated and will be removed from pandas in a future version. Use pandas.concat instead.\n",
      "  df_Bests = df_Bests.append({'popsize': POPSIZE , 'fitness': best, 'genMaxFound':gen, 'individual':best_individual_in_generation, \"crossoever\":CXPB, \"mutation\": MUTPB, \"selection\": TNSIZE, \"evaluate\": x}, ignore_index=True)\n",
      "C:\\Users\\venet\\AppData\\Local\\Temp\\ipykernel_9824\\2781921912.py:65: FutureWarning: The frame.append method is deprecated and will be removed from pandas in a future version. Use pandas.concat instead.\n",
      "  best_individuals= best_individuals.append({'popsize': POPSIZE , 'fitness': best_individual_no_constraints_broken, 'individual':str(individual_max), \"crossoever\":CXPB, \"mutation\": MUTPB, \"selection\": TNSIZE, \"evaluate\": x}, ignore_index=True)\n"
     ]
    },
    {
     "name": "stdout",
     "output_type": "stream",
     "text": [
      "47\n"
     ]
    },
    {
     "name": "stderr",
     "output_type": "stream",
     "text": [
      "C:\\Users\\venet\\AppData\\Local\\Temp\\ipykernel_9824\\2781921912.py:64: FutureWarning: The frame.append method is deprecated and will be removed from pandas in a future version. Use pandas.concat instead.\n",
      "  df_Bests = df_Bests.append({'popsize': POPSIZE , 'fitness': best, 'genMaxFound':gen, 'individual':best_individual_in_generation, \"crossoever\":CXPB, \"mutation\": MUTPB, \"selection\": TNSIZE, \"evaluate\": x}, ignore_index=True)\n",
      "C:\\Users\\venet\\AppData\\Local\\Temp\\ipykernel_9824\\2781921912.py:65: FutureWarning: The frame.append method is deprecated and will be removed from pandas in a future version. Use pandas.concat instead.\n",
      "  best_individuals= best_individuals.append({'popsize': POPSIZE , 'fitness': best_individual_no_constraints_broken, 'individual':str(individual_max), \"crossoever\":CXPB, \"mutation\": MUTPB, \"selection\": TNSIZE, \"evaluate\": x}, ignore_index=True)\n"
     ]
    },
    {
     "name": "stdout",
     "output_type": "stream",
     "text": [
      "48\n"
     ]
    },
    {
     "name": "stderr",
     "output_type": "stream",
     "text": [
      "C:\\Users\\venet\\AppData\\Local\\Temp\\ipykernel_9824\\2781921912.py:64: FutureWarning: The frame.append method is deprecated and will be removed from pandas in a future version. Use pandas.concat instead.\n",
      "  df_Bests = df_Bests.append({'popsize': POPSIZE , 'fitness': best, 'genMaxFound':gen, 'individual':best_individual_in_generation, \"crossoever\":CXPB, \"mutation\": MUTPB, \"selection\": TNSIZE, \"evaluate\": x}, ignore_index=True)\n",
      "C:\\Users\\venet\\AppData\\Local\\Temp\\ipykernel_9824\\2781921912.py:65: FutureWarning: The frame.append method is deprecated and will be removed from pandas in a future version. Use pandas.concat instead.\n",
      "  best_individuals= best_individuals.append({'popsize': POPSIZE , 'fitness': best_individual_no_constraints_broken, 'individual':str(individual_max), \"crossoever\":CXPB, \"mutation\": MUTPB, \"selection\": TNSIZE, \"evaluate\": x}, ignore_index=True)\n"
     ]
    },
    {
     "name": "stdout",
     "output_type": "stream",
     "text": [
      "49\n"
     ]
    },
    {
     "name": "stderr",
     "output_type": "stream",
     "text": [
      "C:\\Users\\venet\\AppData\\Local\\Temp\\ipykernel_9824\\2781921912.py:64: FutureWarning: The frame.append method is deprecated and will be removed from pandas in a future version. Use pandas.concat instead.\n",
      "  df_Bests = df_Bests.append({'popsize': POPSIZE , 'fitness': best, 'genMaxFound':gen, 'individual':best_individual_in_generation, \"crossoever\":CXPB, \"mutation\": MUTPB, \"selection\": TNSIZE, \"evaluate\": x}, ignore_index=True)\n",
      "C:\\Users\\venet\\AppData\\Local\\Temp\\ipykernel_9824\\2781921912.py:65: FutureWarning: The frame.append method is deprecated and will be removed from pandas in a future version. Use pandas.concat instead.\n",
      "  best_individuals= best_individuals.append({'popsize': POPSIZE , 'fitness': best_individual_no_constraints_broken, 'individual':str(individual_max), \"crossoever\":CXPB, \"mutation\": MUTPB, \"selection\": TNSIZE, \"evaluate\": x}, ignore_index=True)\n"
     ]
    },
    {
     "name": "stdout",
     "output_type": "stream",
     "text": [
      "0\n"
     ]
    },
    {
     "name": "stderr",
     "output_type": "stream",
     "text": [
      "C:\\Users\\venet\\AppData\\Local\\Temp\\ipykernel_9824\\2781921912.py:64: FutureWarning: The frame.append method is deprecated and will be removed from pandas in a future version. Use pandas.concat instead.\n",
      "  df_Bests = df_Bests.append({'popsize': POPSIZE , 'fitness': best, 'genMaxFound':gen, 'individual':best_individual_in_generation, \"crossoever\":CXPB, \"mutation\": MUTPB, \"selection\": TNSIZE, \"evaluate\": x}, ignore_index=True)\n",
      "C:\\Users\\venet\\AppData\\Local\\Temp\\ipykernel_9824\\2781921912.py:65: FutureWarning: The frame.append method is deprecated and will be removed from pandas in a future version. Use pandas.concat instead.\n",
      "  best_individuals= best_individuals.append({'popsize': POPSIZE , 'fitness': best_individual_no_constraints_broken, 'individual':str(individual_max), \"crossoever\":CXPB, \"mutation\": MUTPB, \"selection\": TNSIZE, \"evaluate\": x}, ignore_index=True)\n"
     ]
    },
    {
     "name": "stdout",
     "output_type": "stream",
     "text": [
      "1\n"
     ]
    },
    {
     "name": "stderr",
     "output_type": "stream",
     "text": [
      "C:\\Users\\venet\\AppData\\Local\\Temp\\ipykernel_9824\\2781921912.py:64: FutureWarning: The frame.append method is deprecated and will be removed from pandas in a future version. Use pandas.concat instead.\n",
      "  df_Bests = df_Bests.append({'popsize': POPSIZE , 'fitness': best, 'genMaxFound':gen, 'individual':best_individual_in_generation, \"crossoever\":CXPB, \"mutation\": MUTPB, \"selection\": TNSIZE, \"evaluate\": x}, ignore_index=True)\n",
      "C:\\Users\\venet\\AppData\\Local\\Temp\\ipykernel_9824\\2781921912.py:65: FutureWarning: The frame.append method is deprecated and will be removed from pandas in a future version. Use pandas.concat instead.\n",
      "  best_individuals= best_individuals.append({'popsize': POPSIZE , 'fitness': best_individual_no_constraints_broken, 'individual':str(individual_max), \"crossoever\":CXPB, \"mutation\": MUTPB, \"selection\": TNSIZE, \"evaluate\": x}, ignore_index=True)\n"
     ]
    },
    {
     "name": "stdout",
     "output_type": "stream",
     "text": [
      "2\n"
     ]
    },
    {
     "name": "stderr",
     "output_type": "stream",
     "text": [
      "C:\\Users\\venet\\AppData\\Local\\Temp\\ipykernel_9824\\2781921912.py:64: FutureWarning: The frame.append method is deprecated and will be removed from pandas in a future version. Use pandas.concat instead.\n",
      "  df_Bests = df_Bests.append({'popsize': POPSIZE , 'fitness': best, 'genMaxFound':gen, 'individual':best_individual_in_generation, \"crossoever\":CXPB, \"mutation\": MUTPB, \"selection\": TNSIZE, \"evaluate\": x}, ignore_index=True)\n",
      "C:\\Users\\venet\\AppData\\Local\\Temp\\ipykernel_9824\\2781921912.py:65: FutureWarning: The frame.append method is deprecated and will be removed from pandas in a future version. Use pandas.concat instead.\n",
      "  best_individuals= best_individuals.append({'popsize': POPSIZE , 'fitness': best_individual_no_constraints_broken, 'individual':str(individual_max), \"crossoever\":CXPB, \"mutation\": MUTPB, \"selection\": TNSIZE, \"evaluate\": x}, ignore_index=True)\n"
     ]
    },
    {
     "name": "stdout",
     "output_type": "stream",
     "text": [
      "3\n"
     ]
    },
    {
     "name": "stderr",
     "output_type": "stream",
     "text": [
      "C:\\Users\\venet\\AppData\\Local\\Temp\\ipykernel_9824\\2781921912.py:64: FutureWarning: The frame.append method is deprecated and will be removed from pandas in a future version. Use pandas.concat instead.\n",
      "  df_Bests = df_Bests.append({'popsize': POPSIZE , 'fitness': best, 'genMaxFound':gen, 'individual':best_individual_in_generation, \"crossoever\":CXPB, \"mutation\": MUTPB, \"selection\": TNSIZE, \"evaluate\": x}, ignore_index=True)\n",
      "C:\\Users\\venet\\AppData\\Local\\Temp\\ipykernel_9824\\2781921912.py:65: FutureWarning: The frame.append method is deprecated and will be removed from pandas in a future version. Use pandas.concat instead.\n",
      "  best_individuals= best_individuals.append({'popsize': POPSIZE , 'fitness': best_individual_no_constraints_broken, 'individual':str(individual_max), \"crossoever\":CXPB, \"mutation\": MUTPB, \"selection\": TNSIZE, \"evaluate\": x}, ignore_index=True)\n"
     ]
    },
    {
     "name": "stdout",
     "output_type": "stream",
     "text": [
      "4\n"
     ]
    },
    {
     "name": "stderr",
     "output_type": "stream",
     "text": [
      "C:\\Users\\venet\\AppData\\Local\\Temp\\ipykernel_9824\\2781921912.py:64: FutureWarning: The frame.append method is deprecated and will be removed from pandas in a future version. Use pandas.concat instead.\n",
      "  df_Bests = df_Bests.append({'popsize': POPSIZE , 'fitness': best, 'genMaxFound':gen, 'individual':best_individual_in_generation, \"crossoever\":CXPB, \"mutation\": MUTPB, \"selection\": TNSIZE, \"evaluate\": x}, ignore_index=True)\n",
      "C:\\Users\\venet\\AppData\\Local\\Temp\\ipykernel_9824\\2781921912.py:65: FutureWarning: The frame.append method is deprecated and will be removed from pandas in a future version. Use pandas.concat instead.\n",
      "  best_individuals= best_individuals.append({'popsize': POPSIZE , 'fitness': best_individual_no_constraints_broken, 'individual':str(individual_max), \"crossoever\":CXPB, \"mutation\": MUTPB, \"selection\": TNSIZE, \"evaluate\": x}, ignore_index=True)\n"
     ]
    },
    {
     "name": "stdout",
     "output_type": "stream",
     "text": [
      "5\n"
     ]
    },
    {
     "name": "stderr",
     "output_type": "stream",
     "text": [
      "C:\\Users\\venet\\AppData\\Local\\Temp\\ipykernel_9824\\2781921912.py:64: FutureWarning: The frame.append method is deprecated and will be removed from pandas in a future version. Use pandas.concat instead.\n",
      "  df_Bests = df_Bests.append({'popsize': POPSIZE , 'fitness': best, 'genMaxFound':gen, 'individual':best_individual_in_generation, \"crossoever\":CXPB, \"mutation\": MUTPB, \"selection\": TNSIZE, \"evaluate\": x}, ignore_index=True)\n",
      "C:\\Users\\venet\\AppData\\Local\\Temp\\ipykernel_9824\\2781921912.py:65: FutureWarning: The frame.append method is deprecated and will be removed from pandas in a future version. Use pandas.concat instead.\n",
      "  best_individuals= best_individuals.append({'popsize': POPSIZE , 'fitness': best_individual_no_constraints_broken, 'individual':str(individual_max), \"crossoever\":CXPB, \"mutation\": MUTPB, \"selection\": TNSIZE, \"evaluate\": x}, ignore_index=True)\n"
     ]
    },
    {
     "name": "stdout",
     "output_type": "stream",
     "text": [
      "6\n"
     ]
    },
    {
     "name": "stderr",
     "output_type": "stream",
     "text": [
      "C:\\Users\\venet\\AppData\\Local\\Temp\\ipykernel_9824\\2781921912.py:64: FutureWarning: The frame.append method is deprecated and will be removed from pandas in a future version. Use pandas.concat instead.\n",
      "  df_Bests = df_Bests.append({'popsize': POPSIZE , 'fitness': best, 'genMaxFound':gen, 'individual':best_individual_in_generation, \"crossoever\":CXPB, \"mutation\": MUTPB, \"selection\": TNSIZE, \"evaluate\": x}, ignore_index=True)\n",
      "C:\\Users\\venet\\AppData\\Local\\Temp\\ipykernel_9824\\2781921912.py:65: FutureWarning: The frame.append method is deprecated and will be removed from pandas in a future version. Use pandas.concat instead.\n",
      "  best_individuals= best_individuals.append({'popsize': POPSIZE , 'fitness': best_individual_no_constraints_broken, 'individual':str(individual_max), \"crossoever\":CXPB, \"mutation\": MUTPB, \"selection\": TNSIZE, \"evaluate\": x}, ignore_index=True)\n"
     ]
    },
    {
     "name": "stdout",
     "output_type": "stream",
     "text": [
      "7\n"
     ]
    },
    {
     "name": "stderr",
     "output_type": "stream",
     "text": [
      "C:\\Users\\venet\\AppData\\Local\\Temp\\ipykernel_9824\\2781921912.py:64: FutureWarning: The frame.append method is deprecated and will be removed from pandas in a future version. Use pandas.concat instead.\n",
      "  df_Bests = df_Bests.append({'popsize': POPSIZE , 'fitness': best, 'genMaxFound':gen, 'individual':best_individual_in_generation, \"crossoever\":CXPB, \"mutation\": MUTPB, \"selection\": TNSIZE, \"evaluate\": x}, ignore_index=True)\n",
      "C:\\Users\\venet\\AppData\\Local\\Temp\\ipykernel_9824\\2781921912.py:65: FutureWarning: The frame.append method is deprecated and will be removed from pandas in a future version. Use pandas.concat instead.\n",
      "  best_individuals= best_individuals.append({'popsize': POPSIZE , 'fitness': best_individual_no_constraints_broken, 'individual':str(individual_max), \"crossoever\":CXPB, \"mutation\": MUTPB, \"selection\": TNSIZE, \"evaluate\": x}, ignore_index=True)\n"
     ]
    },
    {
     "name": "stdout",
     "output_type": "stream",
     "text": [
      "8\n"
     ]
    },
    {
     "name": "stderr",
     "output_type": "stream",
     "text": [
      "C:\\Users\\venet\\AppData\\Local\\Temp\\ipykernel_9824\\2781921912.py:64: FutureWarning: The frame.append method is deprecated and will be removed from pandas in a future version. Use pandas.concat instead.\n",
      "  df_Bests = df_Bests.append({'popsize': POPSIZE , 'fitness': best, 'genMaxFound':gen, 'individual':best_individual_in_generation, \"crossoever\":CXPB, \"mutation\": MUTPB, \"selection\": TNSIZE, \"evaluate\": x}, ignore_index=True)\n",
      "C:\\Users\\venet\\AppData\\Local\\Temp\\ipykernel_9824\\2781921912.py:65: FutureWarning: The frame.append method is deprecated and will be removed from pandas in a future version. Use pandas.concat instead.\n",
      "  best_individuals= best_individuals.append({'popsize': POPSIZE , 'fitness': best_individual_no_constraints_broken, 'individual':str(individual_max), \"crossoever\":CXPB, \"mutation\": MUTPB, \"selection\": TNSIZE, \"evaluate\": x}, ignore_index=True)\n"
     ]
    },
    {
     "name": "stdout",
     "output_type": "stream",
     "text": [
      "9\n"
     ]
    },
    {
     "name": "stderr",
     "output_type": "stream",
     "text": [
      "C:\\Users\\venet\\AppData\\Local\\Temp\\ipykernel_9824\\2781921912.py:64: FutureWarning: The frame.append method is deprecated and will be removed from pandas in a future version. Use pandas.concat instead.\n",
      "  df_Bests = df_Bests.append({'popsize': POPSIZE , 'fitness': best, 'genMaxFound':gen, 'individual':best_individual_in_generation, \"crossoever\":CXPB, \"mutation\": MUTPB, \"selection\": TNSIZE, \"evaluate\": x}, ignore_index=True)\n",
      "C:\\Users\\venet\\AppData\\Local\\Temp\\ipykernel_9824\\2781921912.py:65: FutureWarning: The frame.append method is deprecated and will be removed from pandas in a future version. Use pandas.concat instead.\n",
      "  best_individuals= best_individuals.append({'popsize': POPSIZE , 'fitness': best_individual_no_constraints_broken, 'individual':str(individual_max), \"crossoever\":CXPB, \"mutation\": MUTPB, \"selection\": TNSIZE, \"evaluate\": x}, ignore_index=True)\n"
     ]
    },
    {
     "name": "stdout",
     "output_type": "stream",
     "text": [
      "10\n"
     ]
    },
    {
     "name": "stderr",
     "output_type": "stream",
     "text": [
      "C:\\Users\\venet\\AppData\\Local\\Temp\\ipykernel_9824\\2781921912.py:64: FutureWarning: The frame.append method is deprecated and will be removed from pandas in a future version. Use pandas.concat instead.\n",
      "  df_Bests = df_Bests.append({'popsize': POPSIZE , 'fitness': best, 'genMaxFound':gen, 'individual':best_individual_in_generation, \"crossoever\":CXPB, \"mutation\": MUTPB, \"selection\": TNSIZE, \"evaluate\": x}, ignore_index=True)\n",
      "C:\\Users\\venet\\AppData\\Local\\Temp\\ipykernel_9824\\2781921912.py:65: FutureWarning: The frame.append method is deprecated and will be removed from pandas in a future version. Use pandas.concat instead.\n",
      "  best_individuals= best_individuals.append({'popsize': POPSIZE , 'fitness': best_individual_no_constraints_broken, 'individual':str(individual_max), \"crossoever\":CXPB, \"mutation\": MUTPB, \"selection\": TNSIZE, \"evaluate\": x}, ignore_index=True)\n"
     ]
    },
    {
     "name": "stdout",
     "output_type": "stream",
     "text": [
      "11\n"
     ]
    },
    {
     "name": "stderr",
     "output_type": "stream",
     "text": [
      "C:\\Users\\venet\\AppData\\Local\\Temp\\ipykernel_9824\\2781921912.py:64: FutureWarning: The frame.append method is deprecated and will be removed from pandas in a future version. Use pandas.concat instead.\n",
      "  df_Bests = df_Bests.append({'popsize': POPSIZE , 'fitness': best, 'genMaxFound':gen, 'individual':best_individual_in_generation, \"crossoever\":CXPB, \"mutation\": MUTPB, \"selection\": TNSIZE, \"evaluate\": x}, ignore_index=True)\n",
      "C:\\Users\\venet\\AppData\\Local\\Temp\\ipykernel_9824\\2781921912.py:65: FutureWarning: The frame.append method is deprecated and will be removed from pandas in a future version. Use pandas.concat instead.\n",
      "  best_individuals= best_individuals.append({'popsize': POPSIZE , 'fitness': best_individual_no_constraints_broken, 'individual':str(individual_max), \"crossoever\":CXPB, \"mutation\": MUTPB, \"selection\": TNSIZE, \"evaluate\": x}, ignore_index=True)\n"
     ]
    },
    {
     "name": "stdout",
     "output_type": "stream",
     "text": [
      "12\n"
     ]
    },
    {
     "name": "stderr",
     "output_type": "stream",
     "text": [
      "C:\\Users\\venet\\AppData\\Local\\Temp\\ipykernel_9824\\2781921912.py:64: FutureWarning: The frame.append method is deprecated and will be removed from pandas in a future version. Use pandas.concat instead.\n",
      "  df_Bests = df_Bests.append({'popsize': POPSIZE , 'fitness': best, 'genMaxFound':gen, 'individual':best_individual_in_generation, \"crossoever\":CXPB, \"mutation\": MUTPB, \"selection\": TNSIZE, \"evaluate\": x}, ignore_index=True)\n",
      "C:\\Users\\venet\\AppData\\Local\\Temp\\ipykernel_9824\\2781921912.py:65: FutureWarning: The frame.append method is deprecated and will be removed from pandas in a future version. Use pandas.concat instead.\n",
      "  best_individuals= best_individuals.append({'popsize': POPSIZE , 'fitness': best_individual_no_constraints_broken, 'individual':str(individual_max), \"crossoever\":CXPB, \"mutation\": MUTPB, \"selection\": TNSIZE, \"evaluate\": x}, ignore_index=True)\n"
     ]
    },
    {
     "name": "stdout",
     "output_type": "stream",
     "text": [
      "13\n"
     ]
    },
    {
     "name": "stderr",
     "output_type": "stream",
     "text": [
      "C:\\Users\\venet\\AppData\\Local\\Temp\\ipykernel_9824\\2781921912.py:64: FutureWarning: The frame.append method is deprecated and will be removed from pandas in a future version. Use pandas.concat instead.\n",
      "  df_Bests = df_Bests.append({'popsize': POPSIZE , 'fitness': best, 'genMaxFound':gen, 'individual':best_individual_in_generation, \"crossoever\":CXPB, \"mutation\": MUTPB, \"selection\": TNSIZE, \"evaluate\": x}, ignore_index=True)\n",
      "C:\\Users\\venet\\AppData\\Local\\Temp\\ipykernel_9824\\2781921912.py:65: FutureWarning: The frame.append method is deprecated and will be removed from pandas in a future version. Use pandas.concat instead.\n",
      "  best_individuals= best_individuals.append({'popsize': POPSIZE , 'fitness': best_individual_no_constraints_broken, 'individual':str(individual_max), \"crossoever\":CXPB, \"mutation\": MUTPB, \"selection\": TNSIZE, \"evaluate\": x}, ignore_index=True)\n"
     ]
    },
    {
     "name": "stdout",
     "output_type": "stream",
     "text": [
      "14\n"
     ]
    },
    {
     "name": "stderr",
     "output_type": "stream",
     "text": [
      "C:\\Users\\venet\\AppData\\Local\\Temp\\ipykernel_9824\\2781921912.py:64: FutureWarning: The frame.append method is deprecated and will be removed from pandas in a future version. Use pandas.concat instead.\n",
      "  df_Bests = df_Bests.append({'popsize': POPSIZE , 'fitness': best, 'genMaxFound':gen, 'individual':best_individual_in_generation, \"crossoever\":CXPB, \"mutation\": MUTPB, \"selection\": TNSIZE, \"evaluate\": x}, ignore_index=True)\n",
      "C:\\Users\\venet\\AppData\\Local\\Temp\\ipykernel_9824\\2781921912.py:65: FutureWarning: The frame.append method is deprecated and will be removed from pandas in a future version. Use pandas.concat instead.\n",
      "  best_individuals= best_individuals.append({'popsize': POPSIZE , 'fitness': best_individual_no_constraints_broken, 'individual':str(individual_max), \"crossoever\":CXPB, \"mutation\": MUTPB, \"selection\": TNSIZE, \"evaluate\": x}, ignore_index=True)\n"
     ]
    },
    {
     "name": "stdout",
     "output_type": "stream",
     "text": [
      "15\n"
     ]
    },
    {
     "name": "stderr",
     "output_type": "stream",
     "text": [
      "C:\\Users\\venet\\AppData\\Local\\Temp\\ipykernel_9824\\2781921912.py:64: FutureWarning: The frame.append method is deprecated and will be removed from pandas in a future version. Use pandas.concat instead.\n",
      "  df_Bests = df_Bests.append({'popsize': POPSIZE , 'fitness': best, 'genMaxFound':gen, 'individual':best_individual_in_generation, \"crossoever\":CXPB, \"mutation\": MUTPB, \"selection\": TNSIZE, \"evaluate\": x}, ignore_index=True)\n",
      "C:\\Users\\venet\\AppData\\Local\\Temp\\ipykernel_9824\\2781921912.py:65: FutureWarning: The frame.append method is deprecated and will be removed from pandas in a future version. Use pandas.concat instead.\n",
      "  best_individuals= best_individuals.append({'popsize': POPSIZE , 'fitness': best_individual_no_constraints_broken, 'individual':str(individual_max), \"crossoever\":CXPB, \"mutation\": MUTPB, \"selection\": TNSIZE, \"evaluate\": x}, ignore_index=True)\n"
     ]
    },
    {
     "name": "stdout",
     "output_type": "stream",
     "text": [
      "16\n"
     ]
    },
    {
     "name": "stderr",
     "output_type": "stream",
     "text": [
      "C:\\Users\\venet\\AppData\\Local\\Temp\\ipykernel_9824\\2781921912.py:64: FutureWarning: The frame.append method is deprecated and will be removed from pandas in a future version. Use pandas.concat instead.\n",
      "  df_Bests = df_Bests.append({'popsize': POPSIZE , 'fitness': best, 'genMaxFound':gen, 'individual':best_individual_in_generation, \"crossoever\":CXPB, \"mutation\": MUTPB, \"selection\": TNSIZE, \"evaluate\": x}, ignore_index=True)\n",
      "C:\\Users\\venet\\AppData\\Local\\Temp\\ipykernel_9824\\2781921912.py:65: FutureWarning: The frame.append method is deprecated and will be removed from pandas in a future version. Use pandas.concat instead.\n",
      "  best_individuals= best_individuals.append({'popsize': POPSIZE , 'fitness': best_individual_no_constraints_broken, 'individual':str(individual_max), \"crossoever\":CXPB, \"mutation\": MUTPB, \"selection\": TNSIZE, \"evaluate\": x}, ignore_index=True)\n"
     ]
    },
    {
     "name": "stdout",
     "output_type": "stream",
     "text": [
      "17\n"
     ]
    },
    {
     "name": "stderr",
     "output_type": "stream",
     "text": [
      "C:\\Users\\venet\\AppData\\Local\\Temp\\ipykernel_9824\\2781921912.py:64: FutureWarning: The frame.append method is deprecated and will be removed from pandas in a future version. Use pandas.concat instead.\n",
      "  df_Bests = df_Bests.append({'popsize': POPSIZE , 'fitness': best, 'genMaxFound':gen, 'individual':best_individual_in_generation, \"crossoever\":CXPB, \"mutation\": MUTPB, \"selection\": TNSIZE, \"evaluate\": x}, ignore_index=True)\n",
      "C:\\Users\\venet\\AppData\\Local\\Temp\\ipykernel_9824\\2781921912.py:65: FutureWarning: The frame.append method is deprecated and will be removed from pandas in a future version. Use pandas.concat instead.\n",
      "  best_individuals= best_individuals.append({'popsize': POPSIZE , 'fitness': best_individual_no_constraints_broken, 'individual':str(individual_max), \"crossoever\":CXPB, \"mutation\": MUTPB, \"selection\": TNSIZE, \"evaluate\": x}, ignore_index=True)\n"
     ]
    },
    {
     "name": "stdout",
     "output_type": "stream",
     "text": [
      "18\n"
     ]
    },
    {
     "name": "stderr",
     "output_type": "stream",
     "text": [
      "C:\\Users\\venet\\AppData\\Local\\Temp\\ipykernel_9824\\2781921912.py:64: FutureWarning: The frame.append method is deprecated and will be removed from pandas in a future version. Use pandas.concat instead.\n",
      "  df_Bests = df_Bests.append({'popsize': POPSIZE , 'fitness': best, 'genMaxFound':gen, 'individual':best_individual_in_generation, \"crossoever\":CXPB, \"mutation\": MUTPB, \"selection\": TNSIZE, \"evaluate\": x}, ignore_index=True)\n",
      "C:\\Users\\venet\\AppData\\Local\\Temp\\ipykernel_9824\\2781921912.py:65: FutureWarning: The frame.append method is deprecated and will be removed from pandas in a future version. Use pandas.concat instead.\n",
      "  best_individuals= best_individuals.append({'popsize': POPSIZE , 'fitness': best_individual_no_constraints_broken, 'individual':str(individual_max), \"crossoever\":CXPB, \"mutation\": MUTPB, \"selection\": TNSIZE, \"evaluate\": x}, ignore_index=True)\n"
     ]
    },
    {
     "name": "stdout",
     "output_type": "stream",
     "text": [
      "19\n"
     ]
    },
    {
     "name": "stderr",
     "output_type": "stream",
     "text": [
      "C:\\Users\\venet\\AppData\\Local\\Temp\\ipykernel_9824\\2781921912.py:64: FutureWarning: The frame.append method is deprecated and will be removed from pandas in a future version. Use pandas.concat instead.\n",
      "  df_Bests = df_Bests.append({'popsize': POPSIZE , 'fitness': best, 'genMaxFound':gen, 'individual':best_individual_in_generation, \"crossoever\":CXPB, \"mutation\": MUTPB, \"selection\": TNSIZE, \"evaluate\": x}, ignore_index=True)\n",
      "C:\\Users\\venet\\AppData\\Local\\Temp\\ipykernel_9824\\2781921912.py:65: FutureWarning: The frame.append method is deprecated and will be removed from pandas in a future version. Use pandas.concat instead.\n",
      "  best_individuals= best_individuals.append({'popsize': POPSIZE , 'fitness': best_individual_no_constraints_broken, 'individual':str(individual_max), \"crossoever\":CXPB, \"mutation\": MUTPB, \"selection\": TNSIZE, \"evaluate\": x}, ignore_index=True)\n"
     ]
    },
    {
     "name": "stdout",
     "output_type": "stream",
     "text": [
      "20\n"
     ]
    },
    {
     "name": "stderr",
     "output_type": "stream",
     "text": [
      "C:\\Users\\venet\\AppData\\Local\\Temp\\ipykernel_9824\\2781921912.py:64: FutureWarning: The frame.append method is deprecated and will be removed from pandas in a future version. Use pandas.concat instead.\n",
      "  df_Bests = df_Bests.append({'popsize': POPSIZE , 'fitness': best, 'genMaxFound':gen, 'individual':best_individual_in_generation, \"crossoever\":CXPB, \"mutation\": MUTPB, \"selection\": TNSIZE, \"evaluate\": x}, ignore_index=True)\n",
      "C:\\Users\\venet\\AppData\\Local\\Temp\\ipykernel_9824\\2781921912.py:65: FutureWarning: The frame.append method is deprecated and will be removed from pandas in a future version. Use pandas.concat instead.\n",
      "  best_individuals= best_individuals.append({'popsize': POPSIZE , 'fitness': best_individual_no_constraints_broken, 'individual':str(individual_max), \"crossoever\":CXPB, \"mutation\": MUTPB, \"selection\": TNSIZE, \"evaluate\": x}, ignore_index=True)\n"
     ]
    },
    {
     "name": "stdout",
     "output_type": "stream",
     "text": [
      "21\n"
     ]
    },
    {
     "name": "stderr",
     "output_type": "stream",
     "text": [
      "C:\\Users\\venet\\AppData\\Local\\Temp\\ipykernel_9824\\2781921912.py:64: FutureWarning: The frame.append method is deprecated and will be removed from pandas in a future version. Use pandas.concat instead.\n",
      "  df_Bests = df_Bests.append({'popsize': POPSIZE , 'fitness': best, 'genMaxFound':gen, 'individual':best_individual_in_generation, \"crossoever\":CXPB, \"mutation\": MUTPB, \"selection\": TNSIZE, \"evaluate\": x}, ignore_index=True)\n",
      "C:\\Users\\venet\\AppData\\Local\\Temp\\ipykernel_9824\\2781921912.py:65: FutureWarning: The frame.append method is deprecated and will be removed from pandas in a future version. Use pandas.concat instead.\n",
      "  best_individuals= best_individuals.append({'popsize': POPSIZE , 'fitness': best_individual_no_constraints_broken, 'individual':str(individual_max), \"crossoever\":CXPB, \"mutation\": MUTPB, \"selection\": TNSIZE, \"evaluate\": x}, ignore_index=True)\n"
     ]
    },
    {
     "name": "stdout",
     "output_type": "stream",
     "text": [
      "22\n"
     ]
    },
    {
     "name": "stderr",
     "output_type": "stream",
     "text": [
      "C:\\Users\\venet\\AppData\\Local\\Temp\\ipykernel_9824\\2781921912.py:64: FutureWarning: The frame.append method is deprecated and will be removed from pandas in a future version. Use pandas.concat instead.\n",
      "  df_Bests = df_Bests.append({'popsize': POPSIZE , 'fitness': best, 'genMaxFound':gen, 'individual':best_individual_in_generation, \"crossoever\":CXPB, \"mutation\": MUTPB, \"selection\": TNSIZE, \"evaluate\": x}, ignore_index=True)\n",
      "C:\\Users\\venet\\AppData\\Local\\Temp\\ipykernel_9824\\2781921912.py:65: FutureWarning: The frame.append method is deprecated and will be removed from pandas in a future version. Use pandas.concat instead.\n",
      "  best_individuals= best_individuals.append({'popsize': POPSIZE , 'fitness': best_individual_no_constraints_broken, 'individual':str(individual_max), \"crossoever\":CXPB, \"mutation\": MUTPB, \"selection\": TNSIZE, \"evaluate\": x}, ignore_index=True)\n"
     ]
    },
    {
     "name": "stdout",
     "output_type": "stream",
     "text": [
      "23\n"
     ]
    },
    {
     "name": "stderr",
     "output_type": "stream",
     "text": [
      "C:\\Users\\venet\\AppData\\Local\\Temp\\ipykernel_9824\\2781921912.py:64: FutureWarning: The frame.append method is deprecated and will be removed from pandas in a future version. Use pandas.concat instead.\n",
      "  df_Bests = df_Bests.append({'popsize': POPSIZE , 'fitness': best, 'genMaxFound':gen, 'individual':best_individual_in_generation, \"crossoever\":CXPB, \"mutation\": MUTPB, \"selection\": TNSIZE, \"evaluate\": x}, ignore_index=True)\n",
      "C:\\Users\\venet\\AppData\\Local\\Temp\\ipykernel_9824\\2781921912.py:65: FutureWarning: The frame.append method is deprecated and will be removed from pandas in a future version. Use pandas.concat instead.\n",
      "  best_individuals= best_individuals.append({'popsize': POPSIZE , 'fitness': best_individual_no_constraints_broken, 'individual':str(individual_max), \"crossoever\":CXPB, \"mutation\": MUTPB, \"selection\": TNSIZE, \"evaluate\": x}, ignore_index=True)\n"
     ]
    },
    {
     "name": "stdout",
     "output_type": "stream",
     "text": [
      "24\n"
     ]
    },
    {
     "name": "stderr",
     "output_type": "stream",
     "text": [
      "C:\\Users\\venet\\AppData\\Local\\Temp\\ipykernel_9824\\2781921912.py:64: FutureWarning: The frame.append method is deprecated and will be removed from pandas in a future version. Use pandas.concat instead.\n",
      "  df_Bests = df_Bests.append({'popsize': POPSIZE , 'fitness': best, 'genMaxFound':gen, 'individual':best_individual_in_generation, \"crossoever\":CXPB, \"mutation\": MUTPB, \"selection\": TNSIZE, \"evaluate\": x}, ignore_index=True)\n",
      "C:\\Users\\venet\\AppData\\Local\\Temp\\ipykernel_9824\\2781921912.py:65: FutureWarning: The frame.append method is deprecated and will be removed from pandas in a future version. Use pandas.concat instead.\n",
      "  best_individuals= best_individuals.append({'popsize': POPSIZE , 'fitness': best_individual_no_constraints_broken, 'individual':str(individual_max), \"crossoever\":CXPB, \"mutation\": MUTPB, \"selection\": TNSIZE, \"evaluate\": x}, ignore_index=True)\n"
     ]
    },
    {
     "name": "stdout",
     "output_type": "stream",
     "text": [
      "25\n"
     ]
    },
    {
     "name": "stderr",
     "output_type": "stream",
     "text": [
      "C:\\Users\\venet\\AppData\\Local\\Temp\\ipykernel_9824\\2781921912.py:64: FutureWarning: The frame.append method is deprecated and will be removed from pandas in a future version. Use pandas.concat instead.\n",
      "  df_Bests = df_Bests.append({'popsize': POPSIZE , 'fitness': best, 'genMaxFound':gen, 'individual':best_individual_in_generation, \"crossoever\":CXPB, \"mutation\": MUTPB, \"selection\": TNSIZE, \"evaluate\": x}, ignore_index=True)\n",
      "C:\\Users\\venet\\AppData\\Local\\Temp\\ipykernel_9824\\2781921912.py:65: FutureWarning: The frame.append method is deprecated and will be removed from pandas in a future version. Use pandas.concat instead.\n",
      "  best_individuals= best_individuals.append({'popsize': POPSIZE , 'fitness': best_individual_no_constraints_broken, 'individual':str(individual_max), \"crossoever\":CXPB, \"mutation\": MUTPB, \"selection\": TNSIZE, \"evaluate\": x}, ignore_index=True)\n"
     ]
    },
    {
     "name": "stdout",
     "output_type": "stream",
     "text": [
      "26\n"
     ]
    },
    {
     "name": "stderr",
     "output_type": "stream",
     "text": [
      "C:\\Users\\venet\\AppData\\Local\\Temp\\ipykernel_9824\\2781921912.py:64: FutureWarning: The frame.append method is deprecated and will be removed from pandas in a future version. Use pandas.concat instead.\n",
      "  df_Bests = df_Bests.append({'popsize': POPSIZE , 'fitness': best, 'genMaxFound':gen, 'individual':best_individual_in_generation, \"crossoever\":CXPB, \"mutation\": MUTPB, \"selection\": TNSIZE, \"evaluate\": x}, ignore_index=True)\n",
      "C:\\Users\\venet\\AppData\\Local\\Temp\\ipykernel_9824\\2781921912.py:65: FutureWarning: The frame.append method is deprecated and will be removed from pandas in a future version. Use pandas.concat instead.\n",
      "  best_individuals= best_individuals.append({'popsize': POPSIZE , 'fitness': best_individual_no_constraints_broken, 'individual':str(individual_max), \"crossoever\":CXPB, \"mutation\": MUTPB, \"selection\": TNSIZE, \"evaluate\": x}, ignore_index=True)\n"
     ]
    },
    {
     "name": "stdout",
     "output_type": "stream",
     "text": [
      "27\n"
     ]
    },
    {
     "name": "stderr",
     "output_type": "stream",
     "text": [
      "C:\\Users\\venet\\AppData\\Local\\Temp\\ipykernel_9824\\2781921912.py:64: FutureWarning: The frame.append method is deprecated and will be removed from pandas in a future version. Use pandas.concat instead.\n",
      "  df_Bests = df_Bests.append({'popsize': POPSIZE , 'fitness': best, 'genMaxFound':gen, 'individual':best_individual_in_generation, \"crossoever\":CXPB, \"mutation\": MUTPB, \"selection\": TNSIZE, \"evaluate\": x}, ignore_index=True)\n",
      "C:\\Users\\venet\\AppData\\Local\\Temp\\ipykernel_9824\\2781921912.py:65: FutureWarning: The frame.append method is deprecated and will be removed from pandas in a future version. Use pandas.concat instead.\n",
      "  best_individuals= best_individuals.append({'popsize': POPSIZE , 'fitness': best_individual_no_constraints_broken, 'individual':str(individual_max), \"crossoever\":CXPB, \"mutation\": MUTPB, \"selection\": TNSIZE, \"evaluate\": x}, ignore_index=True)\n"
     ]
    },
    {
     "name": "stdout",
     "output_type": "stream",
     "text": [
      "28\n"
     ]
    },
    {
     "name": "stderr",
     "output_type": "stream",
     "text": [
      "C:\\Users\\venet\\AppData\\Local\\Temp\\ipykernel_9824\\2781921912.py:64: FutureWarning: The frame.append method is deprecated and will be removed from pandas in a future version. Use pandas.concat instead.\n",
      "  df_Bests = df_Bests.append({'popsize': POPSIZE , 'fitness': best, 'genMaxFound':gen, 'individual':best_individual_in_generation, \"crossoever\":CXPB, \"mutation\": MUTPB, \"selection\": TNSIZE, \"evaluate\": x}, ignore_index=True)\n",
      "C:\\Users\\venet\\AppData\\Local\\Temp\\ipykernel_9824\\2781921912.py:65: FutureWarning: The frame.append method is deprecated and will be removed from pandas in a future version. Use pandas.concat instead.\n",
      "  best_individuals= best_individuals.append({'popsize': POPSIZE , 'fitness': best_individual_no_constraints_broken, 'individual':str(individual_max), \"crossoever\":CXPB, \"mutation\": MUTPB, \"selection\": TNSIZE, \"evaluate\": x}, ignore_index=True)\n"
     ]
    },
    {
     "name": "stdout",
     "output_type": "stream",
     "text": [
      "29\n"
     ]
    },
    {
     "name": "stderr",
     "output_type": "stream",
     "text": [
      "C:\\Users\\venet\\AppData\\Local\\Temp\\ipykernel_9824\\2781921912.py:64: FutureWarning: The frame.append method is deprecated and will be removed from pandas in a future version. Use pandas.concat instead.\n",
      "  df_Bests = df_Bests.append({'popsize': POPSIZE , 'fitness': best, 'genMaxFound':gen, 'individual':best_individual_in_generation, \"crossoever\":CXPB, \"mutation\": MUTPB, \"selection\": TNSIZE, \"evaluate\": x}, ignore_index=True)\n",
      "C:\\Users\\venet\\AppData\\Local\\Temp\\ipykernel_9824\\2781921912.py:65: FutureWarning: The frame.append method is deprecated and will be removed from pandas in a future version. Use pandas.concat instead.\n",
      "  best_individuals= best_individuals.append({'popsize': POPSIZE , 'fitness': best_individual_no_constraints_broken, 'individual':str(individual_max), \"crossoever\":CXPB, \"mutation\": MUTPB, \"selection\": TNSIZE, \"evaluate\": x}, ignore_index=True)\n"
     ]
    },
    {
     "name": "stdout",
     "output_type": "stream",
     "text": [
      "30\n"
     ]
    },
    {
     "name": "stderr",
     "output_type": "stream",
     "text": [
      "C:\\Users\\venet\\AppData\\Local\\Temp\\ipykernel_9824\\2781921912.py:64: FutureWarning: The frame.append method is deprecated and will be removed from pandas in a future version. Use pandas.concat instead.\n",
      "  df_Bests = df_Bests.append({'popsize': POPSIZE , 'fitness': best, 'genMaxFound':gen, 'individual':best_individual_in_generation, \"crossoever\":CXPB, \"mutation\": MUTPB, \"selection\": TNSIZE, \"evaluate\": x}, ignore_index=True)\n",
      "C:\\Users\\venet\\AppData\\Local\\Temp\\ipykernel_9824\\2781921912.py:65: FutureWarning: The frame.append method is deprecated and will be removed from pandas in a future version. Use pandas.concat instead.\n",
      "  best_individuals= best_individuals.append({'popsize': POPSIZE , 'fitness': best_individual_no_constraints_broken, 'individual':str(individual_max), \"crossoever\":CXPB, \"mutation\": MUTPB, \"selection\": TNSIZE, \"evaluate\": x}, ignore_index=True)\n"
     ]
    },
    {
     "name": "stdout",
     "output_type": "stream",
     "text": [
      "31\n"
     ]
    },
    {
     "name": "stderr",
     "output_type": "stream",
     "text": [
      "C:\\Users\\venet\\AppData\\Local\\Temp\\ipykernel_9824\\2781921912.py:64: FutureWarning: The frame.append method is deprecated and will be removed from pandas in a future version. Use pandas.concat instead.\n",
      "  df_Bests = df_Bests.append({'popsize': POPSIZE , 'fitness': best, 'genMaxFound':gen, 'individual':best_individual_in_generation, \"crossoever\":CXPB, \"mutation\": MUTPB, \"selection\": TNSIZE, \"evaluate\": x}, ignore_index=True)\n",
      "C:\\Users\\venet\\AppData\\Local\\Temp\\ipykernel_9824\\2781921912.py:65: FutureWarning: The frame.append method is deprecated and will be removed from pandas in a future version. Use pandas.concat instead.\n",
      "  best_individuals= best_individuals.append({'popsize': POPSIZE , 'fitness': best_individual_no_constraints_broken, 'individual':str(individual_max), \"crossoever\":CXPB, \"mutation\": MUTPB, \"selection\": TNSIZE, \"evaluate\": x}, ignore_index=True)\n"
     ]
    },
    {
     "name": "stdout",
     "output_type": "stream",
     "text": [
      "32\n"
     ]
    },
    {
     "name": "stderr",
     "output_type": "stream",
     "text": [
      "C:\\Users\\venet\\AppData\\Local\\Temp\\ipykernel_9824\\2781921912.py:64: FutureWarning: The frame.append method is deprecated and will be removed from pandas in a future version. Use pandas.concat instead.\n",
      "  df_Bests = df_Bests.append({'popsize': POPSIZE , 'fitness': best, 'genMaxFound':gen, 'individual':best_individual_in_generation, \"crossoever\":CXPB, \"mutation\": MUTPB, \"selection\": TNSIZE, \"evaluate\": x}, ignore_index=True)\n",
      "C:\\Users\\venet\\AppData\\Local\\Temp\\ipykernel_9824\\2781921912.py:65: FutureWarning: The frame.append method is deprecated and will be removed from pandas in a future version. Use pandas.concat instead.\n",
      "  best_individuals= best_individuals.append({'popsize': POPSIZE , 'fitness': best_individual_no_constraints_broken, 'individual':str(individual_max), \"crossoever\":CXPB, \"mutation\": MUTPB, \"selection\": TNSIZE, \"evaluate\": x}, ignore_index=True)\n"
     ]
    },
    {
     "name": "stdout",
     "output_type": "stream",
     "text": [
      "33\n"
     ]
    },
    {
     "name": "stderr",
     "output_type": "stream",
     "text": [
      "C:\\Users\\venet\\AppData\\Local\\Temp\\ipykernel_9824\\2781921912.py:64: FutureWarning: The frame.append method is deprecated and will be removed from pandas in a future version. Use pandas.concat instead.\n",
      "  df_Bests = df_Bests.append({'popsize': POPSIZE , 'fitness': best, 'genMaxFound':gen, 'individual':best_individual_in_generation, \"crossoever\":CXPB, \"mutation\": MUTPB, \"selection\": TNSIZE, \"evaluate\": x}, ignore_index=True)\n",
      "C:\\Users\\venet\\AppData\\Local\\Temp\\ipykernel_9824\\2781921912.py:65: FutureWarning: The frame.append method is deprecated and will be removed from pandas in a future version. Use pandas.concat instead.\n",
      "  best_individuals= best_individuals.append({'popsize': POPSIZE , 'fitness': best_individual_no_constraints_broken, 'individual':str(individual_max), \"crossoever\":CXPB, \"mutation\": MUTPB, \"selection\": TNSIZE, \"evaluate\": x}, ignore_index=True)\n"
     ]
    },
    {
     "name": "stdout",
     "output_type": "stream",
     "text": [
      "34\n"
     ]
    },
    {
     "name": "stderr",
     "output_type": "stream",
     "text": [
      "C:\\Users\\venet\\AppData\\Local\\Temp\\ipykernel_9824\\2781921912.py:64: FutureWarning: The frame.append method is deprecated and will be removed from pandas in a future version. Use pandas.concat instead.\n",
      "  df_Bests = df_Bests.append({'popsize': POPSIZE , 'fitness': best, 'genMaxFound':gen, 'individual':best_individual_in_generation, \"crossoever\":CXPB, \"mutation\": MUTPB, \"selection\": TNSIZE, \"evaluate\": x}, ignore_index=True)\n",
      "C:\\Users\\venet\\AppData\\Local\\Temp\\ipykernel_9824\\2781921912.py:65: FutureWarning: The frame.append method is deprecated and will be removed from pandas in a future version. Use pandas.concat instead.\n",
      "  best_individuals= best_individuals.append({'popsize': POPSIZE , 'fitness': best_individual_no_constraints_broken, 'individual':str(individual_max), \"crossoever\":CXPB, \"mutation\": MUTPB, \"selection\": TNSIZE, \"evaluate\": x}, ignore_index=True)\n"
     ]
    },
    {
     "name": "stdout",
     "output_type": "stream",
     "text": [
      "35\n"
     ]
    },
    {
     "name": "stderr",
     "output_type": "stream",
     "text": [
      "C:\\Users\\venet\\AppData\\Local\\Temp\\ipykernel_9824\\2781921912.py:64: FutureWarning: The frame.append method is deprecated and will be removed from pandas in a future version. Use pandas.concat instead.\n",
      "  df_Bests = df_Bests.append({'popsize': POPSIZE , 'fitness': best, 'genMaxFound':gen, 'individual':best_individual_in_generation, \"crossoever\":CXPB, \"mutation\": MUTPB, \"selection\": TNSIZE, \"evaluate\": x}, ignore_index=True)\n",
      "C:\\Users\\venet\\AppData\\Local\\Temp\\ipykernel_9824\\2781921912.py:65: FutureWarning: The frame.append method is deprecated and will be removed from pandas in a future version. Use pandas.concat instead.\n",
      "  best_individuals= best_individuals.append({'popsize': POPSIZE , 'fitness': best_individual_no_constraints_broken, 'individual':str(individual_max), \"crossoever\":CXPB, \"mutation\": MUTPB, \"selection\": TNSIZE, \"evaluate\": x}, ignore_index=True)\n"
     ]
    },
    {
     "name": "stdout",
     "output_type": "stream",
     "text": [
      "36\n"
     ]
    },
    {
     "name": "stderr",
     "output_type": "stream",
     "text": [
      "C:\\Users\\venet\\AppData\\Local\\Temp\\ipykernel_9824\\2781921912.py:64: FutureWarning: The frame.append method is deprecated and will be removed from pandas in a future version. Use pandas.concat instead.\n",
      "  df_Bests = df_Bests.append({'popsize': POPSIZE , 'fitness': best, 'genMaxFound':gen, 'individual':best_individual_in_generation, \"crossoever\":CXPB, \"mutation\": MUTPB, \"selection\": TNSIZE, \"evaluate\": x}, ignore_index=True)\n",
      "C:\\Users\\venet\\AppData\\Local\\Temp\\ipykernel_9824\\2781921912.py:65: FutureWarning: The frame.append method is deprecated and will be removed from pandas in a future version. Use pandas.concat instead.\n",
      "  best_individuals= best_individuals.append({'popsize': POPSIZE , 'fitness': best_individual_no_constraints_broken, 'individual':str(individual_max), \"crossoever\":CXPB, \"mutation\": MUTPB, \"selection\": TNSIZE, \"evaluate\": x}, ignore_index=True)\n"
     ]
    },
    {
     "name": "stdout",
     "output_type": "stream",
     "text": [
      "37\n"
     ]
    },
    {
     "name": "stderr",
     "output_type": "stream",
     "text": [
      "C:\\Users\\venet\\AppData\\Local\\Temp\\ipykernel_9824\\2781921912.py:64: FutureWarning: The frame.append method is deprecated and will be removed from pandas in a future version. Use pandas.concat instead.\n",
      "  df_Bests = df_Bests.append({'popsize': POPSIZE , 'fitness': best, 'genMaxFound':gen, 'individual':best_individual_in_generation, \"crossoever\":CXPB, \"mutation\": MUTPB, \"selection\": TNSIZE, \"evaluate\": x}, ignore_index=True)\n",
      "C:\\Users\\venet\\AppData\\Local\\Temp\\ipykernel_9824\\2781921912.py:65: FutureWarning: The frame.append method is deprecated and will be removed from pandas in a future version. Use pandas.concat instead.\n",
      "  best_individuals= best_individuals.append({'popsize': POPSIZE , 'fitness': best_individual_no_constraints_broken, 'individual':str(individual_max), \"crossoever\":CXPB, \"mutation\": MUTPB, \"selection\": TNSIZE, \"evaluate\": x}, ignore_index=True)\n"
     ]
    },
    {
     "name": "stdout",
     "output_type": "stream",
     "text": [
      "38\n"
     ]
    },
    {
     "name": "stderr",
     "output_type": "stream",
     "text": [
      "C:\\Users\\venet\\AppData\\Local\\Temp\\ipykernel_9824\\2781921912.py:64: FutureWarning: The frame.append method is deprecated and will be removed from pandas in a future version. Use pandas.concat instead.\n",
      "  df_Bests = df_Bests.append({'popsize': POPSIZE , 'fitness': best, 'genMaxFound':gen, 'individual':best_individual_in_generation, \"crossoever\":CXPB, \"mutation\": MUTPB, \"selection\": TNSIZE, \"evaluate\": x}, ignore_index=True)\n",
      "C:\\Users\\venet\\AppData\\Local\\Temp\\ipykernel_9824\\2781921912.py:65: FutureWarning: The frame.append method is deprecated and will be removed from pandas in a future version. Use pandas.concat instead.\n",
      "  best_individuals= best_individuals.append({'popsize': POPSIZE , 'fitness': best_individual_no_constraints_broken, 'individual':str(individual_max), \"crossoever\":CXPB, \"mutation\": MUTPB, \"selection\": TNSIZE, \"evaluate\": x}, ignore_index=True)\n"
     ]
    },
    {
     "name": "stdout",
     "output_type": "stream",
     "text": [
      "39\n"
     ]
    },
    {
     "name": "stderr",
     "output_type": "stream",
     "text": [
      "C:\\Users\\venet\\AppData\\Local\\Temp\\ipykernel_9824\\2781921912.py:64: FutureWarning: The frame.append method is deprecated and will be removed from pandas in a future version. Use pandas.concat instead.\n",
      "  df_Bests = df_Bests.append({'popsize': POPSIZE , 'fitness': best, 'genMaxFound':gen, 'individual':best_individual_in_generation, \"crossoever\":CXPB, \"mutation\": MUTPB, \"selection\": TNSIZE, \"evaluate\": x}, ignore_index=True)\n",
      "C:\\Users\\venet\\AppData\\Local\\Temp\\ipykernel_9824\\2781921912.py:65: FutureWarning: The frame.append method is deprecated and will be removed from pandas in a future version. Use pandas.concat instead.\n",
      "  best_individuals= best_individuals.append({'popsize': POPSIZE , 'fitness': best_individual_no_constraints_broken, 'individual':str(individual_max), \"crossoever\":CXPB, \"mutation\": MUTPB, \"selection\": TNSIZE, \"evaluate\": x}, ignore_index=True)\n"
     ]
    },
    {
     "name": "stdout",
     "output_type": "stream",
     "text": [
      "40\n"
     ]
    },
    {
     "name": "stderr",
     "output_type": "stream",
     "text": [
      "C:\\Users\\venet\\AppData\\Local\\Temp\\ipykernel_9824\\2781921912.py:64: FutureWarning: The frame.append method is deprecated and will be removed from pandas in a future version. Use pandas.concat instead.\n",
      "  df_Bests = df_Bests.append({'popsize': POPSIZE , 'fitness': best, 'genMaxFound':gen, 'individual':best_individual_in_generation, \"crossoever\":CXPB, \"mutation\": MUTPB, \"selection\": TNSIZE, \"evaluate\": x}, ignore_index=True)\n",
      "C:\\Users\\venet\\AppData\\Local\\Temp\\ipykernel_9824\\2781921912.py:65: FutureWarning: The frame.append method is deprecated and will be removed from pandas in a future version. Use pandas.concat instead.\n",
      "  best_individuals= best_individuals.append({'popsize': POPSIZE , 'fitness': best_individual_no_constraints_broken, 'individual':str(individual_max), \"crossoever\":CXPB, \"mutation\": MUTPB, \"selection\": TNSIZE, \"evaluate\": x}, ignore_index=True)\n"
     ]
    },
    {
     "name": "stdout",
     "output_type": "stream",
     "text": [
      "41\n"
     ]
    },
    {
     "name": "stderr",
     "output_type": "stream",
     "text": [
      "C:\\Users\\venet\\AppData\\Local\\Temp\\ipykernel_9824\\2781921912.py:64: FutureWarning: The frame.append method is deprecated and will be removed from pandas in a future version. Use pandas.concat instead.\n",
      "  df_Bests = df_Bests.append({'popsize': POPSIZE , 'fitness': best, 'genMaxFound':gen, 'individual':best_individual_in_generation, \"crossoever\":CXPB, \"mutation\": MUTPB, \"selection\": TNSIZE, \"evaluate\": x}, ignore_index=True)\n",
      "C:\\Users\\venet\\AppData\\Local\\Temp\\ipykernel_9824\\2781921912.py:65: FutureWarning: The frame.append method is deprecated and will be removed from pandas in a future version. Use pandas.concat instead.\n",
      "  best_individuals= best_individuals.append({'popsize': POPSIZE , 'fitness': best_individual_no_constraints_broken, 'individual':str(individual_max), \"crossoever\":CXPB, \"mutation\": MUTPB, \"selection\": TNSIZE, \"evaluate\": x}, ignore_index=True)\n"
     ]
    },
    {
     "name": "stdout",
     "output_type": "stream",
     "text": [
      "42\n"
     ]
    },
    {
     "name": "stderr",
     "output_type": "stream",
     "text": [
      "C:\\Users\\venet\\AppData\\Local\\Temp\\ipykernel_9824\\2781921912.py:64: FutureWarning: The frame.append method is deprecated and will be removed from pandas in a future version. Use pandas.concat instead.\n",
      "  df_Bests = df_Bests.append({'popsize': POPSIZE , 'fitness': best, 'genMaxFound':gen, 'individual':best_individual_in_generation, \"crossoever\":CXPB, \"mutation\": MUTPB, \"selection\": TNSIZE, \"evaluate\": x}, ignore_index=True)\n",
      "C:\\Users\\venet\\AppData\\Local\\Temp\\ipykernel_9824\\2781921912.py:65: FutureWarning: The frame.append method is deprecated and will be removed from pandas in a future version. Use pandas.concat instead.\n",
      "  best_individuals= best_individuals.append({'popsize': POPSIZE , 'fitness': best_individual_no_constraints_broken, 'individual':str(individual_max), \"crossoever\":CXPB, \"mutation\": MUTPB, \"selection\": TNSIZE, \"evaluate\": x}, ignore_index=True)\n"
     ]
    },
    {
     "name": "stdout",
     "output_type": "stream",
     "text": [
      "43\n"
     ]
    },
    {
     "name": "stderr",
     "output_type": "stream",
     "text": [
      "C:\\Users\\venet\\AppData\\Local\\Temp\\ipykernel_9824\\2781921912.py:64: FutureWarning: The frame.append method is deprecated and will be removed from pandas in a future version. Use pandas.concat instead.\n",
      "  df_Bests = df_Bests.append({'popsize': POPSIZE , 'fitness': best, 'genMaxFound':gen, 'individual':best_individual_in_generation, \"crossoever\":CXPB, \"mutation\": MUTPB, \"selection\": TNSIZE, \"evaluate\": x}, ignore_index=True)\n",
      "C:\\Users\\venet\\AppData\\Local\\Temp\\ipykernel_9824\\2781921912.py:65: FutureWarning: The frame.append method is deprecated and will be removed from pandas in a future version. Use pandas.concat instead.\n",
      "  best_individuals= best_individuals.append({'popsize': POPSIZE , 'fitness': best_individual_no_constraints_broken, 'individual':str(individual_max), \"crossoever\":CXPB, \"mutation\": MUTPB, \"selection\": TNSIZE, \"evaluate\": x}, ignore_index=True)\n"
     ]
    },
    {
     "name": "stdout",
     "output_type": "stream",
     "text": [
      "44\n"
     ]
    },
    {
     "name": "stderr",
     "output_type": "stream",
     "text": [
      "C:\\Users\\venet\\AppData\\Local\\Temp\\ipykernel_9824\\2781921912.py:64: FutureWarning: The frame.append method is deprecated and will be removed from pandas in a future version. Use pandas.concat instead.\n",
      "  df_Bests = df_Bests.append({'popsize': POPSIZE , 'fitness': best, 'genMaxFound':gen, 'individual':best_individual_in_generation, \"crossoever\":CXPB, \"mutation\": MUTPB, \"selection\": TNSIZE, \"evaluate\": x}, ignore_index=True)\n",
      "C:\\Users\\venet\\AppData\\Local\\Temp\\ipykernel_9824\\2781921912.py:65: FutureWarning: The frame.append method is deprecated and will be removed from pandas in a future version. Use pandas.concat instead.\n",
      "  best_individuals= best_individuals.append({'popsize': POPSIZE , 'fitness': best_individual_no_constraints_broken, 'individual':str(individual_max), \"crossoever\":CXPB, \"mutation\": MUTPB, \"selection\": TNSIZE, \"evaluate\": x}, ignore_index=True)\n"
     ]
    },
    {
     "name": "stdout",
     "output_type": "stream",
     "text": [
      "45\n"
     ]
    },
    {
     "name": "stderr",
     "output_type": "stream",
     "text": [
      "C:\\Users\\venet\\AppData\\Local\\Temp\\ipykernel_9824\\2781921912.py:64: FutureWarning: The frame.append method is deprecated and will be removed from pandas in a future version. Use pandas.concat instead.\n",
      "  df_Bests = df_Bests.append({'popsize': POPSIZE , 'fitness': best, 'genMaxFound':gen, 'individual':best_individual_in_generation, \"crossoever\":CXPB, \"mutation\": MUTPB, \"selection\": TNSIZE, \"evaluate\": x}, ignore_index=True)\n",
      "C:\\Users\\venet\\AppData\\Local\\Temp\\ipykernel_9824\\2781921912.py:65: FutureWarning: The frame.append method is deprecated and will be removed from pandas in a future version. Use pandas.concat instead.\n",
      "  best_individuals= best_individuals.append({'popsize': POPSIZE , 'fitness': best_individual_no_constraints_broken, 'individual':str(individual_max), \"crossoever\":CXPB, \"mutation\": MUTPB, \"selection\": TNSIZE, \"evaluate\": x}, ignore_index=True)\n"
     ]
    },
    {
     "name": "stdout",
     "output_type": "stream",
     "text": [
      "46\n"
     ]
    },
    {
     "name": "stderr",
     "output_type": "stream",
     "text": [
      "C:\\Users\\venet\\AppData\\Local\\Temp\\ipykernel_9824\\2781921912.py:64: FutureWarning: The frame.append method is deprecated and will be removed from pandas in a future version. Use pandas.concat instead.\n",
      "  df_Bests = df_Bests.append({'popsize': POPSIZE , 'fitness': best, 'genMaxFound':gen, 'individual':best_individual_in_generation, \"crossoever\":CXPB, \"mutation\": MUTPB, \"selection\": TNSIZE, \"evaluate\": x}, ignore_index=True)\n",
      "C:\\Users\\venet\\AppData\\Local\\Temp\\ipykernel_9824\\2781921912.py:65: FutureWarning: The frame.append method is deprecated and will be removed from pandas in a future version. Use pandas.concat instead.\n",
      "  best_individuals= best_individuals.append({'popsize': POPSIZE , 'fitness': best_individual_no_constraints_broken, 'individual':str(individual_max), \"crossoever\":CXPB, \"mutation\": MUTPB, \"selection\": TNSIZE, \"evaluate\": x}, ignore_index=True)\n"
     ]
    },
    {
     "name": "stdout",
     "output_type": "stream",
     "text": [
      "47\n"
     ]
    },
    {
     "name": "stderr",
     "output_type": "stream",
     "text": [
      "C:\\Users\\venet\\AppData\\Local\\Temp\\ipykernel_9824\\2781921912.py:64: FutureWarning: The frame.append method is deprecated and will be removed from pandas in a future version. Use pandas.concat instead.\n",
      "  df_Bests = df_Bests.append({'popsize': POPSIZE , 'fitness': best, 'genMaxFound':gen, 'individual':best_individual_in_generation, \"crossoever\":CXPB, \"mutation\": MUTPB, \"selection\": TNSIZE, \"evaluate\": x}, ignore_index=True)\n",
      "C:\\Users\\venet\\AppData\\Local\\Temp\\ipykernel_9824\\2781921912.py:65: FutureWarning: The frame.append method is deprecated and will be removed from pandas in a future version. Use pandas.concat instead.\n",
      "  best_individuals= best_individuals.append({'popsize': POPSIZE , 'fitness': best_individual_no_constraints_broken, 'individual':str(individual_max), \"crossoever\":CXPB, \"mutation\": MUTPB, \"selection\": TNSIZE, \"evaluate\": x}, ignore_index=True)\n"
     ]
    },
    {
     "name": "stdout",
     "output_type": "stream",
     "text": [
      "48\n"
     ]
    },
    {
     "name": "stderr",
     "output_type": "stream",
     "text": [
      "C:\\Users\\venet\\AppData\\Local\\Temp\\ipykernel_9824\\2781921912.py:64: FutureWarning: The frame.append method is deprecated and will be removed from pandas in a future version. Use pandas.concat instead.\n",
      "  df_Bests = df_Bests.append({'popsize': POPSIZE , 'fitness': best, 'genMaxFound':gen, 'individual':best_individual_in_generation, \"crossoever\":CXPB, \"mutation\": MUTPB, \"selection\": TNSIZE, \"evaluate\": x}, ignore_index=True)\n",
      "C:\\Users\\venet\\AppData\\Local\\Temp\\ipykernel_9824\\2781921912.py:65: FutureWarning: The frame.append method is deprecated and will be removed from pandas in a future version. Use pandas.concat instead.\n",
      "  best_individuals= best_individuals.append({'popsize': POPSIZE , 'fitness': best_individual_no_constraints_broken, 'individual':str(individual_max), \"crossoever\":CXPB, \"mutation\": MUTPB, \"selection\": TNSIZE, \"evaluate\": x}, ignore_index=True)\n"
     ]
    },
    {
     "name": "stdout",
     "output_type": "stream",
     "text": [
      "49\n"
     ]
    },
    {
     "name": "stderr",
     "output_type": "stream",
     "text": [
      "C:\\Users\\venet\\AppData\\Local\\Temp\\ipykernel_9824\\2781921912.py:64: FutureWarning: The frame.append method is deprecated and will be removed from pandas in a future version. Use pandas.concat instead.\n",
      "  df_Bests = df_Bests.append({'popsize': POPSIZE , 'fitness': best, 'genMaxFound':gen, 'individual':best_individual_in_generation, \"crossoever\":CXPB, \"mutation\": MUTPB, \"selection\": TNSIZE, \"evaluate\": x}, ignore_index=True)\n",
      "C:\\Users\\venet\\AppData\\Local\\Temp\\ipykernel_9824\\2781921912.py:65: FutureWarning: The frame.append method is deprecated and will be removed from pandas in a future version. Use pandas.concat instead.\n",
      "  best_individuals= best_individuals.append({'popsize': POPSIZE , 'fitness': best_individual_no_constraints_broken, 'individual':str(individual_max), \"crossoever\":CXPB, \"mutation\": MUTPB, \"selection\": TNSIZE, \"evaluate\": x}, ignore_index=True)\n"
     ]
    }
   ],
   "source": [
    "import multiprocessing\n",
    "# Experiment:  test POPSIZE from 50-150 in steps of 50\n",
    "\n",
    "all_logs=[]     # make an empty list to store the log files prodiced\n",
    "\n",
    "# create an dataframe that has 3 columns to record the important data from each run\n",
    "df_Bests = pd.DataFrame({'popsize': pd.Series(dtype='int'),\n",
    "                'fitness': pd.Series(dtype='float'),\n",
    "                'genMaxFound': pd.Series(dtype='int'),\n",
    "                'individual': pd.Series(dtype='int'), \n",
    "                'crossoever': pd.Series(dtype='float'),\n",
    "                'mutation': pd.Series(dtype='float'),\n",
    "                'selection': pd.Series(dtype='int'),\n",
    "                'evaluate':pd.Series(dtype='int')})\n",
    "best_individuals = pd.DataFrame({'popsize': pd.Series(dtype='int'),\n",
    "                'fitness': pd.Series(dtype='float'),\n",
    "                'individual': pd.Series(dtype='int'), \n",
    "                'crossoever': pd.Series(dtype='float'),\n",
    "                'mutation': pd.Series(dtype='float'),\n",
    "                'selection': pd.Series(dtype='int'),\n",
    "                'evaluate':pd.Series(dtype='int')})\n",
    "best_individuals_list = []\n",
    "best_individual_per_generation_no_broken_constrant = []\n",
    "best_individual_though_populatioon = []\n",
    "x = 2\n",
    "\n",
    "#for POPSIZE in range(20, 61, 20):  # from 50 to 150 in steps of 50 MUTPB\n",
    "for  TNSIZE in range(10, 21, 10):\n",
    "    #for  MUTPB in np.arange(0.5, 1.1, 0.5):\n",
    "        # for  CXPB in np.arange(0.6, 1.1, 0.4):\n",
    "        # for  TNSIZE in range(int(POPSIZE/2), POPSIZE+1, int(POPSIZE/2)):\n",
    "    # if POPSIZE != TNSIZE:\n",
    "    #     TNSIZE = POPSIZE\n",
    "    \n",
    "    best_individual = []\n",
    "    # repeat EA 10x for each parameter\n",
    "    for reps in range(50):\n",
    "        score_max = 0\n",
    "        individual_max = 0\n",
    "        print(reps)\n",
    "        # if x == 0:\n",
    "        #     pop,log,hof,best_individual_thoughout = runEA()\n",
    "        # elif x == 1:\n",
    "        #     pop,log,hof,best_individual_thoughout = runEA1()\n",
    "        # elif x == 2:\n",
    "        pop,log,hof,best_individual_thoughout = runEA2()\n",
    "        # extract the best fitness\n",
    "        for individual in hof:\n",
    "            broken_constraints, score = check_constraints_modified_no_print(individual)\n",
    "            if score > score_max and broken_constraints == [0, 0, 0, 0, 0, 0]:\n",
    "                score_max = score\n",
    "                individual_max = individual\n",
    "        best = hof[0].fitness.values[0]   # best fitness found is stored at index 0 in the hof list\n",
    "        best_individual_in_generation = hof[0]\n",
    "        if individual_max != 0:\n",
    "            best_individual_no_constraints_broken = individual_max.fitness.values[0] \n",
    "        # save the generation this fitness was first found\n",
    "        max = log.select('max')\n",
    "        for gen in range(NGEN):  \n",
    "            if max[gen] == best:\n",
    "                break   \n",
    "        \n",
    "        # update the df with the new data\n",
    "        df_Bests = df_Bests.append({'popsize': POPSIZE , 'fitness': best, 'genMaxFound':gen, 'individual':best_individual_in_generation, \"crossoever\":CXPB, \"mutation\": MUTPB, \"selection\": TNSIZE, \"evaluate\": x}, ignore_index=True)\n",
    "        best_individuals= best_individuals.append({'popsize': POPSIZE , 'fitness': best_individual_no_constraints_broken, 'individual':str(individual_max), \"crossoever\":CXPB, \"mutation\": MUTPB, \"selection\": TNSIZE, \"evaluate\": x}, ignore_index=True)\n",
    "        # add the log which has the information about each generation  from each experiment to a list\n",
    "        all_logs.append(log)\n",
    "        if individual_max != 0:\n",
    "            best_individual.append(individual_max)\n",
    "            best_individuals_list.append(best_individual)\n",
    "        best_individual_though_populatioon_one = [best_individual_thoughout, x]\n",
    "        best_individual_though_populatioon.append(best_individual_though_populatioon_one)\n",
    "\n",
    "\n",
    "df_Bests.to_csv(\"df_bests_25_select\", encoding='utf-8', index=False)\n",
    "best_individuals.to_csv(\"best_individuals_25_select\", encoding='utf-8', index=False)\n",
    "import csv\n",
    "import csv\n",
    "with open(\"best_individual_t25_select.csv\", \"w\", newline=\"\") as f:\n",
    "    writer = csv.writer(f)\n",
    "    writer.writerows(best_individuals_list)\n",
    "with open(\"best_individual_though_populatioon_t25_select.csv\", \"w\", newline=\"\") as f:\n",
    "    writer = csv.writer(f)\n",
    "    writer.writerows(best_individual_though_populatioon)"
   ]
  },
  {
   "cell_type": "code",
   "execution_count": null,
   "metadata": {},
   "outputs": [],
   "source": [
    "df_Bests.to_csv(\"df_bests_9\", encoding='utf-8', index=False)\n",
    "best_individuals.to_csv(\"best_individuals_9\", encoding='utf-8', index=False)\n",
    "#all_logs.to_csv(\"all_logs_experiment_1_t5\", encoding='utf-8', index=False)\n",
    "import csv\n",
    "with open(\"all_logs_experiment_1_t9.csv\", \"w\", newline=\"\") as f:\n",
    "    writer = csv.writer(f)\n",
    "    writer.writerows(all_logs)"
   ]
  },
  {
   "cell_type": "code",
   "execution_count": null,
   "metadata": {},
   "outputs": [
    {
     "data": {
      "text/plain": [
       "<matplotlib.collections.PolyCollection at 0x1e51b1630d0>"
      ]
     },
     "execution_count": 219,
     "metadata": {},
     "output_type": "execute_result"
    },
    {
     "data": {
      "image/png": "[encoded data removed]",
      "text/plain": [
       "<Figure size 432x288 with 1 Axes>"
      ]
     },
     "metadata": {
      "needs_background": "light"
     },
     "output_type": "display_data"
    }
   ],
   "source": [
    "\n",
    "all_logs_df = []\n",
    "\n",
    "\n",
    "# this loops over logs 0-9, i.e. the 10 logs associate with POPSIZE=50. You can change it for other POPSIZE values\n",
    "for j in  range(10,19):\n",
    "    logbook = all_logs[j]  # extract the relacant logbook \n",
    "    data_1 = [[i for i in item.values()] for item in logbook]  # this creates a list [0,1,2...n] where n is the length of the log book - it is need for creating the x-axis when plotting\n",
    "    header = list(logbook.header)\n",
    "    df = pd.DataFrame(data_1, columns=header)  # turn the logbook into a dataframe as its easier to work with\n",
    "    all_logs_df.append(df) # add the log a list of dataframes\n",
    "       \n",
    "       \n",
    "df_result = pd.concat(all_logs_df)   # this makes one dataframe from the 10 separate ones we created above\n",
    "\n",
    "#calculate the mean value of the 10 best results (\"max\") found at every generation in every run [i,e from 10 values]\n",
    "#repeat to calculate the \"minimum\" value of the 10 best results at each generation\n",
    "#repeat to calculate the \"maximum\" value of the 10 best results at each generation\n",
    "\n",
    "max_mean=df_result['max'].groupby(df_result['gen']).apply(np.mean) # look at the max column, group results by \"gen\", and apply the relevant statistic\n",
    "max_max=df_result['max'].groupby(df_result['gen']).apply(np.max)\n",
    "max_min=df_result['max'].groupby(df_result['gen']).apply(np.min)\n",
    "\n",
    "\n",
    "#plot convergence curves for data of choice\n",
    "\n",
    "x = [i for i in range(0,151)]  # make sure this is set to NGEN+1 ... it creates a list [0,1,2,....NGEN] used to define the x-axis for plotting\n",
    "fig, ax = plt.subplots()\n",
    "# plot the mean value of the best result per generation\n",
    "ax.plot(max_mean, color='red')\n",
    "# not plot the max and min value of the best result per generation and shade to show the variance per run\n",
    "ax.fill_between(x,max_min, max_max, alpha=0.2)"
   ]
  },
  {
   "cell_type": "code",
   "execution_count": null,
   "metadata": {},
   "outputs": [
    {
     "data": {
      "text/plain": [
       "<matplotlib.collections.PolyCollection at 0x1e5200a9940>"
      ]
     },
     "execution_count": 220,
     "metadata": {},
     "output_type": "execute_result"
    },
    {
     "data": {
      "image/png": "[encoded data removed]",
      "text/plain": [
       "<Figure size 432x288 with 1 Axes>"
      ]
     },
     "metadata": {
      "needs_background": "light"
     },
     "output_type": "display_data"
    }
   ],
   "source": [
    "\n",
    "# show std instead of min/max variation\n",
    "max_std=df_result['max'].groupby(df_result['gen']).apply(np.std)    # calculate standard dev of the values from each of the runs at each generation of the runs\n",
    "\n",
    "max_max = max_mean+max_std\n",
    "max_min = max_mean-max_std\n",
    "\n",
    "x = [i for i in range(0,151)]  # make sure this is set to NGEN+1 ... it creates a list [0,1,2,....NGEN] used to define the x-axis for plotting\n",
    "fig, ax = plt.subplots()\n",
    "# plot the mean value of the best result per generation\n",
    "ax.plot(max_mean, color='red')\n",
    "# not plot the max and min value of the best result per generation and shade to show the variance per run\n",
    "ax.fill_between(x,max_min, max_max, alpha=0.2)\n"
   ]
  },
  {
   "cell_type": "code",
   "execution_count": null,
   "metadata": {},
   "outputs": [
    {
     "data": {
      "text/plain": [
       "<matplotlib.collections.PolyCollection at 0x1e51fcf88e0>"
      ]
     },
     "execution_count": 221,
     "metadata": {},
     "output_type": "execute_result"
    },
    {
     "data": {
      "image/png": "[encoded data removed]",
      "text/plain": [
       "<Figure size 432x288 with 1 Axes>"
      ]
     },
     "metadata": {
      "needs_background": "light"
     },
     "output_type": "display_data"
    }
   ],
   "source": [
    "all_logs_df = []\n",
    "\n",
    "\n",
    "# this loops over logs 0-9, i.e. the 10 logs associate with POPSIZE=50. You can change it for other POPSIZE values\n",
    "for j in  range(0,9):\n",
    "    logbook = all_logs[j]  # extract the relacant logbook \n",
    "    data_1 = [[i for i in item.values()] for item in logbook]  # this creates a list [0,1,2...n] where n is the length of the log book - it is need for creating the x-axis when plotting\n",
    "    header = list(logbook.header)\n",
    "    df = pd.DataFrame(data_1, columns=header)  # turn the logbook into a dataframe as its easier to work with\n",
    "    all_logs_df.append(df) # add the log a list of dataframes\n",
    "       \n",
    "       \n",
    "df_result = pd.concat(all_logs_df)   # this makes one dataframe from the 10 separate ones we created above\n",
    "\n",
    "#calculate the mean value of the 10 best results (\"max\") found at every generation in every run [i,e from 10 values]\n",
    "#repeat to calculate the \"minimum\" value of the 10 best results at each generation\n",
    "#repeat to calculate the \"maximum\" value of the 10 best results at each generation\n",
    "\n",
    "max_mean=df_result['max'].groupby(df_result['gen']).apply(np.mean) # look at the max column, group results by \"gen\", and apply the relevant statistic\n",
    "max_max=df_result['max'].groupby(df_result['gen']).apply(np.max)\n",
    "max_min=df_result['max'].groupby(df_result['gen']).apply(np.min)\n",
    "\n",
    "\n",
    "#plot convergence curves for data of choice\n",
    "\n",
    "x = [i for i in range(0,151)]  # make sure this is set to NGEN+1 ... it creates a list [0,1,2,....NGEN] used to define the x-axis for plotting\n",
    "fig, ax = plt.subplots()\n",
    "# plot the mean value of the best result per generation\n",
    "ax.plot(max_mean, color='red')\n",
    "# not plot the max and min value of the best result per generation and shade to show the variance per run\n",
    "ax.fill_between(x,max_min, max_max, alpha=0.2)"
   ]
  },
  {
   "cell_type": "code",
   "execution_count": null,
   "metadata": {},
   "outputs": [
    {
     "data": {
      "text/plain": [
       "<matplotlib.collections.PolyCollection at 0x1e51f98b460>"
      ]
     },
     "execution_count": 222,
     "metadata": {},
     "output_type": "execute_result"
    },
    {
     "data": {
      "image/png": "[encoded data removed]",
      "text/plain": [
       "<Figure size 432x288 with 1 Axes>"
      ]
     },
     "metadata": {
      "needs_background": "light"
     },
     "output_type": "display_data"
    }
   ],
   "source": [
    "\n",
    "# show std instead of min/max variation\n",
    "max_std=df_result['max'].groupby(df_result['gen']).apply(np.std)    # calculate standard dev of the values from each of the runs at each generation of the runs\n",
    "\n",
    "max_max = max_mean+max_std\n",
    "max_min = max_mean-max_std\n",
    "\n",
    "x = [i for i in range(0,151)]  # make sure this is set to NGEN+1 ... it creates a list [0,1,2,....NGEN] used to define the x-axis for plotting\n",
    "fig, ax = plt.subplots()\n",
    "# plot the mean value of the best result per generation\n",
    "ax.plot(max_mean, color='red')\n",
    "# not plot the max and min value of the best result per generation and shade to show the variance per run\n",
    "ax.fill_between(x,max_min, max_max, alpha=0.2)\n"
   ]
  },
  {
   "cell_type": "code",
   "execution_count": null,
   "metadata": {},
   "outputs": [
    {
     "name": "stdout",
     "output_type": "stream",
     "text": [
      "           popsize  fitness  genMaxFound  crossoever  mutation\n",
      "selection                                                     \n",
      "2             20.0  1632.14        88.68         0.5       0.3\n",
      "4             20.0  1641.60        94.18         0.5       0.3\n",
      "6             20.0  1635.74        90.90         0.5       0.3\n",
      "8             20.0  1604.06        89.66         0.5       0.3\n",
      "10            20.0  1626.86        94.32         0.5       0.3\n",
      "12            20.0  1624.90        92.12         0.5       0.3\n",
      "14            20.0  1599.58        84.40         0.5       0.3\n",
      "16            20.0  1636.96        90.76         0.5       0.3\n",
      "18            20.0  1630.08        93.38         0.5       0.3\n",
      "20            20.0  1633.24        80.70         0.5       0.3\n",
      "           popsize  fitness  genMaxFound  crossoever  mutation\n",
      "selection                                                     \n",
      "2             20.0   1616.0         93.0         0.5       0.3\n",
      "4             20.0   1623.5         96.5         0.5       0.3\n",
      "6             20.0   1621.0         95.5         0.5       0.3\n",
      "8             20.0   1602.5         95.5         0.5       0.3\n",
      "10            20.0   1608.5         99.0         0.5       0.3\n",
      "12            20.0   1609.0         98.0         0.5       0.3\n",
      "14            20.0   1583.0         84.5         0.5       0.3\n",
      "16            20.0   1626.5        100.5         0.5       0.3\n",
      "18            20.0   1638.5         94.0         0.5       0.3\n",
      "20            20.0   1626.5         76.5         0.5       0.3\n",
      "           popsize     fitness  genMaxFound  crossoever  mutation\n",
      "selection                                                        \n",
      "2              0.0  118.171444    41.950622         0.0       0.0\n",
      "4              0.0  114.821423    41.988186         0.0       0.0\n",
      "6              0.0  143.726045    37.305824         0.0       0.0\n",
      "8              0.0  104.762201    39.860271         0.0       0.0\n",
      "10             0.0  135.157355    37.036353         0.0       0.0\n",
      "12             0.0  118.661627    35.923751         0.0       0.0\n",
      "14             0.0   94.351728    41.093721         0.0       0.0\n",
      "16             0.0  126.302029    40.498707         0.0       0.0\n",
      "18             0.0  107.606395    37.564578         0.0       0.0\n",
      "20             0.0  133.206079    35.953627         0.0       0.0\n"
     ]
    },
    {
     "data": {
      "image/png": "[encoded data removed]",
      "text/plain": [
       "<Figure size 432x288 with 1 Axes>"
      ]
     },
     "metadata": {
      "needs_background": "light"
     },
     "output_type": "display_data"
    },
    {
     "data": {
      "image/png": "[encoded data removed]",
      "text/plain": [
       "<Figure size 432x288 with 1 Axes>"
      ]
     },
     "metadata": {
      "needs_background": "light"
     },
     "output_type": "display_data"
    }
   ],
   "source": [
    "# code for calcualating and printing statistics from the dataframe df_Bests which  (from above) contains that best result per run per popsize\n",
    "print(df_Bests.groupby('selection').mean())\n",
    "\n",
    "#  you can calculate other statistics such as median, std if you want\n",
    "print(df_Bests.groupby('selection').median())\n",
    "print(df_Bests.groupby('selection').std())\n",
    "\n",
    "# plot the boxplot of best fitness per population size\n",
    "boxplot = df_Bests.boxplot(column=['fitness'], by=['selection'])\n",
    "\n",
    "# plot genMaxFound per population size\n",
    "boxplot = df_Bests.boxplot(column=['genMaxFound'], by=['selection'])"
   ]
  },
  {
   "cell_type": "code",
   "execution_count": 70,
   "metadata": {},
   "outputs": [
    {
     "name": "stdout",
     "output_type": "stream",
     "text": [
      "          popsize      fitness  genMaxFound  crossoever  selection  evaluate\n",
      "mutation                                                                    \n",
      "0.3          20.0  1659.493333         98.4         0.5       20.0       1.0\n",
      "          popsize  fitness  genMaxFound  crossoever  selection  evaluate\n",
      "mutation                                                                \n",
      "0.3          20.0   1622.0        110.5         0.5       20.0       1.0\n",
      "          popsize     fitness  genMaxFound  crossoever  selection  evaluate\n",
      "mutation                                                                   \n",
      "0.3           0.0  174.940364    40.909132         0.0        0.0  0.819232\n"
     ]
    },
    {
     "data": {
      "image/png": "[encoded data removed]",
      "text/plain": [
       "<Figure size 432x288 with 1 Axes>"
      ]
     },
     "metadata": {
      "needs_background": "light"
     },
     "output_type": "display_data"
    },
    {
     "data": {
      "image/png": "[encoded data removed]",
      "text/plain": [
       "<Figure size 432x288 with 1 Axes>"
      ]
     },
     "metadata": {
      "needs_background": "light"
     },
     "output_type": "display_data"
    }
   ],
   "source": [
    "# code for calcualating and printing statistics from the dataframe df_Bests which  (from above) contains that best result per run per popsize\n",
    "print(df_Bests.groupby('mutation').mean())\n",
    "\n",
    "#  you can calculate other statistics such as median, std if you want\n",
    "print(df_Bests.groupby('mutation').median())\n",
    "print(df_Bests.groupby('mutation').std())\n",
    "\n",
    "# plot the boxplot of best fitness per population size\n",
    "boxplot = df_Bests.boxplot(column=['fitness'], by=['mutation'])\n",
    "\n",
    "# plot genMaxFound per population size\n",
    "boxplot = df_Bests.boxplot(column=['genMaxFound'], by=['mutation'])\n",
    "\n"
   ]
  },
  {
   "cell_type": "markdown",
   "metadata": {},
   "source": [
    "##  Statistics\n",
    "If we want to apply statistical tests, we need to extract the relevant data as lists - see the code below. Refer to the lecture for interpreting the statistical value. Based on the value - can we reject the null hpyothesis \"**changing the population size from 50 to 150 has no effect on performance**\""
   ]
  },
  {
   "cell_type": "code",
   "execution_count": null,
   "metadata": {},
   "outputs": [
    {
     "name": "stdout",
     "output_type": "stream",
     "text": [
      "p=20: normality p=0.059969\n",
      "Probably Gaussian (normal distribution)\n",
      "p=40: normality p=0.320244\n",
      "Probably Gaussian (normal distribution)\n"
     ]
    }
   ],
   "source": [
    "from scipy.stats import mannwhitneyu\n",
    "from scipy.stats import ttest_ind\n",
    "from scipy.stats import shapiro # test for normallity\n",
    "\n",
    "# select two subsets of fitness data, one where popsize = 50 and the other where popsize = 150\n",
    "p50 = df_Bests.genMaxFound[df_Bests.selection == 6]\n",
    "p150= df_Bests.genMaxFound[df_Bests.selection == 20]\n",
    "#p100= df_Bests.fitness[df_Bests.crossoever == 0.8999999999999999]\n",
    "# we need to convert these subsets to lists to pass to the statistics functions\n",
    "p50l= p50.tolist()\n",
    "p150l = p150.tolist()\n",
    "p1000l = p100.tolist()\n",
    "# check for normality\n",
    "stat,p = shapiro(p50l)\n",
    "print('p=20: normality p=%f' %(p))\n",
    "\n",
    "if p>0.05:\n",
    "    print(\"Probably Gaussian (normal distribution)\")\n",
    "else:\n",
    "    print(\"Probablyno  Gaussian (not normal distribution)\")\n",
    "    \n",
    "stat,p = shapiro(p150l)\n",
    "print('p=40: normality p=%f' %(p))\n",
    "if p>0.05:\n",
    "    print(\"Probably Gaussian (normal distribution)\")\n",
    "else:\n",
    "    print(\"Probably not Gaussian (not normal distribution)\")\n",
    "\n",
    "# stat,p = shapiro(p1000l)\n",
    "# print('p=40: normality p=%f' %(p))\n",
    "# if p>0.05:\n",
    "#     print(\"Probably Gaussian (normal distribution)\")\n",
    "# else:\n",
    "#     print(\"Probably not Gaussian (not normal distribution)\")\n",
    "\n"
   ]
  },
  {
   "cell_type": "markdown",
   "metadata": {},
   "source": []
  },
  {
   "cell_type": "code",
   "execution_count": null,
   "metadata": {},
   "outputs": [
    {
     "name": "stdout",
     "output_type": "stream",
     "text": [
      "p=0.167051\n",
      "Cannot reject null hypothesis - no significant difference\n"
     ]
    }
   ],
   "source": [
    "#now apply the  appropriate statistical test depending on the result of the above\n",
    "stat,p = ttest_ind(p50l,p150l) # Student t-test - data is normally distributed\n",
    "#stat,p = mannwhitneyu(p50l,p150l) # Mann-Whitney U-test - data is not normally distributed\n",
    "\n",
    "print('p=%f' %(p))\n",
    "if p<0.05:\n",
    "    print(\"Reject null hypothesis - there is a significant difference in the experiments\")\n",
    "else:\n",
    "    print(\"Cannot reject null hypothesis - no significant difference\")"
   ]
  },
  {
   "cell_type": "code",
   "execution_count": null,
   "metadata": {},
   "outputs": [
    {
     "name": "stdout",
     "output_type": "stream",
     "text": [
      "p=20: normality p=0.058641\n",
      "Probably Gaussian (normal distribution)\n",
      "p=40: normality p=0.216540\n",
      "Probably Gaussian (normal distribution)\n",
      "p=0.000000\n",
      "Reject null hypothesis - there is a significant difference in the experiments\n",
      "p=20: normality p=0.000992\n",
      "Probably not  Gaussian (not normal distribution)\n",
      "p=40: normality p=0.120388\n",
      "Probably Gaussian (normal distribution)\n",
      "p=0.016402\n",
      "Reject null hypothesis - there is a significant difference in the experiments\n",
      "         fitness  genMaxFound  crossoever  mutation  selection\n",
      "popsize                                                       \n",
      "20       1552.72        94.22         0.5       0.3       40.0\n",
      "40       1308.54        74.96         0.5       0.3       40.0\n",
      "         fitness  genMaxFound  crossoever  mutation  selection\n",
      "popsize                                                       \n",
      "20        1550.0         96.5         0.5       0.3       40.0\n",
      "40        1295.5         79.5         0.5       0.3       40.0\n",
      "            fitness  genMaxFound  crossoever  mutation  selection\n",
      "popsize                                                          \n",
      "20       117.693833    41.088898         0.0       0.0        0.0\n",
      "40       100.264184    37.711558         0.0       0.0        0.0\n"
     ]
    },
    {
     "data": {
      "image/png": "[encoded data removed]",
      "text/plain": [
       "<Figure size 432x288 with 1 Axes>"
      ]
     },
     "metadata": {
      "needs_background": "light"
     },
     "output_type": "display_data"
    },
    {
     "data": {
      "image/png": "[encoded data removed]",
      "text/plain": [
       "<Figure size 432x288 with 1 Axes>"
      ]
     },
     "metadata": {
      "needs_background": "light"
     },
     "output_type": "display_data"
    }
   ],
   "source": [
    "import pandas as pd\n",
    "# with open('all_logs_experiment_1_t5_population.csv', newline='') as f:\n",
    "#     reader = csv.reader(f)\n",
    "#     all_logs_experiment_1_t5 = list(reader)\n",
    "# all_logs_df = []\n",
    "\n",
    "\n",
    "# # this loops over logs 0-9, i.e. the 10 logs associate with POPSIZE=50. You can change it for other POPSIZE values\n",
    "# for j in  range(0,9):\n",
    "#     logbook = all_logs_experiment_1_t5[j]  # extract the relacant logbook \n",
    "#     data_1 = [[i for i in item.values()] for item in logbook]  # this creates a list [0,1,2...n] where n is the length of the log book - it is need for creating the x-axis when plotting\n",
    "#     header = list(logbook.header)\n",
    "#     df = pd.DataFrame(data_1, columns=header)  # turn the logbook into a dataframe as its easier to work with\n",
    "#     all_logs_df.append(df) # add the log a list of dataframes\n",
    "       \n",
    "       \n",
    "# df_result = pd.concat(all_logs_df)   # this makes one dataframe from the 10 separate ones we created above\n",
    "\n",
    "# #calculate the mean value of the 10 best results (\"max\") found at every generation in every run [i,e from 10 values]\n",
    "# #repeat to calculate the \"minimum\" value of the 10 best results at each generation\n",
    "# #repeat to calculate the \"maximum\" value of the 10 best results at each generation\n",
    "\n",
    "# max_mean=df_result['max'].groupby(df_result['gen']).apply(np.mean) # look at the max column, group results by \"gen\", and apply the relevant statistic\n",
    "# max_max=df_result['max'].groupby(df_result['gen']).apply(np.max)\n",
    "# max_min=df_result['max'].groupby(df_result['gen']).apply(np.min)\n",
    "\n",
    "\n",
    "# #plot convergence curves for data of choice\n",
    "\n",
    "# x = [i for i in range(0,151)]  # make sure this is set to NGEN+1 ... it creates a list [0,1,2,....NGEN] used to define the x-axis for plotting\n",
    "# fig, ax = plt.subplots()\n",
    "# # plot the mean value of the best result per generation\n",
    "# ax.plot(max_mean, color='red')\n",
    "# # not plot the max and min value of the best result per generation and shade to show the variance per run\n",
    "# ax.fill_between(x,max_min, max_max, alpha=0.2)\n",
    "\n",
    "\n",
    "df_bests_5 = pd.read_csv(\"df_bests_5\")\n",
    "from scipy.stats import mannwhitneyu\n",
    "from scipy.stats import ttest_ind\n",
    "from scipy.stats import shapiro # test for normallity\n",
    "\n",
    "# Fitness\n",
    "# select two subsets of fitness data, one where popsize = 50 and the other where popsize = 150\n",
    "p50 = df_bests_5.fitness[df_bests_5.popsize == 20]\n",
    "p150= df_bests_5.fitness[df_bests_5.popsize == 40]\n",
    "# we need to convert these subsets to lists to pass to the statistics functions\n",
    "p50l= p50.tolist()\n",
    "p150l = p150.tolist()\n",
    "\n",
    "# check for normality\n",
    "stat,p = shapiro(p50l)\n",
    "print('p=20: normality p=%f' %(p))\n",
    "\n",
    "if p>0.05:\n",
    "    print(\"Probably Gaussian (normal distribution)\")\n",
    "else:\n",
    "    print(\"Probablyno  Gaussian (not normal distribution)\")\n",
    "    \n",
    "stat,p = shapiro(p150l)\n",
    "print('p=40: normality p=%f' %(p))\n",
    "if p>0.05:\n",
    "    print(\"Probably Gaussian (normal distribution)\")\n",
    "else:\n",
    "    print(\"Probably not Gaussian (not normal distribution)\")\n",
    "#now apply the  appropriate statistical test depending on the result of the above\n",
    "stat,p = ttest_ind(p50l,p150l) # Student t-test - data is normally distributed\n",
    "#stat,p = mannwhitneyu(p50l,p150l) # Mann-Whitney U-test - data is not normally distributed\n",
    "\n",
    "print('p=%f' %(p))\n",
    "if p<0.05:\n",
    "    print(\"Reject null hypothesis - there is a significant difference in the experiments\")\n",
    "else:\n",
    "    print(\"Cannot reject null hypothesis - no significant difference\")\n",
    "\n",
    "# Fitness Generation\n",
    "# select two subsets of fitness data, one where popsize = 50 and the other where popsize = 150\n",
    "p50 = df_bests_5.genMaxFound[df_bests_5.popsize == 20]\n",
    "p150= df_bests_5.genMaxFound[df_bests_5.popsize == 40]\n",
    "# we need to convert these subsets to lists to pass to the statistics functions\n",
    "p50l= p50.tolist()\n",
    "p150l = p150.tolist()\n",
    "\n",
    "# check for normality\n",
    "stat,p = shapiro(p50l)\n",
    "print('p=20: normality p=%f' %(p))\n",
    "\n",
    "if p>0.05:\n",
    "    print(\"Probably Gaussian (normal distribution)\")\n",
    "else:\n",
    "    print(\"Probably not  Gaussian (not normal distribution)\")\n",
    "    \n",
    "stat,p = shapiro(p150l)\n",
    "print('p=40: normality p=%f' %(p))\n",
    "if p>0.05:\n",
    "    print(\"Probably Gaussian (normal distribution)\")\n",
    "else:\n",
    "    print(\"Probably not Gaussian (not normal distribution)\")\n",
    "#now apply the  appropriate statistical test depending on the result of the above\n",
    "stat,p = ttest_ind(p50l,p150l) # Student t-test - data is normally distributed\n",
    "#stat,p = mannwhitneyu(p50l,p150l) # Mann-Whitney U-test - data is not normally distributed\n",
    "\n",
    "print('p=%f' %(p))\n",
    "if p<0.05:\n",
    "    print(\"Reject null hypothesis - there is a significant difference in the experiments\")\n",
    "else:\n",
    "    print(\"Cannot reject null hypothesis - no significant difference\")\n",
    "\n",
    "# code for calcualating and printing statistics from the dataframe df_Bests which  (from above) contains that best result per run per popsize\n",
    "print(df_bests_5.groupby('popsize').mean())\n",
    "\n",
    "#  you can calculate other statistics such as median, std if you want\n",
    "print(df_bests_5.groupby('popsize').median())\n",
    "print(df_bests_5.groupby('popsize').std())\n",
    "\n",
    "# plot the boxplot of best fitness per population size\n",
    "boxplot = df_bests_5.boxplot(column=['fitness'], by=['popsize'])\n",
    "\n",
    "# plot genMaxFound per population size\n",
    "boxplot = df_bests_5.boxplot(column=['genMaxFound'], by=['popsize'])\n"
   ]
  },
  {
   "cell_type": "code",
   "execution_count": null,
   "metadata": {},
   "outputs": [],
   "source": [
    "import pandas as pd\n",
    "# with open('all_logs_experiment_1_t5_population.csv', newline='') as f:\n",
    "#     reader = csv.reader(f)\n",
    "#     all_logs_experiment_1_t5 = list(reader)\n",
    "# all_logs_df = []\n",
    "\n",
    "\n",
    "# # this loops over logs 0-9, i.e. the 10 logs associate with POPSIZE=50. You can change it for other POPSIZE values\n",
    "# for j in  range(0,9):\n",
    "#     logbook = all_logs_experiment_1_t5[j]  # extract the relacant logbook \n",
    "#     data_1 = [[i for i in item.values()] for item in logbook]  # this creates a list [0,1,2...n] where n is the length of the log book - it is need for creating the x-axis when plotting\n",
    "#     header = list(logbook.header)\n",
    "#     df = pd.DataFrame(data_1, columns=header)  # turn the logbook into a dataframe as its easier to work with\n",
    "#     all_logs_df.append(df) # add the log a list of dataframes\n",
    "       \n",
    "       \n",
    "# df_result = pd.concat(all_logs_df)   # this makes one dataframe from the 10 separate ones we created above\n",
    "\n",
    "# #calculate the mean value of the 10 best results (\"max\") found at every generation in every run [i,e from 10 values]\n",
    "# #repeat to calculate the \"minimum\" value of the 10 best results at each generation\n",
    "# #repeat to calculate the \"maximum\" value of the 10 best results at each generation\n",
    "\n",
    "# max_mean=df_result['max'].groupby(df_result['gen']).apply(np.mean) # look at the max column, group results by \"gen\", and apply the relevant statistic\n",
    "# max_max=df_result['max'].groupby(df_result['gen']).apply(np.max)\n",
    "# max_min=df_result['max'].groupby(df_result['gen']).apply(np.min)\n",
    "\n",
    "\n",
    "# #plot convergence curves for data of choice\n",
    "\n",
    "# x = [i for i in range(0,151)]  # make sure this is set to NGEN+1 ... it creates a list [0,1,2,....NGEN] used to define the x-axis for plotting\n",
    "# fig, ax = plt.subplots()\n",
    "# # plot the mean value of the best result per generation\n",
    "# ax.plot(max_mean, color='red')\n",
    "# # not plot the max and min value of the best result per generation and shade to show the variance per run\n",
    "# ax.fill_between(x,max_min, max_max, alpha=0.2)\n",
    "\n",
    "\n",
    "df_bests_5 = pd.read_csv(\"df_bests_5\")\n",
    "from scipy.stats import mannwhitneyu\n",
    "from scipy.stats import ttest_ind\n",
    "from scipy.stats import shapiro # test for normallity\n",
    "\n",
    "# Fitness\n",
    "# select two subsets of fitness data, one where popsize = 50 and the other where popsize = 150\n",
    "p50 = df_bests_5.fitness[df_bests_5.popsize == 20]\n",
    "p150= df_bests_5.fitness[df_bests_5.popsize == 40]\n",
    "# we need to convert these subsets to lists to pass to the statistics functions\n",
    "p50l= p50.tolist()\n",
    "p150l = p150.tolist()\n",
    "\n",
    "# check for normality\n",
    "stat,p = shapiro(p50l)\n",
    "print('p=20: normality p=%f' %(p))\n",
    "\n",
    "if p>0.05:\n",
    "    print(\"Probably Gaussian (normal distribution)\")\n",
    "else:\n",
    "    print(\"Probablyno  Gaussian (not normal distribution)\")\n",
    "    \n",
    "stat,p = shapiro(p150l)\n",
    "print('p=40: normality p=%f' %(p))\n",
    "if p>0.05:\n",
    "    print(\"Probably Gaussian (normal distribution)\")\n",
    "else:\n",
    "    print(\"Probably not Gaussian (not normal distribution)\")\n",
    "#now apply the  appropriate statistical test depending on the result of the above\n",
    "stat,p = ttest_ind(p50l,p150l) # Student t-test - data is normally distributed\n",
    "#stat,p = mannwhitneyu(p50l,p150l) # Mann-Whitney U-test - data is not normally distributed\n",
    "\n",
    "print('p=%f' %(p))\n",
    "if p<0.05:\n",
    "    print(\"Reject null hypothesis - there is a significant difference in the experiments\")\n",
    "else:\n",
    "    print(\"Cannot reject null hypothesis - no significant difference\")\n",
    "\n",
    "# Fitness Generation\n",
    "# select two subsets of fitness data, one where popsize = 50 and the other where popsize = 150\n",
    "p50 = df_bests_5.genMaxFound[df_bests_5.popsize == 20]\n",
    "p150= df_bests_5.genMaxFound[df_bests_5.popsize == 40]\n",
    "# we need to convert these subsets to lists to pass to the statistics functions\n",
    "p50l= p50.tolist()\n",
    "p150l = p150.tolist()\n",
    "\n",
    "# check for normality\n",
    "stat,p = shapiro(p50l)\n",
    "print('p=20: normality p=%f' %(p))\n",
    "\n",
    "if p>0.05:\n",
    "    print(\"Probably Gaussian (normal distribution)\")\n",
    "else:\n",
    "    print(\"Probably not  Gaussian (not normal distribution)\")\n",
    "    \n",
    "stat,p = shapiro(p150l)\n",
    "print('p=40: normality p=%f' %(p))\n",
    "if p>0.05:\n",
    "    print(\"Probably Gaussian (normal distribution)\")\n",
    "else:\n",
    "    print(\"Probably not Gaussian (not normal distribution)\")\n",
    "#now apply the  appropriate statistical test depending on the result of the above\n",
    "stat,p = ttest_ind(p50l,p150l) # Student t-test - data is normally distributed\n",
    "#stat,p = mannwhitneyu(p50l,p150l) # Mann-Whitney U-test - data is not normally distributed\n",
    "\n",
    "print('p=%f' %(p))\n",
    "if p<0.05:\n",
    "    print(\"Reject null hypothesis - there is a significant difference in the experiments\")\n",
    "else:\n",
    "    print(\"Cannot reject null hypothesis - no significant difference\")\n",
    "\n",
    "# code for calcualating and printing statistics from the dataframe df_Bests which  (from above) contains that best result per run per popsize\n",
    "print(df_bests_5.groupby('popsize').mean())\n",
    "\n",
    "#  you can calculate other statistics such as median, std if you want\n",
    "print(df_bests_5.groupby('popsize').median())\n",
    "print(df_bests_5.groupby('popsize').std())\n",
    "\n",
    "# plot the boxplot of best fitness per population size\n",
    "boxplot = df_bests_5.boxplot(column=['fitness'], by=['popsize'])\n",
    "\n",
    "# plot genMaxFound per population size\n",
    "boxplot = df_bests_5.boxplot(column=['genMaxFound'], by=['popsize'])\n"
   ]
  },
  {
   "cell_type": "markdown",
   "metadata": {},
   "source": [
    "# Below is code for experiment 1 - population"
   ]
  },
  {
   "cell_type": "code",
   "execution_count": null,
   "metadata": {},
   "outputs": [
    {
     "name": "stdout",
     "output_type": "stream",
     "text": [
      "popsize == 20 and popsize == 40 [fitness] Reject null hypothesis - there is a significant difference in the experiments\n",
      "popsize == 20 and popsize == 60 [fitness] Reject null hypothesis - there is a significant difference in the experiments\n",
      "popsize == 40 and popsize == 60 [fitness]Cannot reject null hypothesis - no significant difference\n",
      "popsize == 20 and popsize == 40 [genMaxFound] Reject null hypothesis - there is a significant difference in the experiments\n",
      "popsize == 20 and popsize == 60 [genMaxFound] Reject null hypothesis - there is a significant difference in the experiments\n",
      "popsize == 40 and popsize == 60 [genMaxFound]Cannot reject null hypothesis - no significant difference\n"
     ]
    },
    {
     "data": {
      "image/png": "[encoded data removed]",
      "text/plain": [
       "<Figure size 432x288 with 1 Axes>"
      ]
     },
     "metadata": {
      "needs_background": "light"
     },
     "output_type": "display_data"
    },
    {
     "data": {
      "image/png": "[encoded data removed]",
      "text/plain": [
       "<Figure size 432x288 with 1 Axes>"
      ]
     },
     "metadata": {
      "needs_background": "light"
     },
     "output_type": "display_data"
    }
   ],
   "source": [
    "import pandas as pd\n",
    "\n",
    "\n",
    "df_bests_9 = pd.read_csv(\"df_bests_14_population\")\n",
    "from scipy.stats import mannwhitneyu\n",
    "from scipy.stats import ttest_ind\n",
    "from scipy.stats import shapiro # test for normallity\n",
    "\n",
    "# select two subsets of fitness data, one where popsize = 50 and the other where popsize = 150\n",
    "p50 = df_bests_9.fitness[df_bests_9.popsize == 20]\n",
    "p150= df_bests_9.fitness[df_bests_9.popsize == 40]\n",
    "p100= df_bests_9.fitness[df_bests_9.popsize == 60]\n",
    "# we need to convert these subsets to lists to pass to the statistics functions\n",
    "p50l= p50.tolist()\n",
    "p150l = p150.tolist()\n",
    "p100l = p100.tolist()\n",
    "\n",
    "# check for normality\n",
    "stat,p = shapiro(p50l)\n",
    "#print('popsize == 20: normality p=%f' %(p))\n",
    "\n",
    "p50normality = False\n",
    "if p>0.05:\n",
    "    #print(\"Probably Gaussian (normal distribution)\")\n",
    "    p50normality = True\n",
    "else:\n",
    "    p50normality = False\n",
    "    #print(\"Probablyno  Gaussian (not normal distribution)\")\n",
    "\n",
    "p150normality = False \n",
    "stat,p = shapiro(p150l)\n",
    "#print('popsize == 20: normality p=%f' %(p))\n",
    "if p>0.05:\n",
    "    p150normality = True\n",
    "    #print(\"Probably Gaussian (normal distribution)\")\n",
    "else:\n",
    "    p150normality = False\n",
    "    #print(\"Probably not Gaussian (not normal distribution)\")\n",
    "\n",
    "p100normality = False\n",
    "stat,p = shapiro(p100)\n",
    "#print('popsize == 20: normality p=%f' %(p))\n",
    "if p>0.05:\n",
    "    p100normality = True\n",
    "    #print(\"Probably Gaussian (normal distribution)\")\n",
    "else:\n",
    "    p100normality = False\n",
    "    #print(\"Probably not Gaussian (not normal distribution)\")\n",
    "p_fitness = False\n",
    "p1_fitness = False\n",
    "p2_fitness = False\n",
    "if p50normality and p150normality:\n",
    "    stat,p_fitness = ttest_ind(p50l,p150l) # Student t-test - data is normally distributed\n",
    "elif not p50normality and not p150normality:\n",
    "    stat,p_fitness = mannwhitneyu(p50l,p150l) # Mann-Whitney U-test - data is not normally distributed\n",
    "else:\n",
    "    stat,p_fitness = mannwhitneyu(p50l,p150l)\n",
    "    print(\"popsize == 20 and popsize == 40 [fitness] have different distributions\")\n",
    "if p50normality and p100normality:\n",
    "    stat1,p1_fitness = ttest_ind(p50l,p150l) # Student t-test - data is normally distributed\n",
    "elif not p50normality and not p100normality:\n",
    "    stat1,p1_fitness = mannwhitneyu(p50l,p100l) # Mann-Whitney U-test - data is not normally distributed\n",
    "else:\n",
    "    stat1,p1_fitness = mannwhitneyu(p50l,p100l)\n",
    "    print(\"popsize == 20 and popsize == 60 [fitness] have different distributions\")\n",
    "if p150normality and p100normality:\n",
    "    stat1,p2_fitness = ttest_ind(p100l,p150l) # Student t-test - data is normally distributed\n",
    "elif not p150normality and not p100normality:\n",
    "    stat1,p2_fitness = mannwhitneyu(p150l,p100l) # Mann-Whitney U-test - data is not normally distributed\n",
    "else:\n",
    "    stat1,p2_fitness = mannwhitneyu(p150l,p100l)\n",
    "    print(\"popsize == 40 and popsize == 60 [fitness] have different distributions\")\n",
    "#now apply the  appropriate statistical test depending on the result of the above\n",
    "#stat,p = ttest_ind(p50l,p150l) # Student t-test - data is normally distributed\n",
    "# stat,p = mannwhitneyu(p50l,p150l) # Mann-Whitney U-test - data is not normally distributed\n",
    "# stat1,p1 = mannwhitneyu(p50l,p100l) # Mann-Whitney U-test - data is not normally distributed\n",
    "# stat2,p2 = mannwhitneyu(p150l,p100l) # Mann-Whitney U-test - data is not normally distributed\n",
    "\n",
    "#print('p=%f' %(p_fitness))\n",
    "if p_fitness != False and p_fitness<0.05:\n",
    "    print(\"popsize == 20 and popsize == 40 [fitness] Reject null hypothesis - there is a significant difference in the experiments\")\n",
    "else:\n",
    "    print(\"popsize == 20 and popsize == 40 [fitness] Cannot reject null hypothesis - no significant difference\")\n",
    "#print('p=%f' %(p1_fitness))\n",
    "if p1_fitness != False and p1_fitness<0.05:\n",
    "    print(\"popsize == 20 and popsize == 60 [fitness] Reject null hypothesis - there is a significant difference in the experiments\")\n",
    "else:\n",
    "    print(\"popsize == 20 and popsize == 60 [fitness] Cannot reject null hypothesis - no significant difference\")\n",
    "#print('p=%f' %(p2_fitness))\n",
    "if p2_fitness != False and p2_fitness<0.05:\n",
    "    print(\"popsize == 40 and popsize == 60 [fitness] Reject null hypothesis - there is a significant difference in the experiments\")\n",
    "else:\n",
    "    print(\"popsize == 40 and popsize == 60 [fitness]Cannot reject null hypothesis - no significant difference\")\n",
    "\n",
    "# Fitness generation\n",
    "# select two subsets of fitness data, one where popsize = 50 and the other where popsize = 150\n",
    "p50 = df_bests_9.genMaxFound[df_bests_9.popsize == 20]\n",
    "p150= df_bests_9.genMaxFound[df_bests_9.popsize == 40]\n",
    "p100= df_bests_9.genMaxFound[df_bests_9.popsize == 60]\n",
    "# we need to convert these subsets to lists to pass to the statistics functions\n",
    "p50l= p50.tolist()\n",
    "p150l = p150.tolist()\n",
    "p100l = p100.tolist()\n",
    "\n",
    "# check for normality\n",
    "stat,p = shapiro(p50l)\n",
    "#print('popsize == 20: normality p=%f' %(p))\n",
    "\n",
    "p50normality = False\n",
    "if p>0.05:\n",
    "    #print(\"Probably Gaussian (normal distribution)\")\n",
    "    p50normality = True\n",
    "else:\n",
    "    p50normality = False\n",
    "    #print(\"Probablyno  Gaussian (not normal distribution)\")\n",
    "\n",
    "p150normality = False \n",
    "stat,p = shapiro(p150l)\n",
    "#print('popsize == 20: normality p=%f' %(p))\n",
    "if p>0.05:\n",
    "    p150normality = True\n",
    "    #print(\"Probably Gaussian (normal distribution)\")\n",
    "else:\n",
    "    p150normality = False\n",
    "    #print(\"Probably not Gaussian (not normal distribution)\")\n",
    "\n",
    "p100normality = False\n",
    "stat,p = shapiro(p100)\n",
    "#print('popsize == 20: normality p=%f' %(p))\n",
    "if p>0.05:\n",
    "    p100normality = True\n",
    "    #print(\"Probably Gaussian (normal distribution)\")\n",
    "else:\n",
    "    p100normality = False\n",
    "    #print(\"Probably not Gaussian (not normal distribution)\")\n",
    "p2_gen = False\n",
    "p_gen = False\n",
    "p1_gen = False\n",
    "if p50normality and p150normality:\n",
    "    stat,p_gen = ttest_ind(p50l,p150l) # Student t-test - data is normally distributed\n",
    "elif not p50normality and not p150normality:\n",
    "    stat,p_gen = mannwhitneyu(p50l,p150l) # Mann-Whitney U-test - data is not normally distributed\n",
    "else:\n",
    "    stat,p_gen = mannwhitneyu(p50l,p150l)\n",
    "    print(\"popsize == 20 and popsize == 40 [gen] have different distributions\")\n",
    "if p50normality and p100normality:\n",
    "    stat1,p1_gen = ttest_ind(p50l,p150l) # Student t-test - data is normally distributed\n",
    "elif not p50normality and not p100normality:\n",
    "    stat1,p1_gen = mannwhitneyu(p50l,p100l) # Mann-Whitney U-test - data is not normally distributed\n",
    "else:\n",
    "    stat1,p1_gen = mannwhitneyu(p50l,p100l)\n",
    "    print(\"popsize == 20 and popsize == 60 [gen] have different distributions\")\n",
    "if p150normality and p100normality:\n",
    "    stat1,p2_gen = ttest_ind(p100l,p150l) # Student t-test - data is normally distributed\n",
    "elif not p150normality and not p100normality:\n",
    "    stat1,p2_gen = mannwhitneyu(p150l,p100l) # Mann-Whitney U-test - data is not normally distributed\n",
    "else:\n",
    "    stat1,p2_gen = mannwhitneyu(p150l,p100l)\n",
    "    print(\"popsize == 40 and popsize == 60 [gen] have different distributions\")\n",
    "#now apply the  appropriate statistical test depending on the result of the above\n",
    "#stat,p = ttest_ind(p50l,p150l) # Student t-test - data is normally distributed\n",
    "# stat,p = mannwhitneyu(p50l,p150l) # Mann-Whitney U-test - data is not normally distributed\n",
    "# stat1,p1 = mannwhitneyu(p50l,p100l) # Mann-Whitney U-test - data is not normally distributed\n",
    "# stat2,p2 = mannwhitneyu(p150l,p100l) # Mann-Whitney U-test - data is not normally distributed\n",
    "\n",
    "#print('p=%f' %(p_gen))\n",
    "if p_gen != False and p_gen<0.05:\n",
    "    print(\"popsize == 20 and popsize == 40 [genMaxFound] Reject null hypothesis - there is a significant difference in the experiments\")\n",
    "else:\n",
    "    print(\"popsize == 20 and popsize == 40 [genMaxFound] Cannot reject null hypothesis - no significant difference\")\n",
    "#print('p=%f' %(p1_gen))\n",
    "if p1_gen != False and p1_gen<0.05:\n",
    "    print(\"popsize == 20 and popsize == 60 [genMaxFound] Reject null hypothesis - there is a significant difference in the experiments\")\n",
    "else:\n",
    "    print(\"popsize == 20 and popsize == 60 [genMaxFound] Cannot reject null hypothesis - no significant difference\")\n",
    "#print('p=%f' %(p2_gen))\n",
    "if p2_gen != False and p2_gen<0.05:\n",
    "    print(\"popsize == 40 and popsize == 60 [genMaxFound] Reject null hypothesis - there is a significant difference in the experiments\")\n",
    "else:\n",
    "    print(\"popsize == 40 and popsize == 60 [genMaxFound]Cannot reject null hypothesis - no significant difference\")\n",
    "\n",
    "# Boxplots\n",
    "\n",
    "# code for calcualating and printing statistics from the dataframe df_Bests which  (from above) contains that best result per run per popsize\n",
    "#print(df_bests_9.groupby('popsize').mean())\n",
    "\n",
    "#  you can calculate other statistics such as median, std if you want\n",
    "#print(df_bests_9.groupby('popsize').median())\n",
    "#print(df_bests_9.groupby('popsize').std())\n",
    "\n",
    "# plot the boxplot of best fitness per population size\n",
    "boxplot = df_bests_9.boxplot(column=['fitness'], by=['popsize'])\n",
    "\n",
    "# plot genMaxFound per population size\n",
    "boxplot = df_bests_9.boxplot(column=['genMaxFound'], by=['popsize'])\n"
   ]
  },
  {
   "cell_type": "markdown",
   "metadata": {},
   "source": [
    "# Below is experiment 2 for mutation"
   ]
  },
  {
   "cell_type": "code",
   "execution_count": null,
   "metadata": {},
   "outputs": [
    {
     "name": "stdout",
     "output_type": "stream",
     "text": [
      "mutation == 0.3 [fitness]: Probably not  Gaussian (not normal distribution)\n",
      "mutation == 0.6 [fitness]: Probably Gaussian (normal distribution)\n",
      "mutation == 0.8999999999999999 [fitness]: Probably Gaussian (normal distribution)\n",
      "Mean\n",
      "          popsize  fitness  genMaxFound  crossoever  selection\n",
      "mutation                                                      \n",
      "0.3          20.0  1631.76        93.90         0.5       20.0\n",
      "0.6          20.0  1542.72        70.38         0.5       20.0\n",
      "0.9          20.0  1542.78        74.58         0.5       20.0\n",
      "Median\n",
      "          popsize  fitness  genMaxFound  crossoever  selection\n",
      "mutation                                                      \n",
      "0.3          20.0   1631.0         99.5         0.5       20.0\n",
      "0.6          20.0   1535.5         60.0         0.5       20.0\n",
      "0.9          20.0   1539.5         69.0         0.5       20.0\n",
      "mutation == 0.3 and mutation == 0.6 [fitness] have different distributions\n",
      "mutation == 0.3 and mutation == 0.8999999999999999 [fitness] have different distributions\n",
      "mutation == 0.3 and mutation == 0.6 [fitness] Reject null hypothesis - there is a significant difference in the experiments\n",
      "mutation == 0.3 and mutation == 0.8999999999999999 [fitness] Reject null hypothesis - there is a significant difference in the experiments\n",
      "mutation == 0.6 and mutation == 0.8999999999999999 [fitness]Cannot reject null hypothesis - no significant difference\n",
      "mutation == 0.3 [gen]: Probably Gaussian (normal distribution)\n",
      "mutation == 0.6 [gen]: Probably not Gaussian (not normal distribution)\n",
      "mutation == 0.8999999999999999 [gen]: Probably Gaussian (normal distribution)\n",
      "mutation == 0.3 and mutation == 0.6 [genMaxFound] Reject null hypothesis - there is a significant difference in the experiments\n",
      "mutation == 0.3 and mutation == 0.8999999999999999 [genMaxFound] Reject null hypothesis - there is a significant difference in the experiments\n",
      "mutation == 0.6 and mutation == 0.8999999999999999 [genMaxFound]Cannot reject null hypothesis - no significant difference\n"
     ]
    },
    {
     "data": {
      "image/png": "[encoded data removed]",
      "text/plain": [
       "<Figure size 432x288 with 1 Axes>"
      ]
     },
     "metadata": {
      "needs_background": "light"
     },
     "output_type": "display_data"
    },
    {
     "data": {
      "image/png": "[encoded data removed]",
      "text/plain": [
       "<Figure size 432x288 with 1 Axes>"
      ]
     },
     "metadata": {
      "needs_background": "light"
     },
     "output_type": "display_data"
    }
   ],
   "source": [
    "import pandas as pd\n",
    "\n",
    "\n",
    "df_bests_9 = pd.read_csv(\"df_bests_15_mutation\")\n",
    "from scipy.stats import mannwhitneyu\n",
    "from scipy.stats import ttest_ind\n",
    "from scipy.stats import shapiro # test for normallity\n",
    "\n",
    "# select two subsets of fitness data, one where popsize = 50 and the other where popsize = 150\n",
    "p50 = df_bests_9.fitness[df_bests_9.mutation == 0.3]\n",
    "p150= df_bests_9.fitness[df_bests_9.mutation == 0.6]\n",
    "p100= df_bests_9.fitness[df_bests_9.mutation == 0.8999999999999999]\n",
    "# we need to convert these subsets to lists to pass to the statistics functions\n",
    "p50l= p50.tolist()\n",
    "p150l = p150.tolist()\n",
    "p100l = p100.tolist()\n",
    "\n",
    "# check for normality\n",
    "stat,p = shapiro(p50l)\n",
    "#print('mutation == 0.3: normality p=%f' %(p))\n",
    "\n",
    "p50normality = False\n",
    "if p>0.05:\n",
    "    print(\"mutation == 0.3 [fitness]: Probably Gaussian (normal distribution)\")\n",
    "    p50normality = True\n",
    "else:\n",
    "    p50normality = False\n",
    "    print(\"mutation == 0.3 [fitness]: Probably not  Gaussian (not normal distribution)\")\n",
    "\n",
    "p150normality = False \n",
    "stat,p = shapiro(p150l)\n",
    "#print('popsize == 20: normality p=%f' %(p))\n",
    "if p>0.05:\n",
    "    p150normality = True\n",
    "    print(\"mutation == 0.6 [fitness]: Probably Gaussian (normal distribution)\")\n",
    "else:\n",
    "    p150normality = False\n",
    "    print(\"mutation == 0.6 [fitness]: Probably not Gaussian (not normal distribution)\")\n",
    "p100normality = False\n",
    "stat,p = shapiro(p100)\n",
    "#print('popsize == 20: normality p=%f' %(p))\n",
    "if p>0.05:\n",
    "    p100normality = True\n",
    "    print(\"mutation == 0.8999999999999999 [fitness]: Probably Gaussian (normal distribution)\")\n",
    "else:\n",
    "    p100normality = False\n",
    "    print(\"mutation == 0.8999999999999999 [fitness]: Probably not Gaussian (not normal distribution)\")\n",
    "\n",
    "print(\"Mean\")\n",
    "print(df_bests_9.groupby('mutation').mean())\n",
    "print(\"Median\")\n",
    "print(df_bests_9.groupby('mutation').median())\n",
    "\n",
    "p_fitness = False\n",
    "p1_fitness = False\n",
    "p2_fitness = False\n",
    "if p50normality and p150normality:\n",
    "    stat,p_fitness = ttest_ind(p50l,p150l) # Student t-test - data is normally distributed\n",
    "elif not p50normality and not p150normality:\n",
    "    stat,p_fitness = mannwhitneyu(p50l,p150l) # Mann-Whitney U-test - data is not normally distributed\n",
    "else:\n",
    "    #print(\"Median\")\n",
    "    #print(df_bests_9.groupby('mutation').median())\n",
    "    stat,p_fitness = mannwhitneyu(p50l,p150l)\n",
    "    print(\"mutation == 0.3 and mutation == 0.6 [fitness] have different distributions\")\n",
    "if p50normality and p100normality:\n",
    "    #print(\"Mean\")\n",
    "    #print(df_bests_9.groupby('mutation').mean())\n",
    "    stat1,p1_fitness = ttest_ind(p50l,p150l) # Student t-test - data is normally distributed\n",
    "elif not p50normality and not p100normality:\n",
    "    #print(\"Median\")\n",
    "    #print(df_bests_9.groupby('mutation').median())\n",
    "    stat1,p1_fitness = mannwhitneyu(p50l,p100l) # Mann-Whitney U-test - data is not normally distributed\n",
    "else:\n",
    "    #print(\"Median\")\n",
    "    #print(df_bests_9.groupby('mutation').median())\n",
    "    stat1,p1_fitness = mannwhitneyu(p50l,p100l)\n",
    "    print(\"mutation == 0.3 and mutation == 0.8999999999999999 [fitness] have different distributions\")\n",
    "if p150normality and p100normality:\n",
    "    #print(\"Mean\")\n",
    "    #print(df_bests_9.groupby('mutation').mean())\n",
    "    stat1,p2_fitness = ttest_ind(p100l,p150l) # Student t-test - data is normally distributed\n",
    "elif not p150normality and not p100normality:\n",
    "    #print(\"Median\")\n",
    "    #print(df_bests_9.groupby('mutation').median())\n",
    "    stat1,p2_fitness = mannwhitneyu(p150l,p100l) # Mann-Whitney U-test - data is not normally distributed\n",
    "else:\n",
    "    #print(\"Median\")\n",
    "    #print(df_bests_9.groupby('mutation').median())\n",
    "    stat1,p2_fitness = mannwhitneyu(p150l,p100l)\n",
    "    print(\"mutation == 0.6 and mutation == 0.8999999999999999 [fitness] have different distributions\")\n",
    "#now apply the  appropriate statistical test depending on the result of the above\n",
    "#stat,p = ttest_ind(p50l,p150l) # Student t-test - data is normally distributed\n",
    "# stat,p = mannwhitneyu(p50l,p150l) # Mann-Whitney U-test - data is not normally distributed\n",
    "# stat1,p1 = mannwhitneyu(p50l,p100l) # Mann-Whitney U-test - data is not normally distributed\n",
    "# stat2,p2 = mannwhitneyu(p150l,p100l) # Mann-Whitney U-test - data is not normally distributed\n",
    "\n",
    "#print('p=%f' %(p_fitness))\n",
    "if p_fitness != False and p_fitness<0.05:\n",
    "    print(\"mutation == 0.3 and mutation == 0.6 [fitness] Reject null hypothesis - there is a significant difference in the experiments\")\n",
    "elif p_fitness != False and p_fitness>0.05:\n",
    "    print(\"mutation == 0.3 and mutation == 0.6 [fitness] Cannot reject null hypothesis - no significant difference\")\n",
    "#print('p=%f' %(p1))\n",
    "if p1_fitness != False and p1_fitness<0.05:\n",
    "    print(\"mutation == 0.3 and mutation == 0.8999999999999999 [fitness] Reject null hypothesis - there is a significant difference in the experiments\")\n",
    "elif p1_fitness != False and p1_fitness>0.05:\n",
    "    print(\"mutation == 0.3 and mutation == 0.8999999999999999 [fitness] Cannot reject null hypothesis - no significant difference\")\n",
    "#print('p=%f' %(p2))\n",
    "if p2_fitness != False and p2_fitness<0.05:\n",
    "    print(\"mutation == 0.6 and mutation == 0.8999999999999999 [fitness] Reject null hypothesis - there is a significant difference in the experiments\")\n",
    "elif p2_fitness != False and p2_fitness>0.05:\n",
    "    print(\"mutation == 0.6 and mutation == 0.8999999999999999 [fitness]Cannot reject null hypothesis - no significant difference\")\n",
    "\n",
    "# Fitness generation\n",
    "# select two subsets of fitness data, one where popsize = 50 and the other where popsize = 150\n",
    "p50 = df_bests_9.genMaxFound[df_bests_9.mutation == 0.3]\n",
    "p150= df_bests_9.genMaxFound[df_bests_9.mutation == 0.6]\n",
    "p100= df_bests_9.genMaxFound[df_bests_9.mutation == 0.8999999999999999]\n",
    "# we need to convert these subsets to lists to pass to the statistics functions\n",
    "p50l= p50.tolist()\n",
    "p150l = p150.tolist()\n",
    "p100l = p100.tolist()\n",
    "\n",
    "p50normality = False\n",
    "if p>0.05:\n",
    "    print(\"mutation == 0.3 [gen]: Probably Gaussian (normal distribution)\")\n",
    "    p50normality = True\n",
    "else:\n",
    "    p50normality = False\n",
    "    print(\"mutation == 0.3 [gen]: Probably not  Gaussian (not normal distribution)\")\n",
    "\n",
    "p150normality = False \n",
    "stat,p = shapiro(p150l)\n",
    "#print('popsize == 20: normality p=%f' %(p))\n",
    "if p>0.05:\n",
    "    p150normality = True\n",
    "    print(\"mutation == 0.6 [gen]: Probably Gaussian (normal distribution)\")\n",
    "else:\n",
    "    p150normality = False\n",
    "    print(\"mutation == 0.6 [gen]: Probably not Gaussian (not normal distribution)\")\n",
    "p100normality = False\n",
    "stat,p = shapiro(p100)\n",
    "#print('popsize == 20: normality p=%f' %(p))\n",
    "if p>0.05:\n",
    "    p100normality = True\n",
    "    print(\"mutation == 0.8999999999999999 [gen]: Probably Gaussian (normal distribution)\")\n",
    "else:\n",
    "    p100normality = False\n",
    "    print(\"mutation == 0.8999999999999999 [gen]: Probably not Gaussian (not normal distribution)\")\n",
    "\n",
    "p_gen = False\n",
    "p1_gen = False\n",
    "p2_gen = False\n",
    "\n",
    "if p50normality and p150normality:\n",
    "    #print(df_bests_9.groupby('mutation').mean())\n",
    "    stat,p_gen = ttest_ind(p50l,p150l) # Student t-test - data is normally distributed\n",
    "elif not p50normality and not p150normality:\n",
    "    stat,p_gen = mannwhitneyu(p50l,p150l) # Mann-Whitney U-test - data is not normally distributed\n",
    "else:\n",
    "    stat,p_gen = mannwhitneyu(p50l,p150l)\n",
    "    #print(\"mutation == 0.3 and mutation == 0.6 [gen] have different distributions\")\n",
    "if p50normality and p100normality:\n",
    "    #print(df_bests_9.groupby('mutation').mean())\n",
    "    stat1,p1_gen = ttest_ind(p50l,p150l) # Student t-test - data is normally distributed\n",
    "elif not p50normality and not p100normality:\n",
    "    stat1,p1_gen = mannwhitneyu(p50l,p100l) # Mann-Whitney U-test - data is not normally distributed\n",
    "else:\n",
    "    stat1,p1_gen = mannwhitneyu(p50l,p100l)\n",
    "    #print(\"mutation == 0.3 and mutation == 0.8999999999999999 [gen] have different distributions\")\n",
    "if p150normality and p100normality:\n",
    "    #print(df_bests_9.groupby('mutation').mean())\n",
    "    stat1,p2_gen = ttest_ind(p100l,p150l) # Student t-test - data is normally distributed\n",
    "elif not p150normality and not p100normality:\n",
    "    #print(df_bests_9.groupby('mutation').median())\n",
    "    stat1,p2_gen = mannwhitneyu(p150l,p100l) # Mann-Whitney U-test - data is not normally distributed\n",
    "else:\n",
    "    #print(df_bests_9.groupby('mutation').median())\n",
    "    stat1,p2_gen = mannwhitneyu(p150l,p100l)\n",
    "    #print(\"mutation == 0.6 and mutation == 0.8999999999999999 [gen] have different distributions\")\n",
    "#now apply the  appropriate statistical test depending on the result of the above\n",
    "#stat,p = ttest_ind(p50l,p150l) # Student t-test - data is normally distributed\n",
    "# stat,p = mannwhitneyu(p50l,p150l) # Mann-Whitney U-test - data is not normally distributed\n",
    "# stat1,p1 = mannwhitneyu(p50l,p100l) # Mann-Whitney U-test - data is not normally distributed\n",
    "# stat2,p2 = mannwhitneyu(p150l,p100l) # Mann-Whitney U-test - data is not normally distributed\n",
    "\n",
    "#print('p=%f' %(p))\n",
    "if p_gen != False and  p_gen<0.05:\n",
    "    print(\"mutation == 0.3 and mutation == 0.6 [genMaxFound] Reject null hypothesis - there is a significant difference in the experiments\")\n",
    "elif p_gen != False and p_gen>0.05:\n",
    "    print(\"mutation == 0.3 and mutation == 0.6 [genMaxFound] Cannot reject null hypothesis - no significant difference\")\n",
    "#print('p=%f' %(p1))\n",
    "if p1_gen != False and p1_gen<0.05:\n",
    "    print(\"mutation == 0.3 and mutation == 0.8999999999999999 [genMaxFound] Reject null hypothesis - there is a significant difference in the experiments\")\n",
    "elif p1_gen != False and p1_gen>0.05:\n",
    "    print(\"mutation == 0.3 and mutation == 0.8999999999999999 [genMaxFound] Cannot reject null hypothesis - no significant difference\")\n",
    "#print('p=%f' %(p2))\n",
    "if p2_gen != False and p2_gen<0.05:\n",
    "    print(\"mutation == 0.6 and mutation == 0.8999999999999999 [genMaxFound] Reject null hypothesis - there is a significant difference in the experiments\")\n",
    "elif p2_gen != False and p2_gen>0.05:\n",
    "    print(\"mutation == 0.6 and mutation == 0.8999999999999999 [genMaxFound]Cannot reject null hypothesis - no significant difference\")\n",
    "\n",
    "# Boxplots\n",
    "\n",
    "# code for calcualating and printing statistics from the dataframe df_Bests which  (from above) contains that best result per run per popsize\n",
    "#print(df_bests_9.groupby('mutation').mean())\n",
    "\n",
    "#  you can calculate other statistics such as median, std if you want\n",
    "#print(df_bests_9.groupby('mutation').median())\n",
    "#print(df_bests_9.groupby('mutation').std())\n",
    "\n",
    "# plot the boxplot of best fitness per population size\n",
    "boxplot = df_bests_9.boxplot(column=['fitness'], by=['mutation'])\n",
    "\n",
    "# plot genMaxFound per population size\n",
    "boxplot = df_bests_9.boxplot(column=['genMaxFound'], by=['mutation'])\n"
   ]
  },
  {
   "cell_type": "markdown",
   "metadata": {},
   "source": [
    "# Below is code for experiment 3 - crossover"
   ]
  },
  {
   "cell_type": "code",
   "execution_count": null,
   "metadata": {},
   "outputs": [
    {
     "name": "stdout",
     "output_type": "stream",
     "text": [
      "crossoever == 0.5: normality p=0.191676\n",
      "crossoever == 0.5 and crossoever == 0.75 [fitness] Cannot reject null hypothesis - no significant difference\n",
      "crossoever == 0.5 and crossoever == 1.0 [fitness] Cannot reject null hypothesis - no significant difference\n",
      "crossoever == 0.75 and crossoever == 1.0 [fitness]Cannot reject null hypothesis - no significant difference\n",
      "crossoever == 0.5 and crossoever == 1.0 have different distributions\n",
      "crossoever == 0.75 and crossoever == 1.0 have different distributions\n",
      "crossoever == 0.5 and crossoever == 0.75 [genMaxFound] Cannot reject null hypothesis - no significant difference\n",
      "crossoever == 0.5 and crossoever == 1.0 [genMaxFound] Cannot reject null hypothesis - no significant difference\n",
      "crossoever == 0.75 and crossoever == 1.0 [genMaxFound]Cannot reject null hypothesis - no significant difference\n"
     ]
    },
    {
     "data": {
      "image/png": "[encoded data removed]",
      "text/plain": [
       "<Figure size 432x288 with 1 Axes>"
      ]
     },
     "metadata": {
      "needs_background": "light"
     },
     "output_type": "display_data"
    },
    {
     "data": {
      "image/png": "[encoded data removed]",
      "text/plain": [
       "<Figure size 432x288 with 1 Axes>"
      ]
     },
     "metadata": {
      "needs_background": "light"
     },
     "output_type": "display_data"
    }
   ],
   "source": [
    "import pandas as pd\n",
    "\n",
    "\n",
    "df_bests_9 = pd.read_csv(\"df_bests_16_crossover\")\n",
    "from scipy.stats import mannwhitneyu\n",
    "from scipy.stats import ttest_ind\n",
    "from scipy.stats import shapiro # test for normallity\n",
    "\n",
    "# select two subsets of fitness data, one where popsize = 50 and the other where popsize = 150\n",
    "p50 = df_bests_9.fitness[df_bests_9.crossoever == 0.5]\n",
    "p150= df_bests_9.fitness[df_bests_9.crossoever == 0.75]\n",
    "p100= df_bests_9.fitness[df_bests_9.crossoever == 1.0]\n",
    "# we need to convert these subsets to lists to pass to the statistics functions\n",
    "p50l= p50.tolist()\n",
    "p150l = p150.tolist()\n",
    "p100l = p100.tolist()\n",
    "\n",
    "# check for normality\n",
    "stat,p = shapiro(p50l)\n",
    "#print('mutation == 0.3: normality p=%f' %(p))\n",
    "\n",
    "p50normality = False\n",
    "if p>0.05:\n",
    "    print(\"crossoever == 0.5 [fitness]: Probably Gaussian (normal distribution)\")\n",
    "    p50normality = True\n",
    "else:\n",
    "    p50normality = False\n",
    "    print(\"crossoever == 0.5 [fitness]: Probably not  Gaussian (not normal distribution)\")\n",
    "\n",
    "p150normality = False \n",
    "stat,p = shapiro(p150l)\n",
    "#print('popsize == 20: normality p=%f' %(p))\n",
    "if p>0.05:\n",
    "    p150normality = True\n",
    "    print(\"crossoever == 0.75 [fitness]: Probably Gaussian (normal distribution)\")\n",
    "else:\n",
    "    p150normality = False\n",
    "    print(\"crossoever == 0.75 [fitness]: Probably not Gaussian (not normal distribution)\")\n",
    "p100normality = False\n",
    "stat,p = shapiro(p100)\n",
    "#print('popsize == 20: normality p=%f' %(p))\n",
    "if p>0.05:\n",
    "    p100normality = True\n",
    "    print(\"crossoever == 1.0 [fitness]: Probably Gaussian (normal distribution)\")\n",
    "else:\n",
    "    p100normality = False\n",
    "    print(\"crossoever == 1.0 [fitness]: Probably not Gaussian (not normal distribution)\")\n",
    "\n",
    "print(\"Mean\")\n",
    "print(df_bests_9.groupby('crossoever').mean())\n",
    "print(\"Median\")\n",
    "print(df_bests_9.groupby('mutation').median())\n",
    "\n",
    "p_fitness = False\n",
    "p1_fitness = False\n",
    "p2_fitness = False\n",
    "if p50normality and p150normality:\n",
    "    stat,p_fitness = ttest_ind(p50l,p150l) # Student t-test - data is normally distributed\n",
    "elif not p50normality and not p150normality:\n",
    "    stat,p_fitness = mannwhitneyu(p50l,p150l) # Mann-Whitney U-test - data is not normally distributed\n",
    "else:\n",
    "    stat,p_fitness = mannwhitneyu(p50l,p150l)\n",
    "    print(\"crossoever == 0.5 and crossoever == 0.75 [fitness] have different distributions\")\n",
    "if p50normality and p100normality:\n",
    "    stat1,p1_fitness = ttest_ind(p50l,p100l) # Student t-test - data is normally distributed\n",
    "elif not p50normality and not p100normality:\n",
    "    stat1,p1_fitness = mannwhitneyu(p50l,p100l) # Mann-Whitney U-test - data is not normally distributed\n",
    "else:\n",
    "    stat1,p1_fitness = mannwhitneyu(p50l,p100l)\n",
    "    print(\"crossoever == 0.5 and crossoever == 1.0 [fitness] have different distributions\")\n",
    "if p150normality and p100normality:\n",
    "    stat1,p2_fitness = ttest_ind(p100l,p150l) # Student t-test - data is normally distributed\n",
    "elif not p150normality and not p100normality:\n",
    "    stat1,p2_fitness = mannwhitneyu(p150l,p100l) # Mann-Whitney U-test - data is not normally distributed\n",
    "else:\n",
    "    stat1,p2_fitness = mannwhitneyu(p150l,p100l)\n",
    "    print(\"crossoever == 0.75 and crossoever == 1.0 [fitness] have different distributions\")\n",
    "#now apply the  appropriate statistical test depending on the result of the above\n",
    "#stat,p = ttest_ind(p50l,p150l) # Student t-test - data is normally distributed\n",
    "# stat,p = mannwhitneyu(p50l,p150l) # Mann-Whitney U-test - data is not normally distributed\n",
    "# stat1,p1 = mannwhitneyu(p50l,p100l) # Mann-Whitney U-test - data is not normally distributed\n",
    "# stat2,p2 = mannwhitneyu(p150l,p100l) # Mann-Whitney U-test - data is not normally distributed\n",
    "\n",
    "#print('p=%f' %(p_fitness))\n",
    "if p_fitness != False and p_fitness<0.05:\n",
    "    print(\"crossoever == 0.5 and crossoever == 0.75 [fitness] Reject null hypothesis - there is a significant difference in the experiments\")\n",
    "elif p_fitness != False and p_fitness>0.05:\n",
    "    print(\"crossoever == 0.5 and crossoever == 0.75 [fitness] Cannot reject null hypothesis - no significant difference\")\n",
    "#print('p=%f' %(p1_fitness))\n",
    "if p1_fitness != False and p1_fitness<0.05:\n",
    "    print(\"crossoever == 0.5 and crossoever == 1.0 [fitness] Reject null hypothesis - there is a significant difference in the experiments\")\n",
    "elif p1_fitness != False and p1_fitness>0.05:\n",
    "    print(\"crossoever == 0.5 and crossoever == 1.0 [fitness] Cannot reject null hypothesis - no significant difference\")\n",
    "#print('p=%f' %(p2))\n",
    "if p2_fitness != False and p2_fitness<0.05:\n",
    "    print(\"crossoever == 0.75 and crossoever == 1.0 [fitness] Reject null hypothesis - there is a significant difference in the experiments\")\n",
    "elif p2_fitness != False and p2_fitness>0.05:\n",
    "    print(\"crossoever == 0.75 and crossoever == 1.0 [fitness]Cannot reject null hypothesis - no significant difference\")\n",
    "\n",
    "# Fitness generation\n",
    "# select two subsets of fitness data, one where popsize = 50 and the other where popsize = 150\n",
    "p50 = df_bests_9.genMaxFound[df_bests_9.crossoever == 0.5]\n",
    "p150= df_bests_9.genMaxFound[df_bests_9.crossoever == 0.75]\n",
    "p100= df_bests_9.genMaxFound[df_bests_9.crossoever == 1.0]\n",
    "# we need to convert these subsets to lists to pass to the statistics functions\n",
    "p50l= p50.tolist()\n",
    "p150l = p150.tolist()\n",
    "p100l = p100.tolist()\n",
    "\n",
    "# check for normality\n",
    "stat,p = shapiro(p50l)\n",
    "#print('mutation == 20: normality p=%f' %(p))\n",
    "\n",
    "p50normality = False\n",
    "if p>0.05:\n",
    "    #print(\"Probably Gaussian (normal distribution)\")\n",
    "    p50normality = True\n",
    "else:\n",
    "    p50normality = False\n",
    "    #print(\"Probablyno  Gaussian (not normal distribution)\")\n",
    "\n",
    "p150normality = False \n",
    "stat,p = shapiro(p150l)\n",
    "#print('popsize == 20: normality p=%f' %(p))\n",
    "if p>0.05:\n",
    "    p150normality = True\n",
    "    #print(\"Probably Gaussian (normal distribution)\")\n",
    "else:\n",
    "    p150normality = False\n",
    "    #print(\"Probably not Gaussian (not normal distribution)\")\n",
    "\n",
    "p100normality = False\n",
    "stat,p = shapiro(p100)\n",
    "#print('popsize == 20: normality p=%f' %(p))\n",
    "if p>0.05:\n",
    "    p100normality = True\n",
    "    #print(\"Probably Gaussian (normal distribution)\")\n",
    "else:\n",
    "    p100normality = False\n",
    "    #print(\"Probably not Gaussian (not normal distribution)\")\n",
    "\n",
    "p_gen = False\n",
    "p1_gen = False\n",
    "p2_gen = False\n",
    "if p50normality and p150normality:\n",
    "    stat,p_gen = ttest_ind(p50l,p150l) # Student t-test - data is normally distributed\n",
    "elif not p50normality and not p150normality:\n",
    "    stat,p_gen = mannwhitneyu(p50l,p150l) # Mann-Whitney U-test - data is not normally distributed\n",
    "else:\n",
    "    stat,p_gen = mannwhitneyu(p50l,p150l)\n",
    "    print(\"crossoever == 0.5 and crossoever == 0.75 have different distributions\")\n",
    "if p50normality and p100normality:\n",
    "    stat1,p1_gen = ttest_ind(p50l,p100l) # Student t-test - data is normally distributed\n",
    "elif not p50normality and not p100normality:\n",
    "    stat1,p1_gen = mannwhitneyu(p50l,p100l) # Mann-Whitney U-test - data is not normally distributed\n",
    "else:\n",
    "    stat1,p1_gen = mannwhitneyu(p50l,p100l)\n",
    "    print(\"crossoever == 0.5 and crossoever == 1.0 have different distributions\")\n",
    "if p150normality and p100normality:\n",
    "    stat1,p2_gen = ttest_ind(p100l,p150l) # Student t-test - data is normally distributed\n",
    "elif not p150normality and not p100normality:\n",
    "    stat1,p2_gen = mannwhitneyu(p150l,p100l) # Mann-Whitney U-test - data is not normally distributed\n",
    "else:\n",
    "    stat1,p2_gen = mannwhitneyu(p150l,p100l)\n",
    "    print(\"crossoever == 0.75 and crossoever == 1.0 have different distributions\")\n",
    "#now apply the  appropriate statistical test depending on the result of the above\n",
    "#stat,p = ttest_ind(p50l,p150l) # Student t-test - data is normally distributed\n",
    "# stat,p = mannwhitneyu(p50l,p150l) # Mann-Whitney U-test - data is not normally distributed\n",
    "# stat1,p1 = mannwhitneyu(p50l,p100l) # Mann-Whitney U-test - data is not normally distributed\n",
    "# stat2,p2 = mannwhitneyu(p150l,p100l) # Mann-Whitney U-test - data is not normally distributed\n",
    "\n",
    "#print('p=%f' %(p))\n",
    "if p_gen != False and p_gen<0.05:\n",
    "    print(\"crossoever == 0.5 and crossoever == 0.75 [genMaxFound] Reject null hypothesis - there is a significant difference in the experiments\")\n",
    "elif p_gen != False and p_gen>0.05:\n",
    "    print(\"crossoever == 0.5 and crossoever == 0.75 [genMaxFound] Cannot reject null hypothesis - no significant difference\")\n",
    "#print('p=%f' %(p1))\n",
    "if p1_gen != False and p1_gen<0.05:\n",
    "    print(\"crossoever == 0.5 and crossoever == 1.0 [genMaxFound] Reject null hypothesis - there is a significant difference in the experiments\")\n",
    "elif p1_gen != False and p_gen>0.05:\n",
    "    print(\"crossoever == 0.5 and crossoever == 1.0 [genMaxFound] Cannot reject null hypothesis - no significant difference\")\n",
    "#print('p=%f' %(p2))\n",
    "if p2_gen != False and p2_gen<0.05:\n",
    "    print(\"crossoever == 0.75 and crossoever == 1.0 [genMaxFound] Reject null hypothesis - there is a significant difference in the experiments\")\n",
    "elif p2_gen != False and p_gen>0.05:\n",
    "    print(\"crossoever == 0.75 and crossoever == 1.0 [genMaxFound]Cannot reject null hypothesis - no significant difference\")\n",
    "\n",
    "# Boxplots\n",
    "\n",
    "# code for calcualating and printing statistics from the dataframe df_Bests which  (from above) contains that best result per run per popsize\n",
    "#print(df_bests_9.groupby('crossoever').mean())\n",
    "\n",
    "#  you can calculate other statistics such as median, std if you want\n",
    "#print(df_bests_9.groupby('crossoever').median())\n",
    "#print(df_bests_9.groupby('crossoever').std())\n",
    "\n",
    "# plot the boxplot of best fitness per population size\n",
    "boxplot = df_bests_9.boxplot(column=['fitness'], by=['crossoever'])\n",
    "\n",
    "# plot genMaxFound per population size\n",
    "boxplot = df_bests_9.boxplot(column=['genMaxFound'], by=['crossoever'])\n"
   ]
  },
  {
   "cell_type": "code",
   "execution_count": 93,
   "metadata": {},
   "outputs": [
    {
     "name": "stdout",
     "output_type": "stream",
     "text": [
      "crossoever == 0.5 [fitness]: Probably Gaussian (normal distribution)\n",
      "crossoever == 0.75 [fitness]: Probably not Gaussian (not normal distribution)\n",
      "crossoever == 0.5 and crossoever == 0.75 [fitness] have different distributions\n",
      "crossoever == 0.5 and crossoever == 0.75 [fitness] Reject null hypothesis - there is a significant difference in the experiments\n",
      "crossoever == 0.5 and crossoever == 0.75 [genMaxFound] Reject null hypothesis - there is a significant difference in the experiments\n"
     ]
    },
    {
     "data": {
      "image/png": "[encoded data removed]",
      "text/plain": [
       "<Figure size 432x288 with 1 Axes>"
      ]
     },
     "metadata": {
      "needs_background": "light"
     },
     "output_type": "display_data"
    },
    {
     "data": {
      "image/png": "[encoded data removed]",
      "text/plain": [
       "<Figure size 432x288 with 1 Axes>"
      ]
     },
     "metadata": {
      "needs_background": "light"
     },
     "output_type": "display_data"
    }
   ],
   "source": [
    "import pandas as pd\n",
    "\n",
    "\n",
    "df_bests_9 = pd.read_csv(\"df_bests_24_select\")\n",
    "from scipy.stats import mannwhitneyu\n",
    "from scipy.stats import ttest_ind\n",
    "from scipy.stats import shapiro # test for normallity\n",
    "\n",
    "# select two subsets of fitness data, one where popsize = 50 and the other where popsize = 150\n",
    "p50 = df_bests_9.fitness[df_bests_9.selection == 10]\n",
    "p150= df_bests_9.fitness[df_bests_9.selection == 20]\n",
    "#p100= df_bests_9.fitness[df_bests_9.crossoever == 1.0]\n",
    "# we need to convert these subsets to lists to pass to the statistics functions\n",
    "p50l= p50.tolist()\n",
    "p150l = p150.tolist()\n",
    "#p100l = p100.tolist()\n",
    "\n",
    "# check for normality\n",
    "stat,p = shapiro(p50l)\n",
    "#print('mutation == 0.3: normality p=%f' %(p))\n",
    "\n",
    "p50normality = False\n",
    "if p>0.05:\n",
    "    print(\"crossoever == 0.5 [fitness]: Probably Gaussian (normal distribution)\")\n",
    "    p50normality = True\n",
    "else:\n",
    "    p50normality = False\n",
    "    print(\"crossoever == 0.5 [fitness]: Probably not  Gaussian (not normal distribution)\")\n",
    "\n",
    "p150normality = False \n",
    "stat,p = shapiro(p150l)\n",
    "#print('popsize == 20: normality p=%f' %(p))\n",
    "if p>0.05:\n",
    "    p150normality = True\n",
    "    print(\"crossoever == 0.75 [fitness]: Probably Gaussian (normal distribution)\")\n",
    "else:\n",
    "    p150normality = False\n",
    "    print(\"crossoever == 0.75 [fitness]: Probably not Gaussian (not normal distribution)\")\n",
    "# p100normality = False\n",
    "# stat,p = shapiro(p100)\n",
    "# #print('popsize == 20: normality p=%f' %(p))\n",
    "# if p>0.05:\n",
    "#     p100normality = True\n",
    "#     print(\"crossoever == 1.0 [fitness]: Probably Gaussian (normal distribution)\")\n",
    "# else:\n",
    "#     p100normality = False\n",
    "#     print(\"crossoever == 1.0 [fitness]: Probably not Gaussian (not normal distribution)\")\n",
    "\n",
    "\n",
    "p_fitness = False\n",
    "p1_fitness = False\n",
    "p2_fitness = False\n",
    "if p50normality and p150normality:\n",
    "    stat,p_fitness = ttest_ind(p50l,p150l) # Student t-test - data is normally distributed\n",
    "elif not p50normality and not p150normality:\n",
    "    stat,p_fitness = mannwhitneyu(p50l,p150l) # Mann-Whitney U-test - data is not normally distributed\n",
    "else:\n",
    "    stat,p_fitness = mannwhitneyu(p50l,p150l)\n",
    "    print(\"crossoever == 0.5 and crossoever == 0.75 [fitness] have different distributions\")\n",
    "# if p50normality and p100normality:\n",
    "#     stat1,p1_fitness = ttest_ind(p50l,p100l) # Student t-test - data is normally distributed\n",
    "# elif not p50normality and not p100normality:\n",
    "#     stat1,p1_fitness = mannwhitneyu(p50l,p100l) # Mann-Whitney U-test - data is not normally distributed\n",
    "# else:\n",
    "#     stat1,p1_fitness = mannwhitneyu(p50l,p100l)\n",
    "#     print(\"crossoever == 0.5 and crossoever == 1.0 [fitness] have different distributions\")\n",
    "# if p150normality and p100normality:\n",
    "#     stat1,p2_fitness = ttest_ind(p100l,p150l) # Student t-test - data is normally distributed\n",
    "# elif not p150normality and not p100normality:\n",
    "#     stat1,p2_fitness = mannwhitneyu(p150l,p100l) # Mann-Whitney U-test - data is not normally distributed\n",
    "# else:\n",
    "#     stat1,p2_fitness = mannwhitneyu(p150l,p100l)\n",
    "#     print(\"crossoever == 0.75 and crossoever == 1.0 [fitness] have different distributions\")\n",
    "#now apply the  appropriate statistical test depending on the result of the above\n",
    "#stat,p = ttest_ind(p50l,p150l) # Student t-test - data is normally distributed\n",
    "# stat,p = mannwhitneyu(p50l,p150l) # Mann-Whitney U-test - data is not normally distributed\n",
    "# stat1,p1 = mannwhitneyu(p50l,p100l) # Mann-Whitney U-test - data is not normally distributed\n",
    "# stat2,p2 = mannwhitneyu(p150l,p100l) # Mann-Whitney U-test - data is not normally distributed\n",
    "\n",
    "#print('p=%f' %(p_fitness))\n",
    "if p_fitness != False and p_fitness<0.05:\n",
    "    print(\"crossoever == 0.5 and crossoever == 0.75 [fitness] Reject null hypothesis - there is a significant difference in the experiments\")\n",
    "elif p_fitness != False and p_fitness>0.05:\n",
    "    print(\"crossoever == 0.5 and crossoever == 0.75 [fitness] Cannot reject null hypothesis - no significant difference\")\n",
    "# #print('p=%f' %(p1_fitness))\n",
    "# if p1_fitness != False and p1_fitness<0.05:\n",
    "#     print(\"crossoever == 0.5 and crossoever == 1.0 [fitness] Reject null hypothesis - there is a significant difference in the experiments\")\n",
    "# elif p1_fitness != False and p1_fitness>0.05:\n",
    "#     print(\"crossoever == 0.5 and crossoever == 1.0 [fitness] Cannot reject null hypothesis - no significant difference\")\n",
    "# #print('p=%f' %(p2))\n",
    "# if p2_fitness != False and p2_fitness<0.05:\n",
    "#     print(\"crossoever == 0.75 and crossoever == 1.0 [fitness] Reject null hypothesis - there is a significant difference in the experiments\")\n",
    "# elif p2_fitness != False and p2_fitness>0.05:\n",
    "#     print(\"crossoever == 0.75 and crossoever == 1.0 [fitness]Cannot reject null hypothesis - no significant difference\")\n",
    "\n",
    "# Fitness generation\n",
    "# select two subsets of fitness data, one where popsize = 50 and the other where popsize = 150\n",
    "p50 = df_bests_9.genMaxFound[df_bests_9.selection == 10]\n",
    "p150= df_bests_9.genMaxFound[df_bests_9.selection == 20]\n",
    "# p100= df_bests_9.genMaxFound[df_bests_9.crossoever == 1.0]\n",
    "# we need to convert these subsets to lists to pass to the statistics functions\n",
    "p50l= p50.tolist()\n",
    "p150l = p150.tolist()\n",
    "# p100l = p100.tolist()\n",
    "\n",
    "# check for normality\n",
    "stat,p = shapiro(p50l)\n",
    "#print('mutation == 20: normality p=%f' %(p))\n",
    "\n",
    "p50normality = False\n",
    "if p>0.05:\n",
    "    #print(\"Probably Gaussian (normal distribution)\")\n",
    "    p50normality = True\n",
    "else:\n",
    "    p50normality = False\n",
    "    #print(\"Probablyno  Gaussian (not normal distribution)\")\n",
    "\n",
    "p150normality = False \n",
    "stat,p = shapiro(p150l)\n",
    "#print('popsize == 20: normality p=%f' %(p))\n",
    "if p>0.05:\n",
    "    p150normality = True\n",
    "    #print(\"Probably Gaussian (normal distribution)\")\n",
    "else:\n",
    "    p150normality = False\n",
    "    #print(\"Probably not Gaussian (not normal distribution)\")\n",
    "\n",
    "# p100normality = False\n",
    "# stat,p = shapiro(p100)\n",
    "# #print('popsize == 20: normality p=%f' %(p))\n",
    "# if p>0.05:\n",
    "#     p100normality = True\n",
    "#     #print(\"Probably Gaussian (normal distribution)\")\n",
    "# else:\n",
    "#     p100normality = False\n",
    "#     #print(\"Probably not Gaussian (not normal distribution)\")\n",
    "\n",
    "p_gen = False\n",
    "p1_gen = False\n",
    "p2_gen = False\n",
    "if p50normality and p150normality:\n",
    "    stat,p_gen = ttest_ind(p50l,p150l) # Student t-test - data is normally distributed\n",
    "elif not p50normality and not p150normality:\n",
    "    stat,p_gen = mannwhitneyu(p50l,p150l) # Mann-Whitney U-test - data is not normally distributed\n",
    "else:\n",
    "    stat,p_gen = mannwhitneyu(p50l,p150l)\n",
    "    print(\"crossoever == 0.5 and crossoever == 0.75 have different distributions\")\n",
    "# if p50normality and p100normality:\n",
    "#     stat1,p1_gen = ttest_ind(p50l,p100l) # Student t-test - data is normally distributed\n",
    "# elif not p50normality and not p100normality:\n",
    "#     stat1,p1_gen = mannwhitneyu(p50l,p100l) # Mann-Whitney U-test - data is not normally distributed\n",
    "# else:\n",
    "#     stat1,p1_gen = mannwhitneyu(p50l,p100l)\n",
    "#     print(\"crossoever == 0.5 and crossoever == 1.0 have different distributions\")\n",
    "# if p150normality and p100normality:\n",
    "#     stat1,p2_gen = ttest_ind(p100l,p150l) # Student t-test - data is normally distributed\n",
    "# elif not p150normality and not p100normality:\n",
    "#     stat1,p2_gen = mannwhitneyu(p150l,p100l) # Mann-Whitney U-test - data is not normally distributed\n",
    "# else:\n",
    "#     stat1,p2_gen = mannwhitneyu(p150l,p100l)\n",
    "#     print(\"crossoever == 0.75 and crossoever == 1.0 have different distributions\")\n",
    "#now apply the  appropriate statistical test depending on the result of the above\n",
    "#stat,p = ttest_ind(p50l,p150l) # Student t-test - data is normally distributed\n",
    "# stat,p = mannwhitneyu(p50l,p150l) # Mann-Whitney U-test - data is not normally distributed\n",
    "# stat1,p1 = mannwhitneyu(p50l,p100l) # Mann-Whitney U-test - data is not normally distributed\n",
    "# stat2,p2 = mannwhitneyu(p150l,p100l) # Mann-Whitney U-test - data is not normally distributed\n",
    "\n",
    "#print('p=%f' %(p))\n",
    "if p_gen != False and p_gen<0.05:\n",
    "    print(\"crossoever == 0.5 and crossoever == 0.75 [genMaxFound] Reject null hypothesis - there is a significant difference in the experiments\")\n",
    "elif p_gen != False and p_gen>0.05:\n",
    "    print(\"crossoever == 0.5 and crossoever == 0.75 [genMaxFound] Cannot reject null hypothesis - no significant difference\")\n",
    "# #print('p=%f' %(p1))\n",
    "# if p1_gen != False and p1_gen<0.05:\n",
    "#     print(\"crossoever == 0.5 and crossoever == 1.0 [genMaxFound] Reject null hypothesis - there is a significant difference in the experiments\")\n",
    "# elif p1_gen != False and p_gen>0.05:\n",
    "#     print(\"crossoever == 0.5 and crossoever == 1.0 [genMaxFound] Cannot reject null hypothesis - no significant difference\")\n",
    "# #print('p=%f' %(p2))\n",
    "# if p2_gen != False and p2_gen<0.05:\n",
    "#     print(\"crossoever == 0.75 and crossoever == 1.0 [genMaxFound] Reject null hypothesis - there is a significant difference in the experiments\")\n",
    "# elif p2_gen != False and p_gen>0.05:\n",
    "#     print(\"crossoever == 0.75 and crossoever == 1.0 [genMaxFound]Cannot reject null hypothesis - no significant difference\")\n",
    "\n",
    "# Boxplots\n",
    "\n",
    "# code for calcualating and printing statistics from the dataframe df_Bests which  (from above) contains that best result per run per popsize\n",
    "#print(df_bests_9.groupby('crossoever').mean())\n",
    "\n",
    "#  you can calculate other statistics such as median, std if you want\n",
    "#print(df_bests_9.groupby('crossoever').median())\n",
    "#print(df_bests_9.groupby('crossoever').std())\n",
    "\n",
    "# plot the boxplot of best fitness per population size\n",
    "boxplot = df_bests_9.boxplot(column=['fitness'], by=['selection'])\n",
    "\n",
    "# plot genMaxFound per population size\n",
    "boxplot = df_bests_9.boxplot(column=['genMaxFound'], by=['selection'])\n"
   ]
  },
  {
   "cell_type": "markdown",
   "metadata": {},
   "source": [
    "# Below code is for experiment selection"
   ]
  },
  {
   "cell_type": "code",
   "execution_count": null,
   "metadata": {},
   "outputs": [
    {
     "name": "stdout",
     "output_type": "stream",
     "text": [
      "selection == 6.666666666666667 and selection == 13.333333333333334 [fitness] Cannot reject null hypothesis - no significant difference\n",
      "selection == 6.666666666666667 and selection == 20.0 [fitness] Cannot reject null hypothesis - no significant difference\n",
      "selection == 13.333333333333334 and selection == 20.0 [fitness] Reject null hypothesis - there is a significant difference in the experiments\n",
      "selection == 6.666666666666667 and selection == 13.333333333333334 [gen] have different distributions\n",
      "selection == 6.666666666666667 and selection == 20.0 [gen] have different distributions\n",
      "selection == 6.666666666666667 and selection == 13.333333333333334 [genMaxFound] Cannot reject null hypothesis - no significant difference\n",
      "selection == 6.666666666666667 and selection == 20.0 [genMaxFound] Cannot reject null hypothesis - no significant difference\n",
      "selection == 13.333333333333334 and selection == 20.0 [genMaxFound]Cannot reject null hypothesis - no significant difference\n"
     ]
    },
    {
     "data": {
      "image/png": "[encoded data removed]",
      "text/plain": [
       "<Figure size 432x288 with 1 Axes>"
      ]
     },
     "metadata": {
      "needs_background": "light"
     },
     "output_type": "display_data"
    },
    {
     "data": {
      "image/png": "[encoded data removed]",
      "text/plain": [
       "<Figure size 432x288 with 1 Axes>"
      ]
     },
     "metadata": {
      "needs_background": "light"
     },
     "output_type": "display_data"
    }
   ],
   "source": [
    "import pandas as pd\n",
    "\n",
    "\n",
    "df_bests_9 = pd.read_csv(\"df_bests_17_selection\")\n",
    "from scipy.stats import mannwhitneyu\n",
    "from scipy.stats import ttest_ind\n",
    "from scipy.stats import shapiro # test for normallity\n",
    "\n",
    "# select two subsets of fitness data, one where popsize = 50 and the other where popsize = 150\n",
    "p50 = df_bests_9.fitness[df_bests_9.selection == 6.666666666666667]\n",
    "p150= df_bests_9.fitness[df_bests_9.selection == 13.333333333333334]\n",
    "p100= df_bests_9.fitness[df_bests_9.selection == 20.0]\n",
    "# we need to convert these subsets to lists to pass to the statistics functions\n",
    "p50l= p50.tolist()\n",
    "p150l = p150.tolist()\n",
    "p100l = p100.tolist()\n",
    "\n",
    "# check for normality\n",
    "stat,p = shapiro(p50l)\n",
    "#print('selection == 6.666666666666667: normality p=%f' %(p))\n",
    "\n",
    "p50normality = False\n",
    "if p>0.05:\n",
    "    #print(\"Probably Gaussian (normal distribution)\")\n",
    "    p50normality = True\n",
    "else:\n",
    "    p50normality = False\n",
    "    #print(\"Probablyno  Gaussian (not normal distribution)\")\n",
    "\n",
    "p150normality = False \n",
    "stat,p = shapiro(p150l)\n",
    "#print('popsize == 20: normality p=%f' %(p))\n",
    "if p>0.05:\n",
    "    p150normality = True\n",
    "    #print(\"Probably Gaussian (normal distribution)\")\n",
    "else:\n",
    "    p150normality = False\n",
    "    #print(\"Probably not Gaussian (not normal distribution)\")\n",
    "\n",
    "p100normality = False\n",
    "stat,p = shapiro(p100)\n",
    "#print('popsize == 20: normality p=%f' %(p))\n",
    "if p>0.05:\n",
    "    p100normality = True\n",
    "    #print(\"Probably Gaussian (normal distribution)\")\n",
    "else:\n",
    "    p100normality = False\n",
    "    #print(\"Probably not Gaussian (not normal distribution)\")\n",
    "p_fitness = False\n",
    "p1_fitness = False\n",
    "p2_fitness = False\n",
    "if p50normality and p150normality:\n",
    "    stat,p_fitness = ttest_ind(p50l,p150l) # Student t-test - data is normally distributed\n",
    "elif not p50normality and not p150normality:\n",
    "    stat,p_fitness = mannwhitneyu(p50l,p150l) # Mann-Whitney U-test - data is not normally distributed\n",
    "else:\n",
    "    stat,p_fitness = mannwhitneyu(p50l,p150l)\n",
    "    print(\"selection == 6.666666666666667 and selection == 13.333333333333334 [fitness] have different distributions\")\n",
    "if p50normality and p100normality:\n",
    "    stat1,p1_fitness = ttest_ind(p50l,p100l) # Student t-test - data is normally distributed\n",
    "elif not p50normality and not p100normality:\n",
    "    stat1,p1_fitness = mannwhitneyu(p50l,p100l) # Mann-Whitney U-test - data is not normally distributed\n",
    "else:\n",
    "    stat1,p1_fitness = mannwhitneyu(p50l,p100l)\n",
    "    print(\"selection == 6.666666666666667 and selection == 20.0 [fitness] have different distributions\")\n",
    "if p150normality and p100normality:\n",
    "    stat1,p2_fitness = ttest_ind(p100l,p150l) # Student t-test - data is normally distributed\n",
    "elif not p150normality and not p100normality:\n",
    "    stat1,p2_fitness = mannwhitneyu(p150l,p100l) # Mann-Whitney U-test - data is not normally distributed\n",
    "else:\n",
    "    stat1,p2_fitness = mannwhitneyu(p150l,p100l)\n",
    "    print(\"selection == 13.333333333333334 and selection == 20.0 [fitness] have different distributions\")\n",
    "#now apply the  appropriate statistical test depending on the result of the above\n",
    "#stat,p = ttest_ind(p50l,p150l) # Student t-test - data is normally distributed\n",
    "# stat,p = mannwhitneyu(p50l,p150l) # Mann-Whitney U-test - data is not normally distributed\n",
    "# stat1,p1 = mannwhitneyu(p50l,p100l) # Mann-Whitney U-test - data is not normally distributed\n",
    "# stat2,p2 = mannwhitneyu(p150l,p100l) # Mann-Whitney U-test - data is not normally distributed\n",
    "\n",
    "#print('p=%f' %(p_fitness))\n",
    "if p_fitness != False and p_fitness<0.05:\n",
    "    print(\"selection == 6.666666666666667 and selection == 13.333333333333334 [fitness] Reject null hypothesis - there is a significant difference in the experiments\")\n",
    "elif p_fitness != False and p_fitness>0.05:\n",
    "    print(\"selection == 6.666666666666667 and selection == 13.333333333333334 [fitness] Cannot reject null hypothesis - no significant difference\")\n",
    "#print('p=%f' %(p1_fitness))\n",
    "if p1_fitness != False and p1_fitness<0.05:\n",
    "    print(\"selection == 6.666666666666667 and cselection == 20.0 [fitness] Reject null hypothesis - there is a significant difference in the experiments\")\n",
    "elif p1_fitness != False and p1_fitness>0.05:\n",
    "    print(\"selection == 6.666666666666667 and selection == 20.0 [fitness] Cannot reject null hypothesis - no significant difference\")\n",
    "#print('p=%f' %(p2))\n",
    "if p2_fitness != False and p2_fitness<0.05:\n",
    "    print(\"selection == 13.333333333333334 and selection == 20.0 [fitness] Reject null hypothesis - there is a significant difference in the experiments\")\n",
    "elif p2_fitness != False and p2_fitness>0.05:\n",
    "    print(\"selection == 13.333333333333334 and selection == 20.0 [fitness]Cannot reject null hypothesis - no significant difference\")\n",
    "\n",
    "# Fitness generation\n",
    "# select two subsets of fitness data, one where popsize = 50 and the other where popsize = 150\n",
    "p50 = df_bests_9.genMaxFound[df_bests_9.selection == 6.666666666666667]\n",
    "p150= df_bests_9.genMaxFound[df_bests_9.selection == 13.333333333333334]\n",
    "p100= df_bests_9.genMaxFound[df_bests_9.selection == 20.0]\n",
    "# we need to convert these subsets to lists to pass to the statistics functions\n",
    "p50l= p50.tolist()\n",
    "p150l = p150.tolist()\n",
    "p100l = p100.tolist()\n",
    "\n",
    "# check for normality\n",
    "stat,p = shapiro(p50l)\n",
    "#print('mutation == 20: normality p=%f' %(p))\n",
    "\n",
    "p50normality = False\n",
    "if p>0.05:\n",
    "    #print(\"Probably Gaussian (normal distribution)\")\n",
    "    p50normality = True\n",
    "else:\n",
    "    p50normality = False\n",
    "    #print(\"Probablyno  Gaussian (not normal distribution)\")\n",
    "\n",
    "p150normality = False \n",
    "stat,p = shapiro(p150l)\n",
    "#print('popsize == 20: normality p=%f' %(p))\n",
    "if p>0.05:\n",
    "    p150normality = True\n",
    "    #print(\"Probably Gaussian (normal distribution)\")\n",
    "else:\n",
    "    p150normality = False\n",
    "    #print(\"Probably not Gaussian (not normal distribution)\")\n",
    "\n",
    "p100normality = False\n",
    "stat,p = shapiro(p100)\n",
    "#print('popsize == 20: normality p=%f' %(p))\n",
    "if p>0.05:\n",
    "    p100normality = True\n",
    "    #print(\"Probably Gaussian (normal distribution)\")\n",
    "else:\n",
    "    p100normality = False\n",
    "    #print(\"Probably not Gaussian (not normal distribution)\")\n",
    "\n",
    "p_gen = False\n",
    "p1_gen = False\n",
    "p2_gen = False\n",
    "if p50normality and p150normality:\n",
    "    stat,p_gen = ttest_ind(p50l,p150l) # Student t-test - data is normally distributed\n",
    "elif not p50normality and not p150normality:\n",
    "    stat,p_gen = mannwhitneyu(p50l,p150l) # Mann-Whitney U-test - data is not normally distributed\n",
    "else:\n",
    "    stat,p_gen = mannwhitneyu(p50l,p150l)\n",
    "    print(\"selection == 6.666666666666667 and selection == 13.333333333333334 [gen] have different distributions\")\n",
    "if p50normality and p100normality:\n",
    "    stat1,p1_gen = ttest_ind(p50l,p100l) # Student t-test - data is normally distributed\n",
    "elif not p50normality and not p100normality:\n",
    "    stat1,p1_gen = mannwhitneyu(p50l,p100l) # Mann-Whitney U-test - data is not normally distributed\n",
    "else:\n",
    "    stat1,p1_gen = mannwhitneyu(p50l,p100l)\n",
    "    print(\"selection == 6.666666666666667 and selection == 20.0 [gen] have different distributions\")\n",
    "if p150normality and p100normality:\n",
    "    stat1,p2_gen = ttest_ind(p100l,p150l) # Student t-test - data is normally distributed\n",
    "elif not p150normality and not p100normality:\n",
    "    stat1,p2_gen = mannwhitneyu(p150l,p100l) # Mann-Whitney U-test - data is not normally distributed\n",
    "else:\n",
    "    stat1,p2_gen = mannwhitneyu(p150l,p100l)\n",
    "    print(\"selection == 13.333333333333334 and selection == 20.0 [gen] have different distributions\")\n",
    "#now apply the  appropriate statistical test depending on the result of the above\n",
    "#stat,p = ttest_ind(p50l,p150l) # Student t-test - data is normally distributed\n",
    "# stat,p = mannwhitneyu(p50l,p150l) # Mann-Whitney U-test - data is not normally distributed\n",
    "# stat1,p1 = mannwhitneyu(p50l,p100l) # Mann-Whitney U-test - data is not normally distributed\n",
    "# stat2,p2 = mannwhitneyu(p150l,p100l) # Mann-Whitney U-test - data is not normally distributed\n",
    "\n",
    "#print('p=%f' %(p))\n",
    "if p_gen != False and p_gen<0.05:\n",
    "    print(\"selection == 6.666666666666667 and selection == 13.333333333333334 [genMaxFound] Reject null hypothesis - there is a significant difference in the experiments\")\n",
    "elif p_gen != False and p_gen>0.05:\n",
    "    print(\"selection == 6.666666666666667 and selection == 13.333333333333334 [genMaxFound] Cannot reject null hypothesis - no significant difference\")\n",
    "#print('p=%f' %(p1))\n",
    "if p1_gen != False and p1_gen<0.05:\n",
    "    print(\"selection == 6.666666666666667 and selection == 20.0 [genMaxFound] Reject null hypothesis - there is a significant difference in the experiments\")\n",
    "elif p1_gen != False and p1_gen>0.05:\n",
    "    print(\"selection == 6.666666666666667 and selection == 20.0 [genMaxFound] Cannot reject null hypothesis - no significant difference\")\n",
    "#print('p=%f' %(p2))\n",
    "if p2_gen != False and p2_gen<0.05:\n",
    "    print(\"selection == 13.333333333333334 and selection == 20.0 [genMaxFound] Reject null hypothesis - there is a significant difference in the experiments\")\n",
    "elif p2_gen != False and p2_gen>0.05:\n",
    "    print(\"selection == 13.333333333333334 and selection == 20.0 [genMaxFound]Cannot reject null hypothesis - no significant difference\")\n",
    "\n",
    "# Boxplots\n",
    "\n",
    "# code for calcualating and printing statistics from the dataframe df_Bests which  (from above) contains that best result per run per popsize\n",
    "#print(df_bests_9.groupby('crossoever').mean())\n",
    "\n",
    "#  you can calculate other statistics such as median, std if you want\n",
    "#print(df_bests_9.groupby('crossoever').median())\n",
    "#print(df_bests_9.groupby('crossoever').std())\n",
    "\n",
    "# plot the boxplot of best fitness per population size\n",
    "boxplot = df_bests_9.boxplot(column=['fitness'], by=['selection'])\n",
    "\n",
    "# plot genMaxFound per population size\n",
    "boxplot = df_bests_9.boxplot(column=['genMaxFound'], by=['selection'])\n"
   ]
  },
  {
   "cell_type": "code",
   "execution_count": null,
   "metadata": {},
   "outputs": [
    {
     "name": "stdout",
     "output_type": "stream",
     "text": [
      "selection == 6.666666666666667 and selection == 20.0 [fitness] have different distributions\n",
      "selection == 13.333333333333334 and selection == 20.0 [fitness] have different distributions\n",
      "selection == 6.666666666666667 and selection == 13.333333333333334 [fitness] Cannot reject null hypothesis - no significant difference\n",
      "selection == 6.666666666666667 and selection == 20.0 [fitness] Cannot reject null hypothesis - no significant difference\n",
      "selection == 13.333333333333334 and selection == 20.0 [fitness]Cannot reject null hypothesis - no significant difference\n",
      "selection == 6.666666666666667 and selection == 13.333333333333334 [genMaxFound] Cannot reject null hypothesis - no significant difference\n",
      "selection == 6.666666666666667 and selection == 20.0 [genMaxFound] Cannot reject null hypothesis - no significant difference\n",
      "selection == 13.333333333333334 and selection == 20.0 [genMaxFound]Cannot reject null hypothesis - no significant difference\n"
     ]
    },
    {
     "data": {
      "image/png": "[encoded data removed]",
      "text/plain": [
       "<Figure size 432x288 with 1 Axes>"
      ]
     },
     "metadata": {
      "needs_background": "light"
     },
     "output_type": "display_data"
    },
    {
     "data": {
      "image/png": "[encoded data removed]",
      "text/plain": [
       "<Figure size 432x288 with 1 Axes>"
      ]
     },
     "metadata": {
      "needs_background": "light"
     },
     "output_type": "display_data"
    }
   ],
   "source": [
    "import pandas as pd\n",
    "\n",
    "\n",
    "df_bests_9 = pd.read_csv(\"df_bests_18_selection_more_selection_than_population\")\n",
    "from scipy.stats import mannwhitneyu\n",
    "from scipy.stats import ttest_ind\n",
    "from scipy.stats import shapiro # test for normallity\n",
    "\n",
    "# select two subsets of fitness data, one where popsize = 50 and the other where popsize = 150\n",
    "p50 = df_bests_9.fitness[df_bests_9.selection == 13.333333333333334]\n",
    "p150= df_bests_9.fitness[df_bests_9.selection == 26.666666666666668]\n",
    "p100= df_bests_9.fitness[df_bests_9.selection == 40.0]\n",
    "# we need to convert these subsets to lists to pass to the statistics functions\n",
    "p50l= p50.tolist()\n",
    "p150l = p150.tolist()\n",
    "p100l = p100.tolist()\n",
    "\n",
    "# check for normality\n",
    "stat,p = shapiro(p50l)\n",
    "#print('selection == 6.666666666666667: normality p=%f' %(p))\n",
    "\n",
    "p50normality = False\n",
    "if p>0.05:\n",
    "    #print(\"Probably Gaussian (normal distribution)\")\n",
    "    p50normality = True\n",
    "else:\n",
    "    p50normality = False\n",
    "    #print(\"Probablyno  Gaussian (not normal distribution)\")\n",
    "\n",
    "p150normality = False \n",
    "stat,p = shapiro(p150l)\n",
    "#print('popsize == 20: normality p=%f' %(p))\n",
    "if p>0.05:\n",
    "    p150normality = True\n",
    "    #print(\"Probably Gaussian (normal distribution)\")\n",
    "else:\n",
    "    p150normality = False\n",
    "    #print(\"Probably not Gaussian (not normal distribution)\")\n",
    "\n",
    "p100normality = False\n",
    "stat,p = shapiro(p100)\n",
    "#print('popsize == 20: normality p=%f' %(p))\n",
    "if p>0.05:\n",
    "    p100normality = True\n",
    "    #print(\"Probably Gaussian (normal distribution)\")\n",
    "else:\n",
    "    p100normality = False\n",
    "    #print(\"Probably not Gaussian (not normal distribution)\")\n",
    "p_fitness = False\n",
    "p1_fitness = False\n",
    "p2_fitness = False\n",
    "if p50normality and p150normality:\n",
    "    stat,p_fitness = ttest_ind(p50l,p150l) # Student t-test - data is normally distributed\n",
    "elif not p50normality and not p150normality:\n",
    "    stat,p_fitness = mannwhitneyu(p50l,p150l) # Mann-Whitney U-test - data is not normally distributed\n",
    "else:\n",
    "    stat,p_fitness = mannwhitneyu(p50l,p150l)\n",
    "    print(\"selection == 6.666666666666667 and selection == 13.333333333333334 [fitness] have different distributions\")\n",
    "if p50normality and p100normality:\n",
    "    stat1,p1_fitness = ttest_ind(p50l,p100l) # Student t-test - data is normally distributed\n",
    "elif not p50normality and not p100normality:\n",
    "    stat1,p1_fitness = mannwhitneyu(p50l,p100l) # Mann-Whitney U-test - data is not normally distributed\n",
    "else:\n",
    "    stat1,p1_fitness = mannwhitneyu(p50l,p100l)\n",
    "    print(\"selection == 6.666666666666667 and selection == 20.0 [fitness] have different distributions\")\n",
    "if p150normality and p100normality:\n",
    "    stat1,p2_fitness = ttest_ind(p100l,p150l) # Student t-test - data is normally distributed\n",
    "elif not p150normality and not p100normality:\n",
    "    stat1,p2_fitness = mannwhitneyu(p150l,p100l) # Mann-Whitney U-test - data is not normally distributed\n",
    "else:\n",
    "    stat1,p2_fitness = mannwhitneyu(p150l,p100l)\n",
    "    print(\"selection == 13.333333333333334 and selection == 20.0 [fitness] have different distributions\")\n",
    "#now apply the  appropriate statistical test depending on the result of the above\n",
    "#stat,p = ttest_ind(p50l,p150l) # Student t-test - data is normally distributed\n",
    "# stat,p = mannwhitneyu(p50l,p150l) # Mann-Whitney U-test - data is not normally distributed\n",
    "# stat1,p1 = mannwhitneyu(p50l,p100l) # Mann-Whitney U-test - data is not normally distributed\n",
    "# stat2,p2 = mannwhitneyu(p150l,p100l) # Mann-Whitney U-test - data is not normally distributed\n",
    "\n",
    "#print('p=%f' %(p_fitness))\n",
    "if p_fitness != False and p_fitness<0.05:\n",
    "    print(\"selection == 6.666666666666667 and selection == 13.333333333333334 [fitness] Reject null hypothesis - there is a significant difference in the experiments\")\n",
    "elif p_fitness != False and p_fitness>0.05:\n",
    "    print(\"selection == 6.666666666666667 and selection == 13.333333333333334 [fitness] Cannot reject null hypothesis - no significant difference\")\n",
    "#print('p=%f' %(p1_fitness))\n",
    "if p1_fitness != False and p1_fitness<0.05:\n",
    "    print(\"selection == 6.666666666666667 and cselection == 20.0 [fitness] Reject null hypothesis - there is a significant difference in the experiments\")\n",
    "elif p1_fitness != False and p1_fitness>0.05:\n",
    "    print(\"selection == 6.666666666666667 and selection == 20.0 [fitness] Cannot reject null hypothesis - no significant difference\")\n",
    "#print('p=%f' %(p2))\n",
    "if p2_fitness != False and p2_fitness<0.05:\n",
    "    print(\"selection == 13.333333333333334 and selection == 20.0 [fitness] Reject null hypothesis - there is a significant difference in the experiments\")\n",
    "elif p2_fitness != False and p2_fitness>0.05:\n",
    "    print(\"selection == 13.333333333333334 and selection == 20.0 [fitness]Cannot reject null hypothesis - no significant difference\")\n",
    "\n",
    "# Fitness generation\n",
    "# select two subsets of fitness data, one where popsize = 50 and the other where popsize = 150\n",
    "p50 = df_bests_9.genMaxFound[df_bests_9.selection == 13.333333333333334]\n",
    "p150= df_bests_9.genMaxFound[df_bests_9.selection == 26.666666666666668]\n",
    "p100= df_bests_9.genMaxFound[df_bests_9.selection == 40.0]\n",
    "# we need to convert these subsets to lists to pass to the statistics functions\n",
    "p50l= p50.tolist()\n",
    "p150l = p150.tolist()\n",
    "p100l = p100.tolist()\n",
    "\n",
    "# check for normality\n",
    "stat,p = shapiro(p50l)\n",
    "#print('mutation == 20: normality p=%f' %(p))\n",
    "\n",
    "p50normality = False\n",
    "if p>0.05:\n",
    "    #print(\"Probably Gaussian (normal distribution)\")\n",
    "    p50normality = True\n",
    "else:\n",
    "    p50normality = False\n",
    "    #print(\"Probablyno  Gaussian (not normal distribution)\")\n",
    "\n",
    "p150normality = False \n",
    "stat,p = shapiro(p150l)\n",
    "#print('popsize == 20: normality p=%f' %(p))\n",
    "if p>0.05:\n",
    "    p150normality = True\n",
    "    #print(\"Probably Gaussian (normal distribution)\")\n",
    "else:\n",
    "    p150normality = False\n",
    "    #print(\"Probably not Gaussian (not normal distribution)\")\n",
    "\n",
    "p100normality = False\n",
    "stat,p = shapiro(p100)\n",
    "#print('popsize == 20: normality p=%f' %(p))\n",
    "if p>0.05:\n",
    "    p100normality = True\n",
    "    #print(\"Probably Gaussian (normal distribution)\")\n",
    "else:\n",
    "    p100normality = False\n",
    "    #print(\"Probably not Gaussian (not normal distribution)\")\n",
    "\n",
    "p_gen = False\n",
    "p1_gen = False\n",
    "p2_gen = False\n",
    "if p50normality and p150normality:\n",
    "    stat,p_gen = ttest_ind(p50l,p150l) # Student t-test - data is normally distributed\n",
    "elif not p50normality and not p150normality:\n",
    "    stat,p_gen = mannwhitneyu(p50l,p150l) # Mann-Whitney U-test - data is not normally distributed\n",
    "else:\n",
    "    stat,p_gen = mannwhitneyu(p50l,p150l)\n",
    "    print(\"selection == 6.666666666666667 and selection == 13.333333333333334 [gen] have different distributions\")\n",
    "if p50normality and p100normality:\n",
    "    stat1,p1_gen = ttest_ind(p50l,p100l) # Student t-test - data is normally distributed\n",
    "elif not p50normality and not p100normality:\n",
    "    stat1,p1_gen = mannwhitneyu(p50l,p100l) # Mann-Whitney U-test - data is not normally distributed\n",
    "else:\n",
    "    stat1,p1_gen = mannwhitneyu(p50l,p100l)\n",
    "    print(\"selection == 6.666666666666667 and selection == 20.0 [gen] have different distributions\")\n",
    "if p150normality and p100normality:\n",
    "    stat1,p2_gen = ttest_ind(p100l,p150l) # Student t-test - data is normally distributed\n",
    "elif not p150normality and not p100normality:\n",
    "    stat1,p2_gen = mannwhitneyu(p150l,p100l) # Mann-Whitney U-test - data is not normally distributed\n",
    "else:\n",
    "    stat1,p1_gen = mannwhitneyu(p150l,p100l)\n",
    "    print(\"selection == 13.333333333333334 and selection == 20.0 [gen] have different distributions\")\n",
    "#now apply the  appropriate statistical test depending on the result of the above\n",
    "#stat,p = ttest_ind(p50l,p150l) # Student t-test - data is normally distributed\n",
    "# stat,p = mannwhitneyu(p50l,p150l) # Mann-Whitney U-test - data is not normally distributed\n",
    "# stat1,p1 = mannwhitneyu(p50l,p100l) # Mann-Whitney U-test - data is not normally distributed\n",
    "# stat2,p2 = mannwhitneyu(p150l,p100l) # Mann-Whitney U-test - data is not normally distributed\n",
    "\n",
    "#print('p=%f' %(p))\n",
    "if p_gen != False and p_gen<0.05:\n",
    "    print(\"selection == 6.666666666666667 and selection == 13.333333333333334 [genMaxFound] Reject null hypothesis - there is a significant difference in the experiments\")\n",
    "elif p_gen != False and p_gen>0.05:\n",
    "    print(\"selection == 6.666666666666667 and selection == 13.333333333333334 [genMaxFound] Cannot reject null hypothesis - no significant difference\")\n",
    "#print('p=%f' %(p1))\n",
    "if p1_gen != False and p1_gen<0.05:\n",
    "    print(\"selection == 6.666666666666667 and selection == 20.0 [genMaxFound] Reject null hypothesis - there is a significant difference in the experiments\")\n",
    "elif p1_gen != False and p1_gen>0.05:\n",
    "    print(\"selection == 6.666666666666667 and selection == 20.0 [genMaxFound] Cannot reject null hypothesis - no significant difference\")\n",
    "#print('p=%f' %(p2))\n",
    "if p2_gen != False and p2_gen<0.05:\n",
    "    print(\"selection == 13.333333333333334 and selection == 20.0 [genMaxFound] Reject null hypothesis - there is a significant difference in the experiments\")\n",
    "elif p2_gen != False and p2_gen>0.05:\n",
    "    print(\"selection == 13.333333333333334 and selection == 20.0 [genMaxFound]Cannot reject null hypothesis - no significant difference\")\n",
    "\n",
    "# Boxplots\n",
    "\n",
    "# code for calcualating and printing statistics from the dataframe df_Bests which  (from above) contains that best result per run per popsize\n",
    "#print(df_bests_9.groupby('crossoever').mean())\n",
    "\n",
    "#  you can calculate other statistics such as median, std if you want\n",
    "#print(df_bests_9.groupby('crossoever').median())\n",
    "#print(df_bests_9.groupby('crossoever').std())\n",
    "\n",
    "# plot the boxplot of best fitness per population size\n",
    "boxplot = df_bests_9.boxplot(column=['fitness'], by=['selection'])\n",
    "\n",
    "# plot genMaxFound per population size\n",
    "boxplot = df_bests_9.boxplot(column=['genMaxFound'], by=['selection'])\n"
   ]
  },
  {
   "cell_type": "code",
   "execution_count": null,
   "metadata": {},
   "outputs": [
    {
     "name": "stdout",
     "output_type": "stream",
     "text": [
      "selection == 6.666666666666667 and selection == 13.333333333333334 [fitness] Cannot reject null hypothesis - no significant difference\n",
      "selection == 6.666666666666667 and selection == 13.333333333333334 [genMaxFound] Cannot reject null hypothesis - no significant difference\n",
      "cost is 103.1 \n",
      "total broken constraints: 1\n",
      "total points: 1939\n",
      "total cost is 103.1\n",
      "selected players are [0, 1, 27, 162, 180, 200, 202, 340, 376, 383, 466]\n"
     ]
    },
    {
     "data": {
      "text/plain": [
       "(1, 1939)"
      ]
     },
     "execution_count": 51,
     "metadata": {},
     "output_type": "execute_result"
    },
    {
     "data": {
      "image/png": "[encoded data removed]",
      "text/plain": [
       "<Figure size 432x288 with 1 Axes>"
      ]
     },
     "metadata": {
      "needs_background": "light"
     },
     "output_type": "display_data"
    },
    {
     "data": {
      "image/png": "[encoded data removed]",
      "text/plain": [
       "<Figure size 432x288 with 1 Axes>"
      ]
     },
     "metadata": {
      "needs_background": "light"
     },
     "output_type": "display_data"
    }
   ],
   "source": [
    "import pandas as pd\n",
    "\n",
    "\n",
    "df_bests_9 = pd.read_csv(\"df_bests_20_evaluate\")\n",
    "from scipy.stats import mannwhitneyu\n",
    "from scipy.stats import ttest_ind\n",
    "from scipy.stats import shapiro # test for normallity\n",
    "\n",
    "# select two subsets of fitness data, one where popsize = 50 and the other where popsize = 150\n",
    "p50 = df_bests_9.fitness[df_bests_9.evaluate == 0]\n",
    "p150= df_bests_9.fitness[df_bests_9.evaluate == 1]\n",
    "#p100= df_bests_9.fitness[df_bests_9.selection == 40.0]\n",
    "# we need to convert these subsets to lists to pass to the statistics functions\n",
    "p50l= p50.tolist()\n",
    "p150l = p150.tolist()\n",
    "#p100l = p100.tolist()\n",
    "\n",
    "# check for normality\n",
    "stat,p = shapiro(p50l)\n",
    "#print('selection == 6.666666666666667: normality p=%f' %(p))\n",
    "\n",
    "p50normality = False\n",
    "if p>0.05:\n",
    "    #print(\"Probably Gaussian (normal distribution)\")\n",
    "    p50normality = True\n",
    "else:\n",
    "    p50normality = False\n",
    "    #print(\"Probablyno  Gaussian (not normal distribution)\")\n",
    "\n",
    "p150normality = False \n",
    "stat,p = shapiro(p150l)\n",
    "#print('popsize == 20: normality p=%f' %(p))\n",
    "if p>0.05:\n",
    "    p150normality = True\n",
    "    #print(\"Probably Gaussian (normal distribution)\")\n",
    "else:\n",
    "    p150normality = False\n",
    "    #print(\"Probably not Gaussian (not normal distribution)\")\n",
    "\n",
    "# p100normality = False\n",
    "# stat,p = shapiro(p100)\n",
    "# #print('popsize == 20: normality p=%f' %(p))\n",
    "# if p>0.05:\n",
    "#     p100normality = True\n",
    "#     #print(\"Probably Gaussian (normal distribution)\")\n",
    "# else:\n",
    "#     p100normality = False\n",
    "#     #print(\"Probably not Gaussian (not normal distribution)\")\n",
    "p_fitness = False\n",
    "p1_fitness = False\n",
    "#p2_fitness = False\n",
    "if p50normality and p150normality:\n",
    "    stat,p_fitness = ttest_ind(p50l,p150l) # Student t-test - data is normally distributed\n",
    "elif not p50normality and not p150normality:\n",
    "    stat,p_fitness = mannwhitneyu(p50l,p150l) # Mann-Whitney U-test - data is not normally distributed\n",
    "else:\n",
    "    stat,p_fitness = mannwhitneyu(p50l,p150l)\n",
    "    print(\"selection == 6.666666666666667 and selection == 13.333333333333334 [fitness] have different distributions\")\n",
    "# if p50normality and p100normality:\n",
    "#     stat1,p1_fitness = ttest_ind(p50l,p100l) # Student t-test - data is normally distributed\n",
    "# elif not p50normality and not p100normality:\n",
    "#     stat1,p1_fitness = mannwhitneyu(p50l,p100l) # Mann-Whitney U-test - data is not normally distributed\n",
    "# else:\n",
    "#     stat1,p1_fitness = mannwhitneyu(p50l,p100l)\n",
    "#     print(\"selection == 6.666666666666667 and selection == 20.0 [fitness] have different distributions\")\n",
    "# if p150normality and p100normality:\n",
    "#     stat1,p2_fitness = ttest_ind(p100l,p150l) # Student t-test - data is normally distributed\n",
    "# elif not p150normality and not p100normality:\n",
    "#     stat1,p2_fitness = mannwhitneyu(p150l,p100l) # Mann-Whitney U-test - data is not normally distributed\n",
    "# else:\n",
    "#     stat1,p2_fitness = mannwhitneyu(p150l,p100l)\n",
    "#     print(\"selection == 13.333333333333334 and selection == 20.0 [fitness] have different distributions\")\n",
    "#now apply the  appropriate statistical test depending on the result of the above\n",
    "#stat,p = ttest_ind(p50l,p150l) # Student t-test - data is normally distributed\n",
    "# stat,p = mannwhitneyu(p50l,p150l) # Mann-Whitney U-test - data is not normally distributed\n",
    "# stat1,p1 = mannwhitneyu(p50l,p100l) # Mann-Whitney U-test - data is not normally distributed\n",
    "# stat2,p2 = mannwhitneyu(p150l,p100l) # Mann-Whitney U-test - data is not normally distributed\n",
    "\n",
    "#print('p=%f' %(p_fitness))\n",
    "if p_fitness != False and p_fitness<0.05:\n",
    "    print(\"selection == 6.666666666666667 and selection == 13.333333333333334 [fitness] Reject null hypothesis - there is a significant difference in the experiments\")\n",
    "elif p_fitness != False and p_fitness>0.05:\n",
    "    print(\"selection == 6.666666666666667 and selection == 13.333333333333334 [fitness] Cannot reject null hypothesis - no significant difference\")\n",
    "# #print('p=%f' %(p1_fitness))\n",
    "# if p1_fitness != False and p1_fitness<0.05:\n",
    "#     print(\"selection == 6.666666666666667 and cselection == 20.0 [fitness] Reject null hypothesis - there is a significant difference in the experiments\")\n",
    "# elif p1_fitness != False and p1_fitness>0.05:\n",
    "#     print(\"selection == 6.666666666666667 and selection == 20.0 [fitness] Cannot reject null hypothesis - no significant difference\")\n",
    "# #print('p=%f' %(p2))\n",
    "# if p2_fitness != False and p2_fitness<0.05:\n",
    "#     print(\"selection == 13.333333333333334 and selection == 20.0 [fitness] Reject null hypothesis - there is a significant difference in the experiments\")\n",
    "# elif p2_fitness != False and p2_fitness>0.05:\n",
    "#     print(\"selection == 13.333333333333334 and selection == 20.0 [fitness]Cannot reject null hypothesis - no significant difference\")\n",
    "\n",
    "# Fitness generation\n",
    "# select two subsets of fitness data, one where popsize = 50 and the other where popsize = 150\n",
    "p50 = df_bests_9.genMaxFound[df_bests_9.evaluate == 0]\n",
    "p150= df_bests_9.genMaxFound[df_bests_9.evaluate == 1]\n",
    "#p100= df_bests_9.genMaxFound[df_bests_9.selection == 40.0]\n",
    "# we need to convert these subsets to lists to pass to the statistics functions\n",
    "p50l= p50.tolist()\n",
    "p150l = p150.tolist()\n",
    "#p100l = p100.tolist()\n",
    "\n",
    "# check for normality\n",
    "stat,p = shapiro(p50l)\n",
    "#print('mutation == 20: normality p=%f' %(p))\n",
    "\n",
    "p50normality = False\n",
    "if p>0.05:\n",
    "    #print(\"Probably Gaussian (normal distribution)\")\n",
    "    p50normality = True\n",
    "else:\n",
    "    p50normality = False\n",
    "    #print(\"Probablyno  Gaussian (not normal distribution)\")\n",
    "\n",
    "p150normality = False \n",
    "stat,p = shapiro(p150l)\n",
    "#print('popsize == 20: normality p=%f' %(p))\n",
    "if p>0.05:\n",
    "    p150normality = True\n",
    "    #print(\"Probably Gaussian (normal distribution)\")\n",
    "else:\n",
    "    p150normality = False\n",
    "    #print(\"Probably not Gaussian (not normal distribution)\")\n",
    "\n",
    "# p100normality = False\n",
    "# stat,p = shapiro(p100)\n",
    "# #print('popsize == 20: normality p=%f' %(p))\n",
    "# if p>0.05:\n",
    "#     p100normality = True\n",
    "#     #print(\"Probably Gaussian (normal distribution)\")\n",
    "# else:\n",
    "#     p100normality = False\n",
    "#     #print(\"Probably not Gaussian (not normal distribution)\")\n",
    "\n",
    "p_gen = False\n",
    "#p1_gen = False\n",
    "#p2_gen = False\n",
    "if p50normality and p150normality:\n",
    "    stat,p_gen = ttest_ind(p50l,p150l) # Student t-test - data is normally distributed\n",
    "elif not p50normality and not p150normality:\n",
    "    stat,p_gen = mannwhitneyu(p50l,p150l) # Mann-Whitney U-test - data is not normally distributed\n",
    "else:\n",
    "    stat,p_gen = mannwhitneyu(p50l,p150l)\n",
    "    print(\"selection == 6.666666666666667 and selection == 13.333333333333334 [gen] have different distributions\")\n",
    "# if p50normality and p100normality:\n",
    "#     stat1,p1_gen = ttest_ind(p50l,p100l) # Student t-test - data is normally distributed\n",
    "# elif not p50normality and not p100normality:\n",
    "#     stat1,p1_gen = mannwhitneyu(p50l,p100l) # Mann-Whitney U-test - data is not normally distributed\n",
    "# else:\n",
    "#     stat1,p1_gen = mannwhitneyu(p50l,p100l)\n",
    "#     print(\"selection == 6.666666666666667 and selection == 20.0 [gen] have different distributions\")\n",
    "# if p150normality and p100normality:\n",
    "#     stat1,p2_gen = ttest_ind(p100l,p150l) # Student t-test - data is normally distributed\n",
    "# elif not p150normality and not p100normality:\n",
    "#     stat1,p2_gen = mannwhitneyu(p150l,p100l) # Mann-Whitney U-test - data is not normally distributed\n",
    "# else:\n",
    "#     stat1,p1_gen = mannwhitneyu(p150l,p100l)\n",
    "#     print(\"selection == 13.333333333333334 and selection == 20.0 [gen] have different distributions\")\n",
    "#now apply the  appropriate statistical test depending on the result of the above\n",
    "#stat,p = ttest_ind(p50l,p150l) # Student t-test - data is normally distributed\n",
    "# stat,p = mannwhitneyu(p50l,p150l) # Mann-Whitney U-test - data is not normally distributed\n",
    "# stat1,p1 = mannwhitneyu(p50l,p100l) # Mann-Whitney U-test - data is not normally distributed\n",
    "# stat2,p2 = mannwhitneyu(p150l,p100l) # Mann-Whitney U-test - data is not normally distributed\n",
    "\n",
    "#print('p=%f' %(p))\n",
    "if p_gen != False and p_gen<0.05:\n",
    "    print(\"selection == 6.666666666666667 and selection == 13.333333333333334 [genMaxFound] Reject null hypothesis - there is a significant difference in the experiments\")\n",
    "elif p_gen != False and p_gen>0.05:\n",
    "    print(\"selection == 6.666666666666667 and selection == 13.333333333333334 [genMaxFound] Cannot reject null hypothesis - no significant difference\")\n",
    "#print('p=%f' %(p1))\n",
    "# if p1_gen != False and p1_gen<0.05:\n",
    "#     print(\"selection == 6.666666666666667 and selection == 20.0 [genMaxFound] Reject null hypothesis - there is a significant difference in the experiments\")\n",
    "# elif p1_gen != False and p1_gen>0.05:\n",
    "#     print(\"selection == 6.666666666666667 and selection == 20.0 [genMaxFound] Cannot reject null hypothesis - no significant difference\")\n",
    "# #print('p=%f' %(p2))\n",
    "# if p2_gen != False and p2_gen<0.05:\n",
    "#     print(\"selection == 13.333333333333334 and selection == 20.0 [genMaxFound] Reject null hypothesis - there is a significant difference in the experiments\")\n",
    "# elif p2_gen != False and p2_gen>0.05:\n",
    "#     print(\"selection == 13.333333333333334 and selection == 20.0 [genMaxFound]Cannot reject null hypothesis - no significant difference\")\n",
    "\n",
    "# Boxplots\n",
    "\n",
    "# code for calcualating and printing statistics from the dataframe df_Bests which  (from above) contains that best result per run per popsize\n",
    "#print(df_bests_9.groupby('crossoever').mean())\n",
    "\n",
    "#  you can calculate other statistics such as median, std if you want\n",
    "#print(df_bests_9.groupby('crossoever').median())\n",
    "#print(df_bests_9.groupby('crossoever').std())\n",
    "\n",
    "# plot the boxplot of best fitness per population size\n",
    "boxplot = df_bests_9.boxplot(column=['fitness'], by=['evaluate'])\n",
    "\n",
    "# plot genMaxFound per population size\n",
    "boxplot = df_bests_9.boxplot(column=['genMaxFound'], by=['evaluate'])\n",
    "\n",
    "individual =[1, 1, 0, 0, 0, 0, 0, 0, 0, 0, 0, 0, 0, 0, 0, 0, 0, 0, 0, 0, 0, 0, 0, 0, 0, 0, 0, 1, 0, 0, 0, 0, 0, 0, 0, 0, 0, 0, 0, 0, 0, 0, 0, 0, 0, 0, 0, 0, 0, 0, 0, 0, 0, 0, 0, 0, 0, 0, 0, 0, 0, 0, 0, 0, 0, 0, 0, 0, 0, 0, 0, 0, 0, 0, 0, 0, 0, 0, 0, 0, 0, 0, 0, 0, 0, 0, 0, 0, 0, 0, 0, 0, 0, 0, 0, 0, 0, 0, 0, 0, 0, 0, 0, 0, 0, 0, 0, 0, 0, 0, 0, 0, 0, 0, 0, 0, 0, 0, 0, 0, 0, 0, 0, 0, 0, 0, 0, 0, 0, 0, 0, 0, 0, 0, 0, 0, 0, 0, 0, 0, 0, 0, 0, 0, 0, 0, 0, 0, 0, 0, 0, 0, 0, 0, 0, 0, 0, 0, 0, 0, 0, 0, 1, 0, 0, 0, 0, 0, 0, 0, 0, 0, 0, 0, 0, 0, 0, 0, 0, 0, 1, 0, 0, 0, 0, 0, 0, 0, 0, 0, 0, 0, 0, 0, 0, 0, 0, 0, 0, 0, 1, 0, 1, 0, 0, 0, 0, 0, 0, 0, 0, 0, 0, 0, 0, 0, 0, 0, 0, 0, 0, 0, 0, 0, 0, 0, 0, 0, 0, 0, 0, 0, 0, 0, 0, 0, 0, 0, 0, 0, 0, 0, 0, 0, 0, 0, 0, 0, 0, 0, 0, 0, 0, 0, 0, 0, 0, 0, 0, 0, 0, 0, 0, 0, 0, 0, 0, 0, 0, 0, 0, 0, 0, 0, 0, 0, 0, 0, 0, 0, 0, 0, 0, 0, 0, 0, 0, 0, 0, 0, 0, 0, 0, 0, 0, 0, 0, 0, 0, 0, 0, 0, 0, 0, 0, 0, 0, 0, 0, 0, 0, 0, 0, 0, 0, 0, 0, 0, 0, 0, 0, 0, 0, 0, 0, 0, 0, 0, 0, 0, 0, 0, 0, 0, 0, 0, 0, 0, 0, 0, 1, 0, 0, 0, 0, 0, 0, 0, 0, 0, 0, 0, 0, 0, 0, 0, 0, 0, 0, 0, 0, 0, 0, 0, 0, 0, 0, 0, 0, 0, 0, 0, 0, 0, 0, 0, 1, 0, 0, 0, 0, 0, 0, 1, 0, 0, 0, 0, 0, 0, 0, 0, 0, 0, 0, 0, 0, 0, 0, 0, 0, 0, 0, 0, 0, 0, 0, 0, 0, 0, 0, 0, 0, 0, 0, 0, 0, 0, 0, 0, 0, 0, 0, 0, 0, 0, 0, 0, 0, 0, 0, 0, 0, 0, 0, 0, 0, 0, 0, 0, 0, 0, 0, 0, 0, 0, 0, 0, 0, 0, 0, 0, 0, 0, 0, 0, 0, 0, 0, 0, 0, 0, 0, 0, 0, 0, 1, 0, 0, 0, 0, 0, 0, 0, 0, 0, 0, 0, 0, 0, 0, 0, 0, 0, 0, 0, 0, 0, 0, 0, 0, 0, 0, 0, 0, 0, 0, 0, 0, 0, 0, 0, 0, 0, 0, 0, 0, 0, 0, 0, 0, 0, 0, 0, 0, 0, 0, 0, 0, 0, 0, 0, 0]\n",
    "check_constraints(individual)"
   ]
  },
  {
   "cell_type": "code",
   "execution_count": null,
   "metadata": {},
   "outputs": [
    {
     "name": "stdout",
     "output_type": "stream",
     "text": [
      "selection == 6.666666666666667 and selection == 13.333333333333334 [fitness] have different distributions\n",
      "selection == 6.666666666666667 and selection == 20.0 [fitness] have different distributions\n",
      "selection == 6.666666666666667 and selection == 13.333333333333334 [fitness] Cannot reject null hypothesis - no significant difference\n",
      "selection == 6.666666666666667 and cselection == 20.0 [fitness] Reject null hypothesis - there is a significant difference in the experiments\n",
      "selection == 13.333333333333334 and selection == 20.0 [fitness] Reject null hypothesis - there is a significant difference in the experiments\n",
      "selection == 6.666666666666667 and selection == 13.333333333333334 [genMaxFound] Cannot reject null hypothesis - no significant difference\n",
      "selection == 6.666666666666667 and selection == 20.0 [genMaxFound] Cannot reject null hypothesis - no significant difference\n",
      "selection == 13.333333333333334 and selection == 20.0 [genMaxFound]Cannot reject null hypothesis - no significant difference\n",
      "cost is 109.8 \n",
      "total broken constraints: 1\n",
      "total points: 1988\n",
      "total cost is 109.8\n",
      "selected players are [2, 32, 40, 184, 185, 189, 210, 376, 377, 409, 472]\n"
     ]
    },
    {
     "data": {
      "text/plain": [
       "(1, 1988)"
      ]
     },
     "execution_count": 58,
     "metadata": {},
     "output_type": "execute_result"
    },
    {
     "data": {
      "image/png": "[encoded data removed]",
      "text/plain": [
       "<Figure size 432x288 with 1 Axes>"
      ]
     },
     "metadata": {
      "needs_background": "light"
     },
     "output_type": "display_data"
    },
    {
     "data": {
      "image/png": "[encoded data removed]",
      "text/plain": [
       "<Figure size 432x288 with 1 Axes>"
      ]
     },
     "metadata": {
      "needs_background": "light"
     },
     "output_type": "display_data"
    }
   ],
   "source": [
    "import pandas as pd\n",
    "\n",
    "\n",
    "df_bests_9 = pd.read_csv(\"df_bests_21_evaluate\")\n",
    "from scipy.stats import mannwhitneyu\n",
    "from scipy.stats import ttest_ind\n",
    "from scipy.stats import shapiro # test for normallity\n",
    "\n",
    "# select two subsets of fitness data, one where popsize = 50 and the other where popsize = 150\n",
    "p50 = df_bests_9.fitness[df_bests_9.evaluate == 0]\n",
    "p150= df_bests_9.fitness[df_bests_9.evaluate == 1]\n",
    "p150= df_bests_9.fitness[df_bests_9.evaluate == 2]\n",
    "#p100= df_bests_9.fitness[df_bests_9.selection == 40.0]\n",
    "# we need to convert these subsets to lists to pass to the statistics functions\n",
    "p50l= p50.tolist()\n",
    "p150l = p150.tolist()\n",
    "p100l = p100.tolist()\n",
    "\n",
    "# check for normality\n",
    "stat,p = shapiro(p50l)\n",
    "#print('selection == 6.666666666666667: normality p=%f' %(p))\n",
    "\n",
    "p50normality = False\n",
    "if p>0.05:\n",
    "    #print(\"Probably Gaussian (normal distribution)\")\n",
    "    p50normality = True\n",
    "else:\n",
    "    p50normality = False\n",
    "    #print(\"Probablyno  Gaussian (not normal distribution)\")\n",
    "\n",
    "p150normality = False \n",
    "stat,p = shapiro(p150l)\n",
    "#print('popsize == 20: normality p=%f' %(p))\n",
    "if p>0.05:\n",
    "    p150normality = True\n",
    "    #print(\"Probably Gaussian (normal distribution)\")\n",
    "else:\n",
    "    p150normality = False\n",
    "    #print(\"Probably not Gaussian (not normal distribution)\")\n",
    "\n",
    "p100normality = False\n",
    "stat,p = shapiro(p100)\n",
    "#print('popsize == 20: normality p=%f' %(p))\n",
    "if p>0.05:\n",
    "    p100normality = True\n",
    "    #print(\"Probably Gaussian (normal distribution)\")\n",
    "else:\n",
    "    p100normality = False\n",
    "    #print(\"Probably not Gaussian (not normal distribution)\")\n",
    "p_fitness = False\n",
    "p1_fitness = False\n",
    "#p2_fitness = False\n",
    "if p50normality and p150normality:\n",
    "    stat,p_fitness = ttest_ind(p50l,p150l) # Student t-test - data is normally distributed\n",
    "elif not p50normality and not p150normality:\n",
    "    stat,p_fitness = mannwhitneyu(p50l,p150l) # Mann-Whitney U-test - data is not normally distributed\n",
    "else:\n",
    "    stat,p_fitness = mannwhitneyu(p50l,p150l)\n",
    "    print(\"selection == 6.666666666666667 and selection == 13.333333333333334 [fitness] have different distributions\")\n",
    "if p50normality and p100normality:\n",
    "    stat1,p1_fitness = ttest_ind(p50l,p100l) # Student t-test - data is normally distributed\n",
    "elif not p50normality and not p100normality:\n",
    "    stat1,p1_fitness = mannwhitneyu(p50l,p100l) # Mann-Whitney U-test - data is not normally distributed\n",
    "else:\n",
    "    stat1,p1_fitness = mannwhitneyu(p50l,p100l)\n",
    "    print(\"selection == 6.666666666666667 and selection == 20.0 [fitness] have different distributions\")\n",
    "if p150normality and p100normality:\n",
    "    stat1,p2_fitness = ttest_ind(p100l,p150l) # Student t-test - data is normally distributed\n",
    "elif not p150normality and not p100normality:\n",
    "    stat1,p2_fitness = mannwhitneyu(p150l,p100l) # Mann-Whitney U-test - data is not normally distributed\n",
    "else:\n",
    "    stat1,p2_fitness = mannwhitneyu(p150l,p100l)\n",
    "    print(\"selection == 13.333333333333334 and selection == 20.0 [fitness] have different distributions\")\n",
    "#now apply the  appropriate statistical test depending on the result of the above\n",
    "stat,p = ttest_ind(p50l,p150l) # Student t-test - data is normally distributed\n",
    "stat,p = mannwhitneyu(p50l,p150l) # Mann-Whitney U-test - data is not normally distributed\n",
    "stat1,p1 = mannwhitneyu(p50l,p100l) # Mann-Whitney U-test - data is not normally distributed\n",
    "stat2,p2 = mannwhitneyu(p150l,p100l) # Mann-Whitney U-test - data is not normally distributed\n",
    "\n",
    "#print('p=%f' %(p_fitness))\n",
    "if p_fitness != False and p_fitness<0.05:\n",
    "    print(\"selection == 6.666666666666667 and selection == 13.333333333333334 [fitness] Reject null hypothesis - there is a significant difference in the experiments\")\n",
    "elif p_fitness != False and p_fitness>0.05:\n",
    "    print(\"selection == 6.666666666666667 and selection == 13.333333333333334 [fitness] Cannot reject null hypothesis - no significant difference\")\n",
    "#print('p=%f' %(p1_fitness))\n",
    "if p1_fitness != False and p1_fitness<0.05:\n",
    "    print(\"selection == 6.666666666666667 and cselection == 20.0 [fitness] Reject null hypothesis - there is a significant difference in the experiments\")\n",
    "elif p1_fitness != False and p1_fitness>0.05:\n",
    "    print(\"selection == 6.666666666666667 and selection == 20.0 [fitness] Cannot reject null hypothesis - no significant difference\")\n",
    "#print('p=%f' %(p2))\n",
    "if p2_fitness != False and p2_fitness<0.05:\n",
    "    print(\"selection == 13.333333333333334 and selection == 20.0 [fitness] Reject null hypothesis - there is a significant difference in the experiments\")\n",
    "elif p2_fitness != False and p2_fitness>0.05:\n",
    "    print(\"selection == 13.333333333333334 and selection == 20.0 [fitness]Cannot reject null hypothesis - no significant difference\")\n",
    "\n",
    "# Fitness generation\n",
    "# select two subsets of fitness data, one where popsize = 50 and the other where popsize = 150\n",
    "p50 = df_bests_9.genMaxFound[df_bests_9.evaluate == 0]\n",
    "p150= df_bests_9.genMaxFound[df_bests_9.evaluate == 1]\n",
    "p100= df_bests_9.genMaxFound[df_bests_9.evaluate == 2]\n",
    "# we need to convert these subsets to lists to pass to the statistics functions\n",
    "p50l= p50.tolist()\n",
    "p150l = p150.tolist()\n",
    "p100l = p100.tolist()\n",
    "\n",
    "# check for normality\n",
    "stat,p = shapiro(p50l)\n",
    "#print('mutation == 20: normality p=%f' %(p))\n",
    "\n",
    "p50normality = False\n",
    "if p>0.05:\n",
    "    #print(\"Probably Gaussian (normal distribution)\")\n",
    "    p50normality = True\n",
    "else:\n",
    "    p50normality = False\n",
    "    #print(\"Probablyno  Gaussian (not normal distribution)\")\n",
    "\n",
    "p150normality = False \n",
    "stat,p = shapiro(p150l)\n",
    "#print('popsize == 20: normality p=%f' %(p))\n",
    "if p>0.05:\n",
    "    p150normality = True\n",
    "    #print(\"Probably Gaussian (normal distribution)\")\n",
    "else:\n",
    "    p150normality = False\n",
    "    #print(\"Probably not Gaussian (not normal distribution)\")\n",
    "\n",
    "p100normality = False\n",
    "stat,p = shapiro(p100)\n",
    "#print('popsize == 20: normality p=%f' %(p))\n",
    "if p>0.05:\n",
    "    p100normality = True\n",
    "    #print(\"Probably Gaussian (normal distribution)\")\n",
    "else:\n",
    "    p100normality = False\n",
    "    #print(\"Probably not Gaussian (not normal distribution)\")\n",
    "\n",
    "p_gen = False\n",
    "p1_gen = False\n",
    "p2_gen = False\n",
    "if p50normality and p150normality:\n",
    "    stat,p_gen = ttest_ind(p50l,p150l) # Student t-test - data is normally distributed\n",
    "elif not p50normality and not p150normality:\n",
    "    stat,p_gen = mannwhitneyu(p50l,p150l) # Mann-Whitney U-test - data is not normally distributed\n",
    "else:\n",
    "    stat,p_gen = mannwhitneyu(p50l,p150l)\n",
    "    print(\"selection == 6.666666666666667 and selection == 13.333333333333334 [gen] have different distributions\")\n",
    "if p50normality and p100normality:\n",
    "    stat1,p1_gen = ttest_ind(p50l,p100l) # Student t-test - data is normally distributed\n",
    "elif not p50normality and not p100normality:\n",
    "    stat1,p1_gen = mannwhitneyu(p50l,p100l) # Mann-Whitney U-test - data is not normally distributed\n",
    "else:\n",
    "    stat1,p1_gen = mannwhitneyu(p50l,p100l)\n",
    "    print(\"selection == 6.666666666666667 and selection == 20.0 [gen] have different distributions\")\n",
    "if p150normality and p100normality:\n",
    "    stat1,p2_gen = ttest_ind(p100l,p150l) # Student t-test - data is normally distributed\n",
    "elif not p150normality and not p100normality:\n",
    "    stat1,p2_gen = mannwhitneyu(p150l,p100l) # Mann-Whitney U-test - data is not normally distributed\n",
    "else:\n",
    "    stat1,p1_gen = mannwhitneyu(p150l,p100l)\n",
    "    print(\"selection == 13.333333333333334 and selection == 20.0 [gen] have different distributions\")\n",
    "#now apply the  appropriate statistical test depending on the result of the above\n",
    "#stat,p = ttest_ind(p50l,p150l) # Student t-test - data is normally distributed\n",
    "# stat,p = mannwhitneyu(p50l,p150l) # Mann-Whitney U-test - data is not normally distributed\n",
    "# stat1,p1 = mannwhitneyu(p50l,p100l) # Mann-Whitney U-test - data is not normally distributed\n",
    "# stat2,p2 = mannwhitneyu(p150l,p100l) # Mann-Whitney U-test - data is not normally distributed\n",
    "\n",
    "#print('p=%f' %(p))\n",
    "if p_gen != False and p_gen<0.05:\n",
    "    print(\"selection == 6.666666666666667 and selection == 13.333333333333334 [genMaxFound] Reject null hypothesis - there is a significant difference in the experiments\")\n",
    "elif p_gen != False and p_gen>0.05:\n",
    "    print(\"selection == 6.666666666666667 and selection == 13.333333333333334 [genMaxFound] Cannot reject null hypothesis - no significant difference\")\n",
    "#print('p=%f' %(p1))\n",
    "if p1_gen != False and p1_gen<0.05:\n",
    "    print(\"selection == 6.666666666666667 and selection == 20.0 [genMaxFound] Reject null hypothesis - there is a significant difference in the experiments\")\n",
    "elif p1_gen != False and p1_gen>0.05:\n",
    "    print(\"selection == 6.666666666666667 and selection == 20.0 [genMaxFound] Cannot reject null hypothesis - no significant difference\")\n",
    "#print('p=%f' %(p2))\n",
    "if p2_gen != False and p2_gen<0.05:\n",
    "    print(\"selection == 13.333333333333334 and selection == 20.0 [genMaxFound] Reject null hypothesis - there is a significant difference in the experiments\")\n",
    "elif p2_gen != False and p2_gen>0.05:\n",
    "    print(\"selection == 13.333333333333334 and selection == 20.0 [genMaxFound]Cannot reject null hypothesis - no significant difference\")\n",
    "\n",
    "# Boxplots\n",
    "\n",
    "# code for calcualating and printing statistics from tAhe dataframe df_Bests which  (from above) contains that best result per run per popsize\n",
    "#print(df_bests_9.groupby('crossoever').mean())\n",
    "\n",
    "#  you can calculate other statistics such as median, std if you want\n",
    "#print(df_bests_9.groupby('crossoever').median())\n",
    "#print(df_bests_9.groupby('crossoever').std())\n",
    "\n",
    "# plot the boxplot of best fitness per population size\n",
    "boxplot = df_bests_9.boxplot(column=['fitness'], by=['evaluate'])\n",
    "\n",
    "# plot genMaxFound per population size\n",
    "boxplot = df_bests_9.boxplot(column=['genMaxFound'], by=['evaluate'])\n",
    "\n",
    "individual =[0, 0, 1, 0, 0, 0, 0, 0, 0, 0, 0, 0, 0, 0, 0, 0, 0, 0, 0, 0, 0, 0, 0, 0, 0, 0, 0, 0, 0, 0, 0, 0, 1, 0, 0, 0, 0, 0, 0, 0, 1, 0, 0, 0, 0, 0, 0, 0, 0, 0, 0, 0, 0, 0, 0, 0, 0, 0, 0, 0, 0, 0, 0, 0, 0, 0, 0, 0, 0, 0, 0, 0, 0, 0, 0, 0, 0, 0, 0, 0, 0, 0, 0, 0, 0, 0, 0, 0, 0, 0, 0, 0, 0, 0, 0, 0, 0, 0, 0, 0, 0, 0, 0, 0, 0, 0, 0, 0, 0, 0, 0, 0, 0, 0, 0, 0, 0, 0, 0, 0, 0, 0, 0, 0, 0, 0, 0, 0, 0, 0, 0, 0, 0, 0, 0, 0, 0, 0, 0, 0, 0, 0, 0, 0, 0, 0, 0, 0, 0, 0, 0, 0, 0, 0, 0, 0, 0, 0, 0, 0, 0, 0, 0, 0, 0, 0, 0, 0, 0, 0, 0, 0, 0, 0, 0, 0, 0, 0, 0, 0, 0, 0, 0, 0, 1, 1, 0, 0, 0, 1, 0, 0, 0, 0, 0, 0, 0, 0, 0, 0, 0, 0, 0, 0, 0, 0, 0, 0, 0, 0, 1, 0, 0, 0, 0, 0, 0, 0, 0, 0, 0, 0, 0, 0, 0, 0, 0, 0, 0, 0, 0, 0, 0, 0, 0, 0, 0, 0, 0, 0, 0, 0, 0, 0, 0, 0, 0, 0, 0, 0, 0, 0, 0, 0, 0, 0, 0, 0, 0, 0, 0, 0, 0, 0, 0, 0, 0, 0, 0, 0, 0, 0, 0, 0, 0, 0, 0, 0, 0, 0, 0, 0, 0, 0, 0, 0, 0, 0, 0, 0, 0, 0, 0, 0, 0, 0, 0, 0, 0, 0, 0, 0, 0, 0, 0, 0, 0, 0, 0, 0, 0, 0, 0, 0, 0, 0, 0, 0, 0, 0, 0, 0, 0, 0, 0, 0, 0, 0, 0, 0, 0, 0, 0, 0, 0, 0, 0, 0, 0, 0, 0, 0, 0, 0, 0, 0, 0, 0, 0, 0, 0, 0, 0, 0, 0, 0, 0, 0, 0, 0, 0, 0, 0, 0, 0, 0, 0, 0, 0, 0, 0, 0, 0, 0, 0, 0, 1, 1, 0, 0, 0, 0, 0, 0, 0, 0, 0, 0, 0, 0, 0, 0, 0, 0, 0, 0, 0, 0, 0, 0, 0, 0, 0, 0, 0, 0, 0, 0, 0, 1, 0, 0, 0, 0, 0, 0, 0, 0, 0, 0, 0, 0, 0, 0, 0, 0, 0, 0, 0, 0, 0, 0, 0, 0, 0, 0, 0, 0, 0, 0, 0, 0, 0, 0, 0, 0, 0, 0, 0, 0, 0, 0, 0, 0, 0, 0, 0, 0, 0, 0, 0, 0, 0, 0, 0, 0, 0, 0, 0, 0, 0, 0, 1, 0, 0, 0, 0, 0, 0, 0, 0, 0, 0, 0, 0, 0, 0, 0, 0, 0, 0, 0, 0, 0, 0, 0, 0, 0, 0, 0, 0, 0, 0, 0, 0, 0, 0, 0, 0, 0, 0, 0, 0, 0, 0, 0, 0, 0, 0, 0, 0, 0, 0]\n",
    "check_constraints(individual)"
   ]
  },
  {
   "cell_type": "code",
   "execution_count": 44,
   "metadata": {},
   "outputs": [
    {
     "name": "stdout",
     "output_type": "stream",
     "text": [
      "selection == 6.666666666666667 and selection == 13.333333333333334 [fitness] Reject null hypothesis - there is a significant difference in the experiments\n",
      "selection == 6.666666666666667 and cselection == 20.0 [fitness] Reject null hypothesis - there is a significant difference in the experiments\n",
      "selection == 13.333333333333334 and selection == 20.0 [fitness] Reject null hypothesis - there is a significant difference in the experiments\n",
      "selection == 6.666666666666667 and selection == 13.333333333333334 [genMaxFound] Cannot reject null hypothesis - no significant difference\n",
      "selection == 6.666666666666667 and selection == 20.0 [genMaxFound] Reject null hypothesis - there is a significant difference in the experiments\n",
      "selection == 13.333333333333334 and selection == 20.0 [genMaxFound] Reject null hypothesis - there is a significant difference in the experiments\n",
      "cost is 109.8 \n",
      "total broken constraints: 1\n",
      "total points: 1988\n",
      "total cost is 109.8\n",
      "selected players are [2, 32, 40, 184, 185, 189, 210, 376, 377, 409, 472]\n"
     ]
    },
    {
     "data": {
      "text/plain": [
       "(1, 1988)"
      ]
     },
     "execution_count": 44,
     "metadata": {},
     "output_type": "execute_result"
    },
    {
     "data": {
      "image/png": "[encoded data removed]",
      "text/plain": [
       "<Figure size 432x288 with 1 Axes>"
      ]
     },
     "metadata": {
      "needs_background": "light"
     },
     "output_type": "display_data"
    },
    {
     "data": {
      "image/png": "[encoded data removed]",
      "text/plain": [
       "<Figure size 432x288 with 1 Axes>"
      ]
     },
     "metadata": {
      "needs_background": "light"
     },
     "output_type": "display_data"
    }
   ],
   "source": [
    "import pandas as pd\n",
    "\n",
    "\n",
    "df_bests_9 = pd.read_csv(\"df_bests_22_select\")\n",
    "from scipy.stats import mannwhitneyu\n",
    "from scipy.stats import ttest_ind\n",
    "from scipy.stats import shapiro # test for normallity\n",
    "\n",
    "# select two subsets of fitness data, one where popsize = 50 and the other where popsize = 150\n",
    "p50 = df_bests_9.fitness[df_bests_9.evaluate == 0]\n",
    "p150= df_bests_9.fitness[df_bests_9.evaluate == 1]\n",
    "p100= df_bests_9.fitness[df_bests_9.evaluate == 2]\n",
    "#p100= df_bests_9.fitness[df_bests_9.selection == 40.0]\n",
    "# we need to convert these subsets to lists to pass to the statistics functions\n",
    "p50l= p50.tolist()\n",
    "p150l = p150.tolist()\n",
    "p100l = p100.tolist()\n",
    "\n",
    "# check for normality\n",
    "stat,p = shapiro(p50l)\n",
    "#print('selection == 6.666666666666667: normality p=%f' %(p))\n",
    "\n",
    "p50normality = False\n",
    "if p>0.05:\n",
    "    #print(\"Probably Gaussian (normal distribution)\")\n",
    "    p50normality = True\n",
    "else:\n",
    "    p50normality = False\n",
    "    #print(\"Probablyno  Gaussian (not normal distribution)\")\n",
    "\n",
    "p150normality = False \n",
    "stat,p = shapiro(p150l)\n",
    "#print('popsize == 20: normality p=%f' %(p))\n",
    "if p>0.05:\n",
    "    p150normality = True\n",
    "    #print(\"Probably Gaussian (normal distribution)\")\n",
    "else:\n",
    "    p150normality = False\n",
    "    #print(\"Probably not Gaussian (not normal distribution)\")\n",
    "\n",
    "p100normality = False\n",
    "stat,p = shapiro(p100)\n",
    "#print('popsize == 20: normality p=%f' %(p))\n",
    "if p>0.05:\n",
    "    p100normality = True\n",
    "    #print(\"Probably Gaussian (normal distribution)\")\n",
    "else:\n",
    "    p100normality = False\n",
    "    #print(\"Probably not Gaussian (not normal distribution)\")\n",
    "p_fitness = False\n",
    "p1_fitness = False\n",
    "#p2_fitness = False\n",
    "if p50normality and p150normality:\n",
    "    stat,p_fitness = ttest_ind(p50l,p150l) # Student t-test - data is normally distributed\n",
    "elif not p50normality and not p150normality:\n",
    "    stat,p_fitness = mannwhitneyu(p50l,p150l) # Mann-Whitney U-test - data is not normally distributed\n",
    "else:\n",
    "    stat,p_fitness = mannwhitneyu(p50l,p150l)\n",
    "    print(\"selection == 6.666666666666667 and selection == 13.333333333333334 [fitness] have different distributions\")\n",
    "if p50normality and p100normality:\n",
    "    stat1,p1_fitness = ttest_ind(p50l,p100l) # Student t-test - data is normally distributed\n",
    "elif not p50normality and not p100normality:\n",
    "    stat1,p1_fitness = mannwhitneyu(p50l,p100l) # Mann-Whitney U-test - data is not normally distributed\n",
    "else:\n",
    "    stat1,p1_fitness = mannwhitneyu(p50l,p100l)\n",
    "    print(\"selection == 6.666666666666667 and selection == 20.0 [fitness] have different distributions\")\n",
    "if p150normality and p100normality:\n",
    "    stat1,p2_fitness = ttest_ind(p100l,p150l) # Student t-test - data is normally distributed\n",
    "elif not p150normality and not p100normality:\n",
    "    stat1,p2_fitness = mannwhitneyu(p150l,p100l) # Mann-Whitney U-test - data is not normally distributed\n",
    "else:\n",
    "    stat1,p2_fitness = mannwhitneyu(p150l,p100l)\n",
    "    print(\"selection == 13.333333333333334 and selection == 20.0 [fitness] have different distributions\")\n",
    "#now apply the  appropriate statistical test depending on the result of the above\n",
    "stat,p = ttest_ind(p50l,p150l) # Student t-test - data is normally distributed\n",
    "stat,p = mannwhitneyu(p50l,p150l) # Mann-Whitney U-test - data is not normally distributed\n",
    "stat1,p1 = mannwhitneyu(p50l,p100l) # Mann-Whitney U-test - data is not normally distributed\n",
    "stat2,p2 = mannwhitneyu(p150l,p100l) # Mann-Whitney U-test - data is not normally distributed\n",
    "\n",
    "#print('p=%f' %(p_fitness))\n",
    "if p_fitness != False and p_fitness<0.05:\n",
    "    print(\"selection == 6.666666666666667 and selection == 13.333333333333334 [fitness] Reject null hypothesis - there is a significant difference in the experiments\")\n",
    "elif p_fitness != False and p_fitness>0.05:\n",
    "    print(\"selection == 6.666666666666667 and selection == 13.333333333333334 [fitness] Cannot reject null hypothesis - no significant difference\")\n",
    "#print('p=%f' %(p1_fitness))\n",
    "if p1_fitness != False and p1_fitness<0.05:\n",
    "    print(\"selection == 6.666666666666667 and cselection == 20.0 [fitness] Reject null hypothesis - there is a significant difference in the experiments\")\n",
    "elif p1_fitness != False and p1_fitness>0.05:\n",
    "    print(\"selection == 6.666666666666667 and selection == 20.0 [fitness] Cannot reject null hypothesis - no significant difference\")\n",
    "#print('p=%f' %(p2))\n",
    "if p2_fitness != False and p2_fitness<0.05:\n",
    "    print(\"selection == 13.333333333333334 and selection == 20.0 [fitness] Reject null hypothesis - there is a significant difference in the experiments\")\n",
    "elif p2_fitness != False and p2_fitness>0.05:\n",
    "    print(\"selection == 13.333333333333334 and selection == 20.0 [fitness]Cannot reject null hypothesis - no significant difference\")\n",
    "\n",
    "# Fitness generation\n",
    "# select two subsets of fitness data, one where popsize = 50 and the other where popsize = 150\n",
    "p50 = df_bests_9.genMaxFound[df_bests_9.evaluate == 0]\n",
    "p150= df_bests_9.genMaxFound[df_bests_9.evaluate == 1]\n",
    "p100= df_bests_9.genMaxFound[df_bests_9.evaluate == 2]\n",
    "# we need to convert these subsets to lists to pass to the statistics functions\n",
    "p50l= p50.tolist()\n",
    "p150l = p150.tolist()\n",
    "p100l = p100.tolist()\n",
    "\n",
    "# check for normality\n",
    "stat,p = shapiro(p50l)\n",
    "#print('mutation == 20: normality p=%f' %(p))\n",
    "\n",
    "p50normality = False\n",
    "if p>0.05:\n",
    "    #print(\"Probably Gaussian (normal distribution)\")\n",
    "    p50normality = True\n",
    "else:\n",
    "    p50normality = False\n",
    "    #print(\"Probablyno  Gaussian (not normal distribution)\")\n",
    "\n",
    "p150normality = False \n",
    "stat,p = shapiro(p150l)\n",
    "#print('popsize == 20: normality p=%f' %(p))\n",
    "if p>0.05:\n",
    "    p150normality = True\n",
    "    #print(\"Probably Gaussian (normal distribution)\")\n",
    "else:\n",
    "    p150normality = False\n",
    "    #print(\"Probably not Gaussian (not normal distribution)\")\n",
    "\n",
    "p100normality = False\n",
    "stat,p = shapiro(p100)\n",
    "#print('popsize == 20: normality p=%f' %(p))\n",
    "if p>0.05:\n",
    "    p100normality = True\n",
    "    #print(\"Probably Gaussian (normal distribution)\")\n",
    "else:\n",
    "    p100normality = False\n",
    "    #print(\"Probably not Gaussian (not normal distribution)\")\n",
    "\n",
    "p_gen = False\n",
    "p1_gen = False\n",
    "p2_gen = False\n",
    "if p50normality and p150normality:\n",
    "    stat,p_gen = ttest_ind(p50l,p150l) # Student t-test - data is normally distributed\n",
    "elif not p50normality and not p150normality:\n",
    "    stat,p_gen = mannwhitneyu(p50l,p150l) # Mann-Whitney U-test - data is not normally distributed\n",
    "else:\n",
    "    stat,p_gen = mannwhitneyu(p50l,p150l)\n",
    "    print(\"selection == 6.666666666666667 and selection == 13.333333333333334 [gen] have different distributions\")\n",
    "if p50normality and p100normality:\n",
    "    stat1,p1_gen = ttest_ind(p50l,p100l) # Student t-test - data is normally distributed\n",
    "elif not p50normality and not p100normality:\n",
    "    stat1,p1_gen = mannwhitneyu(p50l,p100l) # Mann-Whitney U-test - data is not normally distributed\n",
    "else:\n",
    "    stat1,p1_gen = mannwhitneyu(p50l,p100l)\n",
    "    print(\"selection == 6.666666666666667 and selection == 20.0 [gen] have different distributions\")\n",
    "if p150normality and p100normality:\n",
    "    stat1,p2_gen = ttest_ind(p100l,p150l) # Student t-test - data is normally distributed\n",
    "elif not p150normality and not p100normality:\n",
    "    stat1,p2_gen = mannwhitneyu(p150l,p100l) # Mann-Whitney U-test - data is not normally distributed\n",
    "else:\n",
    "    stat1,p1_gen = mannwhitneyu(p150l,p100l)\n",
    "    print(\"selection == 13.333333333333334 and selection == 20.0 [gen] have different distributions\")\n",
    "#now apply the  appropriate statistical test depending on the result of the above\n",
    "#stat,p = ttest_ind(p50l,p150l) # Student t-test - data is normally distributed\n",
    "# stat,p = mannwhitneyu(p50l,p150l) # Mann-Whitney U-test - data is not normally distributed\n",
    "# stat1,p1 = mannwhitneyu(p50l,p100l) # Mann-Whitney U-test - data is not normally distributed\n",
    "# stat2,p2 = mannwhitneyu(p150l,p100l) # Mann-Whitney U-test - data is not normally distributed\n",
    "\n",
    "#print('p=%f' %(p))\n",
    "if p_gen != False and p_gen<0.05:\n",
    "    print(\"selection == 6.666666666666667 and selection == 13.333333333333334 [genMaxFound] Reject null hypothesis - there is a significant difference in the experiments\")\n",
    "elif p_gen != False and p_gen>0.05:\n",
    "    print(\"selection == 6.666666666666667 and selection == 13.333333333333334 [genMaxFound] Cannot reject null hypothesis - no significant difference\")\n",
    "#print('p=%f' %(p1))\n",
    "if p1_gen != False and p1_gen<0.05:\n",
    "    print(\"selection == 6.666666666666667 and selection == 20.0 [genMaxFound] Reject null hypothesis - there is a significant difference in the experiments\")\n",
    "elif p1_gen != False and p1_gen>0.05:\n",
    "    print(\"selection == 6.666666666666667 and selection == 20.0 [genMaxFound] Cannot reject null hypothesis - no significant difference\")\n",
    "#print('p=%f' %(p2))\n",
    "if p2_gen != False and p2_gen<0.05:\n",
    "    print(\"selection == 13.333333333333334 and selection == 20.0 [genMaxFound] Reject null hypothesis - there is a significant difference in the experiments\")\n",
    "elif p2_gen != False and p2_gen>0.05:\n",
    "    print(\"selection == 13.333333333333334 and selection == 20.0 [genMaxFound]Cannot reject null hypothesis - no significant difference\")\n",
    "\n",
    "# Boxplots\n",
    "\n",
    "# code for calcualating and printing statistics from tAhe dataframe df_Bests which  (from above) contains that best result per run per popsize\n",
    "#print(df_bests_9.groupby('crossoever').mean())\n",
    "\n",
    "#  you can calculate other statistics such as median, std if you want\n",
    "#print(df_bests_9.groupby('crossoever').median())\n",
    "#print(df_bests_9.groupby('crossoever').std())\n",
    "\n",
    "# plot the boxplot of best fitness per population size\n",
    "boxplot = df_bests_9.boxplot(column=['fitness'], by=['evaluate'])\n",
    "\n",
    "# plot genMaxFound per population size\n",
    "boxplot = df_bests_9.boxplot(column=['genMaxFound'], by=['evaluate'])\n",
    "\n",
    "individual =[0, 0, 1, 0, 0, 0, 0, 0, 0, 0, 0, 0, 0, 0, 0, 0, 0, 0, 0, 0, 0, 0, 0, 0, 0, 0, 0, 0, 0, 0, 0, 0, 1, 0, 0, 0, 0, 0, 0, 0, 1, 0, 0, 0, 0, 0, 0, 0, 0, 0, 0, 0, 0, 0, 0, 0, 0, 0, 0, 0, 0, 0, 0, 0, 0, 0, 0, 0, 0, 0, 0, 0, 0, 0, 0, 0, 0, 0, 0, 0, 0, 0, 0, 0, 0, 0, 0, 0, 0, 0, 0, 0, 0, 0, 0, 0, 0, 0, 0, 0, 0, 0, 0, 0, 0, 0, 0, 0, 0, 0, 0, 0, 0, 0, 0, 0, 0, 0, 0, 0, 0, 0, 0, 0, 0, 0, 0, 0, 0, 0, 0, 0, 0, 0, 0, 0, 0, 0, 0, 0, 0, 0, 0, 0, 0, 0, 0, 0, 0, 0, 0, 0, 0, 0, 0, 0, 0, 0, 0, 0, 0, 0, 0, 0, 0, 0, 0, 0, 0, 0, 0, 0, 0, 0, 0, 0, 0, 0, 0, 0, 0, 0, 0, 0, 1, 1, 0, 0, 0, 1, 0, 0, 0, 0, 0, 0, 0, 0, 0, 0, 0, 0, 0, 0, 0, 0, 0, 0, 0, 0, 1, 0, 0, 0, 0, 0, 0, 0, 0, 0, 0, 0, 0, 0, 0, 0, 0, 0, 0, 0, 0, 0, 0, 0, 0, 0, 0, 0, 0, 0, 0, 0, 0, 0, 0, 0, 0, 0, 0, 0, 0, 0, 0, 0, 0, 0, 0, 0, 0, 0, 0, 0, 0, 0, 0, 0, 0, 0, 0, 0, 0, 0, 0, 0, 0, 0, 0, 0, 0, 0, 0, 0, 0, 0, 0, 0, 0, 0, 0, 0, 0, 0, 0, 0, 0, 0, 0, 0, 0, 0, 0, 0, 0, 0, 0, 0, 0, 0, 0, 0, 0, 0, 0, 0, 0, 0, 0, 0, 0, 0, 0, 0, 0, 0, 0, 0, 0, 0, 0, 0, 0, 0, 0, 0, 0, 0, 0, 0, 0, 0, 0, 0, 0, 0, 0, 0, 0, 0, 0, 0, 0, 0, 0, 0, 0, 0, 0, 0, 0, 0, 0, 0, 0, 0, 0, 0, 0, 0, 0, 0, 0, 0, 0, 0, 0, 0, 1, 1, 0, 0, 0, 0, 0, 0, 0, 0, 0, 0, 0, 0, 0, 0, 0, 0, 0, 0, 0, 0, 0, 0, 0, 0, 0, 0, 0, 0, 0, 0, 0, 1, 0, 0, 0, 0, 0, 0, 0, 0, 0, 0, 0, 0, 0, 0, 0, 0, 0, 0, 0, 0, 0, 0, 0, 0, 0, 0, 0, 0, 0, 0, 0, 0, 0, 0, 0, 0, 0, 0, 0, 0, 0, 0, 0, 0, 0, 0, 0, 0, 0, 0, 0, 0, 0, 0, 0, 0, 0, 0, 0, 0, 0, 0, 1, 0, 0, 0, 0, 0, 0, 0, 0, 0, 0, 0, 0, 0, 0, 0, 0, 0, 0, 0, 0, 0, 0, 0, 0, 0, 0, 0, 0, 0, 0, 0, 0, 0, 0, 0, 0, 0, 0, 0, 0, 0, 0, 0, 0, 0, 0, 0, 0, 0, 0]\n",
    "check_constraints(individual)"
   ]
  },
  {
   "cell_type": "code",
   "execution_count": 87,
   "metadata": {},
   "outputs": [
    {
     "name": "stdout",
     "output_type": "stream",
     "text": [
      "selection == 6.666666666666667 and selection == 13.333333333333334 [fitness] have different distributions\n",
      "selection == 13.333333333333334 and selection == 20.0 [fitness] have different distributions\n",
      "selection == 6.666666666666667 and selection == 13.333333333333334 [fitness] Reject null hypothesis - there is a significant difference in the experiments\n",
      "selection == 6.666666666666667 and cselection == 20.0 [fitness] Reject null hypothesis - there is a significant difference in the experiments\n",
      "selection == 13.333333333333334 and selection == 20.0 [fitness] Reject null hypothesis - there is a significant difference in the experiments\n",
      "selection == 6.666666666666667 and selection == 13.333333333333334 [genMaxFound] Reject null hypothesis - there is a significant difference in the experiments\n",
      "selection == 6.666666666666667 and selection == 20.0 [genMaxFound] Reject null hypothesis - there is a significant difference in the experiments\n",
      "selection == 13.333333333333334 and selection == 20.0 [genMaxFound] Reject null hypothesis - there is a significant difference in the experiments\n"
     ]
    },
    {
     "data": {
      "text/plain": [
       "([<matplotlib.axis.XTick at 0x206948262b0>,\n",
       "  <matplotlib.axis.XTick at 0x20694826220>,\n",
       "  <matplotlib.axis.XTick at 0x206947d7fd0>],\n",
       " [Text(1, 0, 'Stochastic Universal Sampling '),\n",
       "  Text(2, 0, 'Roulette'),\n",
       "  Text(3, 0, 'Tournament')])"
      ]
     },
     "execution_count": 87,
     "metadata": {},
     "output_type": "execute_result"
    },
    {
     "data": {
      "image/png": "[encoded data removed]",
      "text/plain": [
       "<Figure size 432x288 with 1 Axes>"
      ]
     },
     "metadata": {
      "needs_background": "light"
     },
     "output_type": "display_data"
    },
    {
     "data": {
      "image/png": "[encoded data removed]",
      "text/plain": [
       "<Figure size 432x288 with 1 Axes>"
      ]
     },
     "metadata": {
      "needs_background": "light"
     },
     "output_type": "display_data"
    }
   ],
   "source": [
    "import pandas as pd\n",
    "\n",
    "\n",
    "df_bests_9 = pd.read_csv(\"df_bests_23_select\")\n",
    "from scipy.stats import mannwhitneyu\n",
    "from scipy.stats import ttest_ind\n",
    "from scipy.stats import shapiro # test for normallity\n",
    "\n",
    "# select two subsets of fitness data, one where popsize = 50 and the other where popsize = 150\n",
    "p50 = df_bests_9.fitness[df_bests_9.selectioMethod == 0]\n",
    "p150= df_bests_9.fitness[df_bests_9.selectioMethod == 1]\n",
    "p100= df_bests_9.fitness[df_bests_9.selectioMethod == 2]\n",
    "#p100= df_bests_9.fitness[df_bests_9.selection == 40.0]\n",
    "# we need to convert these subsets to lists to pass to the statistics functions\n",
    "p50l= p50.tolist()\n",
    "p150l = p150.tolist()\n",
    "p100l = p100.tolist()\n",
    "\n",
    "# check for normality\n",
    "stat,p = shapiro(p50l)\n",
    "#print('selection == 6.666666666666667: normality p=%f' %(p))\n",
    "\n",
    "p50normality = False\n",
    "if p>0.05:\n",
    "    #print(\"Probably Gaussian (normal distribution)\")\n",
    "    p50normality = True\n",
    "else:\n",
    "    p50normality = False\n",
    "    #print(\"Probablyno  Gaussian (not normal distribution)\")\n",
    "\n",
    "p150normality = False \n",
    "stat,p = shapiro(p150l)\n",
    "#print('popsize == 20: normality p=%f' %(p))\n",
    "if p>0.05:\n",
    "    p150normality = True\n",
    "    #print(\"Probably Gaussian (normal distribution)\")\n",
    "else:\n",
    "    p150normality = False\n",
    "    #print(\"Probably not Gaussian (not normal distribution)\")\n",
    "\n",
    "p100normality = False\n",
    "stat,p = shapiro(p100)\n",
    "#print('popsize == 20: normality p=%f' %(p))\n",
    "if p>0.05:\n",
    "    p100normality = True\n",
    "    #print(\"Probably Gaussian (normal distribution)\")\n",
    "else:\n",
    "    p100normality = False\n",
    "    #print(\"Probably not Gaussian (not normal distribution)\")\n",
    "p_fitness = False\n",
    "p1_fitness = False\n",
    "#p2_fitness = False\n",
    "if p50normality and p150normality:\n",
    "    stat,p_fitness = ttest_ind(p50l,p150l) # Student t-test - data is normally distributed\n",
    "elif not p50normality and not p150normality:\n",
    "    stat,p_fitness = mannwhitneyu(p50l,p150l) # Mann-Whitney U-test - data is not normally distributed\n",
    "else:\n",
    "    stat,p_fitness = mannwhitneyu(p50l,p150l)\n",
    "    print(\"selection == 6.666666666666667 and selection == 13.333333333333334 [fitness] have different distributions\")\n",
    "if p50normality and p100normality:\n",
    "    stat1,p1_fitness = ttest_ind(p50l,p100l) # Student t-test - data is normally distributed\n",
    "elif not p50normality and not p100normality:\n",
    "    stat1,p1_fitness = mannwhitneyu(p50l,p100l) # Mann-Whitney U-test - data is not normally distributed\n",
    "else:\n",
    "    stat1,p1_fitness = mannwhitneyu(p50l,p100l)\n",
    "    print(\"selection == 6.666666666666667 and selection == 20.0 [fitness] have different distributions\")\n",
    "if p150normality and p100normality:\n",
    "    stat1,p2_fitness = ttest_ind(p100l,p150l) # Student t-test - data is normally distributed\n",
    "elif not p150normality and not p100normality:\n",
    "    stat1,p2_fitness = mannwhitneyu(p150l,p100l) # Mann-Whitney U-test - data is not normally distributed\n",
    "else:\n",
    "    stat1,p2_fitness = mannwhitneyu(p150l,p100l)\n",
    "    print(\"selection == 13.333333333333334 and selection == 20.0 [fitness] have different distributions\")\n",
    "#now apply the  appropriate statistical test depending on the result of the above\n",
    "stat,p = ttest_ind(p50l,p150l) # Student t-test - data is normally distributed\n",
    "stat,p = mannwhitneyu(p50l,p150l) # Mann-Whitney U-test - data is not normally distributed\n",
    "stat1,p1 = mannwhitneyu(p50l,p100l) # Mann-Whitney U-test - data is not normally distributed\n",
    "stat2,p2 = mannwhitneyu(p150l,p100l) # Mann-Whitney U-test - data is not normally distributed\n",
    "\n",
    "#print('p=%f' %(p_fitness))\n",
    "if p_fitness != False and p_fitness<0.05:\n",
    "    print(\"selection == 6.666666666666667 and selection == 13.333333333333334 [fitness] Reject null hypothesis - there is a significant difference in the experiments\")\n",
    "elif p_fitness != False and p_fitness>0.05:\n",
    "    print(\"selection == 6.666666666666667 and selection == 13.333333333333334 [fitness] Cannot reject null hypothesis - no significant difference\")\n",
    "#print('p=%f' %(p1_fitness))\n",
    "if p1_fitness != False and p1_fitness<0.05:\n",
    "    print(\"selection == 6.666666666666667 and cselection == 20.0 [fitness] Reject null hypothesis - there is a significant difference in the experiments\")\n",
    "elif p1_fitness != False and p1_fitness>0.05:\n",
    "    print(\"selection == 6.666666666666667 and selection == 20.0 [fitness] Cannot reject null hypothesis - no significant difference\")\n",
    "#print('p=%f' %(p2))\n",
    "if p2_fitness != False and p2_fitness<0.05:\n",
    "    print(\"selection == 13.333333333333334 and selection == 20.0 [fitness] Reject null hypothesis - there is a significant difference in the experiments\")\n",
    "elif p2_fitness != False and p2_fitness>0.05:\n",
    "    print(\"selection == 13.333333333333334 and selection == 20.0 [fitness]Cannot reject null hypothesis - no significant difference\")\n",
    "\n",
    "# Fitness generation\n",
    "# select two subsets of fitness data, one where popsize = 50 and the other where popsize = 150\n",
    "p50 = df_bests_9.genMaxFound[df_bests_9.selectioMethod == 0]\n",
    "p150= df_bests_9.genMaxFound[df_bests_9.selectioMethod == 1]\n",
    "p100= df_bests_9.genMaxFound[df_bests_9.selectioMethod == 2]\n",
    "# we need to convert these subsets to lists to pass to the statistics functions\n",
    "p50l= p50.tolist()\n",
    "p150l = p150.tolist()\n",
    "p100l = p100.tolist()\n",
    "\n",
    "# check for normality\n",
    "stat,p = shapiro(p50l)\n",
    "#print('mutation == 20: normality p=%f' %(p))\n",
    "\n",
    "p50normality = False\n",
    "if p>0.05:\n",
    "    #print(\"Probably Gaussian (normal distribution)\")\n",
    "    p50normality = True\n",
    "else:\n",
    "    p50normality = False\n",
    "    #print(\"Probablyno  Gaussian (not normal distribution)\")\n",
    "\n",
    "p150normality = False \n",
    "stat,p = shapiro(p150l)\n",
    "#print('popsize == 20: normality p=%f' %(p))\n",
    "if p>0.05:\n",
    "    p150normality = True\n",
    "    #print(\"Probably Gaussian (normal distribution)\")\n",
    "else:\n",
    "    p150normality = False\n",
    "    #print(\"Probably not Gaussian (not normal distribution)\")\n",
    "\n",
    "p100normality = False\n",
    "stat,p = shapiro(p100)\n",
    "#print('popsize == 20: normality p=%f' %(p))\n",
    "if p>0.05:\n",
    "    p100normality = True\n",
    "    #print(\"Probably Gaussian (normal distribution)\")\n",
    "else:\n",
    "    p100normality = False\n",
    "    #print(\"Probably not Gaussian (not normal distribution)\")\n",
    "\n",
    "p_gen = False\n",
    "p1_gen = False\n",
    "p2_gen = False\n",
    "if p50normality and p150normality:\n",
    "    stat,p_gen = ttest_ind(p50l,p150l) # Student t-test - data is normally distributed\n",
    "elif not p50normality and not p150normality:\n",
    "    stat,p_gen = mannwhitneyu(p50l,p150l) # Mann-Whitney U-test - data is not normally distributed\n",
    "else:\n",
    "    stat,p_gen = mannwhitneyu(p50l,p150l)\n",
    "    print(\"selection == 6.666666666666667 and selection == 13.333333333333334 [gen] have different distributions\")\n",
    "if p50normality and p100normality:\n",
    "    stat1,p1_gen = ttest_ind(p50l,p100l) # Student t-test - data is normally distributed\n",
    "elif not p50normality and not p100normality:\n",
    "    stat1,p1_gen = mannwhitneyu(p50l,p100l) # Mann-Whitney U-test - data is not normally distributed\n",
    "else:\n",
    "    stat1,p1_gen = mannwhitneyu(p50l,p100l)\n",
    "    print(\"selection == 6.666666666666667 and selection == 20.0 [gen] have different distributions\")\n",
    "if p150normality and p100normality:\n",
    "    stat1,p2_gen = ttest_ind(p100l,p150l) # Student t-test - data is normally distributed\n",
    "elif not p150normality and not p100normality:\n",
    "    stat1,p2_gen = mannwhitneyu(p150l,p100l) # Mann-Whitney U-test - data is not normally distributed\n",
    "else:\n",
    "    stat1,p1_gen = mannwhitneyu(p150l,p100l)\n",
    "    print(\"selection == 13.333333333333334 and selection == 20.0 [gen] have different distributions\")\n",
    "#now apply the  appropriate statistical test depending on the result of the above\n",
    "#stat,p = ttest_ind(p50l,p150l) # Student t-test - data is normally distributed\n",
    "# stat,p = mannwhitneyu(p50l,p150l) # Mann-Whitney U-test - data is not normally distributed\n",
    "# stat1,p1 = mannwhitneyu(p50l,p100l) # Mann-Whitney U-test - data is not normally distributed\n",
    "# stat2,p2 = mannwhitneyu(p150l,p100l) # Mann-Whitney U-test - data is not normally distributed\n",
    "\n",
    "#print('p=%f' %(p))\n",
    "if p_gen != False and p_gen<0.05:\n",
    "    print(\"selection == 6.666666666666667 and selection == 13.333333333333334 [genMaxFound] Reject null hypothesis - there is a significant difference in the experiments\")\n",
    "elif p_gen != False and p_gen>0.05:\n",
    "    print(\"selection == 6.666666666666667 and selection == 13.333333333333334 [genMaxFound] Cannot reject null hypothesis - no significant difference\")\n",
    "#print('p=%f' %(p1))\n",
    "if p1_gen != False and p1_gen<0.05:\n",
    "    print(\"selection == 6.666666666666667 and selection == 20.0 [genMaxFound] Reject null hypothesis - there is a significant difference in the experiments\")\n",
    "elif p1_gen != False and p1_gen>0.05:\n",
    "    print(\"selection == 6.666666666666667 and selection == 20.0 [genMaxFound] Cannot reject null hypothesis - no significant difference\")\n",
    "#print('p=%f' %(p2))\n",
    "if p2_gen != False and p2_gen<0.05:\n",
    "    print(\"selection == 13.333333333333334 and selection == 20.0 [genMaxFound] Reject null hypothesis - there is a significant difference in the experiments\")\n",
    "elif p2_gen != False and p2_gen>0.05:\n",
    "    print(\"selection == 13.333333333333334 and selection == 20.0 [genMaxFound]Cannot reject null hypothesis - no significant difference\")\n",
    "\n",
    "# Boxplots\n",
    "\n",
    "# code for calcualating and printing statistics from tAhe dataframe df_Bests which  (from above) contains that best result per run per popsize\n",
    "#print(df_bests_9.groupby('crossoever').mean())\n",
    "\n",
    "#  you can calculate other statistics such as median, std if you want\n",
    "#print(df_bests_9.groupby('crossoever').median())\n",
    "#print(df_bests_9.groupby('crossoever').std())\n",
    "\n",
    "# plot the boxplot of best fitness per population size\n",
    "boxplot = df_bests_9.boxplot(column=['fitness'], by=['selectioMethod'])\n",
    "boxplot.set_xlabel('selection method')\n",
    "boxplot.set_ylabel('fitness')\n",
    "plt.xticks([1, 2, 3], ['Stochastic Universal Sampling ', 'Roulette', 'Tournament'])\n",
    "# plot genMaxFound per population size\n",
    "boxplot = df_bests_9.boxplot(column=['genMaxFound'], by=['selectioMethod'])\n",
    "boxplot.set_xlabel('selection method')\n",
    "boxplot.set_ylabel('fitness')\n",
    "plt.xticks([1, 2, 3], ['Stochastic Universal Sampling ', 'Roulette', 'Tournament'])"
   ]
  },
  {
   "cell_type": "code",
   "execution_count": null,
   "metadata": {},
   "outputs": [],
   "source": [
    "# best_individual_per_generation_no_broken_constrant = []\n",
    "# def sort_population_by_fitness(population):\n",
    "#     return sorted(population, key = lambda c: c.fitness.values, reverse=True)\n",
    "# def eaSimple(population, toolbox, cxpb, mutpb, ngen, stats=None,\n",
    "#              halloffame=None, verbose=__debug__):\n",
    "#     best_individual_no_broken_constrant = []\n",
    "#     logbook = tools.Logbook()\n",
    "#     logbook.header = ['gen', 'nevals'] + (stats.fields if stats else [])\n",
    "\n",
    "#     # Evaluate the individuals with an invalid fitness\n",
    "#     invalid_ind = [ind for ind in population if not ind.fitness.valid]\n",
    "#     fitnesses = toolbox.map(toolbox.evaluate, invalid_ind)\n",
    "#     for ind, fit in zip(invalid_ind, fitnesses):\n",
    "#         ind.fitness.values = fit\n",
    "\n",
    "#     if halloffame is not None:\n",
    "#         halloffame.update(population)\n",
    "\n",
    "#     record = stats.compile(population) if stats else {}\n",
    "#     logbook.record(gen=0, nevals=len(invalid_ind), **record)\n",
    "#     if verbose:\n",
    "#         print(logbook.stream)\n",
    "\n",
    "#     # Begin the generational process\n",
    "#     for gen in range(1, ngen + 1):\n",
    "#         # Select the next generation individuals\n",
    "#         offspring = toolbox.select(population, len(population))\n",
    "        \n",
    "#         # Vary the pool of individuals\n",
    "#         offspring = varAnd(offspring, toolbox, cxpb, mutpb)\n",
    "        \n",
    "#         for ind in offspring:\n",
    "#             if not ind.fitness.valid:\n",
    "#                 invalid_ind.append(ind)\n",
    "       \n",
    "            \n",
    "#         # Evaluate the individuals with an invalid fitness\n",
    "#         #invalid_ind = [ind for ind in offspring if not ind.fitness.valid]\n",
    "#         fitnesses = toolbox.map(toolbox.evaluate, invalid_ind)\n",
    "#         for ind, fit in zip(invalid_ind, fitnesses):\n",
    "#             ind.fitness.values = fit\n",
    "\n",
    "#         # Update the hall of fame with the generated individuals\n",
    "#         if halloffame is not None:\n",
    "#             halloffame.update(offspring)\n",
    "#         score_max = 0\n",
    "#         for individual in offspring:\n",
    "#             broken_constraints, score = check_constraints_modified_no_print(individual)\n",
    "#             if score > score_max and broken_constraints == [0, 0, 0, 0, 0, 0]:\n",
    "#                 score_max = score\n",
    "#                 individual_max = individual\n",
    "#                 best_individual_no_broken_constrant.append(individual_max)\n",
    "#         best_individual_per_generation_no_broken_constrant.append(best_individual_no_broken_constrant)\n",
    "#         # Replace the current population by the offspring\n",
    "#         # population[:] = offspring\n",
    "#         sort_population_by_fitness(population)\n",
    "#         population[-len(offspring):] = offspring\n",
    "\n",
    "#         # Append the current generation statistics to the logbook\n",
    "#         record = stats.compile(population) if stats else {}\n",
    "#         logbook.record(gen=gen, nevals=len(invalid_ind), **record)\n",
    "#         if verbose:\n",
    "#             print(logbook.stream)\n",
    "\n",
    "#     return population, logbook\n",
    "# def varAnd(population, toolbox, cxpb, mutpb):\n",
    "    \n",
    "#     offspring = [toolbox.clone(ind) for ind in population]\n",
    "\n",
    "#     # Apply crossover and mutation on the offspring\n",
    "#     for i in range(1, len(offspring), 2):\n",
    "#         if random.random() < cxpb:\n",
    "#             offspring[i - 1], offspring[i] = toolbox.mate(offspring[i - 1],\n",
    "#                                                         offspring[i])\n",
    "#             del offspring[i - 1].fitness.values, offspring[i].fitness.values\n",
    "\n",
    "#     for i in range(len(offspring)):\n",
    "#         if random.random() < mutpb:\n",
    "#             offspring[i], = toolbox.mutate(offspring[i])\n",
    "#             del offspring[i].fitness.values\n",
    "\n",
    "#     return offspring"
   ]
  },
  {
   "cell_type": "markdown",
   "metadata": {},
   "source": [
    "## Bellow code is used to see best individual in the Excel Files"
   ]
  },
  {
   "cell_type": "code",
   "execution_count": 45,
   "metadata": {},
   "outputs": [
    {
     "name": "stdout",
     "output_type": "stream",
     "text": [
      "total broken constraints: 0\n",
      "total points: 1786.0\n",
      "total cost is 99.5\n",
      "selected players are [16, 22, 30, 69, 180, 183, 198, 224, 282, 376, 470]\n"
     ]
    },
    {
     "data": {
      "text/plain": [
       "(0, 1786.0)"
      ]
     },
     "execution_count": 45,
     "metadata": {},
     "output_type": "execute_result"
    }
   ],
   "source": [
    "import csv\n",
    "\n",
    "list_of_individuals = []\n",
    "individual_max = 0\n",
    "score_max = 0\n",
    "#best_individuals.sort(key=lambda x: x[1])\n",
    "with open(\"best_individual8.csv\", \"r\") as filestream:\n",
    "    for line in filestream:\n",
    "        currentline = line.split(\"]\\\",\")\n",
    "        total = str(currentline[0])\n",
    "        final_username = total.replace(\"\\\"[\", \"\")\n",
    "        final_username_1 = final_username.replace(\" \", \"\")\n",
    "        list_data = final_username_1.split(',')\n",
    "        total_1 = np.array(list_data)\n",
    "        data_new = total_1.astype(float)\n",
    "        broken_constraints, score = check_constraints_modified_no_print(data_new)\n",
    "        if score > score_max and broken_constraints == [0, 0, 0, 0, 0, 0]:\n",
    "            score_max = score\n",
    "            individual = data_new\n",
    "        # if broken_constraints == [0, 0, 0, 0, 0, 0] and score == 1786.0:\n",
    "        #     individuals = data_new\n",
    "        #     list_of_individuals.append(individuals)\n",
    "check_constraints(individual)"
   ]
  },
  {
   "cell_type": "code",
   "execution_count": 102,
   "metadata": {},
   "outputs": [
    {
     "name": "stdout",
     "output_type": "stream",
     "text": [
      "total broken constraints: 0\n",
      "total points: 1692.0\n",
      "total cost is 98.8\n",
      "selected players are [0, 9, 27, 33, 149, 181, 187, 240, 286, 376, 474]\n"
     ]
    },
    {
     "data": {
      "text/plain": [
       "(0, 1692.0)"
      ]
     },
     "execution_count": 102,
     "metadata": {},
     "output_type": "execute_result"
    }
   ],
   "source": [
    "import csv\n",
    "\n",
    "list_of_individuals = []\n",
    "individual_max = 0\n",
    "score_max = 0\n",
    "#best_individuals.sort(key=lambda x: x[1])\n",
    "with open(\"df_bests_25_select\", \"r\") as filestream:\n",
    "    for line in filestream:\n",
    "        currentline = line.split(\"]\\\",\")\n",
    "        total = str(currentline[0])\n",
    "        if total == 'popsize,fitness,genMaxFound,individual,crossoever,mutation,selection,evaluate\\n':\n",
    "            continue\n",
    "        currentline = total.split(\",\\\"[\")\n",
    "        total = str(currentline[1])\n",
    "        final_username = total.replace(\"\\\"[\", \"\")\n",
    "        final_username_1 = final_username.replace(\" \", \"\")\n",
    "        list_data = final_username_1.split(',')\n",
    "        total_1 = np.array(list_data)\n",
    "        data_new = total_1.astype(float)\n",
    "        broken_constraints, score = check_constraints_modified_no_print(data_new)\n",
    "        if score > score_max and broken_constraints == [0, 0, 0, 0, 0, 0]:\n",
    "            score_max = score\n",
    "            individual = data_new\n",
    "        # if broken_constraints == [0, 0, 0, 0, 0, 0] and score == 1786.0:\n",
    "        #     individuals = data_new\n",
    "        #     list_of_individuals.append(individuals)\n",
    "check_constraints(individual)"
   ]
  },
  {
   "cell_type": "code",
   "execution_count": 113,
   "metadata": {},
   "outputs": [
    {
     "name": "stdout",
     "output_type": "stream",
     "text": [
      "20,1430.0,0,0.5,0.3,20,2\n",
      "\n",
      "20,1430.0,0,0.5,0.3,20,2\n",
      "\n",
      "20,1624.0,0,0.5,0.3,20,2\n",
      "\n",
      "20,1508.0,0,0.5,0.3,20,2\n",
      "\n",
      "20,1689.0,0,0.5,0.3,20,2\n",
      "\n",
      "20,1689.0,0,0.5,0.3,20,2\n",
      "\n",
      "20,1555.0,0,0.5,0.3,20,2\n",
      "\n",
      "20,1674.0,0,0.5,0.3,20,2\n",
      "\n",
      "20,1661.0,0,0.5,0.3,20,2\n",
      "\n",
      "20,1606.0,0,0.5,0.3,20,2\n",
      "\n",
      "20,1589.0,0,0.5,0.3,20,2\n",
      "\n",
      "20,1681.0,0,0.5,0.3,20,2\n",
      "\n",
      "total broken constraints: 0\n",
      "total points: 1787.0\n",
      "total cost is 99.89999999999999\n",
      "selected players are [0, 6, 15, 35, 88, 180, 206, 213, 276, 377, 466]\n"
     ]
    },
    {
     "data": {
      "text/plain": [
       "(0, 1787.0)"
      ]
     },
     "execution_count": 113,
     "metadata": {},
     "output_type": "execute_result"
    }
   ],
   "source": [
    "import csv\n",
    "\n",
    "list_of_individuals = []\n",
    "individual_max = 0\n",
    "score_max = 0\n",
    "#best_individuals.sort(key=lambda x: x[1])\n",
    "with open(\"best_individuals_24_select\", \"r\") as filestream:\n",
    "    for line in filestream:\n",
    "        if line == 'popsize,fitness,individual,crossoever,mutation,selection,evaluate\\n':\n",
    "            continue\n",
    "        currentline = line.split(\"]\\\",\")\n",
    "        total = str(currentline[0])\n",
    "        \n",
    "        currentline = total.split(\",\\\"[\")\n",
    "        try:\n",
    "            total = str(currentline[1])\n",
    "        except Exception:\n",
    "            print(line)\n",
    "            continue\n",
    "        final_username = total.replace(\"\\\"[\", \"\")\n",
    "        final_username_1 = final_username.replace(\" \", \"\")\n",
    "        list_data = final_username_1.split(',')\n",
    "        total_1 = np.array(list_data)\n",
    "        data_new = total_1.astype(float)\n",
    "        broken_constraints, score = check_constraints_modified_no_print(data_new)\n",
    "        if score > score_max and broken_constraints == [0, 0, 0, 0, 0, 0]:\n",
    "            score_max = score\n",
    "            individual = data_new\n",
    "        # if broken_constraints == [0, 0, 0, 0, 0, 0] and score == 1786.0:\n",
    "        #     individuals = data_new\n",
    "        #     list_of_individuals.append(individuals)\n",
    "check_constraints(individual)"
   ]
  },
  {
   "cell_type": "code",
   "execution_count": 115,
   "metadata": {},
   "outputs": [
    {
     "name": "stdout",
     "output_type": "stream",
     "text": [
      "total broken constraints: 0\n",
      "total points: 1811.0\n",
      "total cost is 100.0\n",
      "selected players are [0, 4, 22, 48, 119, 180, 190, 218, 311, 376, 466]\n"
     ]
    },
    {
     "data": {
      "text/plain": [
       "(0, 1811.0)"
      ]
     },
     "execution_count": 115,
     "metadata": {},
     "output_type": "execute_result"
    }
   ],
   "source": [
    "import csv\n",
    "\n",
    "list_of_individuals = []\n",
    "individual_max = 0\n",
    "score_max = 0\n",
    "#best_individuals.sort(key=lambda x: x[1])\n",
    "with open(\"best_individuals_23_select\", \"r\") as filestream:\n",
    "    for line in filestream:\n",
    "        if line == 'popsize,fitness,individual,crossoever,mutation,selection,evaluate\\n':\n",
    "            continue\n",
    "        currentline = line.split(\"]\\\",\")\n",
    "        total = str(currentline[0])\n",
    "        \n",
    "        currentline = total.split(\",\\\"[\")\n",
    "        try:\n",
    "            total = str(currentline[1])\n",
    "        except Exception:\n",
    "            print(line)\n",
    "            continue\n",
    "        final_username = total.replace(\"\\\"[\", \"\")\n",
    "        final_username_1 = final_username.replace(\" \", \"\")\n",
    "        list_data = final_username_1.split(',')\n",
    "        total_1 = np.array(list_data)\n",
    "        data_new = total_1.astype(float)\n",
    "        broken_constraints, score = check_constraints_modified_no_print(data_new)\n",
    "        if score > score_max and broken_constraints == [0, 0, 0, 0, 0, 0]:\n",
    "            score_max = score\n",
    "            individual = data_new\n",
    "        # if broken_constraints == [0, 0, 0, 0, 0, 0] and score == 1786.0:\n",
    "        #     individuals = data_new\n",
    "        #     list_of_individuals.append(individuals)\n",
    "check_constraints(individual)"
   ]
  },
  {
   "cell_type": "code",
   "execution_count": 116,
   "metadata": {},
   "outputs": [
    {
     "name": "stdout",
     "output_type": "stream",
     "text": [
      "total broken constraints: 0\n",
      "total points: 1811\n",
      "total cost is 100.0\n",
      "selected players are [0, 4, 22, 48, 119, 180, 190, 218, 311, 376, 466]\n"
     ]
    },
    {
     "data": {
      "text/plain": [
       "(0, 1811)"
      ]
     },
     "execution_count": 116,
     "metadata": {},
     "output_type": "execute_result"
    }
   ],
   "source": [
    "solution_without_file = [1, 0, 0, 0, 1, 0, 0, 0, 0, 0, 0, 0, 0, 0, 0, 0, 0, 0, 0, 0, 0, 0, 1, 0, 0, 0, 0, 0, 0, 0, 0, 0, 0, 0, 0, 0, 0, 0, 0, 0, 0, 0, 0, 0, 0, 0, 0, 0, 1, 0, 0, 0, 0, 0, 0, 0, 0, 0, 0, 0, 0, 0, 0, 0, 0, 0, 0, 0, 0, 0, 0, 0, 0, 0, 0, 0, 0, 0, 0, 0, 0, 0, 0, 0, 0, 0, 0, 0, 0, 0, 0, 0, 0, 0, 0, 0, 0, 0, 0, 0, 0, 0, 0, 0, 0, 0, 0, 0, 0, 0, 0, 0, 0, 0, 0, 0, 0, 0, 0, 1, 0, 0, 0, 0, 0, 0, 0, 0, 0, 0, 0, 0, 0, 0, 0, 0, 0, 0, 0, 0, 0, 0, 0, 0, 0, 0, 0, 0, 0, 0, 0, 0, 0, 0, 0, 0, 0, 0, 0, 0, 0, 0, 0, 0, 0, 0, 0, 0, 0, 0, 0, 0, 0, 0, 0, 0, 0, 0, 0, 0, 1, 0, 0, 0, 0, 0, 0, 0, 0, 0, 1, 0, 0, 0, 0, 0, 0, 0, 0, 0, 0, 0, 0, 0, 0, 0, 0, 0, 0, 0, 0, 0, 0, 0, 0, 0, 0, 0, 1, 0, 0, 0, 0, 0, 0, 0, 0, 0, 0, 0, 0, 0, 0, 0, 0, 0, 0, 0, 0, 0, 0, 0, 0, 0, 0, 0, 0, 0, 0, 0, 0, 0, 0, 0, 0, 0, 0, 0, 0, 0, 0, 0, 0, 0, 0, 0, 0, 0, 0, 0, 0, 0, 0, 0, 0, 0, 0, 0, 0, 0, 0, 0, 0, 0, 0, 0, 0, 0, 0, 0, 0, 0, 0, 0, 0, 0, 0, 0, 0, 0, 0, 0, 0, 0, 0, 0, 0, 0, 0, 0, 0, 1, 0, 0, 0, 0, 0, 0, 0, 0, 0, 0, 0, 0, 0, 0, 0, 0, 0, 0, 0, 0, 0, 0, 0, 0, 0, 0, 0, 0, 0, 0, 0, 0, 0, 0, 0, 0, 0, 0, 0, 0, 0, 0, 0, 0, 0, 0, 0, 0, 0, 0, 0, 0, 0, 0, 0, 0, 0, 0, 0, 0, 0, 0, 0, 0, 1, 0, 0, 0, 0, 0, 0, 0, 0, 0, 0, 0, 0, 0, 0, 0, 0, 0, 0, 0, 0, 0, 0, 0, 0, 0, 0, 0, 0, 0, 0, 0, 0, 0, 0, 0, 0, 0, 0, 0, 0, 0, 0, 0, 0, 0, 0, 0, 0, 0, 0, 0, 0, 0, 0, 0, 0, 0, 0, 0, 0, 0, 0, 0, 0, 0, 0, 0, 0, 0, 0, 0, 0, 0, 0, 0, 0, 0, 0, 0, 0, 0, 0, 0, 0, 0, 0, 0, 0, 0, 1, 0, 0, 0, 0, 0, 0, 0, 0, 0, 0, 0, 0, 0, 0, 0, 0, 0, 0, 0, 0, 0, 0, 0, 0, 0, 0, 0, 0, 0, 0, 0, 0, 0, 0, 0, 0, 0, 0, 0, 0, 0, 0, 0, 0, 0, 0, 0, 0, 0, 0, 0, 0, 0, 0, 0, 0]\n",
    "check_constraints(solution_without_file)"
   ]
  }
 ],
 "metadata": {
  "kernelspec": {
   "display_name": "Python 3.9.12 ('base')",
   "language": "python",
   "name": "python3"
  },
  "language_info": {
   "codemirror_mode": {
    "name": "ipython",
    "version": 3
   },
   "file_extension": ".py",
   "mimetype": "text/x-python",
   "name": "python",
   "nbconvert_exporter": "python",
   "pygments_lexer": "ipython3",
   "version": "3.9.12"
  },
  "vscode": {
   "interpreter": {
    "hash": "520c47eef4a5a28cc10aa11b3d4fedaff2a19f679e98ae0f042949b09761a3ad"
   }
  }
 },
 "nbformat": 4,
 "nbformat_minor": 4
}
